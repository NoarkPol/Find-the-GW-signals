{
  "metadata": {
    "kernelspec": {
      "display_name": "Python 3",
      "name": "python3"
    },
    "language_info": {
      "name": "python",
      "version": "3.10.12",
      "mimetype": "text/x-python",
      "codemirror_mode": {
        "name": "ipython",
        "version": 3
      },
      "pygments_lexer": "ipython3",
      "nbconvert_exporter": "python",
      "file_extension": ".py"
    },
    "kaggle": {
      "accelerator": "gpu",
      "dataSources": [
        {
          "sourceId": 66658,
          "databundleVersionId": 7391548,
          "sourceType": "competition"
        }
      ],
      "dockerImageVersionId": 30627,
      "isInternetEnabled": true,
      "language": "python",
      "sourceType": "notebook",
      "isGpuEnabled": true
    },
    "colab": {
      "provenance": [],
      "gpuType": "T4",
      "include_colab_link": true
    },
    "widgets": {
      "application/vnd.jupyter.widget-state+json": {
        "125abeca7deb421da6fd8a2accfe2cca": {
          "model_module": "@jupyter-widgets/controls",
          "model_name": "VBoxModel",
          "model_module_version": "1.5.0",
          "state": {
            "_dom_classes": [],
            "_model_module": "@jupyter-widgets/controls",
            "_model_module_version": "1.5.0",
            "_model_name": "VBoxModel",
            "_view_count": null,
            "_view_module": "@jupyter-widgets/controls",
            "_view_module_version": "1.5.0",
            "_view_name": "VBoxView",
            "box_style": "",
            "children": [
              "IPY_MODEL_8726e612ec6b4b5989e2eefe28b850f6"
            ],
            "layout": "IPY_MODEL_02261d66f9d34e13a282c95b801e8d17"
          }
        },
        "acc50be946ff4ec195cea3cb37af0b07": {
          "model_module": "@jupyter-widgets/controls",
          "model_name": "HTMLModel",
          "model_module_version": "1.5.0",
          "state": {
            "_dom_classes": [],
            "_model_module": "@jupyter-widgets/controls",
            "_model_module_version": "1.5.0",
            "_model_name": "HTMLModel",
            "_view_count": null,
            "_view_module": "@jupyter-widgets/controls",
            "_view_module_version": "1.5.0",
            "_view_name": "HTMLView",
            "description": "",
            "description_tooltip": null,
            "layout": "IPY_MODEL_4a8931f28cc74df689d50e8504f6247f",
            "placeholder": "​",
            "style": "IPY_MODEL_19f6687c8dad4be19f87045034f4c9b5",
            "value": "<center> <img\nsrc=https://www.kaggle.com/static/images/site-logo.png\nalt='Kaggle'> <br> Create an API token from <a\nhref=\"https://www.kaggle.com/settings/account\" target=\"_blank\">your Kaggle\nsettings page</a> and paste it below along with your Kaggle username. <br> </center>"
          }
        },
        "5f4bfd4d3a9643c181d9e0156b6e4288": {
          "model_module": "@jupyter-widgets/controls",
          "model_name": "TextModel",
          "model_module_version": "1.5.0",
          "state": {
            "_dom_classes": [],
            "_model_module": "@jupyter-widgets/controls",
            "_model_module_version": "1.5.0",
            "_model_name": "TextModel",
            "_view_count": null,
            "_view_module": "@jupyter-widgets/controls",
            "_view_module_version": "1.5.0",
            "_view_name": "TextView",
            "continuous_update": true,
            "description": "Username:",
            "description_tooltip": null,
            "disabled": false,
            "layout": "IPY_MODEL_737c8cef42444cd08ae0fbb3c6c37044",
            "placeholder": "​",
            "style": "IPY_MODEL_96e53e3b74b141d2903c3701c1eedcb8",
            "value": "rechfondie"
          }
        },
        "25e64db4e73b4844953ca4425197796b": {
          "model_module": "@jupyter-widgets/controls",
          "model_name": "PasswordModel",
          "model_module_version": "1.5.0",
          "state": {
            "_dom_classes": [],
            "_model_module": "@jupyter-widgets/controls",
            "_model_module_version": "1.5.0",
            "_model_name": "PasswordModel",
            "_view_count": null,
            "_view_module": "@jupyter-widgets/controls",
            "_view_module_version": "1.5.0",
            "_view_name": "PasswordView",
            "continuous_update": true,
            "description": "Token:",
            "description_tooltip": null,
            "disabled": false,
            "layout": "IPY_MODEL_2c96c23a63404b31a3120df38d81768c",
            "placeholder": "​",
            "style": "IPY_MODEL_c336234c2378474981bd6924c095842a",
            "value": ""
          }
        },
        "8ee4b77eff814fb8a8dea2565f4c09ed": {
          "model_module": "@jupyter-widgets/controls",
          "model_name": "ButtonModel",
          "model_module_version": "1.5.0",
          "state": {
            "_dom_classes": [],
            "_model_module": "@jupyter-widgets/controls",
            "_model_module_version": "1.5.0",
            "_model_name": "ButtonModel",
            "_view_count": null,
            "_view_module": "@jupyter-widgets/controls",
            "_view_module_version": "1.5.0",
            "_view_name": "ButtonView",
            "button_style": "",
            "description": "Login",
            "disabled": false,
            "icon": "",
            "layout": "IPY_MODEL_897d953d6404447fa380a29a2d2c94f1",
            "style": "IPY_MODEL_af149e4f35cc44fea6480c2da6ad54d9",
            "tooltip": ""
          }
        },
        "31be1767c4f848abb7de4e6b40d780b3": {
          "model_module": "@jupyter-widgets/controls",
          "model_name": "HTMLModel",
          "model_module_version": "1.5.0",
          "state": {
            "_dom_classes": [],
            "_model_module": "@jupyter-widgets/controls",
            "_model_module_version": "1.5.0",
            "_model_name": "HTMLModel",
            "_view_count": null,
            "_view_module": "@jupyter-widgets/controls",
            "_view_module_version": "1.5.0",
            "_view_name": "HTMLView",
            "description": "",
            "description_tooltip": null,
            "layout": "IPY_MODEL_e4c4f9994ca54a64894a027ba4d7cdaa",
            "placeholder": "​",
            "style": "IPY_MODEL_e8bd8797355f4878ab2c4fdc41774a20",
            "value": "\n<b>Thank You</b></center>"
          }
        },
        "02261d66f9d34e13a282c95b801e8d17": {
          "model_module": "@jupyter-widgets/base",
          "model_name": "LayoutModel",
          "model_module_version": "1.2.0",
          "state": {
            "_model_module": "@jupyter-widgets/base",
            "_model_module_version": "1.2.0",
            "_model_name": "LayoutModel",
            "_view_count": null,
            "_view_module": "@jupyter-widgets/base",
            "_view_module_version": "1.2.0",
            "_view_name": "LayoutView",
            "align_content": null,
            "align_items": "center",
            "align_self": null,
            "border": null,
            "bottom": null,
            "display": "flex",
            "flex": null,
            "flex_flow": "column",
            "grid_area": null,
            "grid_auto_columns": null,
            "grid_auto_flow": null,
            "grid_auto_rows": null,
            "grid_column": null,
            "grid_gap": null,
            "grid_row": null,
            "grid_template_areas": null,
            "grid_template_columns": null,
            "grid_template_rows": null,
            "height": null,
            "justify_content": null,
            "justify_items": null,
            "left": null,
            "margin": null,
            "max_height": null,
            "max_width": null,
            "min_height": null,
            "min_width": null,
            "object_fit": null,
            "object_position": null,
            "order": null,
            "overflow": null,
            "overflow_x": null,
            "overflow_y": null,
            "padding": null,
            "right": null,
            "top": null,
            "visibility": null,
            "width": "50%"
          }
        },
        "4a8931f28cc74df689d50e8504f6247f": {
          "model_module": "@jupyter-widgets/base",
          "model_name": "LayoutModel",
          "model_module_version": "1.2.0",
          "state": {
            "_model_module": "@jupyter-widgets/base",
            "_model_module_version": "1.2.0",
            "_model_name": "LayoutModel",
            "_view_count": null,
            "_view_module": "@jupyter-widgets/base",
            "_view_module_version": "1.2.0",
            "_view_name": "LayoutView",
            "align_content": null,
            "align_items": null,
            "align_self": null,
            "border": null,
            "bottom": null,
            "display": null,
            "flex": null,
            "flex_flow": null,
            "grid_area": null,
            "grid_auto_columns": null,
            "grid_auto_flow": null,
            "grid_auto_rows": null,
            "grid_column": null,
            "grid_gap": null,
            "grid_row": null,
            "grid_template_areas": null,
            "grid_template_columns": null,
            "grid_template_rows": null,
            "height": null,
            "justify_content": null,
            "justify_items": null,
            "left": null,
            "margin": null,
            "max_height": null,
            "max_width": null,
            "min_height": null,
            "min_width": null,
            "object_fit": null,
            "object_position": null,
            "order": null,
            "overflow": null,
            "overflow_x": null,
            "overflow_y": null,
            "padding": null,
            "right": null,
            "top": null,
            "visibility": null,
            "width": null
          }
        },
        "19f6687c8dad4be19f87045034f4c9b5": {
          "model_module": "@jupyter-widgets/controls",
          "model_name": "DescriptionStyleModel",
          "model_module_version": "1.5.0",
          "state": {
            "_model_module": "@jupyter-widgets/controls",
            "_model_module_version": "1.5.0",
            "_model_name": "DescriptionStyleModel",
            "_view_count": null,
            "_view_module": "@jupyter-widgets/base",
            "_view_module_version": "1.2.0",
            "_view_name": "StyleView",
            "description_width": ""
          }
        },
        "737c8cef42444cd08ae0fbb3c6c37044": {
          "model_module": "@jupyter-widgets/base",
          "model_name": "LayoutModel",
          "model_module_version": "1.2.0",
          "state": {
            "_model_module": "@jupyter-widgets/base",
            "_model_module_version": "1.2.0",
            "_model_name": "LayoutModel",
            "_view_count": null,
            "_view_module": "@jupyter-widgets/base",
            "_view_module_version": "1.2.0",
            "_view_name": "LayoutView",
            "align_content": null,
            "align_items": null,
            "align_self": null,
            "border": null,
            "bottom": null,
            "display": null,
            "flex": null,
            "flex_flow": null,
            "grid_area": null,
            "grid_auto_columns": null,
            "grid_auto_flow": null,
            "grid_auto_rows": null,
            "grid_column": null,
            "grid_gap": null,
            "grid_row": null,
            "grid_template_areas": null,
            "grid_template_columns": null,
            "grid_template_rows": null,
            "height": null,
            "justify_content": null,
            "justify_items": null,
            "left": null,
            "margin": null,
            "max_height": null,
            "max_width": null,
            "min_height": null,
            "min_width": null,
            "object_fit": null,
            "object_position": null,
            "order": null,
            "overflow": null,
            "overflow_x": null,
            "overflow_y": null,
            "padding": null,
            "right": null,
            "top": null,
            "visibility": null,
            "width": null
          }
        },
        "96e53e3b74b141d2903c3701c1eedcb8": {
          "model_module": "@jupyter-widgets/controls",
          "model_name": "DescriptionStyleModel",
          "model_module_version": "1.5.0",
          "state": {
            "_model_module": "@jupyter-widgets/controls",
            "_model_module_version": "1.5.0",
            "_model_name": "DescriptionStyleModel",
            "_view_count": null,
            "_view_module": "@jupyter-widgets/base",
            "_view_module_version": "1.2.0",
            "_view_name": "StyleView",
            "description_width": ""
          }
        },
        "2c96c23a63404b31a3120df38d81768c": {
          "model_module": "@jupyter-widgets/base",
          "model_name": "LayoutModel",
          "model_module_version": "1.2.0",
          "state": {
            "_model_module": "@jupyter-widgets/base",
            "_model_module_version": "1.2.0",
            "_model_name": "LayoutModel",
            "_view_count": null,
            "_view_module": "@jupyter-widgets/base",
            "_view_module_version": "1.2.0",
            "_view_name": "LayoutView",
            "align_content": null,
            "align_items": null,
            "align_self": null,
            "border": null,
            "bottom": null,
            "display": null,
            "flex": null,
            "flex_flow": null,
            "grid_area": null,
            "grid_auto_columns": null,
            "grid_auto_flow": null,
            "grid_auto_rows": null,
            "grid_column": null,
            "grid_gap": null,
            "grid_row": null,
            "grid_template_areas": null,
            "grid_template_columns": null,
            "grid_template_rows": null,
            "height": null,
            "justify_content": null,
            "justify_items": null,
            "left": null,
            "margin": null,
            "max_height": null,
            "max_width": null,
            "min_height": null,
            "min_width": null,
            "object_fit": null,
            "object_position": null,
            "order": null,
            "overflow": null,
            "overflow_x": null,
            "overflow_y": null,
            "padding": null,
            "right": null,
            "top": null,
            "visibility": null,
            "width": null
          }
        },
        "c336234c2378474981bd6924c095842a": {
          "model_module": "@jupyter-widgets/controls",
          "model_name": "DescriptionStyleModel",
          "model_module_version": "1.5.0",
          "state": {
            "_model_module": "@jupyter-widgets/controls",
            "_model_module_version": "1.5.0",
            "_model_name": "DescriptionStyleModel",
            "_view_count": null,
            "_view_module": "@jupyter-widgets/base",
            "_view_module_version": "1.2.0",
            "_view_name": "StyleView",
            "description_width": ""
          }
        },
        "897d953d6404447fa380a29a2d2c94f1": {
          "model_module": "@jupyter-widgets/base",
          "model_name": "LayoutModel",
          "model_module_version": "1.2.0",
          "state": {
            "_model_module": "@jupyter-widgets/base",
            "_model_module_version": "1.2.0",
            "_model_name": "LayoutModel",
            "_view_count": null,
            "_view_module": "@jupyter-widgets/base",
            "_view_module_version": "1.2.0",
            "_view_name": "LayoutView",
            "align_content": null,
            "align_items": null,
            "align_self": null,
            "border": null,
            "bottom": null,
            "display": null,
            "flex": null,
            "flex_flow": null,
            "grid_area": null,
            "grid_auto_columns": null,
            "grid_auto_flow": null,
            "grid_auto_rows": null,
            "grid_column": null,
            "grid_gap": null,
            "grid_row": null,
            "grid_template_areas": null,
            "grid_template_columns": null,
            "grid_template_rows": null,
            "height": null,
            "justify_content": null,
            "justify_items": null,
            "left": null,
            "margin": null,
            "max_height": null,
            "max_width": null,
            "min_height": null,
            "min_width": null,
            "object_fit": null,
            "object_position": null,
            "order": null,
            "overflow": null,
            "overflow_x": null,
            "overflow_y": null,
            "padding": null,
            "right": null,
            "top": null,
            "visibility": null,
            "width": null
          }
        },
        "af149e4f35cc44fea6480c2da6ad54d9": {
          "model_module": "@jupyter-widgets/controls",
          "model_name": "ButtonStyleModel",
          "model_module_version": "1.5.0",
          "state": {
            "_model_module": "@jupyter-widgets/controls",
            "_model_module_version": "1.5.0",
            "_model_name": "ButtonStyleModel",
            "_view_count": null,
            "_view_module": "@jupyter-widgets/base",
            "_view_module_version": "1.2.0",
            "_view_name": "StyleView",
            "button_color": null,
            "font_weight": ""
          }
        },
        "e4c4f9994ca54a64894a027ba4d7cdaa": {
          "model_module": "@jupyter-widgets/base",
          "model_name": "LayoutModel",
          "model_module_version": "1.2.0",
          "state": {
            "_model_module": "@jupyter-widgets/base",
            "_model_module_version": "1.2.0",
            "_model_name": "LayoutModel",
            "_view_count": null,
            "_view_module": "@jupyter-widgets/base",
            "_view_module_version": "1.2.0",
            "_view_name": "LayoutView",
            "align_content": null,
            "align_items": null,
            "align_self": null,
            "border": null,
            "bottom": null,
            "display": null,
            "flex": null,
            "flex_flow": null,
            "grid_area": null,
            "grid_auto_columns": null,
            "grid_auto_flow": null,
            "grid_auto_rows": null,
            "grid_column": null,
            "grid_gap": null,
            "grid_row": null,
            "grid_template_areas": null,
            "grid_template_columns": null,
            "grid_template_rows": null,
            "height": null,
            "justify_content": null,
            "justify_items": null,
            "left": null,
            "margin": null,
            "max_height": null,
            "max_width": null,
            "min_height": null,
            "min_width": null,
            "object_fit": null,
            "object_position": null,
            "order": null,
            "overflow": null,
            "overflow_x": null,
            "overflow_y": null,
            "padding": null,
            "right": null,
            "top": null,
            "visibility": null,
            "width": null
          }
        },
        "e8bd8797355f4878ab2c4fdc41774a20": {
          "model_module": "@jupyter-widgets/controls",
          "model_name": "DescriptionStyleModel",
          "model_module_version": "1.5.0",
          "state": {
            "_model_module": "@jupyter-widgets/controls",
            "_model_module_version": "1.5.0",
            "_model_name": "DescriptionStyleModel",
            "_view_count": null,
            "_view_module": "@jupyter-widgets/base",
            "_view_module_version": "1.2.0",
            "_view_name": "StyleView",
            "description_width": ""
          }
        },
        "2a783a4eae554bb2963fdb6f6c56bb80": {
          "model_module": "@jupyter-widgets/controls",
          "model_name": "LabelModel",
          "model_module_version": "1.5.0",
          "state": {
            "_dom_classes": [],
            "_model_module": "@jupyter-widgets/controls",
            "_model_module_version": "1.5.0",
            "_model_name": "LabelModel",
            "_view_count": null,
            "_view_module": "@jupyter-widgets/controls",
            "_view_module_version": "1.5.0",
            "_view_name": "LabelView",
            "description": "",
            "description_tooltip": null,
            "layout": "IPY_MODEL_df3e6a093bfd4e628761dc91111ce0ea",
            "placeholder": "​",
            "style": "IPY_MODEL_39b769369010486b89bc1a4b54532458",
            "value": "Connecting..."
          }
        },
        "df3e6a093bfd4e628761dc91111ce0ea": {
          "model_module": "@jupyter-widgets/base",
          "model_name": "LayoutModel",
          "model_module_version": "1.2.0",
          "state": {
            "_model_module": "@jupyter-widgets/base",
            "_model_module_version": "1.2.0",
            "_model_name": "LayoutModel",
            "_view_count": null,
            "_view_module": "@jupyter-widgets/base",
            "_view_module_version": "1.2.0",
            "_view_name": "LayoutView",
            "align_content": null,
            "align_items": null,
            "align_self": null,
            "border": null,
            "bottom": null,
            "display": null,
            "flex": null,
            "flex_flow": null,
            "grid_area": null,
            "grid_auto_columns": null,
            "grid_auto_flow": null,
            "grid_auto_rows": null,
            "grid_column": null,
            "grid_gap": null,
            "grid_row": null,
            "grid_template_areas": null,
            "grid_template_columns": null,
            "grid_template_rows": null,
            "height": null,
            "justify_content": null,
            "justify_items": null,
            "left": null,
            "margin": null,
            "max_height": null,
            "max_width": null,
            "min_height": null,
            "min_width": null,
            "object_fit": null,
            "object_position": null,
            "order": null,
            "overflow": null,
            "overflow_x": null,
            "overflow_y": null,
            "padding": null,
            "right": null,
            "top": null,
            "visibility": null,
            "width": null
          }
        },
        "39b769369010486b89bc1a4b54532458": {
          "model_module": "@jupyter-widgets/controls",
          "model_name": "DescriptionStyleModel",
          "model_module_version": "1.5.0",
          "state": {
            "_model_module": "@jupyter-widgets/controls",
            "_model_module_version": "1.5.0",
            "_model_name": "DescriptionStyleModel",
            "_view_count": null,
            "_view_module": "@jupyter-widgets/base",
            "_view_module_version": "1.2.0",
            "_view_name": "StyleView",
            "description_width": ""
          }
        },
        "8726e612ec6b4b5989e2eefe28b850f6": {
          "model_module": "@jupyter-widgets/controls",
          "model_name": "LabelModel",
          "model_module_version": "1.5.0",
          "state": {
            "_dom_classes": [],
            "_model_module": "@jupyter-widgets/controls",
            "_model_module_version": "1.5.0",
            "_model_name": "LabelModel",
            "_view_count": null,
            "_view_module": "@jupyter-widgets/controls",
            "_view_module_version": "1.5.0",
            "_view_name": "LabelView",
            "description": "",
            "description_tooltip": null,
            "layout": "IPY_MODEL_12107b72121f4741a8620e19ac6fb38b",
            "placeholder": "​",
            "style": "IPY_MODEL_b4cbaf7ed00f422686a364020abc0c2b",
            "value": "Kaggle credentials successfully validated."
          }
        },
        "12107b72121f4741a8620e19ac6fb38b": {
          "model_module": "@jupyter-widgets/base",
          "model_name": "LayoutModel",
          "model_module_version": "1.2.0",
          "state": {
            "_model_module": "@jupyter-widgets/base",
            "_model_module_version": "1.2.0",
            "_model_name": "LayoutModel",
            "_view_count": null,
            "_view_module": "@jupyter-widgets/base",
            "_view_module_version": "1.2.0",
            "_view_name": "LayoutView",
            "align_content": null,
            "align_items": null,
            "align_self": null,
            "border": null,
            "bottom": null,
            "display": null,
            "flex": null,
            "flex_flow": null,
            "grid_area": null,
            "grid_auto_columns": null,
            "grid_auto_flow": null,
            "grid_auto_rows": null,
            "grid_column": null,
            "grid_gap": null,
            "grid_row": null,
            "grid_template_areas": null,
            "grid_template_columns": null,
            "grid_template_rows": null,
            "height": null,
            "justify_content": null,
            "justify_items": null,
            "left": null,
            "margin": null,
            "max_height": null,
            "max_width": null,
            "min_height": null,
            "min_width": null,
            "object_fit": null,
            "object_position": null,
            "order": null,
            "overflow": null,
            "overflow_x": null,
            "overflow_y": null,
            "padding": null,
            "right": null,
            "top": null,
            "visibility": null,
            "width": null
          }
        },
        "b4cbaf7ed00f422686a364020abc0c2b": {
          "model_module": "@jupyter-widgets/controls",
          "model_name": "DescriptionStyleModel",
          "model_module_version": "1.5.0",
          "state": {
            "_model_module": "@jupyter-widgets/controls",
            "_model_module_version": "1.5.0",
            "_model_name": "DescriptionStyleModel",
            "_view_count": null,
            "_view_module": "@jupyter-widgets/base",
            "_view_module_version": "1.2.0",
            "_view_name": "StyleView",
            "description_width": ""
          }
        }
      }
    },
    "accelerator": "GPU"
  },
  "nbformat_minor": 0,
  "nbformat": 4,
  "cells": [
    {
      "cell_type": "markdown",
      "metadata": {
        "id": "view-in-github",
        "colab_type": "text"
      },
      "source": [
        "<a href=\"https://colab.research.google.com/github/NoarkPol/Find-the-GW-signals/blob/main/baseline_kaggle.ipynb\" target=\"_parent\"><img src=\"https://colab.research.google.com/assets/colab-badge.svg\" alt=\"Open In Colab\"/></a>"
      ]
    },
    {
      "source": [
        "# IMPORTANT: SOME KAGGLE DATA SOURCES ARE PRIVATE\n",
        "# RUN THIS CELL IN ORDER TO IMPORT YOUR KAGGLE DATA SOURCES.\n",
        "import kagglehub\n",
        "kagglehub.login()\n"
      ],
      "metadata": {
        "id": "BpKmAgsmHiE-",
        "outputId": "33a8e415-a5b2-4f2e-a409-ccfaf1105f41",
        "colab": {
          "base_uri": "https://localhost:8080/",
          "height": 101,
          "referenced_widgets": [
            "125abeca7deb421da6fd8a2accfe2cca",
            "acc50be946ff4ec195cea3cb37af0b07",
            "5f4bfd4d3a9643c181d9e0156b6e4288",
            "25e64db4e73b4844953ca4425197796b",
            "8ee4b77eff814fb8a8dea2565f4c09ed",
            "31be1767c4f848abb7de4e6b40d780b3",
            "02261d66f9d34e13a282c95b801e8d17",
            "4a8931f28cc74df689d50e8504f6247f",
            "19f6687c8dad4be19f87045034f4c9b5",
            "737c8cef42444cd08ae0fbb3c6c37044",
            "96e53e3b74b141d2903c3701c1eedcb8",
            "2c96c23a63404b31a3120df38d81768c",
            "c336234c2378474981bd6924c095842a",
            "897d953d6404447fa380a29a2d2c94f1",
            "af149e4f35cc44fea6480c2da6ad54d9",
            "e4c4f9994ca54a64894a027ba4d7cdaa",
            "e8bd8797355f4878ab2c4fdc41774a20",
            "2a783a4eae554bb2963fdb6f6c56bb80",
            "df3e6a093bfd4e628761dc91111ce0ea",
            "39b769369010486b89bc1a4b54532458",
            "8726e612ec6b4b5989e2eefe28b850f6",
            "12107b72121f4741a8620e19ac6fb38b",
            "b4cbaf7ed00f422686a364020abc0c2b"
          ]
        }
      },
      "cell_type": "code",
      "outputs": [
        {
          "output_type": "display_data",
          "data": {
            "text/plain": [
              "VBox(children=(HTML(value='<center> <img\\nsrc=https://www.kaggle.com/static/images/site-logo.png\\nalt=\\'Kaggle…"
            ],
            "application/vnd.jupyter.widget-view+json": {
              "version_major": 2,
              "version_minor": 0,
              "model_id": "125abeca7deb421da6fd8a2accfe2cca"
            }
          },
          "metadata": {}
        },
        {
          "output_type": "stream",
          "name": "stdout",
          "text": [
            "Kaggle credentials set.\n",
            "Warning: Looks like you're using an outdated `kagglehub` version (installed: 0.3.10), please consider upgrading to the latest version (0.3.11).\n",
            "Kaggle credentials successfully validated.\n"
          ]
        }
      ],
      "execution_count": 1
    },
    {
      "source": [
        "# IMPORTANT: RUN THIS CELL IN ORDER TO IMPORT YOUR KAGGLE DATA SOURCES,\n",
        "# THEN FEEL FREE TO DELETE THIS CELL.\n",
        "# NOTE: THIS NOTEBOOK ENVIRONMENT DIFFERS FROM KAGGLE'S PYTHON\n",
        "# ENVIRONMENT SO THERE MAY BE MISSING LIBRARIES USED BY YOUR\n",
        "# NOTEBOOK.\n",
        "\n",
        "gwdata_bootcamp_path = kagglehub.competition_download('2023-gwdata-bootcamp')\n",
        "\n",
        "#2023_gwdata_bootcamp_path = kagglehub.competition_download('2023-gwdata-bootcamp')\n",
        "#The issue is that variable names in Python can't start with a number. I\n",
        "\n",
        "print('Data source import complete.')\n"
      ],
      "metadata": {
        "id": "4PG9WycQHiFA",
        "outputId": "8b729a7b-a031-4b6b-c32e-cd456cffb454",
        "colab": {
          "base_uri": "https://localhost:8080/"
        }
      },
      "cell_type": "code",
      "outputs": [
        {
          "output_type": "stream",
          "name": "stdout",
          "text": [
            "Downloading from https://www.kaggle.com/api/v1/competitions/data/download-all/2023-gwdata-bootcamp...\n"
          ]
        },
        {
          "output_type": "stream",
          "name": "stderr",
          "text": [
            "100%|██████████| 288M/288M [00:20<00:00, 14.5MB/s]"
          ]
        },
        {
          "output_type": "stream",
          "name": "stdout",
          "text": [
            "Extracting files...\n"
          ]
        },
        {
          "output_type": "stream",
          "name": "stderr",
          "text": [
            "\n"
          ]
        },
        {
          "output_type": "stream",
          "name": "stdout",
          "text": [
            "Data source import complete.\n"
          ]
        }
      ],
      "execution_count": 2
    },
    {
      "cell_type": "code",
      "source": [
        "# 先知晓一下当前的目录地址\n",
        "!pwd"
      ],
      "metadata": {
        "execution": {
          "iopub.status.busy": "2023-12-29T09:33:01.225909Z",
          "iopub.execute_input": "2023-12-29T09:33:01.226332Z",
          "iopub.status.idle": "2023-12-29T09:33:02.291155Z",
          "shell.execute_reply.started": "2023-12-29T09:33:01.226296Z",
          "shell.execute_reply": "2023-12-29T09:33:02.290073Z"
        },
        "trusted": true,
        "id": "K9FcxIuKHiFB",
        "outputId": "8af4800b-0270-49df-baf4-3ee20c0940be",
        "colab": {
          "base_uri": "https://localhost:8080/"
        }
      },
      "execution_count": 3,
      "outputs": [
        {
          "output_type": "stream",
          "name": "stdout",
          "text": [
            "/content\n"
          ]
        }
      ]
    },
    {
      "cell_type": "code",
      "source": [
        "# 安装必要的程序包\n",
        "!pip install --upgrade lalsuite"
      ],
      "metadata": {
        "execution": {
          "iopub.status.busy": "2023-12-29T09:33:02.603851Z",
          "iopub.execute_input": "2023-12-29T09:33:02.60468Z",
          "iopub.status.idle": "2023-12-29T09:33:41.837587Z",
          "shell.execute_reply.started": "2023-12-29T09:33:02.604643Z",
          "shell.execute_reply": "2023-12-29T09:33:41.836281Z"
        },
        "trusted": true,
        "id": "-UH3OpP6HiFB",
        "outputId": "172468fa-8cd5-4809-8663-c16ed2600d17",
        "colab": {
          "base_uri": "https://localhost:8080/"
        }
      },
      "execution_count": 4,
      "outputs": [
        {
          "output_type": "stream",
          "name": "stdout",
          "text": [
            "Collecting lalsuite\n",
            "  Downloading lalsuite-7.25.1-cp311-cp311-manylinux_2_28_x86_64.whl.metadata (3.2 kB)\n",
            "Requirement already satisfied: astropy in /usr/local/lib/python3.11/dist-packages (from lalsuite) (7.0.1)\n",
            "Collecting ligo-segments (from lalsuite)\n",
            "  Downloading ligo-segments-1.4.0.tar.gz (51 kB)\n",
            "\u001b[2K     \u001b[90m━━━━━━━━━━━━━━━━━━━━━━━━━━━━━━━━━━━━━━━━\u001b[0m \u001b[32m51.0/51.0 kB\u001b[0m \u001b[31m3.4 MB/s\u001b[0m eta \u001b[36m0:00:00\u001b[0m\n",
            "\u001b[?25h  Preparing metadata (setup.py) ... \u001b[?25l\u001b[?25hdone\n",
            "Collecting lscsoft-glue (from lalsuite)\n",
            "  Downloading lscsoft_glue-4.1.0-py3-none-any.whl.metadata (1.5 kB)\n",
            "Requirement already satisfied: matplotlib in /usr/local/lib/python3.11/dist-packages (from lalsuite) (3.10.0)\n",
            "Requirement already satisfied: numpy>=1.19 in /usr/local/lib/python3.11/dist-packages (from lalsuite) (1.26.4)\n",
            "Requirement already satisfied: python-dateutil in /usr/local/lib/python3.11/dist-packages (from lalsuite) (2.8.2)\n",
            "Requirement already satisfied: scipy in /usr/local/lib/python3.11/dist-packages (from lalsuite) (1.13.1)\n",
            "Requirement already satisfied: pyerfa>=2.0.1.1 in /usr/local/lib/python3.11/dist-packages (from astropy->lalsuite) (2.0.1.5)\n",
            "Requirement already satisfied: astropy-iers-data>=0.2025.1.31.12.41.4 in /usr/local/lib/python3.11/dist-packages (from astropy->lalsuite) (0.2025.3.3.0.34.45)\n",
            "Requirement already satisfied: PyYAML>=6.0.0 in /usr/local/lib/python3.11/dist-packages (from astropy->lalsuite) (6.0.2)\n",
            "Requirement already satisfied: packaging>=22.0.0 in /usr/local/lib/python3.11/dist-packages (from astropy->lalsuite) (24.2)\n",
            "Requirement already satisfied: six in /usr/local/lib/python3.11/dist-packages (from ligo-segments->lalsuite) (1.17.0)\n",
            "Collecting igwn-segments (from lscsoft-glue->lalsuite)\n",
            "  Downloading igwn_segments-2.0.0-cp311-cp311-manylinux_2_5_x86_64.manylinux1_x86_64.manylinux_2_28_x86_64.whl.metadata (1.9 kB)\n",
            "Requirement already satisfied: contourpy>=1.0.1 in /usr/local/lib/python3.11/dist-packages (from matplotlib->lalsuite) (1.3.1)\n",
            "Requirement already satisfied: cycler>=0.10 in /usr/local/lib/python3.11/dist-packages (from matplotlib->lalsuite) (0.12.1)\n",
            "Requirement already satisfied: fonttools>=4.22.0 in /usr/local/lib/python3.11/dist-packages (from matplotlib->lalsuite) (4.56.0)\n",
            "Requirement already satisfied: kiwisolver>=1.3.1 in /usr/local/lib/python3.11/dist-packages (from matplotlib->lalsuite) (1.4.8)\n",
            "Requirement already satisfied: pillow>=8 in /usr/local/lib/python3.11/dist-packages (from matplotlib->lalsuite) (11.1.0)\n",
            "Requirement already satisfied: pyparsing>=2.3.1 in /usr/local/lib/python3.11/dist-packages (from matplotlib->lalsuite) (3.2.1)\n",
            "Downloading lalsuite-7.25.1-cp311-cp311-manylinux_2_28_x86_64.whl (40.4 MB)\n",
            "\u001b[2K   \u001b[90m━━━━━━━━━━━━━━━━━━━━━━━━━━━━━━━━━━━━━━━━\u001b[0m \u001b[32m40.4/40.4 MB\u001b[0m \u001b[31m15.9 MB/s\u001b[0m eta \u001b[36m0:00:00\u001b[0m\n",
            "\u001b[?25hDownloading lscsoft_glue-4.1.0-py3-none-any.whl (50 kB)\n",
            "\u001b[2K   \u001b[90m━━━━━━━━━━━━━━━━━━━━━━━━━━━━━━━━━━━━━━━━\u001b[0m \u001b[32m50.1/50.1 kB\u001b[0m \u001b[31m4.0 MB/s\u001b[0m eta \u001b[36m0:00:00\u001b[0m\n",
            "\u001b[?25hDownloading igwn_segments-2.0.0-cp311-cp311-manylinux_2_5_x86_64.manylinux1_x86_64.manylinux_2_28_x86_64.whl (110 kB)\n",
            "\u001b[2K   \u001b[90m━━━━━━━━━━━━━━━━━━━━━━━━━━━━━━━━━━━━━━━━\u001b[0m \u001b[32m110.5/110.5 kB\u001b[0m \u001b[31m11.0 MB/s\u001b[0m eta \u001b[36m0:00:00\u001b[0m\n",
            "\u001b[?25hBuilding wheels for collected packages: ligo-segments\n",
            "  Building wheel for ligo-segments (setup.py) ... \u001b[?25l\u001b[?25hdone\n",
            "  Created wheel for ligo-segments: filename=ligo_segments-1.4.0-cp311-cp311-linux_x86_64.whl size=102032 sha256=a9eb11875044d2f58c619a89f339720f050a3df2f05c7646780bd026b57a4832\n",
            "  Stored in directory: /root/.cache/pip/wheels/02/2b/93/c2ee2b6f4ea9572ee4f5ade0115c4bd0887be6228328740dae\n",
            "Successfully built ligo-segments\n",
            "Installing collected packages: igwn-segments, lscsoft-glue, ligo-segments, lalsuite\n",
            "Successfully installed igwn-segments-2.0.0 lalsuite-7.25.1 ligo-segments-1.4.0 lscsoft-glue-4.1.0\n"
          ]
        }
      ]
    },
    {
      "cell_type": "code",
      "source": [
        "# This Python 3 environment comes with many helpful analytics libraries installed\n",
        "# It is defined by the kaggle/python Docker image: https://github.com/kaggle/docker-python\n",
        "# For example, here's several helpful packages to load\n",
        "\n",
        "import numpy as np # linear algebra\n",
        "import pandas as pd # data processing, CSV file I/O (e.g. pd.read_csv)\n",
        "\n",
        "# Input data files are available in the read-only \"../input/\" directory\n",
        "# For example, running this (by clicking run or pressing Shift+Enter) will list all files under the input directory\n",
        "\n",
        "import os\n",
        "for dirname, _, filenames in os.walk('/kaggle/input'):\n",
        "    for filename in filenames:\n",
        "        print(os.path.join(dirname, filename))\n",
        "\n",
        "# You can write up to 20GB to the current directory (/kaggle/working/) that gets preserved as output when you create a version using \"Save & Run All\"\n",
        "# You can also write temporary files to /kaggle/temp/, but they won't be saved outside of the current session"
      ],
      "metadata": {
        "_uuid": "8f2839f25d086af736a60e9eeb907d3b93b6e0e5",
        "_cell_guid": "b1076dfc-b9ad-4769-8c92-a6c4dae69d19",
        "execution": {
          "iopub.status.busy": "2023-12-29T09:33:41.839746Z",
          "iopub.execute_input": "2023-12-29T09:33:41.840148Z",
          "iopub.status.idle": "2023-12-29T09:33:42.245753Z",
          "shell.execute_reply.started": "2023-12-29T09:33:41.840094Z",
          "shell.execute_reply": "2023-12-29T09:33:42.244729Z"
        },
        "trusted": true,
        "id": "bAQuE_atHiFB"
      },
      "execution_count": 5,
      "outputs": []
    },
    {
      "cell_type": "markdown",
      "source": [
        "# PyTorch深度学习框架\n",
        "\n",
        "PyTorch是一个开源的深度学习框架，由Facebook的人工智能研究团队开发。它提供了两个高级功能：\n",
        "\n",
        "1. 强大的GPU加速的张量计算（如NumPy）库。\n",
        "2. 包含自动微分系统的深度神经网络。\n",
        "\n",
        "PyTorch的设计哲学是“尽可能地保持用户对过程的控制，而不是隐藏复杂的细节”。\n",
        "\n",
        "这使得PyTorch在研究和开发新的深度学习模型时非常灵活，因为用户可以看到并控制模型的内部操作。"
      ],
      "metadata": {
        "execution": {
          "iopub.status.busy": "2023-12-29T07:37:37.269572Z",
          "iopub.execute_input": "2023-12-29T07:37:37.270255Z",
          "iopub.status.idle": "2023-12-29T07:37:37.281594Z",
          "shell.execute_reply.started": "2023-12-29T07:37:37.270223Z",
          "shell.execute_reply": "2023-12-29T07:37:37.280337Z"
        },
        "id": "why6_QvbHiFC"
      }
    },
    {
      "cell_type": "markdown",
      "source": [
        "#how to import libraries?\n",
        "\n",
        "#上传文件到Colab：\n",
        "您可以将您的Python脚本上传到Colab环境中，然后导入它们。\n",
        "\n",
        "from google.colab import files\n",
        "\n",
        "uploaded = files.upload()  \n",
        "\n",
        "这会打开一个文件选择对话框\n",
        "\n",
        "上传完成后，您可以导入您的模块\n",
        "\n",
        "import your_module_name\n",
        "\n",
        "#从GitHub导入：\n",
        "如果您的脚本存放在GitHub仓库中，可以直接克隆仓库到Colab：\n",
        "!git clone https://github.com/your_username/your_repository.git\n",
        "\n",
        "添加到路径\n",
        "\n",
        "import sys\n",
        "sys.path.append('/content/your_repository')\n",
        "\n",
        "然后导入模块\n",
        "\n",
        "import your_module_name\n",
        "\n",
        "#创建Python文件：\n",
        "您也可以直接在Colab中创建新的Python文件：\n",
        "%%writefile module_name.py\n",
        "\n",
        "在这里写入您的代码\n",
        "\n",
        "def your_function():\n",
        "    return \"Hello World\"\n",
        "    \n",
        "然后导入它：\n",
        "\n",
        "import module_name\n",
        "\n",
        "#调整Python路径：\n",
        "像您已经开始做的那样，使用sys.path.append()添加您的模块所在的目录：\n",
        "pythonimport sys\n",
        "sys.path.append('/path/to/your/modules')\n",
        "\n",
        "\n"
      ],
      "metadata": {
        "id": "t13ipgZNMeXt"
      }
    },
    {
      "cell_type": "markdown",
      "source": [],
      "metadata": {
        "id": "Bd9J0Y73Mh5v"
      }
    },
    {
      "cell_type": "markdown",
      "source": [
        "- 这部分代码主要是引入所需要的库"
      ],
      "metadata": {
        "id": "EmpPMwtEHiFC"
      }
    },
    {
      "cell_type": "code",
      "source": [
        "# 加载我给同志们准备好的程序脚本\n",
        "'''import sys\n",
        "sys.path.append('/kaggle/input/2023-gwdata-bootcamp')\n",
        "\n",
        "import warnings\n",
        "warnings.filterwarnings(\"ignore\", \"Wswiglal-redir-stdio\")'''\n",
        "\n",
        "\n",
        "#function not\n",
        "\n"
      ],
      "metadata": {
        "execution": {
          "iopub.status.busy": "2023-12-29T09:33:42.246966Z",
          "iopub.execute_input": "2023-12-29T09:33:42.247392Z",
          "iopub.status.idle": "2023-12-29T09:33:42.25268Z",
          "shell.execute_reply.started": "2023-12-29T09:33:42.24735Z",
          "shell.execute_reply": "2023-12-29T09:33:42.251754Z"
        },
        "trusted": true,
        "id": "no0k7tB5HiFD",
        "colab": {
          "base_uri": "https://localhost:8080/",
          "height": 35
        },
        "outputId": "c288c29f-88f4-4d0a-fa07-ce08c29ecff2"
      },
      "execution_count": 6,
      "outputs": [
        {
          "output_type": "execute_result",
          "data": {
            "text/plain": [
              "'import sys\\nsys.path.append(\\'/kaggle/input/2023-gwdata-bootcamp\\')\\n\\nimport warnings\\nwarnings.filterwarnings(\"ignore\", \"Wswiglal-redir-stdio\")'"
            ],
            "application/vnd.google.colaboratory.intrinsic+json": {
              "type": "string"
            }
          },
          "metadata": {},
          "execution_count": 6
        }
      ]
    },
    {
      "cell_type": "code",
      "source": [
        "!ls /kaggle/input/2023-gwdata-bootcamp"
      ],
      "metadata": {
        "colab": {
          "base_uri": "https://localhost:8080/"
        },
        "id": "eygFlT7zOQXO",
        "outputId": "c07399ea-a765-4d42-838a-f068a281525b"
      },
      "execution_count": 7,
      "outputs": [
        {
          "output_type": "stream",
          "name": "stdout",
          "text": [
            "ls: cannot access '/kaggle/input/2023-gwdata-bootcamp': No such file or directory\n"
          ]
        }
      ]
    },
    {
      "cell_type": "code",
      "source": [
        "from google.colab import files\n",
        "\n",
        "uploaded1 = files.upload()\n",
        "uploaded2 = files.upload()\n",
        "uploaded3 = files.upload()\n",
        "\n",
        "from main import *\n",
        "from utils import *\n",
        "from data_prep_bbh import *\n",
        "\n",
        "#import * means import all funcs & varis in the function"
      ],
      "metadata": {
        "colab": {
          "base_uri": "https://localhost:8080/",
          "height": 584
        },
        "id": "XQEdPCYXQ1uM",
        "outputId": "97b1d08d-96c5-410a-8d86-da682c5a3794"
      },
      "execution_count": 8,
      "outputs": [
        {
          "output_type": "display_data",
          "data": {
            "text/plain": [
              "<IPython.core.display.HTML object>"
            ],
            "text/html": [
              "\n",
              "     <input type=\"file\" id=\"files-9d93e923-e6d8-4063-944e-a85f94489d4e\" name=\"files[]\" multiple disabled\n",
              "        style=\"border:none\" />\n",
              "     <output id=\"result-9d93e923-e6d8-4063-944e-a85f94489d4e\">\n",
              "      Upload widget is only available when the cell has been executed in the\n",
              "      current browser session. Please rerun this cell to enable.\n",
              "      </output>\n",
              "      <script>// Copyright 2017 Google LLC\n",
              "//\n",
              "// Licensed under the Apache License, Version 2.0 (the \"License\");\n",
              "// you may not use this file except in compliance with the License.\n",
              "// You may obtain a copy of the License at\n",
              "//\n",
              "//      http://www.apache.org/licenses/LICENSE-2.0\n",
              "//\n",
              "// Unless required by applicable law or agreed to in writing, software\n",
              "// distributed under the License is distributed on an \"AS IS\" BASIS,\n",
              "// WITHOUT WARRANTIES OR CONDITIONS OF ANY KIND, either express or implied.\n",
              "// See the License for the specific language governing permissions and\n",
              "// limitations under the License.\n",
              "\n",
              "/**\n",
              " * @fileoverview Helpers for google.colab Python module.\n",
              " */\n",
              "(function(scope) {\n",
              "function span(text, styleAttributes = {}) {\n",
              "  const element = document.createElement('span');\n",
              "  element.textContent = text;\n",
              "  for (const key of Object.keys(styleAttributes)) {\n",
              "    element.style[key] = styleAttributes[key];\n",
              "  }\n",
              "  return element;\n",
              "}\n",
              "\n",
              "// Max number of bytes which will be uploaded at a time.\n",
              "const MAX_PAYLOAD_SIZE = 100 * 1024;\n",
              "\n",
              "function _uploadFiles(inputId, outputId) {\n",
              "  const steps = uploadFilesStep(inputId, outputId);\n",
              "  const outputElement = document.getElementById(outputId);\n",
              "  // Cache steps on the outputElement to make it available for the next call\n",
              "  // to uploadFilesContinue from Python.\n",
              "  outputElement.steps = steps;\n",
              "\n",
              "  return _uploadFilesContinue(outputId);\n",
              "}\n",
              "\n",
              "// This is roughly an async generator (not supported in the browser yet),\n",
              "// where there are multiple asynchronous steps and the Python side is going\n",
              "// to poll for completion of each step.\n",
              "// This uses a Promise to block the python side on completion of each step,\n",
              "// then passes the result of the previous step as the input to the next step.\n",
              "function _uploadFilesContinue(outputId) {\n",
              "  const outputElement = document.getElementById(outputId);\n",
              "  const steps = outputElement.steps;\n",
              "\n",
              "  const next = steps.next(outputElement.lastPromiseValue);\n",
              "  return Promise.resolve(next.value.promise).then((value) => {\n",
              "    // Cache the last promise value to make it available to the next\n",
              "    // step of the generator.\n",
              "    outputElement.lastPromiseValue = value;\n",
              "    return next.value.response;\n",
              "  });\n",
              "}\n",
              "\n",
              "/**\n",
              " * Generator function which is called between each async step of the upload\n",
              " * process.\n",
              " * @param {string} inputId Element ID of the input file picker element.\n",
              " * @param {string} outputId Element ID of the output display.\n",
              " * @return {!Iterable<!Object>} Iterable of next steps.\n",
              " */\n",
              "function* uploadFilesStep(inputId, outputId) {\n",
              "  const inputElement = document.getElementById(inputId);\n",
              "  inputElement.disabled = false;\n",
              "\n",
              "  const outputElement = document.getElementById(outputId);\n",
              "  outputElement.innerHTML = '';\n",
              "\n",
              "  const pickedPromise = new Promise((resolve) => {\n",
              "    inputElement.addEventListener('change', (e) => {\n",
              "      resolve(e.target.files);\n",
              "    });\n",
              "  });\n",
              "\n",
              "  const cancel = document.createElement('button');\n",
              "  inputElement.parentElement.appendChild(cancel);\n",
              "  cancel.textContent = 'Cancel upload';\n",
              "  const cancelPromise = new Promise((resolve) => {\n",
              "    cancel.onclick = () => {\n",
              "      resolve(null);\n",
              "    };\n",
              "  });\n",
              "\n",
              "  // Wait for the user to pick the files.\n",
              "  const files = yield {\n",
              "    promise: Promise.race([pickedPromise, cancelPromise]),\n",
              "    response: {\n",
              "      action: 'starting',\n",
              "    }\n",
              "  };\n",
              "\n",
              "  cancel.remove();\n",
              "\n",
              "  // Disable the input element since further picks are not allowed.\n",
              "  inputElement.disabled = true;\n",
              "\n",
              "  if (!files) {\n",
              "    return {\n",
              "      response: {\n",
              "        action: 'complete',\n",
              "      }\n",
              "    };\n",
              "  }\n",
              "\n",
              "  for (const file of files) {\n",
              "    const li = document.createElement('li');\n",
              "    li.append(span(file.name, {fontWeight: 'bold'}));\n",
              "    li.append(span(\n",
              "        `(${file.type || 'n/a'}) - ${file.size} bytes, ` +\n",
              "        `last modified: ${\n",
              "            file.lastModifiedDate ? file.lastModifiedDate.toLocaleDateString() :\n",
              "                                    'n/a'} - `));\n",
              "    const percent = span('0% done');\n",
              "    li.appendChild(percent);\n",
              "\n",
              "    outputElement.appendChild(li);\n",
              "\n",
              "    const fileDataPromise = new Promise((resolve) => {\n",
              "      const reader = new FileReader();\n",
              "      reader.onload = (e) => {\n",
              "        resolve(e.target.result);\n",
              "      };\n",
              "      reader.readAsArrayBuffer(file);\n",
              "    });\n",
              "    // Wait for the data to be ready.\n",
              "    let fileData = yield {\n",
              "      promise: fileDataPromise,\n",
              "      response: {\n",
              "        action: 'continue',\n",
              "      }\n",
              "    };\n",
              "\n",
              "    // Use a chunked sending to avoid message size limits. See b/62115660.\n",
              "    let position = 0;\n",
              "    do {\n",
              "      const length = Math.min(fileData.byteLength - position, MAX_PAYLOAD_SIZE);\n",
              "      const chunk = new Uint8Array(fileData, position, length);\n",
              "      position += length;\n",
              "\n",
              "      const base64 = btoa(String.fromCharCode.apply(null, chunk));\n",
              "      yield {\n",
              "        response: {\n",
              "          action: 'append',\n",
              "          file: file.name,\n",
              "          data: base64,\n",
              "        },\n",
              "      };\n",
              "\n",
              "      let percentDone = fileData.byteLength === 0 ?\n",
              "          100 :\n",
              "          Math.round((position / fileData.byteLength) * 100);\n",
              "      percent.textContent = `${percentDone}% done`;\n",
              "\n",
              "    } while (position < fileData.byteLength);\n",
              "  }\n",
              "\n",
              "  // All done.\n",
              "  yield {\n",
              "    response: {\n",
              "      action: 'complete',\n",
              "    }\n",
              "  };\n",
              "}\n",
              "\n",
              "scope.google = scope.google || {};\n",
              "scope.google.colab = scope.google.colab || {};\n",
              "scope.google.colab._files = {\n",
              "  _uploadFiles,\n",
              "  _uploadFilesContinue,\n",
              "};\n",
              "})(self);\n",
              "</script> "
            ]
          },
          "metadata": {}
        },
        {
          "output_type": "stream",
          "name": "stdout",
          "text": [
            "Saving data_prep_bbh.py to data_prep_bbh.py\n"
          ]
        },
        {
          "output_type": "display_data",
          "data": {
            "text/plain": [
              "<IPython.core.display.HTML object>"
            ],
            "text/html": [
              "\n",
              "     <input type=\"file\" id=\"files-594486c1-aec3-4f60-850e-7a8c2bdeb7fb\" name=\"files[]\" multiple disabled\n",
              "        style=\"border:none\" />\n",
              "     <output id=\"result-594486c1-aec3-4f60-850e-7a8c2bdeb7fb\">\n",
              "      Upload widget is only available when the cell has been executed in the\n",
              "      current browser session. Please rerun this cell to enable.\n",
              "      </output>\n",
              "      <script>// Copyright 2017 Google LLC\n",
              "//\n",
              "// Licensed under the Apache License, Version 2.0 (the \"License\");\n",
              "// you may not use this file except in compliance with the License.\n",
              "// You may obtain a copy of the License at\n",
              "//\n",
              "//      http://www.apache.org/licenses/LICENSE-2.0\n",
              "//\n",
              "// Unless required by applicable law or agreed to in writing, software\n",
              "// distributed under the License is distributed on an \"AS IS\" BASIS,\n",
              "// WITHOUT WARRANTIES OR CONDITIONS OF ANY KIND, either express or implied.\n",
              "// See the License for the specific language governing permissions and\n",
              "// limitations under the License.\n",
              "\n",
              "/**\n",
              " * @fileoverview Helpers for google.colab Python module.\n",
              " */\n",
              "(function(scope) {\n",
              "function span(text, styleAttributes = {}) {\n",
              "  const element = document.createElement('span');\n",
              "  element.textContent = text;\n",
              "  for (const key of Object.keys(styleAttributes)) {\n",
              "    element.style[key] = styleAttributes[key];\n",
              "  }\n",
              "  return element;\n",
              "}\n",
              "\n",
              "// Max number of bytes which will be uploaded at a time.\n",
              "const MAX_PAYLOAD_SIZE = 100 * 1024;\n",
              "\n",
              "function _uploadFiles(inputId, outputId) {\n",
              "  const steps = uploadFilesStep(inputId, outputId);\n",
              "  const outputElement = document.getElementById(outputId);\n",
              "  // Cache steps on the outputElement to make it available for the next call\n",
              "  // to uploadFilesContinue from Python.\n",
              "  outputElement.steps = steps;\n",
              "\n",
              "  return _uploadFilesContinue(outputId);\n",
              "}\n",
              "\n",
              "// This is roughly an async generator (not supported in the browser yet),\n",
              "// where there are multiple asynchronous steps and the Python side is going\n",
              "// to poll for completion of each step.\n",
              "// This uses a Promise to block the python side on completion of each step,\n",
              "// then passes the result of the previous step as the input to the next step.\n",
              "function _uploadFilesContinue(outputId) {\n",
              "  const outputElement = document.getElementById(outputId);\n",
              "  const steps = outputElement.steps;\n",
              "\n",
              "  const next = steps.next(outputElement.lastPromiseValue);\n",
              "  return Promise.resolve(next.value.promise).then((value) => {\n",
              "    // Cache the last promise value to make it available to the next\n",
              "    // step of the generator.\n",
              "    outputElement.lastPromiseValue = value;\n",
              "    return next.value.response;\n",
              "  });\n",
              "}\n",
              "\n",
              "/**\n",
              " * Generator function which is called between each async step of the upload\n",
              " * process.\n",
              " * @param {string} inputId Element ID of the input file picker element.\n",
              " * @param {string} outputId Element ID of the output display.\n",
              " * @return {!Iterable<!Object>} Iterable of next steps.\n",
              " */\n",
              "function* uploadFilesStep(inputId, outputId) {\n",
              "  const inputElement = document.getElementById(inputId);\n",
              "  inputElement.disabled = false;\n",
              "\n",
              "  const outputElement = document.getElementById(outputId);\n",
              "  outputElement.innerHTML = '';\n",
              "\n",
              "  const pickedPromise = new Promise((resolve) => {\n",
              "    inputElement.addEventListener('change', (e) => {\n",
              "      resolve(e.target.files);\n",
              "    });\n",
              "  });\n",
              "\n",
              "  const cancel = document.createElement('button');\n",
              "  inputElement.parentElement.appendChild(cancel);\n",
              "  cancel.textContent = 'Cancel upload';\n",
              "  const cancelPromise = new Promise((resolve) => {\n",
              "    cancel.onclick = () => {\n",
              "      resolve(null);\n",
              "    };\n",
              "  });\n",
              "\n",
              "  // Wait for the user to pick the files.\n",
              "  const files = yield {\n",
              "    promise: Promise.race([pickedPromise, cancelPromise]),\n",
              "    response: {\n",
              "      action: 'starting',\n",
              "    }\n",
              "  };\n",
              "\n",
              "  cancel.remove();\n",
              "\n",
              "  // Disable the input element since further picks are not allowed.\n",
              "  inputElement.disabled = true;\n",
              "\n",
              "  if (!files) {\n",
              "    return {\n",
              "      response: {\n",
              "        action: 'complete',\n",
              "      }\n",
              "    };\n",
              "  }\n",
              "\n",
              "  for (const file of files) {\n",
              "    const li = document.createElement('li');\n",
              "    li.append(span(file.name, {fontWeight: 'bold'}));\n",
              "    li.append(span(\n",
              "        `(${file.type || 'n/a'}) - ${file.size} bytes, ` +\n",
              "        `last modified: ${\n",
              "            file.lastModifiedDate ? file.lastModifiedDate.toLocaleDateString() :\n",
              "                                    'n/a'} - `));\n",
              "    const percent = span('0% done');\n",
              "    li.appendChild(percent);\n",
              "\n",
              "    outputElement.appendChild(li);\n",
              "\n",
              "    const fileDataPromise = new Promise((resolve) => {\n",
              "      const reader = new FileReader();\n",
              "      reader.onload = (e) => {\n",
              "        resolve(e.target.result);\n",
              "      };\n",
              "      reader.readAsArrayBuffer(file);\n",
              "    });\n",
              "    // Wait for the data to be ready.\n",
              "    let fileData = yield {\n",
              "      promise: fileDataPromise,\n",
              "      response: {\n",
              "        action: 'continue',\n",
              "      }\n",
              "    };\n",
              "\n",
              "    // Use a chunked sending to avoid message size limits. See b/62115660.\n",
              "    let position = 0;\n",
              "    do {\n",
              "      const length = Math.min(fileData.byteLength - position, MAX_PAYLOAD_SIZE);\n",
              "      const chunk = new Uint8Array(fileData, position, length);\n",
              "      position += length;\n",
              "\n",
              "      const base64 = btoa(String.fromCharCode.apply(null, chunk));\n",
              "      yield {\n",
              "        response: {\n",
              "          action: 'append',\n",
              "          file: file.name,\n",
              "          data: base64,\n",
              "        },\n",
              "      };\n",
              "\n",
              "      let percentDone = fileData.byteLength === 0 ?\n",
              "          100 :\n",
              "          Math.round((position / fileData.byteLength) * 100);\n",
              "      percent.textContent = `${percentDone}% done`;\n",
              "\n",
              "    } while (position < fileData.byteLength);\n",
              "  }\n",
              "\n",
              "  // All done.\n",
              "  yield {\n",
              "    response: {\n",
              "      action: 'complete',\n",
              "    }\n",
              "  };\n",
              "}\n",
              "\n",
              "scope.google = scope.google || {};\n",
              "scope.google.colab = scope.google.colab || {};\n",
              "scope.google.colab._files = {\n",
              "  _uploadFiles,\n",
              "  _uploadFilesContinue,\n",
              "};\n",
              "})(self);\n",
              "</script> "
            ]
          },
          "metadata": {}
        },
        {
          "output_type": "stream",
          "name": "stdout",
          "text": [
            "Saving main.py to main.py\n"
          ]
        },
        {
          "output_type": "display_data",
          "data": {
            "text/plain": [
              "<IPython.core.display.HTML object>"
            ],
            "text/html": [
              "\n",
              "     <input type=\"file\" id=\"files-c0523081-be7c-45b5-970b-2086a96770ac\" name=\"files[]\" multiple disabled\n",
              "        style=\"border:none\" />\n",
              "     <output id=\"result-c0523081-be7c-45b5-970b-2086a96770ac\">\n",
              "      Upload widget is only available when the cell has been executed in the\n",
              "      current browser session. Please rerun this cell to enable.\n",
              "      </output>\n",
              "      <script>// Copyright 2017 Google LLC\n",
              "//\n",
              "// Licensed under the Apache License, Version 2.0 (the \"License\");\n",
              "// you may not use this file except in compliance with the License.\n",
              "// You may obtain a copy of the License at\n",
              "//\n",
              "//      http://www.apache.org/licenses/LICENSE-2.0\n",
              "//\n",
              "// Unless required by applicable law or agreed to in writing, software\n",
              "// distributed under the License is distributed on an \"AS IS\" BASIS,\n",
              "// WITHOUT WARRANTIES OR CONDITIONS OF ANY KIND, either express or implied.\n",
              "// See the License for the specific language governing permissions and\n",
              "// limitations under the License.\n",
              "\n",
              "/**\n",
              " * @fileoverview Helpers for google.colab Python module.\n",
              " */\n",
              "(function(scope) {\n",
              "function span(text, styleAttributes = {}) {\n",
              "  const element = document.createElement('span');\n",
              "  element.textContent = text;\n",
              "  for (const key of Object.keys(styleAttributes)) {\n",
              "    element.style[key] = styleAttributes[key];\n",
              "  }\n",
              "  return element;\n",
              "}\n",
              "\n",
              "// Max number of bytes which will be uploaded at a time.\n",
              "const MAX_PAYLOAD_SIZE = 100 * 1024;\n",
              "\n",
              "function _uploadFiles(inputId, outputId) {\n",
              "  const steps = uploadFilesStep(inputId, outputId);\n",
              "  const outputElement = document.getElementById(outputId);\n",
              "  // Cache steps on the outputElement to make it available for the next call\n",
              "  // to uploadFilesContinue from Python.\n",
              "  outputElement.steps = steps;\n",
              "\n",
              "  return _uploadFilesContinue(outputId);\n",
              "}\n",
              "\n",
              "// This is roughly an async generator (not supported in the browser yet),\n",
              "// where there are multiple asynchronous steps and the Python side is going\n",
              "// to poll for completion of each step.\n",
              "// This uses a Promise to block the python side on completion of each step,\n",
              "// then passes the result of the previous step as the input to the next step.\n",
              "function _uploadFilesContinue(outputId) {\n",
              "  const outputElement = document.getElementById(outputId);\n",
              "  const steps = outputElement.steps;\n",
              "\n",
              "  const next = steps.next(outputElement.lastPromiseValue);\n",
              "  return Promise.resolve(next.value.promise).then((value) => {\n",
              "    // Cache the last promise value to make it available to the next\n",
              "    // step of the generator.\n",
              "    outputElement.lastPromiseValue = value;\n",
              "    return next.value.response;\n",
              "  });\n",
              "}\n",
              "\n",
              "/**\n",
              " * Generator function which is called between each async step of the upload\n",
              " * process.\n",
              " * @param {string} inputId Element ID of the input file picker element.\n",
              " * @param {string} outputId Element ID of the output display.\n",
              " * @return {!Iterable<!Object>} Iterable of next steps.\n",
              " */\n",
              "function* uploadFilesStep(inputId, outputId) {\n",
              "  const inputElement = document.getElementById(inputId);\n",
              "  inputElement.disabled = false;\n",
              "\n",
              "  const outputElement = document.getElementById(outputId);\n",
              "  outputElement.innerHTML = '';\n",
              "\n",
              "  const pickedPromise = new Promise((resolve) => {\n",
              "    inputElement.addEventListener('change', (e) => {\n",
              "      resolve(e.target.files);\n",
              "    });\n",
              "  });\n",
              "\n",
              "  const cancel = document.createElement('button');\n",
              "  inputElement.parentElement.appendChild(cancel);\n",
              "  cancel.textContent = 'Cancel upload';\n",
              "  const cancelPromise = new Promise((resolve) => {\n",
              "    cancel.onclick = () => {\n",
              "      resolve(null);\n",
              "    };\n",
              "  });\n",
              "\n",
              "  // Wait for the user to pick the files.\n",
              "  const files = yield {\n",
              "    promise: Promise.race([pickedPromise, cancelPromise]),\n",
              "    response: {\n",
              "      action: 'starting',\n",
              "    }\n",
              "  };\n",
              "\n",
              "  cancel.remove();\n",
              "\n",
              "  // Disable the input element since further picks are not allowed.\n",
              "  inputElement.disabled = true;\n",
              "\n",
              "  if (!files) {\n",
              "    return {\n",
              "      response: {\n",
              "        action: 'complete',\n",
              "      }\n",
              "    };\n",
              "  }\n",
              "\n",
              "  for (const file of files) {\n",
              "    const li = document.createElement('li');\n",
              "    li.append(span(file.name, {fontWeight: 'bold'}));\n",
              "    li.append(span(\n",
              "        `(${file.type || 'n/a'}) - ${file.size} bytes, ` +\n",
              "        `last modified: ${\n",
              "            file.lastModifiedDate ? file.lastModifiedDate.toLocaleDateString() :\n",
              "                                    'n/a'} - `));\n",
              "    const percent = span('0% done');\n",
              "    li.appendChild(percent);\n",
              "\n",
              "    outputElement.appendChild(li);\n",
              "\n",
              "    const fileDataPromise = new Promise((resolve) => {\n",
              "      const reader = new FileReader();\n",
              "      reader.onload = (e) => {\n",
              "        resolve(e.target.result);\n",
              "      };\n",
              "      reader.readAsArrayBuffer(file);\n",
              "    });\n",
              "    // Wait for the data to be ready.\n",
              "    let fileData = yield {\n",
              "      promise: fileDataPromise,\n",
              "      response: {\n",
              "        action: 'continue',\n",
              "      }\n",
              "    };\n",
              "\n",
              "    // Use a chunked sending to avoid message size limits. See b/62115660.\n",
              "    let position = 0;\n",
              "    do {\n",
              "      const length = Math.min(fileData.byteLength - position, MAX_PAYLOAD_SIZE);\n",
              "      const chunk = new Uint8Array(fileData, position, length);\n",
              "      position += length;\n",
              "\n",
              "      const base64 = btoa(String.fromCharCode.apply(null, chunk));\n",
              "      yield {\n",
              "        response: {\n",
              "          action: 'append',\n",
              "          file: file.name,\n",
              "          data: base64,\n",
              "        },\n",
              "      };\n",
              "\n",
              "      let percentDone = fileData.byteLength === 0 ?\n",
              "          100 :\n",
              "          Math.round((position / fileData.byteLength) * 100);\n",
              "      percent.textContent = `${percentDone}% done`;\n",
              "\n",
              "    } while (position < fileData.byteLength);\n",
              "  }\n",
              "\n",
              "  // All done.\n",
              "  yield {\n",
              "    response: {\n",
              "      action: 'complete',\n",
              "    }\n",
              "  };\n",
              "}\n",
              "\n",
              "scope.google = scope.google || {};\n",
              "scope.google.colab = scope.google.colab || {};\n",
              "scope.google.colab._files = {\n",
              "  _uploadFiles,\n",
              "  _uploadFilesContinue,\n",
              "};\n",
              "})(self);\n",
              "</script> "
            ]
          },
          "metadata": {}
        },
        {
          "output_type": "stream",
          "name": "stdout",
          "text": [
            "Saving utils.py to utils.py\n"
          ]
        },
        {
          "output_type": "stream",
          "name": "stderr",
          "text": [
            "/content/data_prep_bbh.py:4: UserWarning: Wswiglal-redir-stdio:\n",
            "\n",
            "SWIGLAL standard output/error redirection is enabled in IPython.\n",
            "This may lead to performance penalties. To disable locally, use:\n",
            "\n",
            "with lal.no_swig_redirect_standard_output_error():\n",
            "    ...\n",
            "\n",
            "To disable globally, use:\n",
            "\n",
            "lal.swig_redirect_standard_output_error(False)\n",
            "\n",
            "Note however that this will likely lead to error messages from\n",
            "LAL functions being either misdirected or lost when called from\n",
            "Jupyter notebooks.\n",
            "\n",
            "To suppress this warning, use:\n",
            "\n",
            "import warnings\n",
            "warnings.filterwarnings(\"ignore\", \"Wswiglal-redir-stdio\")\n",
            "import lal\n",
            "\n",
            "  import lal\n"
          ]
        }
      ]
    },
    {
      "cell_type": "markdown",
      "source": [],
      "metadata": {
        "id": "KtkfeW4CJ0PX"
      }
    },
    {
      "cell_type": "markdown",
      "source": [
        "## Train\n",
        "\n",
        "这段代码是一个使用PyTorch进行二分类任务的例子，任务是通过引力波数据（噪声+信号）来进行分类。\n",
        "\n",
        "首先，我们创建了一个数据生成器DatasetGenerator，它用于生成训练和测试数据集。每个epoch的样本数为100，信噪比为20。\n",
        "\n",
        "然后，我们使用PyTorch的DataLoader创建了训练和测试数据加载器，批处理大小为32，数据在每个epoch后都会被打乱。\n",
        "\n",
        "接着，我们加载了预训练的模型，如果没有预训练的模型，就会初始化一个新的模型。模型和损失历史的输出路径为./checkpoints_cnn/。\n",
        "（. 表示 当前目录。）\n",
        "\n",
        "然后，我们设置了优化器的参数，学习率为0.003，总的训练轮数为100，如果有预训练的模型，训练轮数会加上已经训练过的轮数。\n",
        "\n",
        "最后，我们调用train函数开始训练模型。训练过程中，模型会在每个epoch后在测试集上进行评估，并保存测试损失最小的模型。"
      ],
      "metadata": {
        "id": "4gy4NBT5HiFD"
      }
    },
    {
      "cell_type": "code",
      "source": [
        "# 初始化数据生成 class\n",
        "nsample_perepoch = 100  # 每个epoch的样本数\n",
        "dataset_train = DatasetGenerator(snr=20, nsample_perepoch=nsample_perepoch)  # 训练数据集\n",
        "dataset_test = DatasetGenerator(snr=20, nsample_perepoch=nsample_perepoch)  # 测试数据集\n",
        "\n",
        "# 创建一个DataLoader\n",
        "data_loader = DataLoader(dataset_train, batch_size=32, shuffle=True,)  # 训练数据加载器\n",
        "test_iter = DataLoader(dataset_test, batch_size=32, shuffle=True,)  # 测试数据加载器\n",
        "\n",
        "device = torch.device('cuda')  # 使用CUDA设备\n",
        "\n",
        "# 模型和损失历史的输出路径\n",
        "checkpoint_dir = './checkpoints_cnn/'\n",
        "\n",
        "# 创建模型\n",
        "net, epoch, train_loss_history = load_model(checkpoint_dir)  # 加载模型\n",
        "net.to(device);  # 将模型转移到设备上\n",
        "\n",
        "# 优化器参数\n",
        "lr = 0.003  # 学习率\n",
        "total_epochs = 100  # 总的训练轮数\n",
        "total_epochs += epoch  # 加上已经训练过的轮数\n",
        "output_freq = 1  # 输出频率\n",
        "\n",
        "# 训练模型\n",
        "train(net, lr, nsample_perepoch, epoch, total_epochs,\n",
        "      dataset_train, data_loader, test_iter,\n",
        "      train_loss_history, checkpoint_dir, device, notebook=True)"
      ],
      "metadata": {
        "execution": {
          "iopub.status.busy": "2023-12-29T09:35:44.276335Z",
          "iopub.execute_input": "2023-12-29T09:35:44.277666Z",
          "iopub.status.idle": "2023-12-29T09:42:30.088233Z",
          "shell.execute_reply.started": "2023-12-29T09:35:44.277628Z",
          "shell.execute_reply": "2023-12-29T09:42:30.08668Z"
        },
        "trusted": true,
        "id": "G5ky0j1mHiFD",
        "colab": {
          "base_uri": "https://localhost:8080/",
          "height": 303
        },
        "outputId": "6326cd8e-93c2-4c82-ef79-7ed3066ef621"
      },
      "execution_count": 9,
      "outputs": [
        {
          "output_type": "stream",
          "name": "stdout",
          "text": [
            "loss 0.0277, train acc 0.500, test acc 0.500\n",
            "679.5 examples/sec on cuda\n"
          ]
        },
        {
          "output_type": "display_data",
          "data": {
            "text/plain": [
              "<Figure size 350x250 with 1 Axes>"
            ],
            "image/svg+xml": "<?xml version=\"1.0\" encoding=\"utf-8\" standalone=\"no\"?>\n<!DOCTYPE svg PUBLIC \"-//W3C//DTD SVG 1.1//EN\"\n  \"http://www.w3.org/Graphics/SVG/1.1/DTD/svg11.dtd\">\n<svg xmlns:xlink=\"http://www.w3.org/1999/xlink\" width=\"242.146875pt\" height=\"185.409955pt\" viewBox=\"0 0 242.146875 185.409955\" xmlns=\"http://www.w3.org/2000/svg\" version=\"1.1\">\n <metadata>\n  <rdf:RDF xmlns:dc=\"http://purl.org/dc/elements/1.1/\" xmlns:cc=\"http://creativecommons.org/ns#\" xmlns:rdf=\"http://www.w3.org/1999/02/22-rdf-syntax-ns#\">\n   <cc:Work>\n    <dc:type rdf:resource=\"http://purl.org/dc/dcmitype/StillImage\"/>\n    <dc:date>2025-04-13T06:46:20.804152</dc:date>\n    <dc:format>image/svg+xml</dc:format>\n    <dc:creator>\n     <cc:Agent>\n      <dc:title>Matplotlib v3.10.0, https://matplotlib.org/</dc:title>\n     </cc:Agent>\n    </dc:creator>\n   </cc:Work>\n  </rdf:RDF>\n </metadata>\n <defs>\n  <style type=\"text/css\">*{stroke-linejoin: round; stroke-linecap: butt}</style>\n </defs>\n <g id=\"figure_1\">\n  <g id=\"patch_1\">\n   <path d=\"M 0 185.409955 \nL 242.146875 185.409955 \nL 242.146875 0 \nL 0 0 \nz\n\" style=\"fill: #ffffff\"/>\n  </g>\n  <g id=\"axes_1\">\n   <g id=\"patch_2\">\n    <path d=\"M 30.103125 147.853705 \nL 225.403125 147.853705 \nL 225.403125 9.253705 \nL 30.103125 9.253705 \nz\n\" style=\"fill: #ffffff\"/>\n   </g>\n   <g id=\"matplotlib.axis_1\">\n    <g id=\"xtick_1\">\n     <g id=\"line2d_1\">\n      <path d=\"M 67.584943 147.853705 \nL 67.584943 9.253705 \n\" clip-path=\"url(#p2e790e6425)\" style=\"fill: none; stroke: #b0b0b0; stroke-width: 0.8; stroke-linecap: square\"/>\n     </g>\n     <g id=\"line2d_2\">\n      <defs>\n       <path id=\"mffdfb90e04\" d=\"M 0 0 \nL 0 3.5 \n\" style=\"stroke: #000000; stroke-width: 0.8\"/>\n      </defs>\n      <g>\n       <use xlink:href=\"#mffdfb90e04\" x=\"67.584943\" y=\"147.853705\" style=\"stroke: #000000; stroke-width: 0.8\"/>\n      </g>\n     </g>\n     <g id=\"text_1\">\n      <!-- 20 -->\n      <g transform=\"translate(61.222443 162.452143) scale(0.1 -0.1)\">\n       <defs>\n        <path id=\"DejaVuSans-32\" d=\"M 1228 531 \nL 3431 531 \nL 3431 0 \nL 469 0 \nL 469 531 \nQ 828 903 1448 1529 \nQ 2069 2156 2228 2338 \nQ 2531 2678 2651 2914 \nQ 2772 3150 2772 3378 \nQ 2772 3750 2511 3984 \nQ 2250 4219 1831 4219 \nQ 1534 4219 1204 4116 \nQ 875 4013 500 3803 \nL 500 4441 \nQ 881 4594 1212 4672 \nQ 1544 4750 1819 4750 \nQ 2544 4750 2975 4387 \nQ 3406 4025 3406 3419 \nQ 3406 3131 3298 2873 \nQ 3191 2616 2906 2266 \nQ 2828 2175 2409 1742 \nQ 1991 1309 1228 531 \nz\n\" transform=\"scale(0.015625)\"/>\n        <path id=\"DejaVuSans-30\" d=\"M 2034 4250 \nQ 1547 4250 1301 3770 \nQ 1056 3291 1056 2328 \nQ 1056 1369 1301 889 \nQ 1547 409 2034 409 \nQ 2525 409 2770 889 \nQ 3016 1369 3016 2328 \nQ 3016 3291 2770 3770 \nQ 2525 4250 2034 4250 \nz\nM 2034 4750 \nQ 2819 4750 3233 4129 \nQ 3647 3509 3647 2328 \nQ 3647 1150 3233 529 \nQ 2819 -91 2034 -91 \nQ 1250 -91 836 529 \nQ 422 1150 422 2328 \nQ 422 3509 836 4129 \nQ 1250 4750 2034 4750 \nz\n\" transform=\"scale(0.015625)\"/>\n       </defs>\n       <use xlink:href=\"#DejaVuSans-32\"/>\n       <use xlink:href=\"#DejaVuSans-30\" transform=\"translate(63.623047 0)\"/>\n      </g>\n     </g>\n    </g>\n    <g id=\"xtick_2\">\n     <g id=\"line2d_3\">\n      <path d=\"M 107.039489 147.853705 \nL 107.039489 9.253705 \n\" clip-path=\"url(#p2e790e6425)\" style=\"fill: none; stroke: #b0b0b0; stroke-width: 0.8; stroke-linecap: square\"/>\n     </g>\n     <g id=\"line2d_4\">\n      <g>\n       <use xlink:href=\"#mffdfb90e04\" x=\"107.039489\" y=\"147.853705\" style=\"stroke: #000000; stroke-width: 0.8\"/>\n      </g>\n     </g>\n     <g id=\"text_2\">\n      <!-- 40 -->\n      <g transform=\"translate(100.676989 162.452143) scale(0.1 -0.1)\">\n       <defs>\n        <path id=\"DejaVuSans-34\" d=\"M 2419 4116 \nL 825 1625 \nL 2419 1625 \nL 2419 4116 \nz\nM 2253 4666 \nL 3047 4666 \nL 3047 1625 \nL 3713 1625 \nL 3713 1100 \nL 3047 1100 \nL 3047 0 \nL 2419 0 \nL 2419 1100 \nL 313 1100 \nL 313 1709 \nL 2253 4666 \nz\n\" transform=\"scale(0.015625)\"/>\n       </defs>\n       <use xlink:href=\"#DejaVuSans-34\"/>\n       <use xlink:href=\"#DejaVuSans-30\" transform=\"translate(63.623047 0)\"/>\n      </g>\n     </g>\n    </g>\n    <g id=\"xtick_3\">\n     <g id=\"line2d_5\">\n      <path d=\"M 146.494034 147.853705 \nL 146.494034 9.253705 \n\" clip-path=\"url(#p2e790e6425)\" style=\"fill: none; stroke: #b0b0b0; stroke-width: 0.8; stroke-linecap: square\"/>\n     </g>\n     <g id=\"line2d_6\">\n      <g>\n       <use xlink:href=\"#mffdfb90e04\" x=\"146.494034\" y=\"147.853705\" style=\"stroke: #000000; stroke-width: 0.8\"/>\n      </g>\n     </g>\n     <g id=\"text_3\">\n      <!-- 60 -->\n      <g transform=\"translate(140.131534 162.452143) scale(0.1 -0.1)\">\n       <defs>\n        <path id=\"DejaVuSans-36\" d=\"M 2113 2584 \nQ 1688 2584 1439 2293 \nQ 1191 2003 1191 1497 \nQ 1191 994 1439 701 \nQ 1688 409 2113 409 \nQ 2538 409 2786 701 \nQ 3034 994 3034 1497 \nQ 3034 2003 2786 2293 \nQ 2538 2584 2113 2584 \nz\nM 3366 4563 \nL 3366 3988 \nQ 3128 4100 2886 4159 \nQ 2644 4219 2406 4219 \nQ 1781 4219 1451 3797 \nQ 1122 3375 1075 2522 \nQ 1259 2794 1537 2939 \nQ 1816 3084 2150 3084 \nQ 2853 3084 3261 2657 \nQ 3669 2231 3669 1497 \nQ 3669 778 3244 343 \nQ 2819 -91 2113 -91 \nQ 1303 -91 875 529 \nQ 447 1150 447 2328 \nQ 447 3434 972 4092 \nQ 1497 4750 2381 4750 \nQ 2619 4750 2861 4703 \nQ 3103 4656 3366 4563 \nz\n\" transform=\"scale(0.015625)\"/>\n       </defs>\n       <use xlink:href=\"#DejaVuSans-36\"/>\n       <use xlink:href=\"#DejaVuSans-30\" transform=\"translate(63.623047 0)\"/>\n      </g>\n     </g>\n    </g>\n    <g id=\"xtick_4\">\n     <g id=\"line2d_7\">\n      <path d=\"M 185.94858 147.853705 \nL 185.94858 9.253705 \n\" clip-path=\"url(#p2e790e6425)\" style=\"fill: none; stroke: #b0b0b0; stroke-width: 0.8; stroke-linecap: square\"/>\n     </g>\n     <g id=\"line2d_8\">\n      <g>\n       <use xlink:href=\"#mffdfb90e04\" x=\"185.94858\" y=\"147.853705\" style=\"stroke: #000000; stroke-width: 0.8\"/>\n      </g>\n     </g>\n     <g id=\"text_4\">\n      <!-- 80 -->\n      <g transform=\"translate(179.58608 162.452143) scale(0.1 -0.1)\">\n       <defs>\n        <path id=\"DejaVuSans-38\" d=\"M 2034 2216 \nQ 1584 2216 1326 1975 \nQ 1069 1734 1069 1313 \nQ 1069 891 1326 650 \nQ 1584 409 2034 409 \nQ 2484 409 2743 651 \nQ 3003 894 3003 1313 \nQ 3003 1734 2745 1975 \nQ 2488 2216 2034 2216 \nz\nM 1403 2484 \nQ 997 2584 770 2862 \nQ 544 3141 544 3541 \nQ 544 4100 942 4425 \nQ 1341 4750 2034 4750 \nQ 2731 4750 3128 4425 \nQ 3525 4100 3525 3541 \nQ 3525 3141 3298 2862 \nQ 3072 2584 2669 2484 \nQ 3125 2378 3379 2068 \nQ 3634 1759 3634 1313 \nQ 3634 634 3220 271 \nQ 2806 -91 2034 -91 \nQ 1263 -91 848 271 \nQ 434 634 434 1313 \nQ 434 1759 690 2068 \nQ 947 2378 1403 2484 \nz\nM 1172 3481 \nQ 1172 3119 1398 2916 \nQ 1625 2713 2034 2713 \nQ 2441 2713 2670 2916 \nQ 2900 3119 2900 3481 \nQ 2900 3844 2670 4047 \nQ 2441 4250 2034 4250 \nQ 1625 4250 1398 4047 \nQ 1172 3844 1172 3481 \nz\n\" transform=\"scale(0.015625)\"/>\n       </defs>\n       <use xlink:href=\"#DejaVuSans-38\"/>\n       <use xlink:href=\"#DejaVuSans-30\" transform=\"translate(63.623047 0)\"/>\n      </g>\n     </g>\n    </g>\n    <g id=\"xtick_5\">\n     <g id=\"line2d_9\">\n      <path d=\"M 225.403125 147.853705 \nL 225.403125 9.253705 \n\" clip-path=\"url(#p2e790e6425)\" style=\"fill: none; stroke: #b0b0b0; stroke-width: 0.8; stroke-linecap: square\"/>\n     </g>\n     <g id=\"line2d_10\">\n      <g>\n       <use xlink:href=\"#mffdfb90e04\" x=\"225.403125\" y=\"147.853705\" style=\"stroke: #000000; stroke-width: 0.8\"/>\n      </g>\n     </g>\n     <g id=\"text_5\">\n      <!-- 100 -->\n      <g transform=\"translate(215.859375 162.452143) scale(0.1 -0.1)\">\n       <defs>\n        <path id=\"DejaVuSans-31\" d=\"M 794 531 \nL 1825 531 \nL 1825 4091 \nL 703 3866 \nL 703 4441 \nL 1819 4666 \nL 2450 4666 \nL 2450 531 \nL 3481 531 \nL 3481 0 \nL 794 0 \nL 794 531 \nz\n\" transform=\"scale(0.015625)\"/>\n       </defs>\n       <use xlink:href=\"#DejaVuSans-31\"/>\n       <use xlink:href=\"#DejaVuSans-30\" transform=\"translate(63.623047 0)\"/>\n       <use xlink:href=\"#DejaVuSans-30\" transform=\"translate(127.246094 0)\"/>\n      </g>\n     </g>\n    </g>\n    <g id=\"text_6\">\n     <!-- epoch -->\n     <g transform=\"translate(112.525 176.130268) scale(0.1 -0.1)\">\n      <defs>\n       <path id=\"DejaVuSans-65\" d=\"M 3597 1894 \nL 3597 1613 \nL 953 1613 \nQ 991 1019 1311 708 \nQ 1631 397 2203 397 \nQ 2534 397 2845 478 \nQ 3156 559 3463 722 \nL 3463 178 \nQ 3153 47 2828 -22 \nQ 2503 -91 2169 -91 \nQ 1331 -91 842 396 \nQ 353 884 353 1716 \nQ 353 2575 817 3079 \nQ 1281 3584 2069 3584 \nQ 2775 3584 3186 3129 \nQ 3597 2675 3597 1894 \nz\nM 3022 2063 \nQ 3016 2534 2758 2815 \nQ 2500 3097 2075 3097 \nQ 1594 3097 1305 2825 \nQ 1016 2553 972 2059 \nL 3022 2063 \nz\n\" transform=\"scale(0.015625)\"/>\n       <path id=\"DejaVuSans-70\" d=\"M 1159 525 \nL 1159 -1331 \nL 581 -1331 \nL 581 3500 \nL 1159 3500 \nL 1159 2969 \nQ 1341 3281 1617 3432 \nQ 1894 3584 2278 3584 \nQ 2916 3584 3314 3078 \nQ 3713 2572 3713 1747 \nQ 3713 922 3314 415 \nQ 2916 -91 2278 -91 \nQ 1894 -91 1617 61 \nQ 1341 213 1159 525 \nz\nM 3116 1747 \nQ 3116 2381 2855 2742 \nQ 2594 3103 2138 3103 \nQ 1681 3103 1420 2742 \nQ 1159 2381 1159 1747 \nQ 1159 1113 1420 752 \nQ 1681 391 2138 391 \nQ 2594 391 2855 752 \nQ 3116 1113 3116 1747 \nz\n\" transform=\"scale(0.015625)\"/>\n       <path id=\"DejaVuSans-6f\" d=\"M 1959 3097 \nQ 1497 3097 1228 2736 \nQ 959 2375 959 1747 \nQ 959 1119 1226 758 \nQ 1494 397 1959 397 \nQ 2419 397 2687 759 \nQ 2956 1122 2956 1747 \nQ 2956 2369 2687 2733 \nQ 2419 3097 1959 3097 \nz\nM 1959 3584 \nQ 2709 3584 3137 3096 \nQ 3566 2609 3566 1747 \nQ 3566 888 3137 398 \nQ 2709 -91 1959 -91 \nQ 1206 -91 779 398 \nQ 353 888 353 1747 \nQ 353 2609 779 3096 \nQ 1206 3584 1959 3584 \nz\n\" transform=\"scale(0.015625)\"/>\n       <path id=\"DejaVuSans-63\" d=\"M 3122 3366 \nL 3122 2828 \nQ 2878 2963 2633 3030 \nQ 2388 3097 2138 3097 \nQ 1578 3097 1268 2742 \nQ 959 2388 959 1747 \nQ 959 1106 1268 751 \nQ 1578 397 2138 397 \nQ 2388 397 2633 464 \nQ 2878 531 3122 666 \nL 3122 134 \nQ 2881 22 2623 -34 \nQ 2366 -91 2075 -91 \nQ 1284 -91 818 406 \nQ 353 903 353 1747 \nQ 353 2603 823 3093 \nQ 1294 3584 2113 3584 \nQ 2378 3584 2631 3529 \nQ 2884 3475 3122 3366 \nz\n\" transform=\"scale(0.015625)\"/>\n       <path id=\"DejaVuSans-68\" d=\"M 3513 2113 \nL 3513 0 \nL 2938 0 \nL 2938 2094 \nQ 2938 2591 2744 2837 \nQ 2550 3084 2163 3084 \nQ 1697 3084 1428 2787 \nQ 1159 2491 1159 1978 \nL 1159 0 \nL 581 0 \nL 581 4863 \nL 1159 4863 \nL 1159 2956 \nQ 1366 3272 1645 3428 \nQ 1925 3584 2291 3584 \nQ 2894 3584 3203 3211 \nQ 3513 2838 3513 2113 \nz\n\" transform=\"scale(0.015625)\"/>\n      </defs>\n      <use xlink:href=\"#DejaVuSans-65\"/>\n      <use xlink:href=\"#DejaVuSans-70\" transform=\"translate(61.523438 0)\"/>\n      <use xlink:href=\"#DejaVuSans-6f\" transform=\"translate(125 0)\"/>\n      <use xlink:href=\"#DejaVuSans-63\" transform=\"translate(186.181641 0)\"/>\n      <use xlink:href=\"#DejaVuSans-68\" transform=\"translate(241.162109 0)\"/>\n     </g>\n    </g>\n   </g>\n   <g id=\"matplotlib.axis_2\">\n    <g id=\"ytick_1\">\n     <g id=\"line2d_11\">\n      <path d=\"M 30.103125 147.633813 \nL 225.403125 147.633813 \n\" clip-path=\"url(#p2e790e6425)\" style=\"fill: none; stroke: #b0b0b0; stroke-width: 0.8; stroke-linecap: square\"/>\n     </g>\n     <g id=\"line2d_12\">\n      <defs>\n       <path id=\"mbde5ddf8e8\" d=\"M 0 0 \nL -3.5 0 \n\" style=\"stroke: #000000; stroke-width: 0.8\"/>\n      </defs>\n      <g>\n       <use xlink:href=\"#mbde5ddf8e8\" x=\"30.103125\" y=\"147.633813\" style=\"stroke: #000000; stroke-width: 0.8\"/>\n      </g>\n     </g>\n     <g id=\"text_7\">\n      <!-- 0.0 -->\n      <g transform=\"translate(7.2 151.433032) scale(0.1 -0.1)\">\n       <defs>\n        <path id=\"DejaVuSans-2e\" d=\"M 684 794 \nL 1344 794 \nL 1344 0 \nL 684 0 \nL 684 794 \nz\n\" transform=\"scale(0.015625)\"/>\n       </defs>\n       <use xlink:href=\"#DejaVuSans-30\"/>\n       <use xlink:href=\"#DejaVuSans-2e\" transform=\"translate(63.623047 0)\"/>\n       <use xlink:href=\"#DejaVuSans-30\" transform=\"translate(95.410156 0)\"/>\n      </g>\n     </g>\n    </g>\n    <g id=\"ytick_2\">\n     <g id=\"line2d_13\">\n      <path d=\"M 30.103125 102.088948 \nL 225.403125 102.088948 \n\" clip-path=\"url(#p2e790e6425)\" style=\"fill: none; stroke: #b0b0b0; stroke-width: 0.8; stroke-linecap: square\"/>\n     </g>\n     <g id=\"line2d_14\">\n      <g>\n       <use xlink:href=\"#mbde5ddf8e8\" x=\"30.103125\" y=\"102.088948\" style=\"stroke: #000000; stroke-width: 0.8\"/>\n      </g>\n     </g>\n     <g id=\"text_8\">\n      <!-- 0.2 -->\n      <g transform=\"translate(7.2 105.888167) scale(0.1 -0.1)\">\n       <use xlink:href=\"#DejaVuSans-30\"/>\n       <use xlink:href=\"#DejaVuSans-2e\" transform=\"translate(63.623047 0)\"/>\n       <use xlink:href=\"#DejaVuSans-32\" transform=\"translate(95.410156 0)\"/>\n      </g>\n     </g>\n    </g>\n    <g id=\"ytick_3\">\n     <g id=\"line2d_15\">\n      <path d=\"M 30.103125 56.544084 \nL 225.403125 56.544084 \n\" clip-path=\"url(#p2e790e6425)\" style=\"fill: none; stroke: #b0b0b0; stroke-width: 0.8; stroke-linecap: square\"/>\n     </g>\n     <g id=\"line2d_16\">\n      <g>\n       <use xlink:href=\"#mbde5ddf8e8\" x=\"30.103125\" y=\"56.544084\" style=\"stroke: #000000; stroke-width: 0.8\"/>\n      </g>\n     </g>\n     <g id=\"text_9\">\n      <!-- 0.4 -->\n      <g transform=\"translate(7.2 60.343302) scale(0.1 -0.1)\">\n       <use xlink:href=\"#DejaVuSans-30\"/>\n       <use xlink:href=\"#DejaVuSans-2e\" transform=\"translate(63.623047 0)\"/>\n       <use xlink:href=\"#DejaVuSans-34\" transform=\"translate(95.410156 0)\"/>\n      </g>\n     </g>\n    </g>\n    <g id=\"ytick_4\">\n     <g id=\"line2d_17\">\n      <path d=\"M 30.103125 10.999219 \nL 225.403125 10.999219 \n\" clip-path=\"url(#p2e790e6425)\" style=\"fill: none; stroke: #b0b0b0; stroke-width: 0.8; stroke-linecap: square\"/>\n     </g>\n     <g id=\"line2d_18\">\n      <g>\n       <use xlink:href=\"#mbde5ddf8e8\" x=\"30.103125\" y=\"10.999219\" style=\"stroke: #000000; stroke-width: 0.8\"/>\n      </g>\n     </g>\n     <g id=\"text_10\">\n      <!-- 0.6 -->\n      <g transform=\"translate(7.2 14.798438) scale(0.1 -0.1)\">\n       <use xlink:href=\"#DejaVuSans-30\"/>\n       <use xlink:href=\"#DejaVuSans-2e\" transform=\"translate(63.623047 0)\"/>\n       <use xlink:href=\"#DejaVuSans-36\" transform=\"translate(95.410156 0)\"/>\n      </g>\n     </g>\n    </g>\n   </g>\n   <g id=\"line2d_19\">\n    <path d=\"M 30.103125 57.463282 \nL 32.075852 133.348877 \nL 34.04858 138.717196 \nL 36.021307 140.196465 \nL 37.994034 140.038328 \nL 39.966761 141.36987 \nL 41.939489 140.710689 \nL 43.912216 141.553705 \nL 45.884943 141.098581 \nL 47.85767 141.228457 \nL 49.830398 141.366545 \nL 51.803125 141.328967 \nL 53.775852 141.278179 \nL 55.74858 141.213073 \nL 57.721307 141.356202 \nL 59.694034 141.268417 \nL 61.666761 141.313905 \nL 63.639489 141.311339 \nL 65.612216 141.296856 \nL 67.584943 141.291422 \nL 69.55767 141.230413 \nL 71.530398 141.288769 \nL 73.503125 141.309633 \nL 75.475852 141.281587 \nL 77.44858 141.305683 \nL 79.421307 141.272709 \nL 81.394034 141.317414 \nL 83.366761 141.389074 \nL 85.339489 141.233899 \nL 87.312216 141.326604 \nL 89.284943 141.378027 \nL 91.25767 141.28222 \nL 93.230398 141.32855 \nL 95.203125 141.316407 \nL 97.175852 141.168638 \nL 99.14858 141.360663 \nL 101.121307 141.318096 \nL 103.094034 141.330752 \nL 105.066761 141.29207 \nL 107.039489 141.291006 \nL 109.012216 141.33986 \nL 110.984943 141.325252 \nL 112.95767 141.347945 \nL 114.930398 141.354043 \nL 116.903125 141.368327 \nL 118.875852 141.315462 \nL 120.84858 141.306571 \nL 122.821307 141.270525 \nL 124.794034 141.39683 \nL 126.766761 141.41232 \nL 128.739489 141.24783 \nL 130.712216 141.456666 \nL 132.684943 141.312093 \nL 134.65767 141.248127 \nL 136.630398 141.251378 \nL 138.603125 141.296838 \nL 140.575852 141.366946 \nL 142.54858 141.340055 \nL 144.521307 141.283521 \nL 146.494034 141.323891 \nL 148.466761 141.315223 \nL 150.439489 141.360975 \nL 152.412216 141.342688 \nL 154.384943 141.281215 \nL 156.35767 141.322448 \nL 158.330398 141.274778 \nL 160.303125 141.346601 \nL 162.275852 141.313106 \nL 164.24858 141.275807 \nL 166.221307 141.348679 \nL 168.194034 141.317845 \nL 170.166761 141.312412 \nL 172.139489 141.345681 \nL 174.112216 141.350414 \nL 176.084943 141.318309 \nL 178.05767 141.344654 \nL 180.030398 141.348064 \nL 182.003125 141.282418 \nL 183.975852 141.276744 \nL 185.94858 141.32046 \nL 187.921307 141.351666 \nL 189.894034 141.345123 \nL 191.866761 141.312045 \nL 193.839489 141.284257 \nL 195.812216 141.320273 \nL 197.784943 141.318274 \nL 199.75767 141.317009 \nL 201.730398 141.340769 \nL 203.703125 141.313668 \nL 205.675852 141.314172 \nL 207.64858 141.320002 \nL 209.621307 141.351352 \nL 211.594034 141.348252 \nL 213.566761 141.279362 \nL 215.539489 141.280707 \nL 217.512216 141.317881 \nL 219.484943 141.288149 \nL 221.45767 141.282503 \nL 223.430398 141.346449 \nL 225.403125 141.316289 \n\" clip-path=\"url(#p2e790e6425)\" style=\"fill: none; stroke: #1f77b4; stroke-width: 1.5; stroke-linecap: square\"/>\n   </g>\n   <g id=\"line2d_20\">\n    <path d=\"M 30.103125 139.055317 \nL 32.075852 138.554679 \nL 34.04858 106.336257 \nL 36.021307 45.739694 \nL 37.994034 83.340776 \nL 39.966761 118.309067 \nL 41.939489 137.102089 \nL 43.912216 140.581745 \nL 45.884943 141.05373 \nL 47.85767 141.411556 \nL 49.830398 141.344998 \nL 51.803125 141.376544 \nL 53.775852 141.275813 \nL 55.74858 141.244969 \nL 57.721307 141.39747 \nL 59.694034 141.327798 \nL 61.666761 141.282224 \nL 63.639489 141.314755 \nL 65.612216 141.289683 \nL 67.584943 141.29898 \nL 69.55767 141.322977 \nL 71.530398 141.391119 \nL 73.503125 141.343844 \nL 75.475852 141.308557 \nL 77.44858 141.313551 \nL 79.421307 141.31436 \nL 81.394034 141.35701 \nL 83.366761 141.376973 \nL 85.339489 141.343578 \nL 87.312216 141.333894 \nL 89.284943 141.295901 \nL 91.25767 141.289347 \nL 93.230398 141.357417 \nL 95.203125 141.323842 \nL 97.175852 141.314546 \nL 99.14858 141.308283 \nL 101.121307 141.310236 \nL 103.094034 141.317886 \nL 105.066761 141.290672 \nL 107.039489 141.251932 \nL 109.012216 141.303345 \nL 110.984943 141.34421 \nL 112.95767 141.370788 \nL 114.930398 141.318987 \nL 116.903125 141.292801 \nL 118.875852 141.324366 \nL 120.84858 141.301565 \nL 122.821307 141.335447 \nL 124.794034 141.300817 \nL 126.766761 141.448954 \nL 128.739489 141.382756 \nL 130.712216 141.355446 \nL 132.684943 141.354408 \nL 134.65767 141.247337 \nL 136.630398 141.381192 \nL 138.603125 141.297704 \nL 140.575852 141.312427 \nL 142.54858 141.313269 \nL 144.521307 141.283719 \nL 146.494034 141.344426 \nL 148.466761 141.346086 \nL 150.439489 141.313502 \nL 152.412216 141.280882 \nL 154.384943 141.2799 \nL 156.35767 141.346443 \nL 158.330398 141.248826 \nL 160.303125 141.314177 \nL 162.275852 141.314031 \nL 164.24858 141.28243 \nL 166.221307 141.345513 \nL 168.194034 141.283509 \nL 170.166761 141.368003 \nL 172.139489 141.283883 \nL 174.112216 141.314512 \nL 176.084943 141.314551 \nL 178.05767 141.345968 \nL 180.030398 141.315814 \nL 182.003125 141.346193 \nL 183.975852 141.314466 \nL 185.94858 141.345846 \nL 187.921307 141.314893 \nL 189.894034 141.346025 \nL 191.866761 141.282922 \nL 193.839489 141.314952 \nL 195.812216 141.314756 \nL 197.784943 141.345641 \nL 199.75767 141.31481 \nL 201.730398 141.283435 \nL 203.703125 141.281898 \nL 205.675852 141.28453 \nL 207.64858 141.315309 \nL 209.621307 141.28462 \nL 211.594034 141.284822 \nL 213.566761 141.284767 \nL 215.539489 141.284501 \nL 217.512216 141.314965 \nL 219.484943 141.314926 \nL 221.45767 141.315033 \nL 223.430398 141.316068 \nL 225.403125 141.316071 \n\" clip-path=\"url(#p2e790e6425)\" style=\"fill: none; stroke-dasharray: 5.55,2.4; stroke-dashoffset: 0; stroke: #bf00bf; stroke-width: 1.5\"/>\n   </g>\n   <g id=\"line2d_21\">\n    <path d=\"M 30.103125 42.880624 \nL 32.075852 29.217165 \nL 34.04858 36.048894 \nL 36.021307 40.603381 \nL 37.994034 38.326138 \nL 39.966761 15.553705 \nL 41.939489 38.326138 \nL 43.912216 29.217165 \nL 45.884943 33.771651 \nL 47.85767 33.771651 \nL 49.830398 20.108192 \nL 51.803125 33.771651 \nL 53.775852 33.771651 \nL 55.74858 31.494408 \nL 57.721307 29.217165 \nL 59.694034 33.771651 \nL 61.666761 33.771651 \nL 63.639489 33.771651 \nL 65.612216 26.939921 \nL 67.584943 40.603381 \nL 69.55767 36.048894 \nL 71.530398 29.217165 \nL 73.503125 42.880624 \nL 75.475852 38.326138 \nL 77.44858 40.603381 \nL 79.421307 38.326138 \nL 81.394034 40.603381 \nL 83.366761 29.217165 \nL 85.339489 36.048894 \nL 87.312216 36.048894 \nL 89.284943 24.662678 \nL 91.25767 36.048894 \nL 93.230398 38.326138 \nL 95.203125 31.494408 \nL 97.175852 38.326138 \nL 99.14858 31.494408 \nL 101.121307 31.494408 \nL 103.094034 26.939921 \nL 105.066761 36.048894 \nL 107.039489 29.217165 \nL 109.012216 42.880624 \nL 110.984943 31.494408 \nL 112.95767 33.771651 \nL 114.930398 31.494408 \nL 116.903125 29.217165 \nL 118.875852 33.771651 \nL 120.84858 26.939921 \nL 122.821307 36.048894 \nL 124.794034 24.662678 \nL 126.766761 29.217165 \nL 128.739489 42.880624 \nL 130.712216 31.494408 \nL 132.684943 36.048894 \nL 134.65767 38.326138 \nL 136.630398 36.048894 \nL 138.603125 36.048894 \nL 140.575852 33.771651 \nL 142.54858 33.771651 \nL 144.521307 33.771651 \nL 146.494034 36.048894 \nL 148.466761 33.771651 \nL 150.439489 33.771651 \nL 152.412216 36.048894 \nL 154.384943 33.771651 \nL 156.35767 33.771651 \nL 158.330398 33.771651 \nL 160.303125 33.771651 \nL 162.275852 33.771651 \nL 164.24858 33.771651 \nL 166.221307 33.771651 \nL 168.194034 33.771651 \nL 170.166761 33.771651 \nL 172.139489 33.771651 \nL 174.112216 33.771651 \nL 176.084943 33.771651 \nL 178.05767 33.771651 \nL 180.030398 33.771651 \nL 182.003125 33.771651 \nL 183.975852 33.771651 \nL 185.94858 33.771651 \nL 187.921307 33.771651 \nL 189.894034 33.771651 \nL 191.866761 36.048894 \nL 193.839489 33.771651 \nL 195.812216 33.771651 \nL 197.784943 33.771651 \nL 199.75767 33.771651 \nL 201.730398 36.048894 \nL 203.703125 33.771651 \nL 205.675852 33.771651 \nL 207.64858 31.494408 \nL 209.621307 33.771651 \nL 211.594034 33.771651 \nL 213.566761 33.771651 \nL 215.539489 36.048894 \nL 217.512216 33.771651 \nL 219.484943 31.494408 \nL 221.45767 33.771651 \nL 223.430398 33.771651 \nL 225.403125 33.771651 \n\" clip-path=\"url(#p2e790e6425)\" style=\"fill: none; stroke-dasharray: 9.6,2.4,1.5,2.4; stroke-dashoffset: 0; stroke: #008000; stroke-width: 1.5\"/>\n   </g>\n   <g id=\"line2d_22\">\n    <path d=\"M 30.103125 33.771651 \nL 32.075852 33.771651 \nL 34.04858 33.771651 \nL 36.021307 33.771651 \nL 37.994034 33.771651 \nL 39.966761 33.771651 \nL 41.939489 36.048894 \nL 43.912216 49.712354 \nL 45.884943 33.771651 \nL 47.85767 33.771651 \nL 49.830398 33.771651 \nL 51.803125 33.771651 \nL 53.775852 33.771651 \nL 55.74858 33.771651 \nL 57.721307 26.939921 \nL 59.694034 26.939921 \nL 61.666761 33.771651 \nL 63.639489 33.771651 \nL 65.612216 29.217165 \nL 67.584943 29.217165 \nL 69.55767 29.217165 \nL 71.530398 29.217165 \nL 73.503125 31.494408 \nL 75.475852 22.385435 \nL 77.44858 31.494408 \nL 79.421307 24.662678 \nL 81.394034 26.939921 \nL 83.366761 26.939921 \nL 85.339489 26.939921 \nL 87.312216 33.771651 \nL 89.284943 33.771651 \nL 91.25767 33.771651 \nL 93.230398 36.048894 \nL 95.203125 24.662678 \nL 97.175852 24.662678 \nL 99.14858 29.217165 \nL 101.121307 29.217165 \nL 103.094034 31.494408 \nL 105.066761 31.494408 \nL 107.039489 29.217165 \nL 109.012216 33.771651 \nL 110.984943 33.771651 \nL 112.95767 36.048894 \nL 114.930398 33.771651 \nL 116.903125 31.494408 \nL 118.875852 29.217165 \nL 120.84858 29.217165 \nL 122.821307 29.217165 \nL 124.794034 26.939921 \nL 126.766761 31.494408 \nL 128.739489 36.048894 \nL 130.712216 26.939921 \nL 132.684943 31.494408 \nL 134.65767 29.217165 \nL 136.630398 31.494408 \nL 138.603125 33.771651 \nL 140.575852 33.771651 \nL 142.54858 33.771651 \nL 144.521307 33.771651 \nL 146.494034 33.771651 \nL 148.466761 33.771651 \nL 150.439489 33.771651 \nL 152.412216 36.048894 \nL 154.384943 33.771651 \nL 156.35767 33.771651 \nL 158.330398 33.771651 \nL 160.303125 33.771651 \nL 162.275852 33.771651 \nL 164.24858 33.771651 \nL 166.221307 33.771651 \nL 168.194034 33.771651 \nL 170.166761 33.771651 \nL 172.139489 33.771651 \nL 174.112216 33.771651 \nL 176.084943 33.771651 \nL 178.05767 33.771651 \nL 180.030398 33.771651 \nL 182.003125 33.771651 \nL 183.975852 33.771651 \nL 185.94858 33.771651 \nL 187.921307 33.771651 \nL 189.894034 33.771651 \nL 191.866761 33.771651 \nL 193.839489 33.771651 \nL 195.812216 33.771651 \nL 197.784943 33.771651 \nL 199.75767 33.771651 \nL 201.730398 33.771651 \nL 203.703125 33.771651 \nL 205.675852 33.771651 \nL 207.64858 33.771651 \nL 209.621307 33.771651 \nL 211.594034 33.771651 \nL 213.566761 33.771651 \nL 215.539489 33.771651 \nL 217.512216 33.771651 \nL 219.484943 33.771651 \nL 221.45767 33.771651 \nL 223.430398 33.771651 \nL 225.403125 33.771651 \n\" clip-path=\"url(#p2e790e6425)\" style=\"fill: none; stroke-dasharray: 1.5,2.475; stroke-dashoffset: 0; stroke: #ff0000; stroke-width: 1.5\"/>\n   </g>\n   <g id=\"patch_3\">\n    <path d=\"M 30.103125 147.853705 \nL 30.103125 9.253705 \n\" style=\"fill: none; stroke: #000000; stroke-width: 0.8; stroke-linejoin: miter; stroke-linecap: square\"/>\n   </g>\n   <g id=\"patch_4\">\n    <path d=\"M 225.403125 147.853705 \nL 225.403125 9.253705 \n\" style=\"fill: none; stroke: #000000; stroke-width: 0.8; stroke-linejoin: miter; stroke-linecap: square\"/>\n   </g>\n   <g id=\"patch_5\">\n    <path d=\"M 30.103125 147.853705 \nL 225.403125 147.853705 \n\" style=\"fill: none; stroke: #000000; stroke-width: 0.8; stroke-linejoin: miter; stroke-linecap: square\"/>\n   </g>\n   <g id=\"patch_6\">\n    <path d=\"M 30.103125 9.253705 \nL 225.403125 9.253705 \n\" style=\"fill: none; stroke: #000000; stroke-width: 0.8; stroke-linejoin: miter; stroke-linecap: square\"/>\n   </g>\n   <g id=\"legend_1\">\n    <g id=\"patch_7\">\n     <path d=\"M 140.634375 109.409955 \nL 218.403125 109.409955 \nQ 220.403125 109.409955 220.403125 107.409955 \nL 220.403125 49.697455 \nQ 220.403125 47.697455 218.403125 47.697455 \nL 140.634375 47.697455 \nQ 138.634375 47.697455 138.634375 49.697455 \nL 138.634375 107.409955 \nQ 138.634375 109.409955 140.634375 109.409955 \nz\n\" style=\"fill: #ffffff; opacity: 0.8; stroke: #cccccc; stroke-linejoin: miter\"/>\n    </g>\n    <g id=\"line2d_23\">\n     <path d=\"M 142.634375 55.795893 \nL 152.634375 55.795893 \nL 162.634375 55.795893 \n\" style=\"fill: none; stroke: #1f77b4; stroke-width: 1.5; stroke-linecap: square\"/>\n    </g>\n    <g id=\"text_11\">\n     <!-- train loss -->\n     <g transform=\"translate(170.634375 59.295893) scale(0.1 -0.1)\">\n      <defs>\n       <path id=\"DejaVuSans-74\" d=\"M 1172 4494 \nL 1172 3500 \nL 2356 3500 \nL 2356 3053 \nL 1172 3053 \nL 1172 1153 \nQ 1172 725 1289 603 \nQ 1406 481 1766 481 \nL 2356 481 \nL 2356 0 \nL 1766 0 \nQ 1100 0 847 248 \nQ 594 497 594 1153 \nL 594 3053 \nL 172 3053 \nL 172 3500 \nL 594 3500 \nL 594 4494 \nL 1172 4494 \nz\n\" transform=\"scale(0.015625)\"/>\n       <path id=\"DejaVuSans-72\" d=\"M 2631 2963 \nQ 2534 3019 2420 3045 \nQ 2306 3072 2169 3072 \nQ 1681 3072 1420 2755 \nQ 1159 2438 1159 1844 \nL 1159 0 \nL 581 0 \nL 581 3500 \nL 1159 3500 \nL 1159 2956 \nQ 1341 3275 1631 3429 \nQ 1922 3584 2338 3584 \nQ 2397 3584 2469 3576 \nQ 2541 3569 2628 3553 \nL 2631 2963 \nz\n\" transform=\"scale(0.015625)\"/>\n       <path id=\"DejaVuSans-61\" d=\"M 2194 1759 \nQ 1497 1759 1228 1600 \nQ 959 1441 959 1056 \nQ 959 750 1161 570 \nQ 1363 391 1709 391 \nQ 2188 391 2477 730 \nQ 2766 1069 2766 1631 \nL 2766 1759 \nL 2194 1759 \nz\nM 3341 1997 \nL 3341 0 \nL 2766 0 \nL 2766 531 \nQ 2569 213 2275 61 \nQ 1981 -91 1556 -91 \nQ 1019 -91 701 211 \nQ 384 513 384 1019 \nQ 384 1609 779 1909 \nQ 1175 2209 1959 2209 \nL 2766 2209 \nL 2766 2266 \nQ 2766 2663 2505 2880 \nQ 2244 3097 1772 3097 \nQ 1472 3097 1187 3025 \nQ 903 2953 641 2809 \nL 641 3341 \nQ 956 3463 1253 3523 \nQ 1550 3584 1831 3584 \nQ 2591 3584 2966 3190 \nQ 3341 2797 3341 1997 \nz\n\" transform=\"scale(0.015625)\"/>\n       <path id=\"DejaVuSans-69\" d=\"M 603 3500 \nL 1178 3500 \nL 1178 0 \nL 603 0 \nL 603 3500 \nz\nM 603 4863 \nL 1178 4863 \nL 1178 4134 \nL 603 4134 \nL 603 4863 \nz\n\" transform=\"scale(0.015625)\"/>\n       <path id=\"DejaVuSans-6e\" d=\"M 3513 2113 \nL 3513 0 \nL 2938 0 \nL 2938 2094 \nQ 2938 2591 2744 2837 \nQ 2550 3084 2163 3084 \nQ 1697 3084 1428 2787 \nQ 1159 2491 1159 1978 \nL 1159 0 \nL 581 0 \nL 581 3500 \nL 1159 3500 \nL 1159 2956 \nQ 1366 3272 1645 3428 \nQ 1925 3584 2291 3584 \nQ 2894 3584 3203 3211 \nQ 3513 2838 3513 2113 \nz\n\" transform=\"scale(0.015625)\"/>\n       <path id=\"DejaVuSans-20\" transform=\"scale(0.015625)\"/>\n       <path id=\"DejaVuSans-6c\" d=\"M 603 4863 \nL 1178 4863 \nL 1178 0 \nL 603 0 \nL 603 4863 \nz\n\" transform=\"scale(0.015625)\"/>\n       <path id=\"DejaVuSans-73\" d=\"M 2834 3397 \nL 2834 2853 \nQ 2591 2978 2328 3040 \nQ 2066 3103 1784 3103 \nQ 1356 3103 1142 2972 \nQ 928 2841 928 2578 \nQ 928 2378 1081 2264 \nQ 1234 2150 1697 2047 \nL 1894 2003 \nQ 2506 1872 2764 1633 \nQ 3022 1394 3022 966 \nQ 3022 478 2636 193 \nQ 2250 -91 1575 -91 \nQ 1294 -91 989 -36 \nQ 684 19 347 128 \nL 347 722 \nQ 666 556 975 473 \nQ 1284 391 1588 391 \nQ 1994 391 2212 530 \nQ 2431 669 2431 922 \nQ 2431 1156 2273 1281 \nQ 2116 1406 1581 1522 \nL 1381 1569 \nQ 847 1681 609 1914 \nQ 372 2147 372 2553 \nQ 372 3047 722 3315 \nQ 1072 3584 1716 3584 \nQ 2034 3584 2315 3537 \nQ 2597 3491 2834 3397 \nz\n\" transform=\"scale(0.015625)\"/>\n      </defs>\n      <use xlink:href=\"#DejaVuSans-74\"/>\n      <use xlink:href=\"#DejaVuSans-72\" transform=\"translate(39.208984 0)\"/>\n      <use xlink:href=\"#DejaVuSans-61\" transform=\"translate(80.322266 0)\"/>\n      <use xlink:href=\"#DejaVuSans-69\" transform=\"translate(141.601562 0)\"/>\n      <use xlink:href=\"#DejaVuSans-6e\" transform=\"translate(169.384766 0)\"/>\n      <use xlink:href=\"#DejaVuSans-20\" transform=\"translate(232.763672 0)\"/>\n      <use xlink:href=\"#DejaVuSans-6c\" transform=\"translate(264.550781 0)\"/>\n      <use xlink:href=\"#DejaVuSans-6f\" transform=\"translate(292.333984 0)\"/>\n      <use xlink:href=\"#DejaVuSans-73\" transform=\"translate(353.515625 0)\"/>\n      <use xlink:href=\"#DejaVuSans-73\" transform=\"translate(405.615234 0)\"/>\n     </g>\n    </g>\n    <g id=\"line2d_24\">\n     <path d=\"M 142.634375 70.474018 \nL 152.634375 70.474018 \nL 162.634375 70.474018 \n\" style=\"fill: none; stroke-dasharray: 5.55,2.4; stroke-dashoffset: 0; stroke: #bf00bf; stroke-width: 1.5\"/>\n    </g>\n    <g id=\"text_12\">\n     <!-- test loss -->\n     <g transform=\"translate(170.634375 73.974018) scale(0.1 -0.1)\">\n      <use xlink:href=\"#DejaVuSans-74\"/>\n      <use xlink:href=\"#DejaVuSans-65\" transform=\"translate(39.208984 0)\"/>\n      <use xlink:href=\"#DejaVuSans-73\" transform=\"translate(100.732422 0)\"/>\n      <use xlink:href=\"#DejaVuSans-74\" transform=\"translate(152.832031 0)\"/>\n      <use xlink:href=\"#DejaVuSans-20\" transform=\"translate(192.041016 0)\"/>\n      <use xlink:href=\"#DejaVuSans-6c\" transform=\"translate(223.828125 0)\"/>\n      <use xlink:href=\"#DejaVuSans-6f\" transform=\"translate(251.611328 0)\"/>\n      <use xlink:href=\"#DejaVuSans-73\" transform=\"translate(312.792969 0)\"/>\n      <use xlink:href=\"#DejaVuSans-73\" transform=\"translate(364.892578 0)\"/>\n     </g>\n    </g>\n    <g id=\"line2d_25\">\n     <path d=\"M 142.634375 85.152143 \nL 152.634375 85.152143 \nL 162.634375 85.152143 \n\" style=\"fill: none; stroke-dasharray: 9.6,2.4,1.5,2.4; stroke-dashoffset: 0; stroke: #008000; stroke-width: 1.5\"/>\n    </g>\n    <g id=\"text_13\">\n     <!-- train acc -->\n     <g transform=\"translate(170.634375 88.652143) scale(0.1 -0.1)\">\n      <use xlink:href=\"#DejaVuSans-74\"/>\n      <use xlink:href=\"#DejaVuSans-72\" transform=\"translate(39.208984 0)\"/>\n      <use xlink:href=\"#DejaVuSans-61\" transform=\"translate(80.322266 0)\"/>\n      <use xlink:href=\"#DejaVuSans-69\" transform=\"translate(141.601562 0)\"/>\n      <use xlink:href=\"#DejaVuSans-6e\" transform=\"translate(169.384766 0)\"/>\n      <use xlink:href=\"#DejaVuSans-20\" transform=\"translate(232.763672 0)\"/>\n      <use xlink:href=\"#DejaVuSans-61\" transform=\"translate(264.550781 0)\"/>\n      <use xlink:href=\"#DejaVuSans-63\" transform=\"translate(325.830078 0)\"/>\n      <use xlink:href=\"#DejaVuSans-63\" transform=\"translate(380.810547 0)\"/>\n     </g>\n    </g>\n    <g id=\"line2d_26\">\n     <path d=\"M 142.634375 99.830268 \nL 152.634375 99.830268 \nL 162.634375 99.830268 \n\" style=\"fill: none; stroke-dasharray: 1.5,2.475; stroke-dashoffset: 0; stroke: #ff0000; stroke-width: 1.5\"/>\n    </g>\n    <g id=\"text_14\">\n     <!-- test acc -->\n     <g transform=\"translate(170.634375 103.330268) scale(0.1 -0.1)\">\n      <use xlink:href=\"#DejaVuSans-74\"/>\n      <use xlink:href=\"#DejaVuSans-65\" transform=\"translate(39.208984 0)\"/>\n      <use xlink:href=\"#DejaVuSans-73\" transform=\"translate(100.732422 0)\"/>\n      <use xlink:href=\"#DejaVuSans-74\" transform=\"translate(152.832031 0)\"/>\n      <use xlink:href=\"#DejaVuSans-20\" transform=\"translate(192.041016 0)\"/>\n      <use xlink:href=\"#DejaVuSans-61\" transform=\"translate(223.828125 0)\"/>\n      <use xlink:href=\"#DejaVuSans-63\" transform=\"translate(285.107422 0)\"/>\n      <use xlink:href=\"#DejaVuSans-63\" transform=\"translate(340.087891 0)\"/>\n     </g>\n    </g>\n   </g>\n  </g>\n </g>\n <defs>\n  <clipPath id=\"p2e790e6425\">\n   <rect x=\"30.103125\" y=\"9.253705\" width=\"195.3\" height=\"138.6\"/>\n  </clipPath>\n </defs>\n</svg>\n"
          },
          "metadata": {}
        }
      ]
    },
    {
      "cell_type": "markdown",
      "source": [
        "## Evaluate\n",
        "\n",
        "这段代码定义了一个函数evaluate_gpu，用于在GPU上计算模型在数据集上的预测结果。\n",
        "\n",
        "首先，我们检查输入的模型net是否是nn.Module的实例。如果是，我们将模型设置为评估模式，并获取模型的设备。如果用户没有指定设备，我们将使用模型的第一个参数所在的设备。\n",
        "\n",
        "然后，我们定义了一个softmax函数，用于将模型的输出转换为概率。\n",
        "\n",
        "接着，我们创建了两个空列表y_hat_list和y_list，用于存储模型的预测结果和真实标签。\n",
        "\n",
        "然后，我们进入一个无需计算梯度的环境中，遍历数据加载器data_iter中的所有批次。对于每个批次，我们将数据和标签转移到设备上，并转换为适当的数据类型。然后，我们将数据通过模型进行前向传播，得到预测结果。\n",
        "\n",
        "接着，我们将预测结果通过softmax函数转换为概率，并将其转移到CPU上，然后转换为NumPy数组，取出正类的概率，并转换为列表。我们也将标签转移到CPU上，然后转换为NumPy数组，并转换为列表。\n",
        "\n",
        "最后，我们将预测结果和标签添加到y_hat_list和y_list中，并在遍历完所有批次后，将这两个列表转换为NumPy数组并返回。\n",
        "\n",
        "这个函数可以用于在训练过程中的每个epoch后，或者在训练完成后，评估模型在验证集或测试集上的性能。"
      ],
      "metadata": {
        "id": "SVZ2y01vHiFE"
      }
    },
    {
      "cell_type": "code",
      "source": [
        "# 加载必要的库\n",
        "import warnings\n",
        "warnings.filterwarnings(\"ignore\", \"Wswiglal-redir-stdio\")\n",
        "import lal  # https://git.ligo.org/lscsoft/lalsuite/-/issues/300\n",
        "from main import *\n",
        "from utils import *\n",
        "from tqdm import tqdm\n",
        "from sklearn.metrics import roc_auc_score, roc_curve\n",
        "\n",
        "def evaluate_gpu(net, data_iter, device=None):\n",
        "    \"\"\"使用GPU计算模型在数据集上的预测结果\"\"\"\n",
        "    if isinstance(net, nn.Module):\n",
        "        net.eval()  # 设置为评估模式\n",
        "        if not device:\n",
        "            device = next(iter(net.parameters())).device  # 获取设备信息\n",
        "    softmax = nn.Softmax(dim=-1)  # 定义softmax函数，dim=-1表示在最后一个维度上进行softmax运算\n",
        "    y_hat_list = []  # 初始化预测结果列表\n",
        "    y_list = []  # 初始化标签列表\n",
        "    with torch.no_grad():  # 不进行梯度计算\n",
        "        for X, y in data_iter:  # 遍历数据集\n",
        "            X = X.to(device).to(torch.float)  # 将数据转移到设备上并转换为浮点型\n",
        "            y = y.to(device).to(torch.long)  # 将标签转移到设备上并转换为长整型\n",
        "            y_hat = net(X)  # 使用模型进行预测\n",
        "\n",
        "            preds = softmax(y_hat).cpu().numpy()[:,1].tolist()  # 使用softmax函数处理预测结果，并转换为列表\n",
        "            labels = y.cpu().numpy().tolist()  # 将标签转换为列表\n",
        "\n",
        "            y_hat_list.extend(preds)  # 将预测结果添加到预测结果列表\n",
        "            y_list.extend(labels)  # 将标签添加到标签列表\n",
        "    return np.asarray(y_hat_list), np.asarray(y_list)  # 返回预测结果和标签的numpy数组```"
      ],
      "metadata": {
        "execution": {
          "iopub.status.busy": "2023-12-29T09:53:39.576758Z",
          "iopub.execute_input": "2023-12-29T09:53:39.577694Z",
          "iopub.status.idle": "2023-12-29T09:53:39.737463Z",
          "shell.execute_reply.started": "2023-12-29T09:53:39.577656Z",
          "shell.execute_reply": "2023-12-29T09:53:39.736408Z"
        },
        "trusted": true,
        "id": "U8ATTu_2HiFE"
      },
      "execution_count": 10,
      "outputs": []
    },
    {
      "cell_type": "markdown",
      "source": [
        "下面这段代码是一个使用PyTorch进行二分类任务的例子，任务是通过引力波数据（噪声+信号）来进行分类。\n",
        "\n",
        "首先，我们创建了一个数据生成器DatasetGenerator，它用于生成测试数据集。每个epoch的样本数为1000，信噪比为20。\n",
        "\n",
        "然后，我们使用PyTorch的DataLoader创建了测试数据加载器，批处理大小为32，数据在每个epoch后都会被打乱。"
      ],
      "metadata": {
        "id": "3o9uVUjVHiFE"
      }
    },
    {
      "cell_type": "code",
      "source": [
        "nsample_perepoch = 1000 # num of injections\n",
        "snr = 20  # 信噪比\n",
        "\n",
        "dataset_test = DatasetGenerator(snr=snr, nsample_perepoch=nsample_perepoch)\n",
        "data_iter = DataLoader(dataset_test, batch_size=32, shuffle=True,)"
      ],
      "metadata": {
        "execution": {
          "iopub.status.busy": "2023-12-29T09:53:40.680881Z",
          "iopub.execute_input": "2023-12-29T09:53:40.681269Z",
          "iopub.status.idle": "2023-12-29T09:54:09.570556Z",
          "shell.execute_reply.started": "2023-12-29T09:53:40.681237Z",
          "shell.execute_reply": "2023-12-29T09:54:09.569583Z"
        },
        "trusted": true,
        "id": "95L7UqaAHiFE",
        "colab": {
          "base_uri": "https://localhost:8080/"
        },
        "outputId": "70798163-dfa9-462a-9e4b-a76960344c58"
      },
      "execution_count": 11,
      "outputs": [
        {
          "output_type": "stream",
          "name": "stdout",
          "text": [
            "GPU available? True\n"
          ]
        }
      ]
    },
    {
      "cell_type": "markdown",
      "source": [
        "接着，我们加载了预训练的模型。如果没有预训练的模型，就会初始化一个新的模型。模型和损失历史的输出路径为 `./checkpoints_cnn/`。"
      ],
      "metadata": {
        "id": "1aKrfOIcHiFE"
      }
    },
    {
      "cell_type": "code",
      "source": [
        "# load model\n",
        "device = torch.device('cuda')\n",
        "\n",
        "# Where we output our model and loss history\n",
        "checkpoint_dir = './checkpoints_cnn/'\n",
        "\n",
        "# Creat model\n",
        "net, epoch, train_loss_history = load_model(checkpoint_dir)\n",
        "net.to(device);"
      ],
      "metadata": {
        "execution": {
          "iopub.status.busy": "2023-12-29T09:54:13.673282Z",
          "iopub.execute_input": "2023-12-29T09:54:13.674196Z",
          "iopub.status.idle": "2023-12-29T09:54:13.733574Z",
          "shell.execute_reply.started": "2023-12-29T09:54:13.674154Z",
          "shell.execute_reply": "2023-12-29T09:54:13.73261Z"
        },
        "trusted": true,
        "id": "CgaJfADwHiFF",
        "colab": {
          "base_uri": "https://localhost:8080/"
        },
        "outputId": "afa0a1f9-a506-44f0-8009-a2841b004fc7"
      },
      "execution_count": 12,
      "outputs": [
        {
          "output_type": "stream",
          "name": "stdout",
          "text": [
            "Load network from checkpoints_cnn/model_e1.pt\n"
          ]
        },
        {
          "output_type": "stream",
          "name": "stderr",
          "text": [
            "/content/main.py:146: FutureWarning: You are using `torch.load` with `weights_only=False` (the current default value), which uses the default pickle module implicitly. It is possible to construct malicious pickle data which will execute arbitrary code during unpickling (See https://github.com/pytorch/pytorch/blob/main/SECURITY.md#untrusted-models for more details). In a future release, the default value for `weights_only` will be flipped to `True`. This limits the functions that could be executed during unpickling. Arbitrary objects will no longer be allowed to be loaded via this mode unless they are explicitly allowlisted by the user via `torch.serialization.add_safe_globals`. We recommend you start setting `weights_only=True` for any use case where you don't have full control of the loaded file. Please open an issue on GitHub for any issues related to this experimental feature.\n",
            "  checkpoint = torch.load(p / files[0])\n"
          ]
        }
      ]
    },
    {
      "cell_type": "markdown",
      "source": [
        "然后，我们调用evaluate_gpu函数在测试集上进行预测，得到预测结果和真实标签。"
      ],
      "metadata": {
        "id": "_VJ3yrTpHiFF"
      }
    },
    {
      "cell_type": "code",
      "source": [
        "y_hat_list, y_list = evaluate_gpu(net, data_iter, device)"
      ],
      "metadata": {
        "execution": {
          "iopub.status.busy": "2023-12-29T09:54:15.687894Z",
          "iopub.execute_input": "2023-12-29T09:54:15.688668Z",
          "iopub.status.idle": "2023-12-29T09:54:16.019339Z",
          "shell.execute_reply.started": "2023-12-29T09:54:15.688626Z",
          "shell.execute_reply": "2023-12-29T09:54:16.018468Z"
        },
        "trusted": true,
        "id": "zaOkUu9AHiFF"
      },
      "execution_count": 13,
      "outputs": []
    },
    {
      "cell_type": "markdown",
      "source": [
        "接下来，我们使用roc_curve和roc_auc_score函数计算了ROC曲线和AUC值。"
      ],
      "metadata": {
        "id": "s8ZXT0ZLHiFF"
      }
    },
    {
      "cell_type": "code",
      "source": [
        "fpr, tpr, thresholds = roc_curve(y_list, y_hat_list)\n",
        "auc = roc_auc_score(y_list, y_hat_list)\n",
        "auc"
      ],
      "metadata": {
        "execution": {
          "iopub.status.busy": "2023-12-29T09:54:16.964022Z",
          "iopub.execute_input": "2023-12-29T09:54:16.964447Z",
          "iopub.status.idle": "2023-12-29T09:54:16.982781Z",
          "shell.execute_reply.started": "2023-12-29T09:54:16.964412Z",
          "shell.execute_reply": "2023-12-29T09:54:16.981813Z"
        },
        "trusted": true,
        "id": "Xn7j8iFiHiFF",
        "colab": {
          "base_uri": "https://localhost:8080/"
        },
        "outputId": "407f46fb-e4d4-4890-dcc7-d8fef7bd70af"
      },
      "execution_count": 14,
      "outputs": [
        {
          "output_type": "execute_result",
          "data": {
            "text/plain": [
              "0.459192"
            ]
          },
          "metadata": {},
          "execution_count": 14
        }
      ]
    },
    {
      "cell_type": "markdown",
      "source": [
        "然后，我们绘制了ROC曲线，并标出了阈值为0.5的点。"
      ],
      "metadata": {
        "id": "dGY1hebUHiFF"
      }
    },
    {
      "cell_type": "code",
      "source": [
        "index = np.argmax(thresholds < 0.5)"
      ],
      "metadata": {
        "execution": {
          "iopub.status.busy": "2023-12-29T09:54:18.689132Z",
          "iopub.execute_input": "2023-12-29T09:54:18.690031Z",
          "iopub.status.idle": "2023-12-29T09:54:18.694505Z",
          "shell.execute_reply.started": "2023-12-29T09:54:18.689997Z",
          "shell.execute_reply": "2023-12-29T09:54:18.693341Z"
        },
        "trusted": true,
        "id": "qh0GUEOVHiFF"
      },
      "execution_count": 15,
      "outputs": []
    },
    {
      "cell_type": "code",
      "source": [
        "plt.plot(fpr, tpr, color=\"deeppink\")\n",
        "plt.plot(*(np.linspace(0,1,100),)*2, 'k--', label='Luck (AUC=0.50)')\n",
        "plt.scatter(fpr[index], tpr[index], label=f'threshold={thresholds[index]:.2f}')\n",
        "plt.axis(\"square\")\n",
        "# plt.xscale('log')\n",
        "plt.xlabel(\"False Positive Rate\")\n",
        "plt.ylabel(\"True Positive Rate\")\n",
        "plt.title(\"ROC curves\")\n",
        "plt.legend()\n",
        "plt.show()"
      ],
      "metadata": {
        "execution": {
          "iopub.status.busy": "2023-12-29T09:54:21.279248Z",
          "iopub.execute_input": "2023-12-29T09:54:21.279635Z",
          "iopub.status.idle": "2023-12-29T09:54:21.684026Z",
          "shell.execute_reply.started": "2023-12-29T09:54:21.279607Z",
          "shell.execute_reply": "2023-12-29T09:54:21.683097Z"
        },
        "trusted": true,
        "id": "J3lQzAn4HiFF",
        "colab": {
          "base_uri": "https://localhost:8080/",
          "height": 456
        },
        "outputId": "3b00f80b-69d4-4ca7-8283-1a17b89fc059"
      },
      "execution_count": 16,
      "outputs": [
        {
          "output_type": "display_data",
          "data": {
            "text/plain": [
              "<Figure size 640x480 with 1 Axes>"
            ],
            "image/svg+xml": "<?xml version=\"1.0\" encoding=\"utf-8\" standalone=\"no\"?>\n<!DOCTYPE svg PUBLIC \"-//W3C//DTD SVG 1.1//EN\"\n  \"http://www.w3.org/Graphics/SVG/1.1/DTD/svg11.dtd\">\n<svg xmlns:xlink=\"http://www.w3.org/1999/xlink\" width=\"317.09325pt\" height=\"325.986375pt\" viewBox=\"0 0 317.09325 325.986375\" xmlns=\"http://www.w3.org/2000/svg\" version=\"1.1\">\n <metadata>\n  <rdf:RDF xmlns:dc=\"http://purl.org/dc/elements/1.1/\" xmlns:cc=\"http://creativecommons.org/ns#\" xmlns:rdf=\"http://www.w3.org/1999/02/22-rdf-syntax-ns#\">\n   <cc:Work>\n    <dc:type rdf:resource=\"http://purl.org/dc/dcmitype/StillImage\"/>\n    <dc:date>2025-04-13T07:03:39.312088</dc:date>\n    <dc:format>image/svg+xml</dc:format>\n    <dc:creator>\n     <cc:Agent>\n      <dc:title>Matplotlib v3.10.0, https://matplotlib.org/</dc:title>\n     </cc:Agent>\n    </dc:creator>\n   </cc:Work>\n  </rdf:RDF>\n </metadata>\n <defs>\n  <style type=\"text/css\">*{stroke-linejoin: round; stroke-linecap: butt}</style>\n </defs>\n <g id=\"figure_1\">\n  <g id=\"patch_1\">\n   <path d=\"M 0 325.986375 \nL 317.09325 325.986375 \nL 317.09325 0 \nL 0 0 \nz\n\" style=\"fill: #ffffff\"/>\n  </g>\n  <g id=\"axes_1\">\n   <g id=\"patch_2\">\n    <path d=\"M 43.78125 288.430125 \nL 309.89325 288.430125 \nL 309.89325 22.318125 \nL 43.78125 22.318125 \nz\n\" style=\"fill: #ffffff\"/>\n   </g>\n   <g id=\"PathCollection_1\">\n    <defs>\n     <path id=\"mbf50deffea\" d=\"M 0 3 \nC 0.795609 3 1.55874 2.683901 2.12132 2.12132 \nC 2.683901 1.55874 3 0.795609 3 0 \nC 3 -0.795609 2.683901 -1.55874 2.12132 -2.12132 \nC 1.55874 -2.683901 0.795609 -3 0 -3 \nC -0.795609 -3 -1.55874 -2.683901 -2.12132 -2.12132 \nC -2.683901 -1.55874 -3 -0.795609 -3 0 \nC -3 0.795609 -2.683901 1.55874 -2.12132 2.12132 \nC -1.55874 2.683901 -0.795609 3 0 3 \nz\n\" style=\"stroke: #1f77b4\"/>\n    </defs>\n    <g clip-path=\"url(#pa21124ccd8)\">\n     <use xlink:href=\"#mbf50deffea\" x=\"55.87725\" y=\"275.850285\" style=\"fill: #1f77b4; stroke: #1f77b4\"/>\n    </g>\n   </g>\n   <g id=\"matplotlib.axis_1\">\n    <g id=\"xtick_1\">\n     <g id=\"line2d_1\">\n      <defs>\n       <path id=\"m566bd15fc2\" d=\"M 0 0 \nL 0 3.5 \n\" style=\"stroke: #000000; stroke-width: 0.8\"/>\n      </defs>\n      <g>\n       <use xlink:href=\"#m566bd15fc2\" x=\"55.87725\" y=\"288.430125\" style=\"stroke: #000000; stroke-width: 0.8\"/>\n      </g>\n     </g>\n     <g id=\"text_1\">\n      <!-- 0.0 -->\n      <g transform=\"translate(47.925688 303.028562) scale(0.1 -0.1)\">\n       <defs>\n        <path id=\"DejaVuSans-30\" d=\"M 2034 4250 \nQ 1547 4250 1301 3770 \nQ 1056 3291 1056 2328 \nQ 1056 1369 1301 889 \nQ 1547 409 2034 409 \nQ 2525 409 2770 889 \nQ 3016 1369 3016 2328 \nQ 3016 3291 2770 3770 \nQ 2525 4250 2034 4250 \nz\nM 2034 4750 \nQ 2819 4750 3233 4129 \nQ 3647 3509 3647 2328 \nQ 3647 1150 3233 529 \nQ 2819 -91 2034 -91 \nQ 1250 -91 836 529 \nQ 422 1150 422 2328 \nQ 422 3509 836 4129 \nQ 1250 4750 2034 4750 \nz\n\" transform=\"scale(0.015625)\"/>\n        <path id=\"DejaVuSans-2e\" d=\"M 684 794 \nL 1344 794 \nL 1344 0 \nL 684 0 \nL 684 794 \nz\n\" transform=\"scale(0.015625)\"/>\n       </defs>\n       <use xlink:href=\"#DejaVuSans-30\"/>\n       <use xlink:href=\"#DejaVuSans-2e\" transform=\"translate(63.623047 0)\"/>\n       <use xlink:href=\"#DejaVuSans-30\" transform=\"translate(95.410156 0)\"/>\n      </g>\n     </g>\n    </g>\n    <g id=\"xtick_2\">\n     <g id=\"line2d_2\">\n      <g>\n       <use xlink:href=\"#m566bd15fc2\" x=\"104.26125\" y=\"288.430125\" style=\"stroke: #000000; stroke-width: 0.8\"/>\n      </g>\n     </g>\n     <g id=\"text_2\">\n      <!-- 0.2 -->\n      <g transform=\"translate(96.309688 303.028562) scale(0.1 -0.1)\">\n       <defs>\n        <path id=\"DejaVuSans-32\" d=\"M 1228 531 \nL 3431 531 \nL 3431 0 \nL 469 0 \nL 469 531 \nQ 828 903 1448 1529 \nQ 2069 2156 2228 2338 \nQ 2531 2678 2651 2914 \nQ 2772 3150 2772 3378 \nQ 2772 3750 2511 3984 \nQ 2250 4219 1831 4219 \nQ 1534 4219 1204 4116 \nQ 875 4013 500 3803 \nL 500 4441 \nQ 881 4594 1212 4672 \nQ 1544 4750 1819 4750 \nQ 2544 4750 2975 4387 \nQ 3406 4025 3406 3419 \nQ 3406 3131 3298 2873 \nQ 3191 2616 2906 2266 \nQ 2828 2175 2409 1742 \nQ 1991 1309 1228 531 \nz\n\" transform=\"scale(0.015625)\"/>\n       </defs>\n       <use xlink:href=\"#DejaVuSans-30\"/>\n       <use xlink:href=\"#DejaVuSans-2e\" transform=\"translate(63.623047 0)\"/>\n       <use xlink:href=\"#DejaVuSans-32\" transform=\"translate(95.410156 0)\"/>\n      </g>\n     </g>\n    </g>\n    <g id=\"xtick_3\">\n     <g id=\"line2d_3\">\n      <g>\n       <use xlink:href=\"#m566bd15fc2\" x=\"152.64525\" y=\"288.430125\" style=\"stroke: #000000; stroke-width: 0.8\"/>\n      </g>\n     </g>\n     <g id=\"text_3\">\n      <!-- 0.4 -->\n      <g transform=\"translate(144.693688 303.028562) scale(0.1 -0.1)\">\n       <defs>\n        <path id=\"DejaVuSans-34\" d=\"M 2419 4116 \nL 825 1625 \nL 2419 1625 \nL 2419 4116 \nz\nM 2253 4666 \nL 3047 4666 \nL 3047 1625 \nL 3713 1625 \nL 3713 1100 \nL 3047 1100 \nL 3047 0 \nL 2419 0 \nL 2419 1100 \nL 313 1100 \nL 313 1709 \nL 2253 4666 \nz\n\" transform=\"scale(0.015625)\"/>\n       </defs>\n       <use xlink:href=\"#DejaVuSans-30\"/>\n       <use xlink:href=\"#DejaVuSans-2e\" transform=\"translate(63.623047 0)\"/>\n       <use xlink:href=\"#DejaVuSans-34\" transform=\"translate(95.410156 0)\"/>\n      </g>\n     </g>\n    </g>\n    <g id=\"xtick_4\">\n     <g id=\"line2d_4\">\n      <g>\n       <use xlink:href=\"#m566bd15fc2\" x=\"201.02925\" y=\"288.430125\" style=\"stroke: #000000; stroke-width: 0.8\"/>\n      </g>\n     </g>\n     <g id=\"text_4\">\n      <!-- 0.6 -->\n      <g transform=\"translate(193.077688 303.028562) scale(0.1 -0.1)\">\n       <defs>\n        <path id=\"DejaVuSans-36\" d=\"M 2113 2584 \nQ 1688 2584 1439 2293 \nQ 1191 2003 1191 1497 \nQ 1191 994 1439 701 \nQ 1688 409 2113 409 \nQ 2538 409 2786 701 \nQ 3034 994 3034 1497 \nQ 3034 2003 2786 2293 \nQ 2538 2584 2113 2584 \nz\nM 3366 4563 \nL 3366 3988 \nQ 3128 4100 2886 4159 \nQ 2644 4219 2406 4219 \nQ 1781 4219 1451 3797 \nQ 1122 3375 1075 2522 \nQ 1259 2794 1537 2939 \nQ 1816 3084 2150 3084 \nQ 2853 3084 3261 2657 \nQ 3669 2231 3669 1497 \nQ 3669 778 3244 343 \nQ 2819 -91 2113 -91 \nQ 1303 -91 875 529 \nQ 447 1150 447 2328 \nQ 447 3434 972 4092 \nQ 1497 4750 2381 4750 \nQ 2619 4750 2861 4703 \nQ 3103 4656 3366 4563 \nz\n\" transform=\"scale(0.015625)\"/>\n       </defs>\n       <use xlink:href=\"#DejaVuSans-30\"/>\n       <use xlink:href=\"#DejaVuSans-2e\" transform=\"translate(63.623047 0)\"/>\n       <use xlink:href=\"#DejaVuSans-36\" transform=\"translate(95.410156 0)\"/>\n      </g>\n     </g>\n    </g>\n    <g id=\"xtick_5\">\n     <g id=\"line2d_5\">\n      <g>\n       <use xlink:href=\"#m566bd15fc2\" x=\"249.41325\" y=\"288.430125\" style=\"stroke: #000000; stroke-width: 0.8\"/>\n      </g>\n     </g>\n     <g id=\"text_5\">\n      <!-- 0.8 -->\n      <g transform=\"translate(241.461688 303.028562) scale(0.1 -0.1)\">\n       <defs>\n        <path id=\"DejaVuSans-38\" d=\"M 2034 2216 \nQ 1584 2216 1326 1975 \nQ 1069 1734 1069 1313 \nQ 1069 891 1326 650 \nQ 1584 409 2034 409 \nQ 2484 409 2743 651 \nQ 3003 894 3003 1313 \nQ 3003 1734 2745 1975 \nQ 2488 2216 2034 2216 \nz\nM 1403 2484 \nQ 997 2584 770 2862 \nQ 544 3141 544 3541 \nQ 544 4100 942 4425 \nQ 1341 4750 2034 4750 \nQ 2731 4750 3128 4425 \nQ 3525 4100 3525 3541 \nQ 3525 3141 3298 2862 \nQ 3072 2584 2669 2484 \nQ 3125 2378 3379 2068 \nQ 3634 1759 3634 1313 \nQ 3634 634 3220 271 \nQ 2806 -91 2034 -91 \nQ 1263 -91 848 271 \nQ 434 634 434 1313 \nQ 434 1759 690 2068 \nQ 947 2378 1403 2484 \nz\nM 1172 3481 \nQ 1172 3119 1398 2916 \nQ 1625 2713 2034 2713 \nQ 2441 2713 2670 2916 \nQ 2900 3119 2900 3481 \nQ 2900 3844 2670 4047 \nQ 2441 4250 2034 4250 \nQ 1625 4250 1398 4047 \nQ 1172 3844 1172 3481 \nz\n\" transform=\"scale(0.015625)\"/>\n       </defs>\n       <use xlink:href=\"#DejaVuSans-30\"/>\n       <use xlink:href=\"#DejaVuSans-2e\" transform=\"translate(63.623047 0)\"/>\n       <use xlink:href=\"#DejaVuSans-38\" transform=\"translate(95.410156 0)\"/>\n      </g>\n     </g>\n    </g>\n    <g id=\"xtick_6\">\n     <g id=\"line2d_6\">\n      <g>\n       <use xlink:href=\"#m566bd15fc2\" x=\"297.79725\" y=\"288.430125\" style=\"stroke: #000000; stroke-width: 0.8\"/>\n      </g>\n     </g>\n     <g id=\"text_6\">\n      <!-- 1.0 -->\n      <g transform=\"translate(289.845688 303.028562) scale(0.1 -0.1)\">\n       <defs>\n        <path id=\"DejaVuSans-31\" d=\"M 794 531 \nL 1825 531 \nL 1825 4091 \nL 703 3866 \nL 703 4441 \nL 1819 4666 \nL 2450 4666 \nL 2450 531 \nL 3481 531 \nL 3481 0 \nL 794 0 \nL 794 531 \nz\n\" transform=\"scale(0.015625)\"/>\n       </defs>\n       <use xlink:href=\"#DejaVuSans-31\"/>\n       <use xlink:href=\"#DejaVuSans-2e\" transform=\"translate(63.623047 0)\"/>\n       <use xlink:href=\"#DejaVuSans-30\" transform=\"translate(95.410156 0)\"/>\n      </g>\n     </g>\n    </g>\n    <g id=\"text_7\">\n     <!-- False Positive Rate -->\n     <g transform=\"translate(130.370844 316.706687) scale(0.1 -0.1)\">\n      <defs>\n       <path id=\"DejaVuSans-46\" d=\"M 628 4666 \nL 3309 4666 \nL 3309 4134 \nL 1259 4134 \nL 1259 2759 \nL 3109 2759 \nL 3109 2228 \nL 1259 2228 \nL 1259 0 \nL 628 0 \nL 628 4666 \nz\n\" transform=\"scale(0.015625)\"/>\n       <path id=\"DejaVuSans-61\" d=\"M 2194 1759 \nQ 1497 1759 1228 1600 \nQ 959 1441 959 1056 \nQ 959 750 1161 570 \nQ 1363 391 1709 391 \nQ 2188 391 2477 730 \nQ 2766 1069 2766 1631 \nL 2766 1759 \nL 2194 1759 \nz\nM 3341 1997 \nL 3341 0 \nL 2766 0 \nL 2766 531 \nQ 2569 213 2275 61 \nQ 1981 -91 1556 -91 \nQ 1019 -91 701 211 \nQ 384 513 384 1019 \nQ 384 1609 779 1909 \nQ 1175 2209 1959 2209 \nL 2766 2209 \nL 2766 2266 \nQ 2766 2663 2505 2880 \nQ 2244 3097 1772 3097 \nQ 1472 3097 1187 3025 \nQ 903 2953 641 2809 \nL 641 3341 \nQ 956 3463 1253 3523 \nQ 1550 3584 1831 3584 \nQ 2591 3584 2966 3190 \nQ 3341 2797 3341 1997 \nz\n\" transform=\"scale(0.015625)\"/>\n       <path id=\"DejaVuSans-6c\" d=\"M 603 4863 \nL 1178 4863 \nL 1178 0 \nL 603 0 \nL 603 4863 \nz\n\" transform=\"scale(0.015625)\"/>\n       <path id=\"DejaVuSans-73\" d=\"M 2834 3397 \nL 2834 2853 \nQ 2591 2978 2328 3040 \nQ 2066 3103 1784 3103 \nQ 1356 3103 1142 2972 \nQ 928 2841 928 2578 \nQ 928 2378 1081 2264 \nQ 1234 2150 1697 2047 \nL 1894 2003 \nQ 2506 1872 2764 1633 \nQ 3022 1394 3022 966 \nQ 3022 478 2636 193 \nQ 2250 -91 1575 -91 \nQ 1294 -91 989 -36 \nQ 684 19 347 128 \nL 347 722 \nQ 666 556 975 473 \nQ 1284 391 1588 391 \nQ 1994 391 2212 530 \nQ 2431 669 2431 922 \nQ 2431 1156 2273 1281 \nQ 2116 1406 1581 1522 \nL 1381 1569 \nQ 847 1681 609 1914 \nQ 372 2147 372 2553 \nQ 372 3047 722 3315 \nQ 1072 3584 1716 3584 \nQ 2034 3584 2315 3537 \nQ 2597 3491 2834 3397 \nz\n\" transform=\"scale(0.015625)\"/>\n       <path id=\"DejaVuSans-65\" d=\"M 3597 1894 \nL 3597 1613 \nL 953 1613 \nQ 991 1019 1311 708 \nQ 1631 397 2203 397 \nQ 2534 397 2845 478 \nQ 3156 559 3463 722 \nL 3463 178 \nQ 3153 47 2828 -22 \nQ 2503 -91 2169 -91 \nQ 1331 -91 842 396 \nQ 353 884 353 1716 \nQ 353 2575 817 3079 \nQ 1281 3584 2069 3584 \nQ 2775 3584 3186 3129 \nQ 3597 2675 3597 1894 \nz\nM 3022 2063 \nQ 3016 2534 2758 2815 \nQ 2500 3097 2075 3097 \nQ 1594 3097 1305 2825 \nQ 1016 2553 972 2059 \nL 3022 2063 \nz\n\" transform=\"scale(0.015625)\"/>\n       <path id=\"DejaVuSans-20\" transform=\"scale(0.015625)\"/>\n       <path id=\"DejaVuSans-50\" d=\"M 1259 4147 \nL 1259 2394 \nL 2053 2394 \nQ 2494 2394 2734 2622 \nQ 2975 2850 2975 3272 \nQ 2975 3691 2734 3919 \nQ 2494 4147 2053 4147 \nL 1259 4147 \nz\nM 628 4666 \nL 2053 4666 \nQ 2838 4666 3239 4311 \nQ 3641 3956 3641 3272 \nQ 3641 2581 3239 2228 \nQ 2838 1875 2053 1875 \nL 1259 1875 \nL 1259 0 \nL 628 0 \nL 628 4666 \nz\n\" transform=\"scale(0.015625)\"/>\n       <path id=\"DejaVuSans-6f\" d=\"M 1959 3097 \nQ 1497 3097 1228 2736 \nQ 959 2375 959 1747 \nQ 959 1119 1226 758 \nQ 1494 397 1959 397 \nQ 2419 397 2687 759 \nQ 2956 1122 2956 1747 \nQ 2956 2369 2687 2733 \nQ 2419 3097 1959 3097 \nz\nM 1959 3584 \nQ 2709 3584 3137 3096 \nQ 3566 2609 3566 1747 \nQ 3566 888 3137 398 \nQ 2709 -91 1959 -91 \nQ 1206 -91 779 398 \nQ 353 888 353 1747 \nQ 353 2609 779 3096 \nQ 1206 3584 1959 3584 \nz\n\" transform=\"scale(0.015625)\"/>\n       <path id=\"DejaVuSans-69\" d=\"M 603 3500 \nL 1178 3500 \nL 1178 0 \nL 603 0 \nL 603 3500 \nz\nM 603 4863 \nL 1178 4863 \nL 1178 4134 \nL 603 4134 \nL 603 4863 \nz\n\" transform=\"scale(0.015625)\"/>\n       <path id=\"DejaVuSans-74\" d=\"M 1172 4494 \nL 1172 3500 \nL 2356 3500 \nL 2356 3053 \nL 1172 3053 \nL 1172 1153 \nQ 1172 725 1289 603 \nQ 1406 481 1766 481 \nL 2356 481 \nL 2356 0 \nL 1766 0 \nQ 1100 0 847 248 \nQ 594 497 594 1153 \nL 594 3053 \nL 172 3053 \nL 172 3500 \nL 594 3500 \nL 594 4494 \nL 1172 4494 \nz\n\" transform=\"scale(0.015625)\"/>\n       <path id=\"DejaVuSans-76\" d=\"M 191 3500 \nL 800 3500 \nL 1894 563 \nL 2988 3500 \nL 3597 3500 \nL 2284 0 \nL 1503 0 \nL 191 3500 \nz\n\" transform=\"scale(0.015625)\"/>\n       <path id=\"DejaVuSans-52\" d=\"M 2841 2188 \nQ 3044 2119 3236 1894 \nQ 3428 1669 3622 1275 \nL 4263 0 \nL 3584 0 \nL 2988 1197 \nQ 2756 1666 2539 1819 \nQ 2322 1972 1947 1972 \nL 1259 1972 \nL 1259 0 \nL 628 0 \nL 628 4666 \nL 2053 4666 \nQ 2853 4666 3247 4331 \nQ 3641 3997 3641 3322 \nQ 3641 2881 3436 2590 \nQ 3231 2300 2841 2188 \nz\nM 1259 4147 \nL 1259 2491 \nL 2053 2491 \nQ 2509 2491 2742 2702 \nQ 2975 2913 2975 3322 \nQ 2975 3731 2742 3939 \nQ 2509 4147 2053 4147 \nL 1259 4147 \nz\n\" transform=\"scale(0.015625)\"/>\n      </defs>\n      <use xlink:href=\"#DejaVuSans-46\"/>\n      <use xlink:href=\"#DejaVuSans-61\" transform=\"translate(48.394531 0)\"/>\n      <use xlink:href=\"#DejaVuSans-6c\" transform=\"translate(109.673828 0)\"/>\n      <use xlink:href=\"#DejaVuSans-73\" transform=\"translate(137.457031 0)\"/>\n      <use xlink:href=\"#DejaVuSans-65\" transform=\"translate(189.556641 0)\"/>\n      <use xlink:href=\"#DejaVuSans-20\" transform=\"translate(251.080078 0)\"/>\n      <use xlink:href=\"#DejaVuSans-50\" transform=\"translate(282.867188 0)\"/>\n      <use xlink:href=\"#DejaVuSans-6f\" transform=\"translate(339.544922 0)\"/>\n      <use xlink:href=\"#DejaVuSans-73\" transform=\"translate(400.726562 0)\"/>\n      <use xlink:href=\"#DejaVuSans-69\" transform=\"translate(452.826172 0)\"/>\n      <use xlink:href=\"#DejaVuSans-74\" transform=\"translate(480.609375 0)\"/>\n      <use xlink:href=\"#DejaVuSans-69\" transform=\"translate(519.818359 0)\"/>\n      <use xlink:href=\"#DejaVuSans-76\" transform=\"translate(547.601562 0)\"/>\n      <use xlink:href=\"#DejaVuSans-65\" transform=\"translate(606.78125 0)\"/>\n      <use xlink:href=\"#DejaVuSans-20\" transform=\"translate(668.304688 0)\"/>\n      <use xlink:href=\"#DejaVuSans-52\" transform=\"translate(700.091797 0)\"/>\n      <use xlink:href=\"#DejaVuSans-61\" transform=\"translate(767.324219 0)\"/>\n      <use xlink:href=\"#DejaVuSans-74\" transform=\"translate(828.603516 0)\"/>\n      <use xlink:href=\"#DejaVuSans-65\" transform=\"translate(867.8125 0)\"/>\n     </g>\n    </g>\n   </g>\n   <g id=\"matplotlib.axis_2\">\n    <g id=\"ytick_1\">\n     <g id=\"line2d_7\">\n      <defs>\n       <path id=\"m087103e82b\" d=\"M 0 0 \nL -3.5 0 \n\" style=\"stroke: #000000; stroke-width: 0.8\"/>\n      </defs>\n      <g>\n       <use xlink:href=\"#m087103e82b\" x=\"43.78125\" y=\"276.334125\" style=\"stroke: #000000; stroke-width: 0.8\"/>\n      </g>\n     </g>\n     <g id=\"text_8\">\n      <!-- 0.0 -->\n      <g transform=\"translate(20.878125 280.133344) scale(0.1 -0.1)\">\n       <use xlink:href=\"#DejaVuSans-30\"/>\n       <use xlink:href=\"#DejaVuSans-2e\" transform=\"translate(63.623047 0)\"/>\n       <use xlink:href=\"#DejaVuSans-30\" transform=\"translate(95.410156 0)\"/>\n      </g>\n     </g>\n    </g>\n    <g id=\"ytick_2\">\n     <g id=\"line2d_8\">\n      <g>\n       <use xlink:href=\"#m087103e82b\" x=\"43.78125\" y=\"227.950125\" style=\"stroke: #000000; stroke-width: 0.8\"/>\n      </g>\n     </g>\n     <g id=\"text_9\">\n      <!-- 0.2 -->\n      <g transform=\"translate(20.878125 231.749344) scale(0.1 -0.1)\">\n       <use xlink:href=\"#DejaVuSans-30\"/>\n       <use xlink:href=\"#DejaVuSans-2e\" transform=\"translate(63.623047 0)\"/>\n       <use xlink:href=\"#DejaVuSans-32\" transform=\"translate(95.410156 0)\"/>\n      </g>\n     </g>\n    </g>\n    <g id=\"ytick_3\">\n     <g id=\"line2d_9\">\n      <g>\n       <use xlink:href=\"#m087103e82b\" x=\"43.78125\" y=\"179.566125\" style=\"stroke: #000000; stroke-width: 0.8\"/>\n      </g>\n     </g>\n     <g id=\"text_10\">\n      <!-- 0.4 -->\n      <g transform=\"translate(20.878125 183.365344) scale(0.1 -0.1)\">\n       <use xlink:href=\"#DejaVuSans-30\"/>\n       <use xlink:href=\"#DejaVuSans-2e\" transform=\"translate(63.623047 0)\"/>\n       <use xlink:href=\"#DejaVuSans-34\" transform=\"translate(95.410156 0)\"/>\n      </g>\n     </g>\n    </g>\n    <g id=\"ytick_4\">\n     <g id=\"line2d_10\">\n      <g>\n       <use xlink:href=\"#m087103e82b\" x=\"43.78125\" y=\"131.182125\" style=\"stroke: #000000; stroke-width: 0.8\"/>\n      </g>\n     </g>\n     <g id=\"text_11\">\n      <!-- 0.6 -->\n      <g transform=\"translate(20.878125 134.981344) scale(0.1 -0.1)\">\n       <use xlink:href=\"#DejaVuSans-30\"/>\n       <use xlink:href=\"#DejaVuSans-2e\" transform=\"translate(63.623047 0)\"/>\n       <use xlink:href=\"#DejaVuSans-36\" transform=\"translate(95.410156 0)\"/>\n      </g>\n     </g>\n    </g>\n    <g id=\"ytick_5\">\n     <g id=\"line2d_11\">\n      <g>\n       <use xlink:href=\"#m087103e82b\" x=\"43.78125\" y=\"82.798125\" style=\"stroke: #000000; stroke-width: 0.8\"/>\n      </g>\n     </g>\n     <g id=\"text_12\">\n      <!-- 0.8 -->\n      <g transform=\"translate(20.878125 86.597344) scale(0.1 -0.1)\">\n       <use xlink:href=\"#DejaVuSans-30\"/>\n       <use xlink:href=\"#DejaVuSans-2e\" transform=\"translate(63.623047 0)\"/>\n       <use xlink:href=\"#DejaVuSans-38\" transform=\"translate(95.410156 0)\"/>\n      </g>\n     </g>\n    </g>\n    <g id=\"ytick_6\">\n     <g id=\"line2d_12\">\n      <g>\n       <use xlink:href=\"#m087103e82b\" x=\"43.78125\" y=\"34.414125\" style=\"stroke: #000000; stroke-width: 0.8\"/>\n      </g>\n     </g>\n     <g id=\"text_13\">\n      <!-- 1.0 -->\n      <g transform=\"translate(20.878125 38.213344) scale(0.1 -0.1)\">\n       <use xlink:href=\"#DejaVuSans-31\"/>\n       <use xlink:href=\"#DejaVuSans-2e\" transform=\"translate(63.623047 0)\"/>\n       <use xlink:href=\"#DejaVuSans-30\" transform=\"translate(95.410156 0)\"/>\n      </g>\n     </g>\n    </g>\n    <g id=\"text_14\">\n     <!-- True Positive Rate -->\n     <g transform=\"translate(14.798438 199.903812) rotate(-90) scale(0.1 -0.1)\">\n      <defs>\n       <path id=\"DejaVuSans-54\" d=\"M -19 4666 \nL 3928 4666 \nL 3928 4134 \nL 2272 4134 \nL 2272 0 \nL 1638 0 \nL 1638 4134 \nL -19 4134 \nL -19 4666 \nz\n\" transform=\"scale(0.015625)\"/>\n       <path id=\"DejaVuSans-72\" d=\"M 2631 2963 \nQ 2534 3019 2420 3045 \nQ 2306 3072 2169 3072 \nQ 1681 3072 1420 2755 \nQ 1159 2438 1159 1844 \nL 1159 0 \nL 581 0 \nL 581 3500 \nL 1159 3500 \nL 1159 2956 \nQ 1341 3275 1631 3429 \nQ 1922 3584 2338 3584 \nQ 2397 3584 2469 3576 \nQ 2541 3569 2628 3553 \nL 2631 2963 \nz\n\" transform=\"scale(0.015625)\"/>\n       <path id=\"DejaVuSans-75\" d=\"M 544 1381 \nL 544 3500 \nL 1119 3500 \nL 1119 1403 \nQ 1119 906 1312 657 \nQ 1506 409 1894 409 \nQ 2359 409 2629 706 \nQ 2900 1003 2900 1516 \nL 2900 3500 \nL 3475 3500 \nL 3475 0 \nL 2900 0 \nL 2900 538 \nQ 2691 219 2414 64 \nQ 2138 -91 1772 -91 \nQ 1169 -91 856 284 \nQ 544 659 544 1381 \nz\nM 1991 3584 \nL 1991 3584 \nz\n\" transform=\"scale(0.015625)\"/>\n      </defs>\n      <use xlink:href=\"#DejaVuSans-54\"/>\n      <use xlink:href=\"#DejaVuSans-72\" transform=\"translate(46.333984 0)\"/>\n      <use xlink:href=\"#DejaVuSans-75\" transform=\"translate(87.447266 0)\"/>\n      <use xlink:href=\"#DejaVuSans-65\" transform=\"translate(150.826172 0)\"/>\n      <use xlink:href=\"#DejaVuSans-20\" transform=\"translate(212.349609 0)\"/>\n      <use xlink:href=\"#DejaVuSans-50\" transform=\"translate(244.136719 0)\"/>\n      <use xlink:href=\"#DejaVuSans-6f\" transform=\"translate(300.814453 0)\"/>\n      <use xlink:href=\"#DejaVuSans-73\" transform=\"translate(361.996094 0)\"/>\n      <use xlink:href=\"#DejaVuSans-69\" transform=\"translate(414.095703 0)\"/>\n      <use xlink:href=\"#DejaVuSans-74\" transform=\"translate(441.878906 0)\"/>\n      <use xlink:href=\"#DejaVuSans-69\" transform=\"translate(481.087891 0)\"/>\n      <use xlink:href=\"#DejaVuSans-76\" transform=\"translate(508.871094 0)\"/>\n      <use xlink:href=\"#DejaVuSans-65\" transform=\"translate(568.050781 0)\"/>\n      <use xlink:href=\"#DejaVuSans-20\" transform=\"translate(629.574219 0)\"/>\n      <use xlink:href=\"#DejaVuSans-52\" transform=\"translate(661.361328 0)\"/>\n      <use xlink:href=\"#DejaVuSans-61\" transform=\"translate(728.59375 0)\"/>\n      <use xlink:href=\"#DejaVuSans-74\" transform=\"translate(789.873047 0)\"/>\n      <use xlink:href=\"#DejaVuSans-65\" transform=\"translate(829.082031 0)\"/>\n     </g>\n    </g>\n   </g>\n   <g id=\"line2d_13\">\n    <path d=\"M 55.87725 276.334125 \nL 55.87725 275.366445 \nL 56.36109 275.366445 \nL 56.36109 274.882605 \nL 58.29645 274.882605 \nL 58.29645 273.914925 \nL 58.78029 273.914925 \nL 58.78029 271.495725 \nL 59.26413 271.495725 \nL 59.26413 271.011885 \nL 61.19949 271.011885 \nL 61.19949 269.076525 \nL 63.13485 269.076525 \nL 63.13485 268.592685 \nL 65.07021 268.592685 \nL 65.07021 267.625005 \nL 66.03789 267.625005 \nL 66.03789 267.141165 \nL 68.45709 267.141165 \nL 68.45709 265.689645 \nL 68.94093 265.689645 \nL 68.94093 264.721965 \nL 69.42477 264.721965 \nL 69.42477 264.238125 \nL 69.90861 264.238125 \nL 69.90861 263.754285 \nL 70.87629 263.754285 \nL 70.87629 263.270445 \nL 71.36013 263.270445 \nL 71.36013 262.786605 \nL 72.32781 262.786605 \nL 72.32781 262.302765 \nL 73.29549 262.302765 \nL 73.29549 261.818925 \nL 73.77933 261.818925 \nL 73.77933 260.367405 \nL 74.26317 260.367405 \nL 74.26317 259.883565 \nL 75.71469 259.883565 \nL 75.71469 257.948205 \nL 77.16621 257.948205 \nL 77.16621 256.012845 \nL 77.65005 256.012845 \nL 77.65005 255.045165 \nL 78.13389 255.045165 \nL 78.13389 254.561325 \nL 79.58541 254.561325 \nL 79.58541 253.593645 \nL 80.06925 253.593645 \nL 80.06925 252.142125 \nL 82.48845 252.142125 \nL 82.48845 250.206765 \nL 83.45613 250.206765 \nL 83.45613 248.271405 \nL 83.93997 248.271405 \nL 83.93997 247.787565 \nL 84.90765 247.787565 \nL 84.90765 246.819885 \nL 85.39149 246.819885 \nL 85.39149 245.852205 \nL 85.87533 245.852205 \nL 85.87533 245.368365 \nL 87.81069 245.368365 \nL 87.81069 244.400685 \nL 88.77837 244.400685 \nL 88.77837 243.433005 \nL 93.61677 243.433005 \nL 93.61677 242.949165 \nL 94.10061 242.949165 \nL 94.10061 242.465325 \nL 95.06829 242.465325 \nL 95.06829 241.981485 \nL 97.00365 241.981485 \nL 97.00365 241.497645 \nL 97.97133 241.497645 \nL 97.97133 241.013805 \nL 98.93901 241.013805 \nL 98.93901 240.046125 \nL 100.39053 240.046125 \nL 100.39053 237.143085 \nL 102.32589 237.143085 \nL 102.32589 236.175405 \nL 103.77741 236.175405 \nL 103.77741 235.691565 \nL 105.22893 235.691565 \nL 105.22893 235.207725 \nL 106.19661 235.207725 \nL 106.19661 234.723885 \nL 108.61581 234.723885 \nL 108.61581 233.756205 \nL 109.09965 233.756205 \nL 109.09965 232.788525 \nL 109.58349 232.788525 \nL 109.58349 232.304685 \nL 110.55117 232.304685 \nL 110.55117 231.820845 \nL 111.51885 231.820845 \nL 111.51885 231.337005 \nL 112.00269 231.337005 \nL 112.00269 230.369325 \nL 112.48653 230.369325 \nL 112.48653 229.401645 \nL 112.97037 229.401645 \nL 112.97037 228.917805 \nL 113.45421 228.917805 \nL 113.45421 228.433965 \nL 113.93805 228.433965 \nL 113.93805 226.982445 \nL 114.90573 226.982445 \nL 114.90573 225.530925 \nL 115.38957 225.530925 \nL 115.38957 225.047085 \nL 115.87341 225.047085 \nL 115.87341 224.563245 \nL 118.29261 224.563245 \nL 118.29261 224.079405 \nL 120.71181 224.079405 \nL 120.71181 223.595565 \nL 122.16333 223.595565 \nL 122.16333 221.660205 \nL 122.64717 221.660205 \nL 122.64717 221.176365 \nL 123.61485 221.176365 \nL 123.61485 220.692525 \nL 124.58253 220.692525 \nL 124.58253 219.241005 \nL 125.06637 219.241005 \nL 125.06637 218.757165 \nL 126.03405 218.757165 \nL 126.03405 218.273325 \nL 127.00173 218.273325 \nL 127.00173 217.305645 \nL 128.45325 217.305645 \nL 128.45325 216.821805 \nL 129.90477 216.821805 \nL 129.90477 215.370285 \nL 132.32397 215.370285 \nL 132.32397 214.886445 \nL 133.77549 214.886445 \nL 133.77549 213.918765 \nL 136.19469 213.918765 \nL 136.19469 212.467245 \nL 137.16237 212.467245 \nL 137.16237 211.983405 \nL 137.64621 211.983405 \nL 137.64621 211.499565 \nL 138.13005 211.499565 \nL 138.13005 211.015725 \nL 138.61389 211.015725 \nL 138.61389 210.531885 \nL 139.09773 210.531885 \nL 139.09773 210.048045 \nL 139.58157 210.048045 \nL 139.58157 208.112685 \nL 140.06541 208.112685 \nL 140.06541 207.628845 \nL 140.54925 207.628845 \nL 140.54925 207.145005 \nL 142.48461 207.145005 \nL 142.48461 206.177325 \nL 142.96845 206.177325 \nL 142.96845 204.725805 \nL 143.45229 204.725805 \nL 143.45229 203.758125 \nL 144.41997 203.758125 \nL 144.41997 203.274285 \nL 144.90381 203.274285 \nL 144.90381 202.790445 \nL 145.87149 202.790445 \nL 145.87149 202.306605 \nL 146.35533 202.306605 \nL 146.35533 201.338925 \nL 146.83917 201.338925 \nL 146.83917 200.855085 \nL 149.25837 200.855085 \nL 149.25837 198.435885 \nL 150.22605 198.435885 \nL 150.22605 194.081325 \nL 150.70989 194.081325 \nL 150.70989 193.113645 \nL 151.19373 193.113645 \nL 151.19373 192.629805 \nL 152.16141 192.629805 \nL 152.16141 191.662125 \nL 153.61293 191.662125 \nL 153.61293 191.178285 \nL 154.58061 191.178285 \nL 154.58061 190.694445 \nL 155.06445 190.694445 \nL 155.06445 189.726765 \nL 155.54829 189.726765 \nL 155.54829 188.759085 \nL 156.99981 188.759085 \nL 156.99981 188.275245 \nL 158.45133 188.275245 \nL 158.45133 187.307565 \nL 159.41901 187.307565 \nL 159.41901 186.339885 \nL 160.38669 186.339885 \nL 160.38669 185.372205 \nL 161.35437 185.372205 \nL 161.35437 184.888365 \nL 161.83821 184.888365 \nL 161.83821 183.920685 \nL 162.32205 183.920685 \nL 162.32205 183.436845 \nL 165.70893 183.436845 \nL 165.70893 182.953005 \nL 166.19277 182.953005 \nL 166.19277 181.985325 \nL 166.67661 181.985325 \nL 166.67661 181.501485 \nL 167.16045 181.501485 \nL 167.16045 181.017645 \nL 168.12813 181.017645 \nL 168.12813 180.049965 \nL 170.06349 180.049965 \nL 170.06349 179.082285 \nL 171.03117 179.082285 \nL 171.03117 178.598445 \nL 171.51501 178.598445 \nL 171.51501 177.146925 \nL 172.96653 177.146925 \nL 172.96653 176.179245 \nL 173.93421 176.179245 \nL 173.93421 173.276205 \nL 174.41805 173.276205 \nL 174.41805 172.792365 \nL 174.90189 172.792365 \nL 174.90189 172.308525 \nL 175.38573 172.308525 \nL 175.38573 171.340845 \nL 177.32109 171.340845 \nL 177.32109 170.857005 \nL 178.28877 170.857005 \nL 178.28877 170.373165 \nL 178.77261 170.373165 \nL 178.77261 169.889325 \nL 180.22413 169.889325 \nL 180.22413 168.437805 \nL 182.15949 168.437805 \nL 182.15949 166.986285 \nL 183.12717 166.986285 \nL 183.12717 165.534765 \nL 184.09485 165.534765 \nL 184.09485 164.083245 \nL 185.06253 164.083245 \nL 185.06253 162.147885 \nL 186.03021 162.147885 \nL 186.03021 160.212525 \nL 186.99789 160.212525 \nL 186.99789 159.244845 \nL 187.48173 159.244845 \nL 187.48173 158.761005 \nL 188.44941 158.761005 \nL 188.44941 157.793325 \nL 188.93325 157.793325 \nL 188.93325 154.890285 \nL 189.41709 154.890285 \nL 189.41709 154.406445 \nL 190.38477 154.406445 \nL 190.38477 151.019565 \nL 191.83629 151.019565 \nL 191.83629 150.535725 \nL 192.32013 150.535725 \nL 192.32013 149.568045 \nL 193.77165 149.568045 \nL 193.77165 149.084205 \nL 194.25549 149.084205 \nL 194.25549 147.148845 \nL 195.22317 147.148845 \nL 195.22317 146.665005 \nL 196.67469 146.665005 \nL 196.67469 146.181165 \nL 197.64237 146.181165 \nL 197.64237 145.697325 \nL 199.09389 145.697325 \nL 199.09389 143.278125 \nL 200.06157 143.278125 \nL 200.06157 142.310445 \nL 201.02925 142.310445 \nL 201.02925 141.342765 \nL 201.51309 141.342765 \nL 201.51309 140.375085 \nL 201.99693 140.375085 \nL 201.99693 139.407405 \nL 204.41613 139.407405 \nL 204.41613 138.923565 \nL 204.89997 138.923565 \nL 204.89997 138.439725 \nL 205.38381 138.439725 \nL 205.38381 137.472045 \nL 205.86765 137.472045 \nL 205.86765 136.988205 \nL 206.83533 136.988205 \nL 206.83533 136.020525 \nL 207.80301 136.020525 \nL 207.80301 134.085165 \nL 208.28685 134.085165 \nL 208.28685 133.601325 \nL 209.25453 133.601325 \nL 209.25453 132.633645 \nL 210.22221 132.633645 \nL 210.22221 132.149805 \nL 211.67373 132.149805 \nL 211.67373 131.182125 \nL 213.12525 131.182125 \nL 213.12525 130.698285 \nL 215.06061 130.698285 \nL 215.06061 130.214445 \nL 215.54445 130.214445 \nL 215.54445 128.762925 \nL 216.99597 128.762925 \nL 216.99597 126.827565 \nL 218.93133 126.827565 \nL 218.93133 126.343725 \nL 219.41517 126.343725 \nL 219.41517 124.892205 \nL 219.89901 124.892205 \nL 219.89901 124.408365 \nL 220.86669 124.408365 \nL 220.86669 123.440685 \nL 221.35053 123.440685 \nL 221.35053 122.473005 \nL 221.83437 122.473005 \nL 221.83437 119.086125 \nL 223.28589 119.086125 \nL 223.28589 118.118445 \nL 224.25357 118.118445 \nL 224.25357 117.634605 \nL 224.73741 117.634605 \nL 224.73741 117.150765 \nL 225.22125 117.150765 \nL 225.22125 116.183085 \nL 225.70509 116.183085 \nL 225.70509 115.215405 \nL 226.67277 115.215405 \nL 226.67277 114.247725 \nL 227.15661 114.247725 \nL 227.15661 113.763885 \nL 227.64045 113.763885 \nL 227.64045 112.312365 \nL 228.12429 112.312365 \nL 228.12429 111.828525 \nL 228.60813 111.828525 \nL 228.60813 110.860845 \nL 229.09197 110.860845 \nL 229.09197 109.893165 \nL 229.57581 109.893165 \nL 229.57581 109.409325 \nL 231.51117 109.409325 \nL 231.51117 108.925485 \nL 231.99501 108.925485 \nL 231.99501 107.957805 \nL 232.47885 107.957805 \nL 232.47885 106.990125 \nL 233.44653 106.990125 \nL 233.44653 106.022445 \nL 234.41421 106.022445 \nL 234.41421 105.538605 \nL 235.38189 105.538605 \nL 235.38189 105.054765 \nL 235.86573 105.054765 \nL 235.86573 104.570925 \nL 238.76877 104.570925 \nL 238.76877 103.603245 \nL 239.25261 103.603245 \nL 239.25261 102.635565 \nL 240.70413 102.635565 \nL 240.70413 101.184045 \nL 241.67181 101.184045 \nL 241.67181 100.700205 \nL 242.63949 100.700205 \nL 242.63949 99.732525 \nL 243.12333 99.732525 \nL 243.12333 99.248685 \nL 243.60717 99.248685 \nL 243.60717 98.764845 \nL 244.09101 98.764845 \nL 244.09101 96.829485 \nL 244.57485 96.829485 \nL 244.57485 96.345645 \nL 246.51021 96.345645 \nL 246.51021 95.861805 \nL 247.47789 95.861805 \nL 247.47789 95.377965 \nL 251.83245 95.377965 \nL 251.83245 93.926445 \nL 252.31629 93.926445 \nL 252.31629 93.442605 \nL 253.28397 93.442605 \nL 253.28397 92.958765 \nL 254.25165 92.958765 \nL 254.25165 90.539565 \nL 255.21933 90.539565 \nL 255.21933 90.055725 \nL 256.18701 90.055725 \nL 256.18701 89.088045 \nL 256.67085 89.088045 \nL 256.67085 88.604205 \nL 257.15469 88.604205 \nL 257.15469 87.636525 \nL 257.63853 87.636525 \nL 257.63853 87.152685 \nL 258.12237 87.152685 \nL 258.12237 86.185005 \nL 258.60621 86.185005 \nL 258.60621 84.733485 \nL 259.09005 84.733485 \nL 259.09005 83.765805 \nL 260.05773 83.765805 \nL 260.05773 82.314285 \nL 261.02541 82.314285 \nL 261.02541 81.830445 \nL 261.99309 81.830445 \nL 261.99309 81.346605 \nL 263.92845 81.346605 \nL 263.92845 80.862765 \nL 265.86381 80.862765 \nL 265.86381 79.895085 \nL 266.34765 79.895085 \nL 266.34765 78.443565 \nL 266.83149 78.443565 \nL 266.83149 74.089005 \nL 267.31533 74.089005 \nL 267.31533 73.121325 \nL 268.28301 73.121325 \nL 268.28301 71.669805 \nL 268.76685 71.669805 \nL 268.76685 71.185965 \nL 270.21837 71.185965 \nL 270.21837 70.702125 \nL 270.70221 70.702125 \nL 270.70221 69.734445 \nL 271.18605 69.734445 \nL 271.18605 69.250605 \nL 271.66989 69.250605 \nL 271.66989 68.282925 \nL 272.63757 68.282925 \nL 272.63757 67.315245 \nL 273.60525 67.315245 \nL 273.60525 66.831405 \nL 274.08909 66.831405 \nL 274.08909 66.347565 \nL 275.05677 66.347565 \nL 275.05677 65.863725 \nL 275.54061 65.863725 \nL 275.54061 64.896045 \nL 276.02445 64.896045 \nL 276.02445 62.960685 \nL 276.99213 62.960685 \nL 276.99213 62.476845 \nL 277.47597 62.476845 \nL 277.47597 61.993005 \nL 278.44365 61.993005 \nL 278.44365 61.025325 \nL 278.92749 61.025325 \nL 278.92749 60.541485 \nL 279.41133 60.541485 \nL 279.41133 59.573805 \nL 280.86285 59.573805 \nL 280.86285 59.089965 \nL 281.34669 59.089965 \nL 281.34669 58.606125 \nL 281.83053 58.606125 \nL 281.83053 58.122285 \nL 282.31437 58.122285 \nL 282.31437 57.154605 \nL 282.79821 57.154605 \nL 282.79821 56.186925 \nL 283.28205 56.186925 \nL 283.28205 54.735405 \nL 284.73357 54.735405 \nL 284.73357 54.251565 \nL 286.18509 54.251565 \nL 286.18509 53.283885 \nL 287.15277 53.283885 \nL 287.15277 52.316205 \nL 289.08813 52.316205 \nL 289.08813 50.864685 \nL 290.05581 50.864685 \nL 290.05581 49.413165 \nL 291.50733 49.413165 \nL 291.50733 47.477805 \nL 293.44269 47.477805 \nL 293.44269 42.639405 \nL 294.89421 42.639405 \nL 294.89421 40.704045 \nL 295.37805 40.704045 \nL 295.37805 39.736365 \nL 295.86189 39.736365 \nL 295.86189 39.252525 \nL 296.82957 39.252525 \nL 296.82957 37.801005 \nL 297.31341 37.801005 \nL 297.31341 36.349485 \nL 297.79725 36.349485 \nL 297.79725 34.414125 \nL 297.79725 34.414125 \n\" clip-path=\"url(#pa21124ccd8)\" style=\"fill: none; stroke: #ff1493; stroke-width: 1.5; stroke-linecap: square\"/>\n   </g>\n   <g id=\"line2d_14\">\n    <path d=\"M 55.87725 276.334125 \nL 58.320886 273.890489 \nL 60.764523 271.446852 \nL 63.208159 269.003216 \nL 65.651795 266.55958 \nL 68.095432 264.115943 \nL 70.539068 261.672307 \nL 72.982705 259.22867 \nL 75.426341 256.785034 \nL 77.869977 254.341398 \nL 80.313614 251.897761 \nL 82.75725 249.454125 \nL 85.200886 247.010489 \nL 87.644523 244.566852 \nL 90.088159 242.123216 \nL 92.531795 239.67958 \nL 94.975432 237.235943 \nL 97.419068 234.792307 \nL 99.862705 232.34867 \nL 102.306341 229.905034 \nL 104.749977 227.461398 \nL 107.193614 225.017761 \nL 109.63725 222.574125 \nL 112.080886 220.130489 \nL 114.524523 217.686852 \nL 116.968159 215.243216 \nL 119.411795 212.79958 \nL 121.855432 210.355943 \nL 124.299068 207.912307 \nL 126.742705 205.46867 \nL 129.186341 203.025034 \nL 131.629977 200.581398 \nL 134.073614 198.137761 \nL 136.51725 195.694125 \nL 138.960886 193.250489 \nL 141.404523 190.806852 \nL 143.848159 188.363216 \nL 146.291795 185.91958 \nL 148.735432 183.475943 \nL 151.179068 181.032307 \nL 153.622705 178.58867 \nL 156.066341 176.145034 \nL 158.509977 173.701398 \nL 160.953614 171.257761 \nL 163.39725 168.814125 \nL 165.840886 166.370489 \nL 168.284523 163.926852 \nL 170.728159 161.483216 \nL 173.171795 159.03958 \nL 175.615432 156.595943 \nL 178.059068 154.152307 \nL 180.502705 151.70867 \nL 182.946341 149.265034 \nL 185.389977 146.821398 \nL 187.833614 144.377761 \nL 190.27725 141.934125 \nL 192.720886 139.490489 \nL 195.164523 137.046852 \nL 197.608159 134.603216 \nL 200.051795 132.15958 \nL 202.495432 129.715943 \nL 204.939068 127.272307 \nL 207.382705 124.82867 \nL 209.826341 122.385034 \nL 212.269977 119.941398 \nL 214.713614 117.497761 \nL 217.15725 115.054125 \nL 219.600886 112.610489 \nL 222.044523 110.166852 \nL 224.488159 107.723216 \nL 226.931795 105.27958 \nL 229.375432 102.835943 \nL 231.819068 100.392307 \nL 234.262705 97.94867 \nL 236.706341 95.505034 \nL 239.149977 93.061398 \nL 241.593614 90.617761 \nL 244.03725 88.174125 \nL 246.480886 85.730489 \nL 248.924523 83.286852 \nL 251.368159 80.843216 \nL 253.811795 78.39958 \nL 256.255432 75.955943 \nL 258.699068 73.512307 \nL 261.142705 71.06867 \nL 263.586341 68.625034 \nL 266.029977 66.181398 \nL 268.473614 63.737761 \nL 270.91725 61.294125 \nL 273.360886 58.850489 \nL 275.804523 56.406852 \nL 278.248159 53.963216 \nL 280.691795 51.51958 \nL 283.135432 49.075943 \nL 285.579068 46.632307 \nL 288.022705 44.18867 \nL 290.466341 41.745034 \nL 292.909977 39.301398 \nL 295.353614 36.857761 \nL 297.79725 34.414125 \n\" clip-path=\"url(#pa21124ccd8)\" style=\"fill: none; stroke-dasharray: 5.55,2.4; stroke-dashoffset: 0; stroke: #000000; stroke-width: 1.5\"/>\n   </g>\n   <g id=\"patch_3\">\n    <path d=\"M 43.78125 288.430125 \nL 43.78125 22.318125 \n\" style=\"fill: none; stroke: #000000; stroke-width: 0.8; stroke-linejoin: miter; stroke-linecap: square\"/>\n   </g>\n   <g id=\"patch_4\">\n    <path d=\"M 309.89325 288.430125 \nL 309.89325 22.318125 \n\" style=\"fill: none; stroke: #000000; stroke-width: 0.8; stroke-linejoin: miter; stroke-linecap: square\"/>\n   </g>\n   <g id=\"patch_5\">\n    <path d=\"M 43.78125 288.430125 \nL 309.89325 288.430125 \n\" style=\"fill: none; stroke: #000000; stroke-width: 0.8; stroke-linejoin: miter; stroke-linecap: square\"/>\n   </g>\n   <g id=\"patch_6\">\n    <path d=\"M 43.78125 22.318125 \nL 309.89325 22.318125 \n\" style=\"fill: none; stroke: #000000; stroke-width: 0.8; stroke-linejoin: miter; stroke-linecap: square\"/>\n   </g>\n   <g id=\"text_15\">\n    <!-- ROC curves -->\n    <g transform=\"translate(141.911625 16.318125) scale(0.12 -0.12)\">\n     <defs>\n      <path id=\"DejaVuSans-4f\" d=\"M 2522 4238 \nQ 1834 4238 1429 3725 \nQ 1025 3213 1025 2328 \nQ 1025 1447 1429 934 \nQ 1834 422 2522 422 \nQ 3209 422 3611 934 \nQ 4013 1447 4013 2328 \nQ 4013 3213 3611 3725 \nQ 3209 4238 2522 4238 \nz\nM 2522 4750 \nQ 3503 4750 4090 4092 \nQ 4678 3434 4678 2328 \nQ 4678 1225 4090 567 \nQ 3503 -91 2522 -91 \nQ 1538 -91 948 565 \nQ 359 1222 359 2328 \nQ 359 3434 948 4092 \nQ 1538 4750 2522 4750 \nz\n\" transform=\"scale(0.015625)\"/>\n      <path id=\"DejaVuSans-43\" d=\"M 4122 4306 \nL 4122 3641 \nQ 3803 3938 3442 4084 \nQ 3081 4231 2675 4231 \nQ 1875 4231 1450 3742 \nQ 1025 3253 1025 2328 \nQ 1025 1406 1450 917 \nQ 1875 428 2675 428 \nQ 3081 428 3442 575 \nQ 3803 722 4122 1019 \nL 4122 359 \nQ 3791 134 3420 21 \nQ 3050 -91 2638 -91 \nQ 1578 -91 968 557 \nQ 359 1206 359 2328 \nQ 359 3453 968 4101 \nQ 1578 4750 2638 4750 \nQ 3056 4750 3426 4639 \nQ 3797 4528 4122 4306 \nz\n\" transform=\"scale(0.015625)\"/>\n      <path id=\"DejaVuSans-63\" d=\"M 3122 3366 \nL 3122 2828 \nQ 2878 2963 2633 3030 \nQ 2388 3097 2138 3097 \nQ 1578 3097 1268 2742 \nQ 959 2388 959 1747 \nQ 959 1106 1268 751 \nQ 1578 397 2138 397 \nQ 2388 397 2633 464 \nQ 2878 531 3122 666 \nL 3122 134 \nQ 2881 22 2623 -34 \nQ 2366 -91 2075 -91 \nQ 1284 -91 818 406 \nQ 353 903 353 1747 \nQ 353 2603 823 3093 \nQ 1294 3584 2113 3584 \nQ 2378 3584 2631 3529 \nQ 2884 3475 3122 3366 \nz\n\" transform=\"scale(0.015625)\"/>\n     </defs>\n     <use xlink:href=\"#DejaVuSans-52\"/>\n     <use xlink:href=\"#DejaVuSans-4f\" transform=\"translate(69.482422 0)\"/>\n     <use xlink:href=\"#DejaVuSans-43\" transform=\"translate(148.193359 0)\"/>\n     <use xlink:href=\"#DejaVuSans-20\" transform=\"translate(218.017578 0)\"/>\n     <use xlink:href=\"#DejaVuSans-63\" transform=\"translate(249.804688 0)\"/>\n     <use xlink:href=\"#DejaVuSans-75\" transform=\"translate(304.785156 0)\"/>\n     <use xlink:href=\"#DejaVuSans-72\" transform=\"translate(368.164062 0)\"/>\n     <use xlink:href=\"#DejaVuSans-76\" transform=\"translate(409.277344 0)\"/>\n     <use xlink:href=\"#DejaVuSans-65\" transform=\"translate(468.457031 0)\"/>\n     <use xlink:href=\"#DejaVuSans-73\" transform=\"translate(529.980469 0)\"/>\n    </g>\n   </g>\n   <g id=\"legend_1\">\n    <g id=\"patch_7\">\n     <path d=\"M 50.78125 59.674375 \nL 168.573438 59.674375 \nQ 170.573438 59.674375 170.573438 57.674375 \nL 170.573438 29.318125 \nQ 170.573438 27.318125 168.573438 27.318125 \nL 50.78125 27.318125 \nQ 48.78125 27.318125 48.78125 29.318125 \nL 48.78125 57.674375 \nQ 48.78125 59.674375 50.78125 59.674375 \nz\n\" style=\"fill: #ffffff; opacity: 0.8; stroke: #cccccc; stroke-linejoin: miter\"/>\n    </g>\n    <g id=\"line2d_15\">\n     <path d=\"M 52.78125 35.416562 \nL 62.78125 35.416562 \nL 72.78125 35.416562 \n\" style=\"fill: none; stroke-dasharray: 5.55,2.4; stroke-dashoffset: 0; stroke: #000000; stroke-width: 1.5\"/>\n    </g>\n    <g id=\"text_16\">\n     <!-- Luck (AUC=0.50) -->\n     <g transform=\"translate(80.78125 38.916562) scale(0.1 -0.1)\">\n      <defs>\n       <path id=\"DejaVuSans-4c\" d=\"M 628 4666 \nL 1259 4666 \nL 1259 531 \nL 3531 531 \nL 3531 0 \nL 628 0 \nL 628 4666 \nz\n\" transform=\"scale(0.015625)\"/>\n       <path id=\"DejaVuSans-6b\" d=\"M 581 4863 \nL 1159 4863 \nL 1159 1991 \nL 2875 3500 \nL 3609 3500 \nL 1753 1863 \nL 3688 0 \nL 2938 0 \nL 1159 1709 \nL 1159 0 \nL 581 0 \nL 581 4863 \nz\n\" transform=\"scale(0.015625)\"/>\n       <path id=\"DejaVuSans-28\" d=\"M 1984 4856 \nQ 1566 4138 1362 3434 \nQ 1159 2731 1159 2009 \nQ 1159 1288 1364 580 \nQ 1569 -128 1984 -844 \nL 1484 -844 \nQ 1016 -109 783 600 \nQ 550 1309 550 2009 \nQ 550 2706 781 3412 \nQ 1013 4119 1484 4856 \nL 1984 4856 \nz\n\" transform=\"scale(0.015625)\"/>\n       <path id=\"DejaVuSans-41\" d=\"M 2188 4044 \nL 1331 1722 \nL 3047 1722 \nL 2188 4044 \nz\nM 1831 4666 \nL 2547 4666 \nL 4325 0 \nL 3669 0 \nL 3244 1197 \nL 1141 1197 \nL 716 0 \nL 50 0 \nL 1831 4666 \nz\n\" transform=\"scale(0.015625)\"/>\n       <path id=\"DejaVuSans-55\" d=\"M 556 4666 \nL 1191 4666 \nL 1191 1831 \nQ 1191 1081 1462 751 \nQ 1734 422 2344 422 \nQ 2950 422 3222 751 \nQ 3494 1081 3494 1831 \nL 3494 4666 \nL 4128 4666 \nL 4128 1753 \nQ 4128 841 3676 375 \nQ 3225 -91 2344 -91 \nQ 1459 -91 1007 375 \nQ 556 841 556 1753 \nL 556 4666 \nz\n\" transform=\"scale(0.015625)\"/>\n       <path id=\"DejaVuSans-3d\" d=\"M 678 2906 \nL 4684 2906 \nL 4684 2381 \nL 678 2381 \nL 678 2906 \nz\nM 678 1631 \nL 4684 1631 \nL 4684 1100 \nL 678 1100 \nL 678 1631 \nz\n\" transform=\"scale(0.015625)\"/>\n       <path id=\"DejaVuSans-35\" d=\"M 691 4666 \nL 3169 4666 \nL 3169 4134 \nL 1269 4134 \nL 1269 2991 \nQ 1406 3038 1543 3061 \nQ 1681 3084 1819 3084 \nQ 2600 3084 3056 2656 \nQ 3513 2228 3513 1497 \nQ 3513 744 3044 326 \nQ 2575 -91 1722 -91 \nQ 1428 -91 1123 -41 \nQ 819 9 494 109 \nL 494 744 \nQ 775 591 1075 516 \nQ 1375 441 1709 441 \nQ 2250 441 2565 725 \nQ 2881 1009 2881 1497 \nQ 2881 1984 2565 2268 \nQ 2250 2553 1709 2553 \nQ 1456 2553 1204 2497 \nQ 953 2441 691 2322 \nL 691 4666 \nz\n\" transform=\"scale(0.015625)\"/>\n       <path id=\"DejaVuSans-29\" d=\"M 513 4856 \nL 1013 4856 \nQ 1481 4119 1714 3412 \nQ 1947 2706 1947 2009 \nQ 1947 1309 1714 600 \nQ 1481 -109 1013 -844 \nL 513 -844 \nQ 928 -128 1133 580 \nQ 1338 1288 1338 2009 \nQ 1338 2731 1133 3434 \nQ 928 4138 513 4856 \nz\n\" transform=\"scale(0.015625)\"/>\n      </defs>\n      <use xlink:href=\"#DejaVuSans-4c\"/>\n      <use xlink:href=\"#DejaVuSans-75\" transform=\"translate(53.962891 0)\"/>\n      <use xlink:href=\"#DejaVuSans-63\" transform=\"translate(117.341797 0)\"/>\n      <use xlink:href=\"#DejaVuSans-6b\" transform=\"translate(172.322266 0)\"/>\n      <use xlink:href=\"#DejaVuSans-20\" transform=\"translate(230.232422 0)\"/>\n      <use xlink:href=\"#DejaVuSans-28\" transform=\"translate(262.019531 0)\"/>\n      <use xlink:href=\"#DejaVuSans-41\" transform=\"translate(301.033203 0)\"/>\n      <use xlink:href=\"#DejaVuSans-55\" transform=\"translate(369.441406 0)\"/>\n      <use xlink:href=\"#DejaVuSans-43\" transform=\"translate(442.634766 0)\"/>\n      <use xlink:href=\"#DejaVuSans-3d\" transform=\"translate(512.458984 0)\"/>\n      <use xlink:href=\"#DejaVuSans-30\" transform=\"translate(596.248047 0)\"/>\n      <use xlink:href=\"#DejaVuSans-2e\" transform=\"translate(659.871094 0)\"/>\n      <use xlink:href=\"#DejaVuSans-35\" transform=\"translate(691.658203 0)\"/>\n      <use xlink:href=\"#DejaVuSans-30\" transform=\"translate(755.28125 0)\"/>\n      <use xlink:href=\"#DejaVuSans-29\" transform=\"translate(818.904297 0)\"/>\n     </g>\n    </g>\n    <g id=\"PathCollection_2\">\n     <g>\n      <use xlink:href=\"#mbf50deffea\" x=\"62.78125\" y=\"50.969687\" style=\"fill: #1f77b4; stroke: #1f77b4\"/>\n     </g>\n    </g>\n    <g id=\"text_17\">\n     <!-- threshold=0.49 -->\n     <g transform=\"translate(80.78125 53.594687) scale(0.1 -0.1)\">\n      <defs>\n       <path id=\"DejaVuSans-68\" d=\"M 3513 2113 \nL 3513 0 \nL 2938 0 \nL 2938 2094 \nQ 2938 2591 2744 2837 \nQ 2550 3084 2163 3084 \nQ 1697 3084 1428 2787 \nQ 1159 2491 1159 1978 \nL 1159 0 \nL 581 0 \nL 581 4863 \nL 1159 4863 \nL 1159 2956 \nQ 1366 3272 1645 3428 \nQ 1925 3584 2291 3584 \nQ 2894 3584 3203 3211 \nQ 3513 2838 3513 2113 \nz\n\" transform=\"scale(0.015625)\"/>\n       <path id=\"DejaVuSans-64\" d=\"M 2906 2969 \nL 2906 4863 \nL 3481 4863 \nL 3481 0 \nL 2906 0 \nL 2906 525 \nQ 2725 213 2448 61 \nQ 2172 -91 1784 -91 \nQ 1150 -91 751 415 \nQ 353 922 353 1747 \nQ 353 2572 751 3078 \nQ 1150 3584 1784 3584 \nQ 2172 3584 2448 3432 \nQ 2725 3281 2906 2969 \nz\nM 947 1747 \nQ 947 1113 1208 752 \nQ 1469 391 1925 391 \nQ 2381 391 2643 752 \nQ 2906 1113 2906 1747 \nQ 2906 2381 2643 2742 \nQ 2381 3103 1925 3103 \nQ 1469 3103 1208 2742 \nQ 947 2381 947 1747 \nz\n\" transform=\"scale(0.015625)\"/>\n       <path id=\"DejaVuSans-39\" d=\"M 703 97 \nL 703 672 \nQ 941 559 1184 500 \nQ 1428 441 1663 441 \nQ 2288 441 2617 861 \nQ 2947 1281 2994 2138 \nQ 2813 1869 2534 1725 \nQ 2256 1581 1919 1581 \nQ 1219 1581 811 2004 \nQ 403 2428 403 3163 \nQ 403 3881 828 4315 \nQ 1253 4750 1959 4750 \nQ 2769 4750 3195 4129 \nQ 3622 3509 3622 2328 \nQ 3622 1225 3098 567 \nQ 2575 -91 1691 -91 \nQ 1453 -91 1209 -44 \nQ 966 3 703 97 \nz\nM 1959 2075 \nQ 2384 2075 2632 2365 \nQ 2881 2656 2881 3163 \nQ 2881 3666 2632 3958 \nQ 2384 4250 1959 4250 \nQ 1534 4250 1286 3958 \nQ 1038 3666 1038 3163 \nQ 1038 2656 1286 2365 \nQ 1534 2075 1959 2075 \nz\n\" transform=\"scale(0.015625)\"/>\n      </defs>\n      <use xlink:href=\"#DejaVuSans-74\"/>\n      <use xlink:href=\"#DejaVuSans-68\" transform=\"translate(39.208984 0)\"/>\n      <use xlink:href=\"#DejaVuSans-72\" transform=\"translate(102.587891 0)\"/>\n      <use xlink:href=\"#DejaVuSans-65\" transform=\"translate(141.451172 0)\"/>\n      <use xlink:href=\"#DejaVuSans-73\" transform=\"translate(202.974609 0)\"/>\n      <use xlink:href=\"#DejaVuSans-68\" transform=\"translate(255.074219 0)\"/>\n      <use xlink:href=\"#DejaVuSans-6f\" transform=\"translate(318.453125 0)\"/>\n      <use xlink:href=\"#DejaVuSans-6c\" transform=\"translate(379.634766 0)\"/>\n      <use xlink:href=\"#DejaVuSans-64\" transform=\"translate(407.417969 0)\"/>\n      <use xlink:href=\"#DejaVuSans-3d\" transform=\"translate(470.894531 0)\"/>\n      <use xlink:href=\"#DejaVuSans-30\" transform=\"translate(554.683594 0)\"/>\n      <use xlink:href=\"#DejaVuSans-2e\" transform=\"translate(618.306641 0)\"/>\n      <use xlink:href=\"#DejaVuSans-34\" transform=\"translate(650.09375 0)\"/>\n      <use xlink:href=\"#DejaVuSans-39\" transform=\"translate(713.716797 0)\"/>\n     </g>\n    </g>\n   </g>\n  </g>\n </g>\n <defs>\n  <clipPath id=\"pa21124ccd8\">\n   <rect x=\"43.78125\" y=\"22.318125\" width=\"266.112\" height=\"266.112\"/>\n  </clipPath>\n </defs>\n</svg>\n"
          },
          "metadata": {}
        }
      ]
    },
    {
      "cell_type": "markdown",
      "source": [
        "最后，我们对不同的信噪比进行了测试，绘制了不同信噪比下的ROC曲线，并计算了AUC值。"
      ],
      "metadata": {
        "id": "HM3vrZTPHiFG"
      }
    },
    {
      "cell_type": "code",
      "source": [
        "from itertools import cycle\n",
        "colors = cycle([\"deeppink\", \"aqua\", \"darkorange\", \"cornflowerblue\"])\n",
        "\n",
        "nsample_perepoch = 1000\n",
        "snr_list = [5, 10, 15, 20]\n",
        "for snr in tqdm(snr_list):\n",
        "    dataset_test = DatasetGenerator(snr=snr, nsample_perepoch=nsample_perepoch, verbose=False)\n",
        "    data_iter = DataLoader(dataset_test, batch_size=32, shuffle=True)\n",
        "    y_hat_list, y_list = evaluate_gpu(net, data_iter, device)\n",
        "\n",
        "    fpr, tpr, thresholds = roc_curve(y_list, y_hat_list)\n",
        "    auc = roc_auc_score(y_list, y_hat_list)\n",
        "\n",
        "    plt.plot(fpr, tpr, color=next(colors), label=f'SNR={snr} (AUC={auc:.2f})')\n",
        "plt.plot(*(np.linspace(0,1,100),)*2, 'k--', label='Luck (AUC=0.50)')\n",
        "# plt.axis(\"square\")\n",
        "plt.xscale('log')\n",
        "plt.xlabel(\"False Positive Rate\")\n",
        "plt.ylabel(\"True Positive Rate\")\n",
        "plt.title(\"ROC curves\")\n",
        "plt.legend()\n",
        "plt.show()"
      ],
      "metadata": {
        "execution": {
          "iopub.status.busy": "2023-12-29T09:54:24.065544Z",
          "iopub.execute_input": "2023-12-29T09:54:24.066425Z",
          "iopub.status.idle": "2023-12-29T09:56:28.473432Z",
          "shell.execute_reply.started": "2023-12-29T09:54:24.066388Z",
          "shell.execute_reply": "2023-12-29T09:56:28.472401Z"
        },
        "trusted": true,
        "id": "wnwckIGCHiFG",
        "colab": {
          "base_uri": "https://localhost:8080/",
          "height": 473
        },
        "outputId": "a31322ca-9e5e-4848-9833-501acdcdf345"
      },
      "execution_count": 17,
      "outputs": [
        {
          "output_type": "stream",
          "name": "stderr",
          "text": [
            "100%|██████████| 4/4 [01:49<00:00, 27.36s/it]\n"
          ]
        },
        {
          "output_type": "display_data",
          "data": {
            "text/plain": [
              "<Figure size 640x480 with 1 Axes>"
            ],
            "image/svg+xml": "<?xml version=\"1.0\" encoding=\"utf-8\" standalone=\"no\"?>\n<!DOCTYPE svg PUBLIC \"-//W3C//DTD SVG 1.1//EN\"\n  \"http://www.w3.org/Graphics/SVG/1.1/DTD/svg11.dtd\">\n<svg xmlns:xlink=\"http://www.w3.org/1999/xlink\" width=\"408.10125pt\" height=\"325.986375pt\" viewBox=\"0 0 408.10125 325.986375\" xmlns=\"http://www.w3.org/2000/svg\" version=\"1.1\">\n <metadata>\n  <rdf:RDF xmlns:dc=\"http://purl.org/dc/elements/1.1/\" xmlns:cc=\"http://creativecommons.org/ns#\" xmlns:rdf=\"http://www.w3.org/1999/02/22-rdf-syntax-ns#\">\n   <cc:Work>\n    <dc:type rdf:resource=\"http://purl.org/dc/dcmitype/StillImage\"/>\n    <dc:date>2025-04-13T07:05:29.046760</dc:date>\n    <dc:format>image/svg+xml</dc:format>\n    <dc:creator>\n     <cc:Agent>\n      <dc:title>Matplotlib v3.10.0, https://matplotlib.org/</dc:title>\n     </cc:Agent>\n    </dc:creator>\n   </cc:Work>\n  </rdf:RDF>\n </metadata>\n <defs>\n  <style type=\"text/css\">*{stroke-linejoin: round; stroke-linecap: butt}</style>\n </defs>\n <g id=\"figure_1\">\n  <g id=\"patch_1\">\n   <path d=\"M 0 325.986375 \nL 408.10125 325.986375 \nL 408.10125 0 \nL 0 0 \nz\n\" style=\"fill: #ffffff\"/>\n  </g>\n  <g id=\"axes_1\">\n   <g id=\"patch_2\">\n    <path d=\"M 43.78125 288.430125 \nL 400.90125 288.430125 \nL 400.90125 22.318125 \nL 43.78125 22.318125 \nz\n\" style=\"fill: #ffffff\"/>\n   </g>\n   <g id=\"matplotlib.axis_1\">\n    <g id=\"xtick_1\">\n     <g id=\"line2d_1\">\n      <defs>\n       <path id=\"m915a3348bb\" d=\"M 0 0 \nL 0 3.5 \n\" style=\"stroke: #000000; stroke-width: 0.8\"/>\n      </defs>\n      <g>\n       <use xlink:href=\"#m915a3348bb\" x=\"144.091899\" y=\"288.430125\" style=\"stroke: #000000; stroke-width: 0.8\"/>\n      </g>\n     </g>\n     <g id=\"text_1\">\n      <!-- $\\mathdefault{10^{-2}}$ -->\n      <g transform=\"translate(132.341899 303.028562) scale(0.1 -0.1)\">\n       <defs>\n        <path id=\"DejaVuSans-31\" d=\"M 794 531 \nL 1825 531 \nL 1825 4091 \nL 703 3866 \nL 703 4441 \nL 1819 4666 \nL 2450 4666 \nL 2450 531 \nL 3481 531 \nL 3481 0 \nL 794 0 \nL 794 531 \nz\n\" transform=\"scale(0.015625)\"/>\n        <path id=\"DejaVuSans-30\" d=\"M 2034 4250 \nQ 1547 4250 1301 3770 \nQ 1056 3291 1056 2328 \nQ 1056 1369 1301 889 \nQ 1547 409 2034 409 \nQ 2525 409 2770 889 \nQ 3016 1369 3016 2328 \nQ 3016 3291 2770 3770 \nQ 2525 4250 2034 4250 \nz\nM 2034 4750 \nQ 2819 4750 3233 4129 \nQ 3647 3509 3647 2328 \nQ 3647 1150 3233 529 \nQ 2819 -91 2034 -91 \nQ 1250 -91 836 529 \nQ 422 1150 422 2328 \nQ 422 3509 836 4129 \nQ 1250 4750 2034 4750 \nz\n\" transform=\"scale(0.015625)\"/>\n        <path id=\"DejaVuSans-2212\" d=\"M 678 2272 \nL 4684 2272 \nL 4684 1741 \nL 678 1741 \nL 678 2272 \nz\n\" transform=\"scale(0.015625)\"/>\n        <path id=\"DejaVuSans-32\" d=\"M 1228 531 \nL 3431 531 \nL 3431 0 \nL 469 0 \nL 469 531 \nQ 828 903 1448 1529 \nQ 2069 2156 2228 2338 \nQ 2531 2678 2651 2914 \nQ 2772 3150 2772 3378 \nQ 2772 3750 2511 3984 \nQ 2250 4219 1831 4219 \nQ 1534 4219 1204 4116 \nQ 875 4013 500 3803 \nL 500 4441 \nQ 881 4594 1212 4672 \nQ 1544 4750 1819 4750 \nQ 2544 4750 2975 4387 \nQ 3406 4025 3406 3419 \nQ 3406 3131 3298 2873 \nQ 3191 2616 2906 2266 \nQ 2828 2175 2409 1742 \nQ 1991 1309 1228 531 \nz\n\" transform=\"scale(0.015625)\"/>\n       </defs>\n       <use xlink:href=\"#DejaVuSans-31\" transform=\"translate(0 0.765625)\"/>\n       <use xlink:href=\"#DejaVuSans-30\" transform=\"translate(63.623047 0.765625)\"/>\n       <use xlink:href=\"#DejaVuSans-2212\" transform=\"translate(128.203125 39.046875) scale(0.7)\"/>\n       <use xlink:href=\"#DejaVuSans-32\" transform=\"translate(186.855469 39.046875) scale(0.7)\"/>\n      </g>\n     </g>\n    </g>\n    <g id=\"xtick_2\">\n     <g id=\"line2d_2\">\n      <g>\n       <use xlink:href=\"#m915a3348bb\" x=\"264.380211\" y=\"288.430125\" style=\"stroke: #000000; stroke-width: 0.8\"/>\n      </g>\n     </g>\n     <g id=\"text_2\">\n      <!-- $\\mathdefault{10^{-1}}$ -->\n      <g transform=\"translate(252.630211 303.028562) scale(0.1 -0.1)\">\n       <use xlink:href=\"#DejaVuSans-31\" transform=\"translate(0 0.684375)\"/>\n       <use xlink:href=\"#DejaVuSans-30\" transform=\"translate(63.623047 0.684375)\"/>\n       <use xlink:href=\"#DejaVuSans-2212\" transform=\"translate(128.203125 38.965625) scale(0.7)\"/>\n       <use xlink:href=\"#DejaVuSans-31\" transform=\"translate(186.855469 38.965625) scale(0.7)\"/>\n      </g>\n     </g>\n    </g>\n    <g id=\"xtick_3\">\n     <g id=\"line2d_3\">\n      <g>\n       <use xlink:href=\"#m915a3348bb\" x=\"384.668523\" y=\"288.430125\" style=\"stroke: #000000; stroke-width: 0.8\"/>\n      </g>\n     </g>\n     <g id=\"text_3\">\n      <!-- $\\mathdefault{10^{0}}$ -->\n      <g transform=\"translate(375.868523 303.028562) scale(0.1 -0.1)\">\n       <use xlink:href=\"#DejaVuSans-31\" transform=\"translate(0 0.765625)\"/>\n       <use xlink:href=\"#DejaVuSans-30\" transform=\"translate(63.623047 0.765625)\"/>\n       <use xlink:href=\"#DejaVuSans-30\" transform=\"translate(128.203125 39.046875) scale(0.7)\"/>\n      </g>\n     </g>\n    </g>\n    <g id=\"xtick_4\">\n     <g id=\"line2d_4\">\n      <defs>\n       <path id=\"m1b369df56a\" d=\"M 0 0 \nL 0 2 \n\" style=\"stroke: #000000; stroke-width: 0.6\"/>\n      </defs>\n      <g>\n       <use xlink:href=\"#m1b369df56a\" x=\"60.013977\" y=\"288.430125\" style=\"stroke: #000000; stroke-width: 0.6\"/>\n      </g>\n     </g>\n    </g>\n    <g id=\"xtick_5\">\n     <g id=\"line2d_5\">\n      <g>\n       <use xlink:href=\"#m1b369df56a\" x=\"81.195698\" y=\"288.430125\" style=\"stroke: #000000; stroke-width: 0.6\"/>\n      </g>\n     </g>\n    </g>\n    <g id=\"xtick_6\">\n     <g id=\"line2d_6\">\n      <g>\n       <use xlink:href=\"#m1b369df56a\" x=\"96.224367\" y=\"288.430125\" style=\"stroke: #000000; stroke-width: 0.6\"/>\n      </g>\n     </g>\n    </g>\n    <g id=\"xtick_7\">\n     <g id=\"line2d_7\">\n      <g>\n       <use xlink:href=\"#m1b369df56a\" x=\"107.881509\" y=\"288.430125\" style=\"stroke: #000000; stroke-width: 0.6\"/>\n      </g>\n     </g>\n    </g>\n    <g id=\"xtick_8\">\n     <g id=\"line2d_8\">\n      <g>\n       <use xlink:href=\"#m1b369df56a\" x=\"117.406088\" y=\"288.430125\" style=\"stroke: #000000; stroke-width: 0.6\"/>\n      </g>\n     </g>\n    </g>\n    <g id=\"xtick_9\">\n     <g id=\"line2d_9\">\n      <g>\n       <use xlink:href=\"#m1b369df56a\" x=\"125.459004\" y=\"288.430125\" style=\"stroke: #000000; stroke-width: 0.6\"/>\n      </g>\n     </g>\n    </g>\n    <g id=\"xtick_10\">\n     <g id=\"line2d_10\">\n      <g>\n       <use xlink:href=\"#m1b369df56a\" x=\"132.434757\" y=\"288.430125\" style=\"stroke: #000000; stroke-width: 0.6\"/>\n      </g>\n     </g>\n    </g>\n    <g id=\"xtick_11\">\n     <g id=\"line2d_11\">\n      <g>\n       <use xlink:href=\"#m1b369df56a\" x=\"138.587808\" y=\"288.430125\" style=\"stroke: #000000; stroke-width: 0.6\"/>\n      </g>\n     </g>\n    </g>\n    <g id=\"xtick_12\">\n     <g id=\"line2d_12\">\n      <g>\n       <use xlink:href=\"#m1b369df56a\" x=\"180.302289\" y=\"288.430125\" style=\"stroke: #000000; stroke-width: 0.6\"/>\n      </g>\n     </g>\n    </g>\n    <g id=\"xtick_13\">\n     <g id=\"line2d_13\">\n      <g>\n       <use xlink:href=\"#m1b369df56a\" x=\"201.484009\" y=\"288.430125\" style=\"stroke: #000000; stroke-width: 0.6\"/>\n      </g>\n     </g>\n    </g>\n    <g id=\"xtick_14\">\n     <g id=\"line2d_14\">\n      <g>\n       <use xlink:href=\"#m1b369df56a\" x=\"216.512679\" y=\"288.430125\" style=\"stroke: #000000; stroke-width: 0.6\"/>\n      </g>\n     </g>\n    </g>\n    <g id=\"xtick_15\">\n     <g id=\"line2d_15\">\n      <g>\n       <use xlink:href=\"#m1b369df56a\" x=\"228.169821\" y=\"288.430125\" style=\"stroke: #000000; stroke-width: 0.6\"/>\n      </g>\n     </g>\n    </g>\n    <g id=\"xtick_16\">\n     <g id=\"line2d_16\">\n      <g>\n       <use xlink:href=\"#m1b369df56a\" x=\"237.694399\" y=\"288.430125\" style=\"stroke: #000000; stroke-width: 0.6\"/>\n      </g>\n     </g>\n    </g>\n    <g id=\"xtick_17\">\n     <g id=\"line2d_17\">\n      <g>\n       <use xlink:href=\"#m1b369df56a\" x=\"245.747316\" y=\"288.430125\" style=\"stroke: #000000; stroke-width: 0.6\"/>\n      </g>\n     </g>\n    </g>\n    <g id=\"xtick_18\">\n     <g id=\"line2d_18\">\n      <g>\n       <use xlink:href=\"#m1b369df56a\" x=\"252.723069\" y=\"288.430125\" style=\"stroke: #000000; stroke-width: 0.6\"/>\n      </g>\n     </g>\n    </g>\n    <g id=\"xtick_19\">\n     <g id=\"line2d_19\">\n      <g>\n       <use xlink:href=\"#m1b369df56a\" x=\"258.87612\" y=\"288.430125\" style=\"stroke: #000000; stroke-width: 0.6\"/>\n      </g>\n     </g>\n    </g>\n    <g id=\"xtick_20\">\n     <g id=\"line2d_20\">\n      <g>\n       <use xlink:href=\"#m1b369df56a\" x=\"300.590601\" y=\"288.430125\" style=\"stroke: #000000; stroke-width: 0.6\"/>\n      </g>\n     </g>\n    </g>\n    <g id=\"xtick_21\">\n     <g id=\"line2d_21\">\n      <g>\n       <use xlink:href=\"#m1b369df56a\" x=\"321.772321\" y=\"288.430125\" style=\"stroke: #000000; stroke-width: 0.6\"/>\n      </g>\n     </g>\n    </g>\n    <g id=\"xtick_22\">\n     <g id=\"line2d_22\">\n      <g>\n       <use xlink:href=\"#m1b369df56a\" x=\"336.800991\" y=\"288.430125\" style=\"stroke: #000000; stroke-width: 0.6\"/>\n      </g>\n     </g>\n    </g>\n    <g id=\"xtick_23\">\n     <g id=\"line2d_23\">\n      <g>\n       <use xlink:href=\"#m1b369df56a\" x=\"348.458133\" y=\"288.430125\" style=\"stroke: #000000; stroke-width: 0.6\"/>\n      </g>\n     </g>\n    </g>\n    <g id=\"xtick_24\">\n     <g id=\"line2d_24\">\n      <g>\n       <use xlink:href=\"#m1b369df56a\" x=\"357.982711\" y=\"288.430125\" style=\"stroke: #000000; stroke-width: 0.6\"/>\n      </g>\n     </g>\n    </g>\n    <g id=\"xtick_25\">\n     <g id=\"line2d_25\">\n      <g>\n       <use xlink:href=\"#m1b369df56a\" x=\"366.035627\" y=\"288.430125\" style=\"stroke: #000000; stroke-width: 0.6\"/>\n      </g>\n     </g>\n    </g>\n    <g id=\"xtick_26\">\n     <g id=\"line2d_26\">\n      <g>\n       <use xlink:href=\"#m1b369df56a\" x=\"373.011381\" y=\"288.430125\" style=\"stroke: #000000; stroke-width: 0.6\"/>\n      </g>\n     </g>\n    </g>\n    <g id=\"xtick_27\">\n     <g id=\"line2d_27\">\n      <g>\n       <use xlink:href=\"#m1b369df56a\" x=\"379.164431\" y=\"288.430125\" style=\"stroke: #000000; stroke-width: 0.6\"/>\n      </g>\n     </g>\n    </g>\n    <g id=\"text_4\">\n     <!-- False Positive Rate -->\n     <g transform=\"translate(175.874844 316.706687) scale(0.1 -0.1)\">\n      <defs>\n       <path id=\"DejaVuSans-46\" d=\"M 628 4666 \nL 3309 4666 \nL 3309 4134 \nL 1259 4134 \nL 1259 2759 \nL 3109 2759 \nL 3109 2228 \nL 1259 2228 \nL 1259 0 \nL 628 0 \nL 628 4666 \nz\n\" transform=\"scale(0.015625)\"/>\n       <path id=\"DejaVuSans-61\" d=\"M 2194 1759 \nQ 1497 1759 1228 1600 \nQ 959 1441 959 1056 \nQ 959 750 1161 570 \nQ 1363 391 1709 391 \nQ 2188 391 2477 730 \nQ 2766 1069 2766 1631 \nL 2766 1759 \nL 2194 1759 \nz\nM 3341 1997 \nL 3341 0 \nL 2766 0 \nL 2766 531 \nQ 2569 213 2275 61 \nQ 1981 -91 1556 -91 \nQ 1019 -91 701 211 \nQ 384 513 384 1019 \nQ 384 1609 779 1909 \nQ 1175 2209 1959 2209 \nL 2766 2209 \nL 2766 2266 \nQ 2766 2663 2505 2880 \nQ 2244 3097 1772 3097 \nQ 1472 3097 1187 3025 \nQ 903 2953 641 2809 \nL 641 3341 \nQ 956 3463 1253 3523 \nQ 1550 3584 1831 3584 \nQ 2591 3584 2966 3190 \nQ 3341 2797 3341 1997 \nz\n\" transform=\"scale(0.015625)\"/>\n       <path id=\"DejaVuSans-6c\" d=\"M 603 4863 \nL 1178 4863 \nL 1178 0 \nL 603 0 \nL 603 4863 \nz\n\" transform=\"scale(0.015625)\"/>\n       <path id=\"DejaVuSans-73\" d=\"M 2834 3397 \nL 2834 2853 \nQ 2591 2978 2328 3040 \nQ 2066 3103 1784 3103 \nQ 1356 3103 1142 2972 \nQ 928 2841 928 2578 \nQ 928 2378 1081 2264 \nQ 1234 2150 1697 2047 \nL 1894 2003 \nQ 2506 1872 2764 1633 \nQ 3022 1394 3022 966 \nQ 3022 478 2636 193 \nQ 2250 -91 1575 -91 \nQ 1294 -91 989 -36 \nQ 684 19 347 128 \nL 347 722 \nQ 666 556 975 473 \nQ 1284 391 1588 391 \nQ 1994 391 2212 530 \nQ 2431 669 2431 922 \nQ 2431 1156 2273 1281 \nQ 2116 1406 1581 1522 \nL 1381 1569 \nQ 847 1681 609 1914 \nQ 372 2147 372 2553 \nQ 372 3047 722 3315 \nQ 1072 3584 1716 3584 \nQ 2034 3584 2315 3537 \nQ 2597 3491 2834 3397 \nz\n\" transform=\"scale(0.015625)\"/>\n       <path id=\"DejaVuSans-65\" d=\"M 3597 1894 \nL 3597 1613 \nL 953 1613 \nQ 991 1019 1311 708 \nQ 1631 397 2203 397 \nQ 2534 397 2845 478 \nQ 3156 559 3463 722 \nL 3463 178 \nQ 3153 47 2828 -22 \nQ 2503 -91 2169 -91 \nQ 1331 -91 842 396 \nQ 353 884 353 1716 \nQ 353 2575 817 3079 \nQ 1281 3584 2069 3584 \nQ 2775 3584 3186 3129 \nQ 3597 2675 3597 1894 \nz\nM 3022 2063 \nQ 3016 2534 2758 2815 \nQ 2500 3097 2075 3097 \nQ 1594 3097 1305 2825 \nQ 1016 2553 972 2059 \nL 3022 2063 \nz\n\" transform=\"scale(0.015625)\"/>\n       <path id=\"DejaVuSans-20\" transform=\"scale(0.015625)\"/>\n       <path id=\"DejaVuSans-50\" d=\"M 1259 4147 \nL 1259 2394 \nL 2053 2394 \nQ 2494 2394 2734 2622 \nQ 2975 2850 2975 3272 \nQ 2975 3691 2734 3919 \nQ 2494 4147 2053 4147 \nL 1259 4147 \nz\nM 628 4666 \nL 2053 4666 \nQ 2838 4666 3239 4311 \nQ 3641 3956 3641 3272 \nQ 3641 2581 3239 2228 \nQ 2838 1875 2053 1875 \nL 1259 1875 \nL 1259 0 \nL 628 0 \nL 628 4666 \nz\n\" transform=\"scale(0.015625)\"/>\n       <path id=\"DejaVuSans-6f\" d=\"M 1959 3097 \nQ 1497 3097 1228 2736 \nQ 959 2375 959 1747 \nQ 959 1119 1226 758 \nQ 1494 397 1959 397 \nQ 2419 397 2687 759 \nQ 2956 1122 2956 1747 \nQ 2956 2369 2687 2733 \nQ 2419 3097 1959 3097 \nz\nM 1959 3584 \nQ 2709 3584 3137 3096 \nQ 3566 2609 3566 1747 \nQ 3566 888 3137 398 \nQ 2709 -91 1959 -91 \nQ 1206 -91 779 398 \nQ 353 888 353 1747 \nQ 353 2609 779 3096 \nQ 1206 3584 1959 3584 \nz\n\" transform=\"scale(0.015625)\"/>\n       <path id=\"DejaVuSans-69\" d=\"M 603 3500 \nL 1178 3500 \nL 1178 0 \nL 603 0 \nL 603 3500 \nz\nM 603 4863 \nL 1178 4863 \nL 1178 4134 \nL 603 4134 \nL 603 4863 \nz\n\" transform=\"scale(0.015625)\"/>\n       <path id=\"DejaVuSans-74\" d=\"M 1172 4494 \nL 1172 3500 \nL 2356 3500 \nL 2356 3053 \nL 1172 3053 \nL 1172 1153 \nQ 1172 725 1289 603 \nQ 1406 481 1766 481 \nL 2356 481 \nL 2356 0 \nL 1766 0 \nQ 1100 0 847 248 \nQ 594 497 594 1153 \nL 594 3053 \nL 172 3053 \nL 172 3500 \nL 594 3500 \nL 594 4494 \nL 1172 4494 \nz\n\" transform=\"scale(0.015625)\"/>\n       <path id=\"DejaVuSans-76\" d=\"M 191 3500 \nL 800 3500 \nL 1894 563 \nL 2988 3500 \nL 3597 3500 \nL 2284 0 \nL 1503 0 \nL 191 3500 \nz\n\" transform=\"scale(0.015625)\"/>\n       <path id=\"DejaVuSans-52\" d=\"M 2841 2188 \nQ 3044 2119 3236 1894 \nQ 3428 1669 3622 1275 \nL 4263 0 \nL 3584 0 \nL 2988 1197 \nQ 2756 1666 2539 1819 \nQ 2322 1972 1947 1972 \nL 1259 1972 \nL 1259 0 \nL 628 0 \nL 628 4666 \nL 2053 4666 \nQ 2853 4666 3247 4331 \nQ 3641 3997 3641 3322 \nQ 3641 2881 3436 2590 \nQ 3231 2300 2841 2188 \nz\nM 1259 4147 \nL 1259 2491 \nL 2053 2491 \nQ 2509 2491 2742 2702 \nQ 2975 2913 2975 3322 \nQ 2975 3731 2742 3939 \nQ 2509 4147 2053 4147 \nL 1259 4147 \nz\n\" transform=\"scale(0.015625)\"/>\n      </defs>\n      <use xlink:href=\"#DejaVuSans-46\"/>\n      <use xlink:href=\"#DejaVuSans-61\" transform=\"translate(48.394531 0)\"/>\n      <use xlink:href=\"#DejaVuSans-6c\" transform=\"translate(109.673828 0)\"/>\n      <use xlink:href=\"#DejaVuSans-73\" transform=\"translate(137.457031 0)\"/>\n      <use xlink:href=\"#DejaVuSans-65\" transform=\"translate(189.556641 0)\"/>\n      <use xlink:href=\"#DejaVuSans-20\" transform=\"translate(251.080078 0)\"/>\n      <use xlink:href=\"#DejaVuSans-50\" transform=\"translate(282.867188 0)\"/>\n      <use xlink:href=\"#DejaVuSans-6f\" transform=\"translate(339.544922 0)\"/>\n      <use xlink:href=\"#DejaVuSans-73\" transform=\"translate(400.726562 0)\"/>\n      <use xlink:href=\"#DejaVuSans-69\" transform=\"translate(452.826172 0)\"/>\n      <use xlink:href=\"#DejaVuSans-74\" transform=\"translate(480.609375 0)\"/>\n      <use xlink:href=\"#DejaVuSans-69\" transform=\"translate(519.818359 0)\"/>\n      <use xlink:href=\"#DejaVuSans-76\" transform=\"translate(547.601562 0)\"/>\n      <use xlink:href=\"#DejaVuSans-65\" transform=\"translate(606.78125 0)\"/>\n      <use xlink:href=\"#DejaVuSans-20\" transform=\"translate(668.304688 0)\"/>\n      <use xlink:href=\"#DejaVuSans-52\" transform=\"translate(700.091797 0)\"/>\n      <use xlink:href=\"#DejaVuSans-61\" transform=\"translate(767.324219 0)\"/>\n      <use xlink:href=\"#DejaVuSans-74\" transform=\"translate(828.603516 0)\"/>\n      <use xlink:href=\"#DejaVuSans-65\" transform=\"translate(867.8125 0)\"/>\n     </g>\n    </g>\n   </g>\n   <g id=\"matplotlib.axis_2\">\n    <g id=\"ytick_1\">\n     <g id=\"line2d_28\">\n      <defs>\n       <path id=\"m0535bc81ee\" d=\"M 0 0 \nL -3.5 0 \n\" style=\"stroke: #000000; stroke-width: 0.8\"/>\n      </defs>\n      <g>\n       <use xlink:href=\"#m0535bc81ee\" x=\"43.78125\" y=\"276.334125\" style=\"stroke: #000000; stroke-width: 0.8\"/>\n      </g>\n     </g>\n     <g id=\"text_5\">\n      <!-- 0.0 -->\n      <g transform=\"translate(20.878125 280.133344) scale(0.1 -0.1)\">\n       <defs>\n        <path id=\"DejaVuSans-2e\" d=\"M 684 794 \nL 1344 794 \nL 1344 0 \nL 684 0 \nL 684 794 \nz\n\" transform=\"scale(0.015625)\"/>\n       </defs>\n       <use xlink:href=\"#DejaVuSans-30\"/>\n       <use xlink:href=\"#DejaVuSans-2e\" transform=\"translate(63.623047 0)\"/>\n       <use xlink:href=\"#DejaVuSans-30\" transform=\"translate(95.410156 0)\"/>\n      </g>\n     </g>\n    </g>\n    <g id=\"ytick_2\">\n     <g id=\"line2d_29\">\n      <g>\n       <use xlink:href=\"#m0535bc81ee\" x=\"43.78125\" y=\"227.950125\" style=\"stroke: #000000; stroke-width: 0.8\"/>\n      </g>\n     </g>\n     <g id=\"text_6\">\n      <!-- 0.2 -->\n      <g transform=\"translate(20.878125 231.749344) scale(0.1 -0.1)\">\n       <use xlink:href=\"#DejaVuSans-30\"/>\n       <use xlink:href=\"#DejaVuSans-2e\" transform=\"translate(63.623047 0)\"/>\n       <use xlink:href=\"#DejaVuSans-32\" transform=\"translate(95.410156 0)\"/>\n      </g>\n     </g>\n    </g>\n    <g id=\"ytick_3\">\n     <g id=\"line2d_30\">\n      <g>\n       <use xlink:href=\"#m0535bc81ee\" x=\"43.78125\" y=\"179.566125\" style=\"stroke: #000000; stroke-width: 0.8\"/>\n      </g>\n     </g>\n     <g id=\"text_7\">\n      <!-- 0.4 -->\n      <g transform=\"translate(20.878125 183.365344) scale(0.1 -0.1)\">\n       <defs>\n        <path id=\"DejaVuSans-34\" d=\"M 2419 4116 \nL 825 1625 \nL 2419 1625 \nL 2419 4116 \nz\nM 2253 4666 \nL 3047 4666 \nL 3047 1625 \nL 3713 1625 \nL 3713 1100 \nL 3047 1100 \nL 3047 0 \nL 2419 0 \nL 2419 1100 \nL 313 1100 \nL 313 1709 \nL 2253 4666 \nz\n\" transform=\"scale(0.015625)\"/>\n       </defs>\n       <use xlink:href=\"#DejaVuSans-30\"/>\n       <use xlink:href=\"#DejaVuSans-2e\" transform=\"translate(63.623047 0)\"/>\n       <use xlink:href=\"#DejaVuSans-34\" transform=\"translate(95.410156 0)\"/>\n      </g>\n     </g>\n    </g>\n    <g id=\"ytick_4\">\n     <g id=\"line2d_31\">\n      <g>\n       <use xlink:href=\"#m0535bc81ee\" x=\"43.78125\" y=\"131.182125\" style=\"stroke: #000000; stroke-width: 0.8\"/>\n      </g>\n     </g>\n     <g id=\"text_8\">\n      <!-- 0.6 -->\n      <g transform=\"translate(20.878125 134.981344) scale(0.1 -0.1)\">\n       <defs>\n        <path id=\"DejaVuSans-36\" d=\"M 2113 2584 \nQ 1688 2584 1439 2293 \nQ 1191 2003 1191 1497 \nQ 1191 994 1439 701 \nQ 1688 409 2113 409 \nQ 2538 409 2786 701 \nQ 3034 994 3034 1497 \nQ 3034 2003 2786 2293 \nQ 2538 2584 2113 2584 \nz\nM 3366 4563 \nL 3366 3988 \nQ 3128 4100 2886 4159 \nQ 2644 4219 2406 4219 \nQ 1781 4219 1451 3797 \nQ 1122 3375 1075 2522 \nQ 1259 2794 1537 2939 \nQ 1816 3084 2150 3084 \nQ 2853 3084 3261 2657 \nQ 3669 2231 3669 1497 \nQ 3669 778 3244 343 \nQ 2819 -91 2113 -91 \nQ 1303 -91 875 529 \nQ 447 1150 447 2328 \nQ 447 3434 972 4092 \nQ 1497 4750 2381 4750 \nQ 2619 4750 2861 4703 \nQ 3103 4656 3366 4563 \nz\n\" transform=\"scale(0.015625)\"/>\n       </defs>\n       <use xlink:href=\"#DejaVuSans-30\"/>\n       <use xlink:href=\"#DejaVuSans-2e\" transform=\"translate(63.623047 0)\"/>\n       <use xlink:href=\"#DejaVuSans-36\" transform=\"translate(95.410156 0)\"/>\n      </g>\n     </g>\n    </g>\n    <g id=\"ytick_5\">\n     <g id=\"line2d_32\">\n      <g>\n       <use xlink:href=\"#m0535bc81ee\" x=\"43.78125\" y=\"82.798125\" style=\"stroke: #000000; stroke-width: 0.8\"/>\n      </g>\n     </g>\n     <g id=\"text_9\">\n      <!-- 0.8 -->\n      <g transform=\"translate(20.878125 86.597344) scale(0.1 -0.1)\">\n       <defs>\n        <path id=\"DejaVuSans-38\" d=\"M 2034 2216 \nQ 1584 2216 1326 1975 \nQ 1069 1734 1069 1313 \nQ 1069 891 1326 650 \nQ 1584 409 2034 409 \nQ 2484 409 2743 651 \nQ 3003 894 3003 1313 \nQ 3003 1734 2745 1975 \nQ 2488 2216 2034 2216 \nz\nM 1403 2484 \nQ 997 2584 770 2862 \nQ 544 3141 544 3541 \nQ 544 4100 942 4425 \nQ 1341 4750 2034 4750 \nQ 2731 4750 3128 4425 \nQ 3525 4100 3525 3541 \nQ 3525 3141 3298 2862 \nQ 3072 2584 2669 2484 \nQ 3125 2378 3379 2068 \nQ 3634 1759 3634 1313 \nQ 3634 634 3220 271 \nQ 2806 -91 2034 -91 \nQ 1263 -91 848 271 \nQ 434 634 434 1313 \nQ 434 1759 690 2068 \nQ 947 2378 1403 2484 \nz\nM 1172 3481 \nQ 1172 3119 1398 2916 \nQ 1625 2713 2034 2713 \nQ 2441 2713 2670 2916 \nQ 2900 3119 2900 3481 \nQ 2900 3844 2670 4047 \nQ 2441 4250 2034 4250 \nQ 1625 4250 1398 4047 \nQ 1172 3844 1172 3481 \nz\n\" transform=\"scale(0.015625)\"/>\n       </defs>\n       <use xlink:href=\"#DejaVuSans-30\"/>\n       <use xlink:href=\"#DejaVuSans-2e\" transform=\"translate(63.623047 0)\"/>\n       <use xlink:href=\"#DejaVuSans-38\" transform=\"translate(95.410156 0)\"/>\n      </g>\n     </g>\n    </g>\n    <g id=\"ytick_6\">\n     <g id=\"line2d_33\">\n      <g>\n       <use xlink:href=\"#m0535bc81ee\" x=\"43.78125\" y=\"34.414125\" style=\"stroke: #000000; stroke-width: 0.8\"/>\n      </g>\n     </g>\n     <g id=\"text_10\">\n      <!-- 1.0 -->\n      <g transform=\"translate(20.878125 38.213344) scale(0.1 -0.1)\">\n       <use xlink:href=\"#DejaVuSans-31\"/>\n       <use xlink:href=\"#DejaVuSans-2e\" transform=\"translate(63.623047 0)\"/>\n       <use xlink:href=\"#DejaVuSans-30\" transform=\"translate(95.410156 0)\"/>\n      </g>\n     </g>\n    </g>\n    <g id=\"text_11\">\n     <!-- True Positive Rate -->\n     <g transform=\"translate(14.798438 199.903812) rotate(-90) scale(0.1 -0.1)\">\n      <defs>\n       <path id=\"DejaVuSans-54\" d=\"M -19 4666 \nL 3928 4666 \nL 3928 4134 \nL 2272 4134 \nL 2272 0 \nL 1638 0 \nL 1638 4134 \nL -19 4134 \nL -19 4666 \nz\n\" transform=\"scale(0.015625)\"/>\n       <path id=\"DejaVuSans-72\" d=\"M 2631 2963 \nQ 2534 3019 2420 3045 \nQ 2306 3072 2169 3072 \nQ 1681 3072 1420 2755 \nQ 1159 2438 1159 1844 \nL 1159 0 \nL 581 0 \nL 581 3500 \nL 1159 3500 \nL 1159 2956 \nQ 1341 3275 1631 3429 \nQ 1922 3584 2338 3584 \nQ 2397 3584 2469 3576 \nQ 2541 3569 2628 3553 \nL 2631 2963 \nz\n\" transform=\"scale(0.015625)\"/>\n       <path id=\"DejaVuSans-75\" d=\"M 544 1381 \nL 544 3500 \nL 1119 3500 \nL 1119 1403 \nQ 1119 906 1312 657 \nQ 1506 409 1894 409 \nQ 2359 409 2629 706 \nQ 2900 1003 2900 1516 \nL 2900 3500 \nL 3475 3500 \nL 3475 0 \nL 2900 0 \nL 2900 538 \nQ 2691 219 2414 64 \nQ 2138 -91 1772 -91 \nQ 1169 -91 856 284 \nQ 544 659 544 1381 \nz\nM 1991 3584 \nL 1991 3584 \nz\n\" transform=\"scale(0.015625)\"/>\n      </defs>\n      <use xlink:href=\"#DejaVuSans-54\"/>\n      <use xlink:href=\"#DejaVuSans-72\" transform=\"translate(46.333984 0)\"/>\n      <use xlink:href=\"#DejaVuSans-75\" transform=\"translate(87.447266 0)\"/>\n      <use xlink:href=\"#DejaVuSans-65\" transform=\"translate(150.826172 0)\"/>\n      <use xlink:href=\"#DejaVuSans-20\" transform=\"translate(212.349609 0)\"/>\n      <use xlink:href=\"#DejaVuSans-50\" transform=\"translate(244.136719 0)\"/>\n      <use xlink:href=\"#DejaVuSans-6f\" transform=\"translate(300.814453 0)\"/>\n      <use xlink:href=\"#DejaVuSans-73\" transform=\"translate(361.996094 0)\"/>\n      <use xlink:href=\"#DejaVuSans-69\" transform=\"translate(414.095703 0)\"/>\n      <use xlink:href=\"#DejaVuSans-74\" transform=\"translate(441.878906 0)\"/>\n      <use xlink:href=\"#DejaVuSans-69\" transform=\"translate(481.087891 0)\"/>\n      <use xlink:href=\"#DejaVuSans-76\" transform=\"translate(508.871094 0)\"/>\n      <use xlink:href=\"#DejaVuSans-65\" transform=\"translate(568.050781 0)\"/>\n      <use xlink:href=\"#DejaVuSans-20\" transform=\"translate(629.574219 0)\"/>\n      <use xlink:href=\"#DejaVuSans-52\" transform=\"translate(661.361328 0)\"/>\n      <use xlink:href=\"#DejaVuSans-61\" transform=\"translate(728.59375 0)\"/>\n      <use xlink:href=\"#DejaVuSans-74\" transform=\"translate(789.873047 0)\"/>\n      <use xlink:href=\"#DejaVuSans-65\" transform=\"translate(829.082031 0)\"/>\n     </g>\n    </g>\n   </g>\n   <g id=\"line2d_34\">\n    <path d=\"M -1 276.334125 \nL 96.224367 276.334125 \nL 96.224367 275.850285 \nL 132.434757 275.850285 \nL 132.434757 274.398765 \nL 144.091899 274.398765 \nL 144.091899 272.947245 \nL 153.616478 272.947245 \nL 153.616478 272.463405 \nL 168.645147 272.463405 \nL 168.645147 271.011885 \nL 174.798198 271.011885 \nL 174.798198 270.528045 \nL 180.302289 270.528045 \nL 180.302289 268.592685 \nL 185.281345 268.592685 \nL 185.281345 268.108845 \nL 189.826867 268.108845 \nL 189.826867 267.141165 \nL 208.022601 267.141165 \nL 208.022601 266.173485 \nL 219.061504 266.173485 \nL 219.061504 265.689645 \nL 226.037257 265.689645 \nL 226.037257 262.786605 \nL 230.218733 262.786605 \nL 230.218733 261.335085 \nL 232.190308 261.335085 \nL 232.190308 259.883565 \nL 244.232991 259.883565 \nL 244.232991 259.399725 \nL 245.747316 259.399725 \nL 245.747316 257.948205 \nL 248.650315 257.948205 \nL 248.650315 256.980525 \nL 252.723069 256.980525 \nL 252.723069 256.496685 \nL 254.013025 256.496685 \nL 254.013025 256.012845 \nL 255.271894 256.012845 \nL 255.271894 255.529005 \nL 257.702125 255.529005 \nL 257.702125 254.561325 \nL 261.147806 254.561325 \nL 261.147806 254.077485 \nL 262.247647 254.077485 \nL 262.247647 253.593645 \nL 267.424211 253.593645 \nL 267.424211 250.690605 \nL 271.225199 250.690605 \nL 271.225199 249.239085 \nL 272.133754 249.239085 \nL 272.133754 247.787565 \nL 275.617748 247.787565 \nL 275.617748 247.303725 \nL 276.453614 247.303725 \nL 276.453614 246.336045 \nL 277.276317 246.336045 \nL 277.276317 245.368365 \nL 278.086264 245.368365 \nL 278.086264 243.916845 \nL 278.883846 243.916845 \nL 278.883846 242.949165 \nL 280.443381 242.949165 \nL 280.443381 241.497645 \nL 281.20603 241.497645 \nL 281.20603 240.529965 \nL 283.429368 240.529965 \nL 283.429368 239.562285 \nL 284.149938 239.562285 \nL 284.149938 239.078445 \nL 284.860705 239.078445 \nL 284.860705 238.110765 \nL 285.561931 238.110765 \nL 285.561931 237.143085 \nL 286.253869 237.143085 \nL 286.253869 235.691565 \nL 288.276337 235.691565 \nL 288.276337 234.723885 \nL 288.933459 234.723885 \nL 288.933459 234.240045 \nL 289.582418 234.240045 \nL 289.582418 233.756205 \nL 290.223415 233.756205 \nL 290.223415 232.788525 \nL 292.100523 232.788525 \nL 292.100523 232.304685 \nL 293.912515 232.304685 \nL 293.912515 231.820845 \nL 295.08651 231.820845 \nL 295.08651 231.337005 \nL 295.663759 231.337005 \nL 295.663759 230.369325 \nL 297.358196 230.369325 \nL 297.358196 228.917805 \nL 298.999395 228.917805 \nL 298.999395 227.950125 \nL 299.5352 227.950125 \nL 299.5352 226.498605 \nL 300.590601 226.498605 \nL 300.590601 225.047085 \nL 301.110412 225.047085 \nL 301.110412 224.079405 \nL 302.639513 224.079405 \nL 302.639513 223.595565 \nL 304.611088 223.595565 \nL 304.611088 223.111725 \nL 305.092571 223.111725 \nL 305.092571 222.627885 \nL 306.510954 222.627885 \nL 306.510954 221.660205 \nL 307.435589 221.660205 \nL 307.435589 221.176365 \nL 307.891842 221.176365 \nL 307.891842 220.692525 \nL 309.237166 220.692525 \nL 309.237166 220.208685 \nL 310.115179 220.208685 \nL 310.115179 219.724845 \nL 310.548713 219.724845 \nL 310.548713 218.757165 \nL 311.405135 218.757165 \nL 311.405135 218.273325 \nL 312.247743 218.273325 \nL 312.247743 216.821805 \nL 312.664004 216.821805 \nL 312.664004 216.337965 \nL 313.486707 216.337965 \nL 313.486707 215.854125 \nL 313.89325 215.854125 \nL 313.89325 213.434925 \nL 314.296654 213.434925 \nL 314.296654 212.951085 \nL 315.879823 212.951085 \nL 315.879823 211.983405 \nL 317.036487 211.983405 \nL 317.036487 210.531885 \nL 317.41642 210.531885 \nL 317.41642 210.048045 \nL 317.79361 210.048045 \nL 317.79361 209.564205 \nL 318.168096 209.564205 \nL 318.168096 208.596525 \nL 319.639758 208.596525 \nL 319.639758 208.112685 \nL 320.360328 208.112685 \nL 320.360328 206.177325 \nL 321.422885 206.177325 \nL 321.422885 205.693485 \nL 321.772321 205.693485 \nL 321.772321 205.209645 \nL 322.119436 205.209645 \nL 322.119436 204.241965 \nL 322.464259 204.241965 \nL 322.464259 203.274285 \nL 323.48528 203.274285 \nL 323.48528 202.790445 \nL 323.821233 202.790445 \nL 323.821233 202.306605 \nL 324.155039 202.306605 \nL 324.155039 201.822765 \nL 324.486727 201.822765 \nL 324.486727 201.338925 \nL 325.792808 201.338925 \nL 325.792808 198.435885 \nL 326.11429 198.435885 \nL 326.11429 197.952045 \nL 326.433805 197.952045 \nL 326.433805 196.500525 \nL 327.067031 196.500525 \nL 327.067031 195.532845 \nL 328.92192 195.532845 \nL 328.92192 193.597485 \nL 330.418886 193.597485 \nL 330.418886 193.113645 \nL 330.7132 193.113645 \nL 330.7132 190.210605 \nL 331.2969 190.210605 \nL 331.2969 189.242925 \nL 331.586322 189.242925 \nL 331.586322 188.759085 \nL 331.874149 188.759085 \nL 331.874149 187.791405 \nL 332.160399 187.791405 \nL 332.160399 185.856045 \nL 332.728237 185.856045 \nL 332.728237 184.404525 \nL 333.845725 184.404525 \nL 333.845725 183.920685 \nL 334.39563 183.920685 \nL 334.39563 179.566125 \nL 338.345159 179.566125 \nL 338.345159 178.598445 \nL 338.59814 178.598445 \nL 338.59814 177.630765 \nL 338.849903 177.630765 \nL 338.849903 176.179245 \nL 340.579062 176.179245 \nL 340.579062 175.695405 \nL 341.542049 175.695405 \nL 341.542049 175.211565 \nL 342.721344 175.211565 \nL 342.721344 174.243885 \nL 342.954041 174.243885 \nL 342.954041 173.760045 \nL 343.185707 173.760045 \nL 343.185707 172.792365 \nL 343.874604 172.792365 \nL 343.874604 170.857005 \nL 344.102232 170.857005 \nL 344.102232 169.889325 \nL 344.554534 169.889325 \nL 344.554534 169.405485 \nL 344.779224 169.405485 \nL 344.779224 168.921645 \nL 345.225728 168.921645 \nL 345.225728 167.953965 \nL 346.325569 167.953965 \nL 346.325569 167.470125 \nL 346.759103 167.470125 \nL 346.759103 166.502445 \nL 347.189069 166.502445 \nL 347.189069 165.534765 \nL 347.615525 165.534765 \nL 347.615525 165.050925 \nL 348.038528 165.050925 \nL 348.038528 162.631725 \nL 348.248752 162.631725 \nL 348.248752 162.147885 \nL 348.874394 162.147885 \nL 348.874394 160.212525 \nL 349.081288 160.212525 \nL 349.081288 159.728685 \nL 349.287365 159.728685 \nL 349.287365 159.244845 \nL 349.492633 159.244845 \nL 349.492633 158.761005 \nL 349.900764 158.761005 \nL 349.900764 158.277165 \nL 350.707584 158.277165 \nL 350.707584 157.309485 \nL 350.907357 157.309485 \nL 350.907357 154.890285 \nL 351.304626 154.890285 \nL 351.304626 152.954925 \nL 351.89492 152.954925 \nL 351.89492 152.471085 \nL 352.47862 152.471085 \nL 352.47862 151.987245 \nL 353.437189 151.987245 \nL 353.437189 151.019565 \nL 354.004 151.019565 \nL 354.004 150.051885 \nL 354.191578 150.051885 \nL 354.191578 149.568045 \nL 354.378486 149.568045 \nL 354.378486 148.600365 \nL 355.119499 148.600365 \nL 355.119499 147.632685 \nL 355.303121 147.632685 \nL 355.303121 147.148845 \nL 356.211675 147.148845 \nL 356.211675 146.181165 \nL 356.391505 146.181165 \nL 356.391505 144.729645 \nL 356.749319 144.729645 \nL 356.749319 144.245805 \nL 356.927311 144.245805 \nL 356.927311 142.794285 \nL 357.281485 142.794285 \nL 357.281485 142.310445 \nL 357.633275 142.310445 \nL 357.633275 141.342765 \nL 357.808285 141.342765 \nL 357.808285 140.858925 \nL 358.156557 140.858925 \nL 358.156557 138.923565 \nL 358.502522 138.923565 \nL 358.502522 138.439725 \nL 358.674649 138.439725 \nL 358.674649 137.955885 \nL 359.526879 137.955885 \nL 359.526879 137.472045 \nL 359.863916 137.472045 \nL 359.863916 135.536685 \nL 360.198793 135.536685 \nL 360.198793 134.569005 \nL 360.365429 134.569005 \nL 360.365429 134.085165 \nL 360.531536 134.085165 \nL 360.531536 132.633645 \nL 360.697117 132.633645 \nL 360.697117 129.730605 \nL 361.026711 129.730605 \nL 361.026711 129.246765 \nL 361.190732 129.246765 \nL 361.190732 128.279085 \nL 361.517236 128.279085 \nL 361.517236 127.311405 \nL 361.679726 127.311405 \nL 361.679726 124.892205 \nL 361.841713 124.892205 \nL 361.841713 124.408365 \nL 362.484681 124.408365 \nL 362.484681 123.924525 \nL 363.119833 123.924525 \nL 363.119833 123.440685 \nL 363.277421 123.440685 \nL 363.277421 122.473005 \nL 363.434536 122.473005 \nL 363.434536 121.989165 \nL 363.591179 121.989165 \nL 363.591179 121.505325 \nL 363.747354 121.505325 \nL 363.747354 120.537645 \nL 364.213098 120.537645 \nL 364.213098 119.569965 \nL 364.521303 119.569965 \nL 364.521303 118.602285 \nL 364.674726 118.602285 \nL 364.674726 118.118445 \nL 365.283952 118.118445 \nL 365.283952 117.634605 \nL 365.435155 117.634605 \nL 365.435155 116.183085 \nL 365.736254 116.183085 \nL 365.736254 114.731565 \nL 365.886155 114.731565 \nL 365.886155 113.280045 \nL 366.184673 113.280045 \nL 366.184673 112.312365 \nL 366.333295 112.312365 \nL 366.333295 111.828525 \nL 366.481495 111.828525 \nL 366.481495 111.344685 \nL 366.776641 111.344685 \nL 366.776641 110.377005 \nL 366.92359 110.377005 \nL 366.92359 109.893165 \nL 367.940824 109.893165 \nL 367.940824 108.441645 \nL 368.084539 108.441645 \nL 368.084539 107.473965 \nL 368.22786 107.473965 \nL 368.22786 106.990125 \nL 368.370789 106.990125 \nL 368.370789 106.022445 \nL 368.513329 106.022445 \nL 368.513329 105.538605 \nL 368.65548 105.538605 \nL 368.65548 105.054765 \nL 369.079627 105.054765 \nL 369.079627 102.635565 \nL 369.360491 102.635565 \nL 369.360491 99.732525 \nL 369.500359 99.732525 \nL 369.500359 97.797165 \nL 369.917729 97.797165 \nL 369.917729 95.861805 \nL 370.056115 95.861805 \nL 370.056115 94.894125 \nL 370.742597 94.894125 \nL 370.742597 94.410285 \nL 371.150198 94.410285 \nL 371.150198 92.958765 \nL 371.420175 92.958765 \nL 371.420175 91.991085 \nL 371.688765 91.991085 \nL 371.688765 91.507245 \nL 371.822543 91.507245 \nL 371.822543 87.152685 \nL 372.221836 87.152685 \nL 372.221836 86.668845 \nL 372.354258 86.668845 \nL 372.354258 86.185005 \nL 372.749523 86.185005 \nL 372.749523 85.217325 \nL 372.880616 85.217325 \nL 372.880616 84.733485 \nL 373.011381 84.733485 \nL 373.011381 83.765805 \nL 373.531192 83.765805 \nL 373.531192 83.281965 \nL 373.917683 83.281965 \nL 373.917683 80.862765 \nL 374.173765 80.862765 \nL 374.173765 80.378925 \nL 374.428597 80.378925 \nL 374.428597 79.411245 \nL 374.555549 79.411245 \nL 374.555549 78.927405 \nL 374.80853 78.927405 \nL 374.80853 77.959725 \nL 374.934563 77.959725 \nL 374.934563 76.992045 \nL 375.060292 76.992045 \nL 375.060292 76.508205 \nL 375.310847 76.508205 \nL 375.310847 75.540525 \nL 375.560206 75.540525 \nL 375.560206 74.572845 \nL 375.68444 74.572845 \nL 375.68444 74.089005 \nL 375.80838 74.089005 \nL 375.80838 73.605165 \nL 376.178444 73.605165 \nL 376.178444 73.121325 \nL 376.301219 73.121325 \nL 376.301219 72.637485 \nL 376.423706 72.637485 \nL 376.423706 72.153645 \nL 376.545906 72.153645 \nL 376.545906 71.185965 \nL 376.667821 71.185965 \nL 376.667821 68.282925 \nL 376.789452 68.282925 \nL 376.789452 67.799085 \nL 377.031868 67.799085 \nL 377.031868 65.379885 \nL 377.633032 65.379885 \nL 377.633032 64.896045 \nL 377.752439 64.896045 \nL 377.752439 64.412205 \nL 377.871573 64.412205 \nL 377.871573 63.928365 \nL 378.109031 63.928365 \nL 378.109031 63.444525 \nL 378.345414 63.444525 \nL 378.345414 62.960685 \nL 378.580732 62.960685 \nL 378.580732 61.509165 \nL 378.814995 61.509165 \nL 378.814995 60.541485 \nL 379.164431 60.541485 \nL 379.164431 59.089965 \nL 379.511546 59.089965 \nL 379.511546 56.670765 \nL 379.62674 56.670765 \nL 379.62674 54.251565 \nL 379.741681 54.251565 \nL 379.741681 53.283885 \nL 379.970807 53.283885 \nL 379.970807 52.800045 \nL 380.084994 52.800045 \nL 380.084994 52.316205 \nL 380.198932 52.316205 \nL 380.198932 51.348525 \nL 380.426065 51.348525 \nL 380.426065 50.864685 \nL 380.652215 50.864685 \nL 380.652215 50.380845 \nL 380.87739 50.380845 \nL 380.87739 49.897005 \nL 380.989614 49.897005 \nL 380.989614 49.413165 \nL 381.101599 49.413165 \nL 381.101599 48.929325 \nL 381.324849 48.929325 \nL 381.324849 46.993965 \nL 381.436118 46.993965 \nL 381.436118 46.510125 \nL 382.427011 46.510125 \nL 382.427011 45.542445 \nL 383.077317 45.542445 \nL 383.184919 43.607085 \nL 383.399459 43.607085 \nL 383.5064 41.187885 \nL 383.719627 41.187885 \nL 383.825915 39.736365 \nL 384.037844 39.736365 \nL 384.143488 38.284845 \nL 384.248918 38.284845 \nL 384.248918 37.317165 \nL 384.459141 37.317165 \nL 384.563937 34.414125 \nL 384.668523 34.414125 \nL 384.668523 34.414125 \n\" clip-path=\"url(#pc754dd0ae8)\" style=\"fill: none; stroke: #ff1493; stroke-width: 1.5; stroke-linecap: square\"/>\n   </g>\n   <g id=\"line2d_35\">\n    <path d=\"M -1 274.882605 \nL 60.013977 274.882605 \nL 60.013977 273.431085 \nL 96.224367 273.431085 \nL 96.224367 272.463405 \nL 117.406088 272.463405 \nL 117.406088 271.979565 \nL 132.434757 271.979565 \nL 132.434757 270.528045 \nL 153.616478 270.528045 \nL 153.616478 270.044205 \nL 168.645147 270.044205 \nL 168.645147 269.560365 \nL 174.798198 269.560365 \nL 174.798198 269.076525 \nL 180.302289 269.076525 \nL 180.302289 266.173485 \nL 194.008343 266.173485 \nL 194.008343 265.689645 \nL 201.484009 265.689645 \nL 201.484009 265.205805 \nL 204.855537 265.205805 \nL 204.855537 264.721965 \nL 208.022601 264.721965 \nL 208.022601 263.754285 \nL 213.833089 263.754285 \nL 213.833089 263.270445 \nL 219.061504 263.270445 \nL 219.061504 262.786605 \nL 226.037257 262.786605 \nL 226.037257 262.302765 \nL 228.169821 262.302765 \nL 228.169821 261.818925 \nL 234.090174 261.818925 \nL 234.090174 261.335085 \nL 235.923364 261.335085 \nL 235.923364 260.367405 \nL 237.694399 260.367405 \nL 237.694399 258.915885 \nL 239.407358 258.915885 \nL 239.407358 257.948205 \nL 241.065927 257.948205 \nL 241.065927 256.980525 \nL 244.232991 256.980525 \nL 244.232991 254.561325 \nL 245.747316 254.561325 \nL 245.747316 253.593645 \nL 247.218978 253.593645 \nL 247.218978 253.109805 \nL 248.650315 253.109805 \nL 248.650315 251.658285 \nL 250.043479 251.658285 \nL 250.043479 251.174445 \nL 254.013025 251.174445 \nL 254.013025 249.239085 \nL 255.271894 249.239085 \nL 255.271894 248.271405 \nL 258.87612 248.271405 \nL 258.87612 247.787565 \nL 261.147806 247.787565 \nL 261.147806 247.303725 \nL 262.247647 247.303725 \nL 262.247647 246.819885 \nL 264.380211 246.819885 \nL 264.380211 245.368365 \nL 265.414711 245.368365 \nL 265.414711 244.884525 \nL 267.424211 244.884525 \nL 267.424211 244.400685 \nL 268.400698 244.400685 \nL 268.400698 242.465325 \nL 270.300564 242.465325 \nL 270.300564 241.497645 \nL 271.225199 241.497645 \nL 271.225199 241.013805 \nL 277.276317 241.013805 \nL 277.276317 240.529965 \nL 278.086264 240.529965 \nL 278.086264 240.046125 \nL 282.698719 240.046125 \nL 282.698719 238.594605 \nL 283.429368 238.594605 \nL 283.429368 237.143085 \nL 284.149938 237.143085 \nL 284.149938 236.659245 \nL 287.610843 236.659245 \nL 287.610843 235.207725 \nL 288.276337 235.207725 \nL 288.276337 234.723885 \nL 290.223415 234.723885 \nL 290.223415 232.788525 \nL 291.482284 232.788525 \nL 291.482284 231.337005 \nL 292.100523 231.337005 \nL 292.100523 230.853165 \nL 293.315474 230.853165 \nL 293.315474 229.885485 \nL 293.912515 229.885485 \nL 293.912515 229.401645 \nL 295.08651 229.401645 \nL 295.08651 228.433965 \nL 295.663759 228.433965 \nL 295.663759 226.014765 \nL 296.2347 226.014765 \nL 296.2347 225.530925 \nL 297.911011 225.530925 \nL 297.911011 224.563245 \nL 301.110412 224.563245 \nL 301.110412 224.079405 \nL 301.625101 224.079405 \nL 301.625101 223.111725 \nL 302.134769 223.111725 \nL 302.134769 222.627885 \nL 303.139426 222.627885 \nL 303.139426 221.660205 \nL 303.634601 221.660205 \nL 303.634601 220.208685 \nL 304.125126 220.208685 \nL 304.125126 218.757165 \nL 306.510954 218.757165 \nL 306.510954 218.273325 \nL 306.975317 218.273325 \nL 306.975317 217.305645 \nL 308.344144 217.305645 \nL 308.344144 216.337965 \nL 309.237166 216.337965 \nL 309.237166 215.854125 \nL 309.678017 215.854125 \nL 309.678017 215.370285 \nL 310.115179 215.370285 \nL 310.115179 214.402605 \nL 310.548713 214.402605 \nL 310.548713 212.951085 \nL 310.978679 212.951085 \nL 310.978679 212.467245 \nL 311.405135 212.467245 \nL 311.405135 209.564205 \nL 312.247743 209.564205 \nL 312.247743 208.596525 \nL 312.664004 208.596525 \nL 312.664004 208.112685 \nL 313.076975 208.112685 \nL 313.076975 205.209645 \nL 313.89325 205.209645 \nL 313.89325 204.725805 \nL 314.296654 204.725805 \nL 314.296654 204.241965 \nL 317.036487 204.241965 \nL 317.036487 203.758125 \nL 318.168096 203.758125 \nL 318.168096 203.274285 \nL 318.539916 203.274285 \nL 318.539916 202.790445 \nL 318.909109 202.790445 \nL 318.909109 202.306605 \nL 319.275711 202.306605 \nL 319.275711 201.338925 \nL 319.639758 201.338925 \nL 319.639758 199.887405 \nL 320.360328 199.887405 \nL 320.360328 199.403565 \nL 321.422885 199.403565 \nL 321.422885 198.435885 \nL 322.119436 198.435885 \nL 322.119436 197.952045 \nL 322.806821 197.952045 \nL 322.806821 197.468205 \nL 323.147152 197.468205 \nL 323.147152 196.016685 \nL 323.48528 196.016685 \nL 323.48528 195.532845 \nL 324.816321 195.532845 \nL 324.816321 195.049005 \nL 325.143849 195.049005 \nL 325.143849 193.597485 \nL 325.469336 193.597485 \nL 325.469336 193.113645 \nL 326.11429 193.113645 \nL 326.11429 190.210605 \nL 326.433805 190.210605 \nL 326.433805 188.759085 \nL 326.751377 188.759085 \nL 326.751377 188.275245 \nL 327.067031 188.275245 \nL 327.067031 187.307565 \nL 327.380789 187.307565 \nL 327.380789 185.372205 \nL 327.692674 185.372205 \nL 327.692674 184.888365 \nL 328.310913 184.888365 \nL 328.310913 183.920685 \nL 328.61731 183.920685 \nL 328.61731 181.017645 \nL 328.92192 181.017645 \nL 328.92192 180.049965 \nL 329.525864 180.049965 \nL 329.525864 179.082285 \nL 329.825237 179.082285 \nL 329.825237 178.598445 \nL 331.2969 178.598445 \nL 331.2969 178.114605 \nL 332.44509 178.114605 \nL 332.44509 175.695405 \nL 333.009858 175.695405 \nL 333.009858 175.211565 \nL 333.289969 175.211565 \nL 333.289969 172.792365 \nL 333.568586 172.792365 \nL 333.568586 171.824685 \nL 334.939808 171.824685 \nL 334.939808 170.373165 \nL 335.74559 170.373165 \nL 335.74559 169.405485 \nL 336.275956 169.405485 \nL 336.275956 168.921645 \nL 336.539133 168.921645 \nL 336.539133 166.502445 \nL 336.800991 166.502445 \nL 336.800991 166.018605 \nL 337.061543 166.018605 \nL 337.061543 165.534765 \nL 337.320802 165.534765 \nL 337.320802 165.050925 \nL 337.57878 165.050925 \nL 337.57878 164.083245 \nL 337.835491 164.083245 \nL 337.835491 163.599405 \nL 338.090947 163.599405 \nL 338.090947 161.664045 \nL 338.345159 161.664045 \nL 338.345159 161.180205 \nL 338.59814 161.180205 \nL 338.59814 159.244845 \nL 338.849903 159.244845 \nL 338.849903 157.793325 \nL 340.090829 157.793325 \nL 340.090829 157.309485 \nL 340.579062 157.309485 \nL 340.579062 156.825645 \nL 341.062774 156.825645 \nL 341.062774 156.341805 \nL 341.302961 156.341805 \nL 341.302961 155.374125 \nL 341.780047 155.374125 \nL 341.780047 154.406445 \nL 342.252815 154.406445 \nL 342.252815 152.954925 \nL 344.102232 152.954925 \nL 344.102232 152.471085 \nL 344.328872 152.471085 \nL 344.328872 151.503405 \nL 344.554534 151.503405 \nL 344.554534 150.051885 \nL 344.779224 150.051885 \nL 344.779224 149.568045 \nL 345.002953 149.568045 \nL 345.002953 148.116525 \nL 345.225728 148.116525 \nL 345.225728 147.632685 \nL 345.888407 147.632685 \nL 345.888407 147.148845 \nL 346.107446 147.148845 \nL 346.107446 146.665005 \nL 346.542786 146.665005 \nL 346.542786 145.697325 \nL 346.974529 145.697325 \nL 346.974529 144.245805 \nL 347.189069 144.245805 \nL 347.189069 143.761965 \nL 347.402732 143.761965 \nL 347.402732 142.794285 \nL 347.615525 142.794285 \nL 347.615525 142.310445 \nL 348.666678 142.310445 \nL 348.666678 141.826605 \nL 349.492633 141.826605 \nL 349.492633 140.375085 \nL 349.697097 140.375085 \nL 349.697097 138.439725 \nL 350.305732 138.439725 \nL 350.305732 137.472045 \nL 350.507044 137.472045 \nL 350.507044 136.988205 \nL 351.304626 136.988205 \nL 351.304626 136.504365 \nL 351.698896 136.504365 \nL 351.698896 136.020525 \nL 352.090212 136.020525 \nL 352.090212 135.052845 \nL 352.671746 135.052845 \nL 352.671746 134.569005 \nL 353.246877 134.569005 \nL 353.246877 134.085165 \nL 353.437189 134.085165 \nL 353.437189 133.117485 \nL 353.62681 133.117485 \nL 353.62681 132.633645 \nL 354.004 132.633645 \nL 354.004 131.665965 \nL 355.119499 131.665965 \nL 355.119499 130.214445 \nL 355.303121 130.214445 \nL 355.303121 129.246765 \nL 356.749319 129.246765 \nL 356.749319 128.279085 \nL 356.927311 128.279085 \nL 356.927311 127.795245 \nL 357.281485 127.795245 \nL 357.281485 126.827565 \nL 357.633275 126.827565 \nL 357.633275 125.376045 \nL 357.808285 125.376045 \nL 357.808285 124.892205 \nL 358.156557 124.892205 \nL 358.156557 123.924525 \nL 358.674649 123.924525 \nL 358.674649 123.440685 \nL 358.846211 123.440685 \nL 358.846211 122.473005 \nL 359.017211 122.473005 \nL 359.017211 121.989165 \nL 359.357542 121.989165 \nL 359.357542 119.569965 \nL 359.69567 119.569965 \nL 359.69567 118.602285 \nL 360.365429 118.602285 \nL 360.365429 116.183085 \nL 360.697117 116.183085 \nL 360.697117 115.215405 \nL 360.862174 115.215405 \nL 360.862174 113.763885 \nL 361.517236 113.763885 \nL 361.517236 113.280045 \nL 361.841713 113.280045 \nL 361.841713 112.796205 \nL 362.164186 112.796205 \nL 362.164186 112.312365 \nL 362.961767 112.312365 \nL 362.961767 110.377005 \nL 363.119833 110.377005 \nL 363.119833 108.441645 \nL 363.434536 108.441645 \nL 363.434536 107.957805 \nL 364.058311 107.957805 \nL 364.058311 107.473965 \nL 364.213098 107.473965 \nL 364.213098 106.506285 \nL 364.367428 106.506285 \nL 364.367428 106.022445 \nL 364.521303 106.022445 \nL 364.521303 105.054765 \nL 365.13231 105.054765 \nL 365.13231 104.087085 \nL 365.283952 104.087085 \nL 365.283952 103.603245 \nL 365.435155 103.603245 \nL 365.435155 101.184045 \nL 365.585921 101.184045 \nL 365.585921 100.700205 \nL 365.736254 100.700205 \nL 365.736254 99.732525 \nL 365.886155 99.732525 \nL 365.886155 99.248685 \nL 366.035627 99.248685 \nL 366.035627 98.764845 \nL 366.481495 98.764845 \nL 366.481495 98.281005 \nL 366.629276 98.281005 \nL 366.629276 97.797165 \nL 366.776641 97.797165 \nL 366.776641 97.313325 \nL 366.92359 97.313325 \nL 366.92359 96.829485 \nL 367.216255 96.829485 \nL 367.216255 95.861805 \nL 367.361975 95.861805 \nL 367.361975 94.894125 \nL 367.50729 94.894125 \nL 367.50729 93.926445 \nL 367.652201 93.926445 \nL 367.652201 92.958765 \nL 367.940824 92.958765 \nL 367.940824 92.474925 \nL 368.084539 92.474925 \nL 368.084539 91.507245 \nL 368.65548 91.507245 \nL 368.65548 91.023405 \nL 369.360491 91.023405 \nL 369.360491 90.539565 \nL 369.778976 90.539565 \nL 369.778976 90.055725 \nL 370.331791 90.055725 \nL 370.331791 89.088045 \nL 370.60602 89.088045 \nL 370.60602 88.604205 \nL 370.742597 88.604205 \nL 370.742597 87.636525 \nL 370.878817 87.636525 \nL 370.878817 86.668845 \nL 371.554642 86.668845 \nL 371.554642 86.185005 \nL 371.822543 86.185005 \nL 371.822543 85.701165 \nL 371.95598 85.701165 \nL 371.95598 85.217325 \nL 372.221836 85.217325 \nL 372.221836 84.733485 \nL 372.354258 84.733485 \nL 372.354258 84.249645 \nL 372.486346 84.249645 \nL 372.486346 83.281965 \nL 372.6181 83.281965 \nL 372.6181 82.798125 \nL 373.141819 82.798125 \nL 373.141819 81.830445 \nL 373.66034 81.830445 \nL 373.66034 81.346605 \nL 373.917683 81.346605 \nL 373.917683 80.862765 \nL 374.173765 80.862765 \nL 374.173765 80.378925 \nL 374.80853 80.378925 \nL 374.80853 79.895085 \nL 374.934563 79.895085 \nL 374.934563 79.411245 \nL 375.18572 79.411245 \nL 375.18572 77.959725 \nL 375.435675 77.959725 \nL 375.435675 75.540525 \nL 375.560206 75.540525 \nL 375.560206 75.056685 \nL 375.932026 75.056685 \nL 375.932026 74.572845 \nL 376.178444 74.572845 \nL 376.178444 74.089005 \nL 376.545906 74.089005 \nL 376.545906 73.121325 \nL 376.667821 73.121325 \nL 376.667821 71.669805 \nL 376.789452 71.669805 \nL 376.789452 71.185965 \nL 376.910801 71.185965 \nL 376.910801 70.218285 \nL 377.031868 70.218285 \nL 377.031868 69.734445 \nL 377.273164 69.734445 \nL 377.273164 68.766765 \nL 377.393396 68.766765 \nL 377.393396 68.282925 \nL 377.513351 68.282925 \nL 377.513351 67.799085 \nL 377.633032 67.799085 \nL 377.633032 66.831405 \nL 377.871573 66.831405 \nL 377.871573 65.863725 \nL 377.990437 65.863725 \nL 377.990437 64.412205 \nL 378.109031 64.412205 \nL 378.109031 63.928365 \nL 378.227356 63.928365 \nL 378.227356 63.444525 \nL 378.580732 63.444525 \nL 378.580732 61.993005 \nL 378.814995 61.993005 \nL 378.814995 61.509165 \nL 378.931734 61.509165 \nL 378.931734 61.025325 \nL 379.396097 61.025325 \nL 379.396097 60.541485 \nL 379.62674 60.541485 \nL 379.62674 60.057645 \nL 379.741681 60.057645 \nL 379.741681 59.573805 \nL 379.970807 59.573805 \nL 379.970807 59.089965 \nL 380.084994 59.089965 \nL 380.084994 58.606125 \nL 380.312622 58.606125 \nL 380.312622 58.122285 \nL 380.652215 58.122285 \nL 380.652215 57.638445 \nL 380.764924 57.638445 \nL 380.764924 57.154605 \nL 380.87739 57.154605 \nL 380.87739 56.186925 \nL 381.101599 56.186925 \nL 381.101599 55.703085 \nL 381.213343 55.703085 \nL 381.213343 55.219245 \nL 381.436118 55.219245 \nL 381.436118 54.735405 \nL 381.768508 54.735405 \nL 381.878837 53.283885 \nL 382.098797 53.283885 \nL 382.208431 50.380845 \nL 382.317836 50.380845 \nL 382.427011 48.929325 \nL 382.535959 48.929325 \nL 382.535959 48.445485 \nL 382.753176 48.445485 \nL 382.861447 47.477805 \nL 382.969493 47.477805 \nL 382.969493 46.993965 \nL 383.5064 46.993965 \nL 383.613122 44.090925 \nL 383.719627 44.090925 \nL 383.719627 39.736365 \nL 383.931987 39.736365 \nL 384.037844 37.801005 \nL 384.248918 37.801005 \nL 384.248918 36.833325 \nL 384.668523 36.833325 \nL 384.668523 34.414125 \nL 384.668523 34.414125 \n\" clip-path=\"url(#pc754dd0ae8)\" style=\"fill: none; stroke: #00ffff; stroke-width: 1.5; stroke-linecap: square\"/>\n   </g>\n   <g id=\"line2d_36\">\n    <path d=\"M -1 275.850285 \nL 60.013977 275.850285 \nL 60.013977 274.882605 \nL 161.669394 274.882605 \nL 161.669394 274.398765 \nL 168.645147 274.398765 \nL 168.645147 273.914925 \nL 189.826867 273.914925 \nL 189.826867 273.431085 \nL 194.008343 273.431085 \nL 194.008343 272.947245 \nL 197.879784 272.947245 \nL 197.879784 270.044205 \nL 201.484009 270.044205 \nL 201.484009 269.076525 \nL 204.855537 269.076525 \nL 204.855537 268.592685 \nL 213.833089 268.592685 \nL 213.833089 268.108845 \nL 216.512679 268.108845 \nL 216.512679 267.625005 \nL 223.81392 267.625005 \nL 223.81392 267.141165 \nL 226.037257 267.141165 \nL 226.037257 265.205805 \nL 228.169821 265.205805 \nL 228.169821 262.786605 \nL 230.218733 262.786605 \nL 230.218733 262.302765 \nL 237.694399 262.302765 \nL 237.694399 261.335085 \nL 239.407358 261.335085 \nL 239.407358 259.399725 \nL 242.673456 259.399725 \nL 242.673456 258.915885 \nL 244.232991 258.915885 \nL 244.232991 256.980525 \nL 247.218978 256.980525 \nL 247.218978 256.012845 \nL 248.650315 256.012845 \nL 248.650315 255.529005 \nL 251.400453 255.529005 \nL 251.400453 255.045165 \nL 254.013025 255.045165 \nL 254.013025 254.561325 \nL 255.271894 254.561325 \nL 255.271894 254.077485 \nL 257.702125 254.077485 \nL 257.702125 253.109805 \nL 266.429123 253.109805 \nL 266.429123 252.625965 \nL 267.424211 252.625965 \nL 267.424211 251.174445 \nL 269.359267 251.174445 \nL 269.359267 250.690605 \nL 270.300564 250.690605 \nL 270.300564 249.239085 \nL 271.225199 249.239085 \nL 271.225199 248.755245 \nL 272.133754 248.755245 \nL 272.133754 247.787565 \nL 273.026776 247.787565 \nL 273.026776 247.303725 \nL 276.453614 247.303725 \nL 276.453614 246.819885 \nL 278.086264 246.819885 \nL 278.086264 246.336045 \nL 279.669433 246.336045 \nL 279.669433 245.852205 \nL 281.20603 245.852205 \nL 281.20603 243.433005 \nL 282.698719 243.433005 \nL 282.698719 242.465325 \nL 283.429368 242.465325 \nL 283.429368 240.046125 \nL 285.561931 240.046125 \nL 285.561931 239.562285 \nL 286.253869 239.562285 \nL 286.253869 239.078445 \nL 286.936762 239.078445 \nL 286.936762 237.626925 \nL 287.610843 237.626925 \nL 287.610843 237.143085 \nL 288.276337 237.143085 \nL 288.276337 235.207725 \nL 290.223415 235.207725 \nL 290.223415 234.723885 \nL 290.856641 234.723885 \nL 290.856641 234.240045 \nL 291.482284 234.240045 \nL 291.482284 233.756205 \nL 292.100523 233.756205 \nL 292.100523 232.304685 \nL 293.912515 232.304685 \nL 293.912515 231.820845 \nL 295.663759 231.820845 \nL 295.663759 229.885485 \nL 296.2347 229.885485 \nL 296.2347 228.917805 \nL 296.799468 228.917805 \nL 296.799468 228.433965 \nL 297.358196 228.433965 \nL 297.358196 227.466285 \nL 298.458037 227.466285 \nL 298.458037 226.014765 \nL 299.5352 226.014765 \nL 299.5352 225.530925 \nL 300.065566 225.530925 \nL 300.065566 224.079405 \nL 302.639513 224.079405 \nL 302.639513 221.660205 \nL 303.139426 221.660205 \nL 303.139426 220.208685 \nL 304.125126 220.208685 \nL 304.125126 219.724845 \nL 305.569657 219.724845 \nL 305.569657 218.757165 \nL 306.042426 218.757165 \nL 306.042426 218.273325 \nL 306.510954 218.273325 \nL 306.510954 217.305645 \nL 311.828138 217.305645 \nL 311.828138 216.821805 \nL 313.89325 216.821805 \nL 313.89325 216.337965 \nL 315.094236 216.337965 \nL 315.094236 215.854125 \nL 315.488506 215.854125 \nL 315.488506 215.370285 \nL 315.879823 215.370285 \nL 315.879823 214.886445 \nL 316.26823 214.886445 \nL 316.26823 213.918765 \nL 317.036487 213.918765 \nL 317.036487 213.434925 \nL 317.41642 213.434925 \nL 317.41642 212.951085 \nL 318.168096 212.951085 \nL 318.168096 212.467245 \nL 318.909109 212.467245 \nL 318.909109 211.983405 \nL 319.275711 211.983405 \nL 319.275711 211.015725 \nL 319.639758 211.015725 \nL 319.639758 210.531885 \nL 321.422885 210.531885 \nL 321.422885 208.596525 \nL 322.119436 208.596525 \nL 322.119436 206.661165 \nL 322.464259 206.661165 \nL 322.464259 206.177325 \nL 323.821233 206.177325 \nL 323.821233 204.241965 \nL 324.486727 204.241965 \nL 324.486727 203.758125 \nL 324.816321 203.758125 \nL 324.816321 202.306605 \nL 325.143849 202.306605 \nL 325.143849 201.338925 \nL 325.792808 201.338925 \nL 325.792808 200.855085 \nL 326.11429 200.855085 \nL 326.11429 200.371245 \nL 326.433805 200.371245 \nL 326.433805 199.887405 \nL 326.751377 199.887405 \nL 326.751377 199.403565 \nL 327.067031 199.403565 \nL 327.067031 198.919725 \nL 327.692674 198.919725 \nL 327.692674 196.984365 \nL 328.002708 196.984365 \nL 328.002708 196.500525 \nL 328.310913 196.500525 \nL 328.310913 196.016685 \nL 328.61731 196.016685 \nL 328.61731 195.532845 \nL 329.825237 195.532845 \nL 329.825237 194.565165 \nL 330.122905 194.565165 \nL 330.122905 194.081325 \nL 330.418886 194.081325 \nL 330.418886 193.597485 \nL 331.005865 193.597485 \nL 331.005865 193.113645 \nL 331.2969 193.113645 \nL 331.2969 192.145965 \nL 331.586322 192.145965 \nL 331.586322 191.178285 \nL 331.874149 191.178285 \nL 331.874149 190.694445 \nL 332.160399 190.694445 \nL 332.160399 189.242925 \nL 332.44509 189.242925 \nL 332.44509 188.759085 \nL 332.728237 188.759085 \nL 332.728237 187.307565 \nL 333.568586 187.307565 \nL 333.568586 186.339885 \nL 334.121401 186.339885 \nL 334.121401 185.856045 \nL 334.39563 185.856045 \nL 334.39563 181.985325 \nL 335.209785 181.985325 \nL 335.209785 181.501485 \nL 336.011446 181.501485 \nL 336.011446 180.049965 \nL 336.539133 180.049965 \nL 336.539133 178.598445 \nL 336.800991 178.598445 \nL 336.800991 177.630765 \nL 337.57878 177.630765 \nL 337.57878 177.146925 \nL 338.090947 177.146925 \nL 338.090947 176.179245 \nL 338.849903 176.179245 \nL 338.849903 175.695405 \nL 339.349816 175.695405 \nL 339.349816 174.727725 \nL 339.59799 174.727725 \nL 339.59799 173.760045 \nL 339.844991 173.760045 \nL 339.844991 173.276205 \nL 340.090829 173.276205 \nL 340.090829 172.792365 \nL 340.335516 172.792365 \nL 340.335516 171.824685 \nL 341.302961 171.824685 \nL 341.302961 170.373165 \nL 341.542049 170.373165 \nL 341.542049 169.889325 \nL 342.016966 169.889325 \nL 342.016966 169.405485 \nL 342.252815 169.405485 \nL 342.252815 168.921645 \nL 342.721344 168.921645 \nL 342.721344 168.437805 \nL 342.954041 168.437805 \nL 342.954041 166.018605 \nL 343.41635 166.018605 \nL 343.41635 165.050925 \nL 343.645979 165.050925 \nL 343.645979 164.083245 \nL 344.102232 164.083245 \nL 344.102232 163.599405 \nL 344.328872 163.599405 \nL 344.328872 162.631725 \nL 344.554534 162.631725 \nL 344.554534 161.664045 \nL 345.002953 161.664045 \nL 345.002953 160.212525 \nL 345.447556 160.212525 \nL 345.447556 159.728685 \nL 345.888407 159.728685 \nL 345.888407 158.761005 \nL 346.107446 158.761005 \nL 346.107446 157.793325 \nL 347.189069 157.793325 \nL 347.189069 156.825645 \nL 347.827454 156.825645 \nL 347.827454 156.341805 \nL 348.038528 156.341805 \nL 348.038528 154.890285 \nL 348.248752 154.890285 \nL 348.248752 153.922605 \nL 348.458133 153.922605 \nL 348.458133 153.438765 \nL 348.666678 153.438765 \nL 348.666678 152.471085 \nL 348.874394 152.471085 \nL 348.874394 151.503405 \nL 349.081288 151.503405 \nL 349.081288 151.019565 \nL 349.697097 151.019565 \nL 349.697097 150.535725 \nL 350.10364 150.535725 \nL 350.10364 150.051885 \nL 350.305732 150.051885 \nL 350.305732 148.600365 \nL 351.106369 148.600365 \nL 351.106369 147.632685 \nL 351.304626 147.632685 \nL 351.304626 147.148845 \nL 351.502133 147.148845 \nL 351.502133 146.665005 \nL 352.284777 146.665005 \nL 352.284777 146.181165 \nL 352.864161 146.181165 \nL 352.864161 145.697325 \nL 353.437189 145.697325 \nL 353.437189 144.729645 \nL 353.62681 144.729645 \nL 353.62681 144.245805 \nL 354.191578 144.245805 \nL 354.191578 143.761965 \nL 354.378486 143.761965 \nL 354.378486 143.278125 \nL 354.935229 143.278125 \nL 354.935229 142.794285 \nL 355.119499 142.794285 \nL 355.119499 140.858925 \nL 355.850148 140.858925 \nL 355.850148 140.375085 \nL 356.031224 140.375085 \nL 356.031224 139.891245 \nL 356.749319 139.891245 \nL 356.749319 138.923565 \nL 356.927311 138.923565 \nL 356.927311 136.988205 \nL 357.104698 136.988205 \nL 357.104698 136.504365 \nL 357.633275 136.504365 \nL 357.633275 136.020525 \nL 358.156557 136.020525 \nL 358.156557 135.052845 \nL 358.329826 135.052845 \nL 358.329826 134.569005 \nL 358.502522 134.569005 \nL 358.502522 133.601325 \nL 358.674649 133.601325 \nL 358.674649 132.633645 \nL 358.846211 132.633645 \nL 358.846211 131.182125 \nL 359.017211 131.182125 \nL 359.017211 130.214445 \nL 359.187654 130.214445 \nL 359.187654 128.279085 \nL 359.863916 128.279085 \nL 359.863916 127.795245 \nL 360.031623 127.795245 \nL 360.031623 127.311405 \nL 360.862174 127.311405 \nL 360.862174 126.343725 \nL 361.026711 126.343725 \nL 361.026711 124.892205 \nL 361.190732 124.892205 \nL 361.190732 124.408365 \nL 361.354239 124.408365 \nL 361.354239 123.924525 \nL 361.517236 123.924525 \nL 361.517236 123.440685 \nL 361.679726 123.440685 \nL 361.679726 122.956845 \nL 361.841713 122.956845 \nL 361.841713 120.537645 \nL 362.164186 120.537645 \nL 362.164186 119.086125 \nL 362.32468 119.086125 \nL 362.32468 118.118445 \nL 362.803222 118.118445 \nL 362.803222 117.150765 \nL 362.961767 117.150765 \nL 362.961767 115.215405 \nL 363.747354 115.215405 \nL 363.747354 113.763885 \nL 363.903064 113.763885 \nL 363.903064 111.828525 \nL 364.058311 111.828525 \nL 364.058311 111.344685 \nL 364.213098 111.344685 \nL 364.213098 110.377005 \nL 364.521303 110.377005 \nL 364.521303 109.409325 \nL 365.13231 109.409325 \nL 365.13231 107.957805 \nL 365.435155 107.957805 \nL 365.435155 106.506285 \nL 365.585921 106.506285 \nL 365.585921 105.538605 \nL 365.736254 105.538605 \nL 365.736254 104.570925 \nL 365.886155 104.570925 \nL 365.886155 102.635565 \nL 366.481495 102.635565 \nL 366.481495 102.151725 \nL 367.070128 102.151725 \nL 367.070128 101.667885 \nL 367.652201 101.667885 \nL 367.652201 100.216365 \nL 367.796712 100.216365 \nL 367.796712 99.248685 \nL 367.940824 99.248685 \nL 367.940824 98.764845 \nL 368.22786 98.764845 \nL 368.22786 97.797165 \nL 368.370789 97.797165 \nL 368.370789 95.377965 \nL 368.65548 95.377965 \nL 368.65548 94.894125 \nL 368.938627 94.894125 \nL 368.938627 93.926445 \nL 370.056115 93.926445 \nL 370.056115 91.991085 \nL 370.60602 91.991085 \nL 370.60602 91.023405 \nL 371.014684 91.023405 \nL 371.014684 88.120365 \nL 371.150198 88.120365 \nL 371.150198 87.636525 \nL 371.285361 87.636525 \nL 371.285361 86.668845 \nL 371.554642 86.668845 \nL 371.554642 85.701165 \nL 371.688765 85.701165 \nL 371.688765 85.217325 \nL 372.486346 85.217325 \nL 372.486346 84.249645 \nL 372.6181 84.249645 \nL 372.6181 82.314285 \nL 372.880616 82.314285 \nL 372.880616 81.346605 \nL 373.011381 81.346605 \nL 373.011381 80.862765 \nL 373.141819 80.862765 \nL 373.141819 79.411245 \nL 373.271933 79.411245 \nL 373.271933 78.927405 \nL 373.66034 78.927405 \nL 373.66034 78.443565 \nL 373.917683 78.443565 \nL 373.917683 77.959725 \nL 374.045881 77.959725 \nL 374.045881 75.056685 \nL 374.173765 75.056685 \nL 374.173765 74.572845 \nL 374.555549 74.572845 \nL 374.555549 74.089005 \nL 374.682193 74.089005 \nL 374.682193 73.605165 \nL 374.80853 73.605165 \nL 374.80853 71.669805 \nL 375.060292 71.669805 \nL 375.060292 71.185965 \nL 375.18572 71.185965 \nL 375.18572 70.218285 \nL 375.310847 70.218285 \nL 375.310847 69.250605 \nL 375.435675 69.250605 \nL 375.435675 68.282925 \nL 375.560206 68.282925 \nL 375.560206 67.799085 \nL 375.80838 67.799085 \nL 375.80838 67.315245 \nL 375.932026 67.315245 \nL 375.932026 66.831405 \nL 376.178444 66.831405 \nL 376.178444 65.863725 \nL 376.301219 65.863725 \nL 376.301219 65.379885 \nL 376.423706 65.379885 \nL 376.423706 64.412205 \nL 376.545906 64.412205 \nL 376.545906 63.928365 \nL 376.667821 63.928365 \nL 376.667821 63.444525 \nL 376.910801 63.444525 \nL 376.910801 62.960685 \nL 377.031868 62.960685 \nL 377.031868 62.476845 \nL 377.633032 62.476845 \nL 377.633032 61.509165 \nL 378.109031 61.509165 \nL 378.109031 61.025325 \nL 378.463205 61.025325 \nL 378.463205 59.573805 \nL 378.580732 59.573805 \nL 378.580732 58.606125 \nL 379.164431 58.606125 \nL 379.164431 56.670765 \nL 379.280393 56.670765 \nL 379.280393 56.186925 \nL 379.511546 56.186925 \nL 379.511546 54.251565 \nL 379.741681 54.251565 \nL 379.741681 53.767725 \nL 379.856369 53.767725 \nL 379.856369 53.283885 \nL 380.198932 53.283885 \nL 380.198932 52.800045 \nL 380.426065 52.800045 \nL 380.426065 50.380845 \nL 380.652215 50.380845 \nL 380.652215 48.929325 \nL 380.87739 48.929325 \nL 380.87739 48.445485 \nL 381.213343 48.445485 \nL 381.213343 46.510125 \nL 381.324849 46.510125 \nL 381.324849 46.026285 \nL 381.436118 46.026285 \nL 381.54715 44.574765 \nL 381.878837 44.574765 \nL 381.988933 43.607085 \nL 382.317836 43.607085 \nL 382.317836 42.155565 \nL 382.644681 42.155565 \nL 382.753176 40.220205 \nL 383.077317 40.220205 \nL 383.184919 38.768685 \nL 383.292299 38.768685 \nL 383.292299 38.284845 \nL 383.613122 38.284845 \nL 383.613122 37.801005 \nL 383.825915 37.801005 \nL 383.825915 36.349485 \nL 384.354135 36.349485 \nL 384.459141 34.897965 \nL 384.668523 34.897965 \nL 384.668523 34.414125 \nL 384.668523 34.414125 \n\" clip-path=\"url(#pc754dd0ae8)\" style=\"fill: none; stroke: #ff8c00; stroke-width: 1.5; stroke-linecap: square\"/>\n   </g>\n   <g id=\"line2d_37\">\n    <path d=\"M -1 275.850285 \nL 60.013977 275.850285 \nL 60.013977 275.366445 \nL 117.406088 275.366445 \nL 117.406088 273.431085 \nL 132.434757 273.431085 \nL 132.434757 271.495725 \nL 144.091899 271.495725 \nL 144.091899 271.011885 \nL 174.798198 271.011885 \nL 174.798198 270.528045 \nL 180.302289 270.528045 \nL 180.302289 269.560365 \nL 185.281345 269.560365 \nL 185.281345 269.076525 \nL 189.826867 269.076525 \nL 189.826867 268.592685 \nL 197.879784 268.592685 \nL 197.879784 268.108845 \nL 204.855537 268.108845 \nL 204.855537 267.625005 \nL 216.512679 267.625005 \nL 216.512679 266.657325 \nL 221.491735 266.657325 \nL 221.491735 265.689645 \nL 230.218733 265.689645 \nL 230.218733 264.238125 \nL 234.090174 264.238125 \nL 234.090174 263.754285 \nL 235.923364 263.754285 \nL 235.923364 262.786605 \nL 237.694399 262.786605 \nL 237.694399 262.302765 \nL 239.407358 262.302765 \nL 239.407358 261.818925 \nL 245.747316 261.818925 \nL 245.747316 260.851245 \nL 247.218978 260.851245 \nL 247.218978 260.367405 \nL 248.650315 260.367405 \nL 248.650315 259.883565 \nL 254.013025 259.883565 \nL 254.013025 259.399725 \nL 255.271894 259.399725 \nL 255.271894 256.980525 \nL 256.50114 256.980525 \nL 256.50114 256.496685 \nL 260.02431 256.496685 \nL 260.02431 256.012845 \nL 263.32481 256.012845 \nL 263.32481 255.529005 \nL 264.380211 255.529005 \nL 264.380211 255.045165 \nL 265.414711 255.045165 \nL 265.414711 254.561325 \nL 267.424211 254.561325 \nL 267.424211 254.077485 \nL 272.133754 254.077485 \nL 272.133754 253.593645 \nL 274.768289 253.593645 \nL 274.768289 251.658285 \nL 276.453614 251.658285 \nL 276.453614 250.206765 \nL 278.883846 250.206765 \nL 278.883846 248.755245 \nL 281.20603 248.755245 \nL 281.20603 248.271405 \nL 281.957706 248.271405 \nL 281.957706 247.787565 \nL 284.149938 247.787565 \nL 284.149938 246.819885 \nL 286.253869 246.819885 \nL 286.253869 246.336045 \nL 286.936762 246.336045 \nL 286.936762 245.852205 \nL 287.610843 245.852205 \nL 287.610843 245.368365 \nL 288.276337 245.368365 \nL 288.276337 244.884525 \nL 288.933459 244.884525 \nL 288.933459 244.400685 \nL 290.856641 244.400685 \nL 290.856641 243.916845 \nL 292.71153 243.916845 \nL 292.71153 243.433005 \nL 293.912515 243.433005 \nL 293.912515 242.949165 \nL 295.663759 242.949165 \nL 295.663759 242.465325 \nL 297.911011 242.465325 \nL 297.911011 241.981485 \nL 298.458037 241.981485 \nL 298.458037 240.529965 \nL 300.065566 240.529965 \nL 300.065566 240.046125 \nL 301.110412 240.046125 \nL 301.110412 238.594605 \nL 302.134769 238.594605 \nL 302.134769 238.110765 \nL 304.611088 238.110765 \nL 304.611088 237.626925 \nL 305.569657 237.626925 \nL 305.569657 236.659245 \nL 306.042426 236.659245 \nL 306.042426 236.175405 \nL 306.510954 236.175405 \nL 306.510954 232.304685 \nL 307.891842 232.304685 \nL 307.891842 231.820845 \nL 308.792563 231.820845 \nL 308.792563 231.337005 \nL 309.237166 231.337005 \nL 309.237166 230.853165 \nL 309.678017 230.853165 \nL 309.678017 230.369325 \nL 310.115179 230.369325 \nL 310.115179 228.433965 \nL 310.548713 228.433965 \nL 310.548713 225.047085 \nL 310.978679 225.047085 \nL 310.978679 221.176365 \nL 312.247743 221.176365 \nL 312.247743 220.692525 \nL 312.664004 220.692525 \nL 312.664004 220.208685 \nL 313.486707 220.208685 \nL 313.486707 219.724845 \nL 313.89325 219.724845 \nL 313.89325 219.241005 \nL 314.296654 219.241005 \nL 314.296654 218.757165 \nL 315.879823 218.757165 \nL 315.879823 218.273325 \nL 316.26823 218.273325 \nL 316.26823 217.305645 \nL 317.036487 217.305645 \nL 317.036487 216.337965 \nL 317.79361 216.337965 \nL 317.79361 215.854125 \nL 318.539916 215.854125 \nL 318.539916 215.370285 \nL 319.275711 215.370285 \nL 319.275711 214.886445 \nL 319.639758 214.886445 \nL 319.639758 214.402605 \nL 320.001285 214.402605 \nL 320.001285 213.434925 \nL 320.360328 213.434925 \nL 320.360328 211.983405 \nL 321.071095 211.983405 \nL 321.071095 211.499565 \nL 321.422885 211.499565 \nL 321.422885 211.015725 \nL 322.119436 211.015725 \nL 322.119436 210.048045 \nL 322.464259 210.048045 \nL 322.464259 209.564205 \nL 322.806821 209.564205 \nL 322.806821 208.112685 \nL 323.147152 208.112685 \nL 323.147152 207.628845 \nL 324.155039 207.628845 \nL 324.155039 207.145005 \nL 325.143849 207.145005 \nL 325.143849 206.661165 \nL 325.469336 206.661165 \nL 325.469336 205.209645 \nL 327.692674 205.209645 \nL 327.692674 204.725805 \nL 328.310913 204.725805 \nL 328.310913 203.758125 \nL 328.92192 203.758125 \nL 328.92192 203.274285 \nL 329.224765 203.274285 \nL 329.224765 202.306605 \nL 329.525864 202.306605 \nL 329.525864 201.338925 \nL 329.825237 201.338925 \nL 329.825237 200.855085 \nL 330.418886 200.855085 \nL 330.418886 200.371245 \nL 330.7132 200.371245 \nL 330.7132 199.887405 \nL 331.2969 199.887405 \nL 331.2969 198.919725 \nL 331.586322 198.919725 \nL 331.586322 197.468205 \nL 332.44509 197.468205 \nL 332.44509 196.984365 \nL 332.728237 196.984365 \nL 332.728237 196.500525 \nL 333.568586 196.500525 \nL 333.568586 195.049005 \nL 334.121401 195.049005 \nL 334.121401 194.081325 \nL 334.39563 194.081325 \nL 334.39563 193.113645 \nL 335.478375 193.113645 \nL 335.478375 191.178285 \nL 335.74559 191.178285 \nL 335.74559 190.210605 \nL 336.275956 190.210605 \nL 336.275956 188.759085 \nL 336.539133 188.759085 \nL 336.539133 187.307565 \nL 337.061543 187.307565 \nL 337.061543 186.339885 \nL 337.320802 186.339885 \nL 337.320802 185.372205 \nL 337.835491 185.372205 \nL 337.835491 184.888365 \nL 338.090947 184.888365 \nL 338.090947 183.920685 \nL 338.345159 183.920685 \nL 338.345159 182.953005 \nL 339.100457 182.953005 \nL 339.100457 181.501485 \nL 339.59799 181.501485 \nL 339.59799 181.017645 \nL 340.090829 181.017645 \nL 340.090829 180.533805 \nL 341.062774 180.533805 \nL 341.062774 179.082285 \nL 341.780047 179.082285 \nL 341.780047 178.598445 \nL 342.016966 178.598445 \nL 342.016966 178.114605 \nL 342.487605 178.114605 \nL 342.487605 177.630765 \nL 342.954041 177.630765 \nL 342.954041 176.663085 \nL 343.41635 176.663085 \nL 343.41635 175.211565 \nL 343.874604 175.211565 \nL 343.874604 173.760045 \nL 344.102232 173.760045 \nL 344.102232 172.308525 \nL 344.554534 172.308525 \nL 344.554534 171.824685 \nL 344.779224 171.824685 \nL 344.779224 171.340845 \nL 345.447556 171.340845 \nL 345.447556 169.889325 \nL 345.668447 169.889325 \nL 345.668447 169.405485 \nL 346.107446 169.405485 \nL 346.107446 168.921645 \nL 346.542786 168.921645 \nL 346.542786 165.534765 \nL 347.402732 165.534765 \nL 347.402732 164.567085 \nL 347.615525 164.567085 \nL 347.615525 164.083245 \nL 347.827454 164.083245 \nL 347.827454 161.180205 \nL 348.666678 161.180205 \nL 348.666678 160.212525 \nL 349.081288 160.212525 \nL 349.081288 159.728685 \nL 350.305732 159.728685 \nL 350.305732 159.244845 \nL 350.507044 159.244845 \nL 350.507044 157.309485 \nL 350.707584 157.309485 \nL 350.707584 155.857965 \nL 351.304626 155.857965 \nL 351.304626 155.374125 \nL 352.090212 155.374125 \nL 352.090212 154.890285 \nL 353.055869 154.890285 \nL 353.055869 154.406445 \nL 353.246877 154.406445 \nL 353.246877 153.438765 \nL 353.437189 153.438765 \nL 353.437189 152.954925 \nL 354.378486 152.954925 \nL 354.378486 151.019565 \nL 354.935229 151.019565 \nL 354.935229 149.568045 \nL 355.668441 149.568045 \nL 355.668441 149.084205 \nL 355.850148 149.084205 \nL 355.850148 147.632685 \nL 356.031224 147.632685 \nL 356.031224 146.181165 \nL 356.391505 146.181165 \nL 356.391505 144.729645 \nL 356.749319 144.729645 \nL 356.749319 144.245805 \nL 357.281485 144.245805 \nL 357.281485 143.278125 \nL 357.633275 143.278125 \nL 357.633275 142.794285 \nL 358.156557 142.794285 \nL 358.156557 142.310445 \nL 358.329826 142.310445 \nL 358.329826 140.858925 \nL 358.674649 140.858925 \nL 358.674649 140.375085 \nL 359.017211 140.375085 \nL 359.017211 139.891245 \nL 359.187654 139.891245 \nL 359.187654 139.407405 \nL 359.357542 139.407405 \nL 359.357542 137.955885 \nL 359.526879 137.955885 \nL 359.526879 137.472045 \nL 360.031623 137.472045 \nL 360.031623 136.988205 \nL 360.198793 136.988205 \nL 360.198793 136.504365 \nL 360.365429 136.504365 \nL 360.365429 135.536685 \nL 360.531536 135.536685 \nL 360.531536 131.182125 \nL 361.354239 131.182125 \nL 361.354239 130.214445 \nL 361.517236 130.214445 \nL 361.517236 129.730605 \nL 362.003198 129.730605 \nL 362.003198 129.246765 \nL 362.164186 129.246765 \nL 362.164186 128.762925 \nL 362.32468 128.762925 \nL 362.32468 127.795245 \nL 362.644195 127.795245 \nL 362.644195 126.343725 \nL 362.803222 126.343725 \nL 362.803222 125.376045 \nL 363.119833 125.376045 \nL 363.119833 123.924525 \nL 363.747354 123.924525 \nL 363.747354 122.956845 \nL 364.058311 122.956845 \nL 364.058311 121.505325 \nL 364.367428 121.505325 \nL 364.367428 121.021485 \nL 364.521303 121.021485 \nL 364.521303 118.602285 \nL 364.8277 118.602285 \nL 364.8277 117.150765 \nL 364.980227 117.150765 \nL 364.980227 113.280045 \nL 365.13231 113.280045 \nL 365.13231 112.312365 \nL 365.283952 112.312365 \nL 365.283952 108.925485 \nL 365.435155 108.925485 \nL 365.435155 104.087085 \nL 365.585921 104.087085 \nL 365.585921 103.603245 \nL 366.035627 103.603245 \nL 366.035627 103.119405 \nL 366.333295 103.119405 \nL 366.333295 102.635565 \nL 366.481495 102.635565 \nL 366.481495 102.151725 \nL 366.776641 102.151725 \nL 366.776641 101.667885 \nL 367.652201 101.667885 \nL 367.652201 101.184045 \nL 367.796712 101.184045 \nL 367.796712 100.700205 \nL 367.940824 100.700205 \nL 367.940824 100.216365 \nL 368.084539 100.216365 \nL 368.084539 99.248685 \nL 368.370789 99.248685 \nL 368.370789 98.764845 \nL 368.513329 98.764845 \nL 368.513329 97.797165 \nL 368.797245 97.797165 \nL 368.797245 97.313325 \nL 369.079627 97.313325 \nL 369.079627 96.829485 \nL 369.500359 96.829485 \nL 369.500359 96.345645 \nL 369.639853 96.345645 \nL 369.639853 94.410285 \nL 369.778976 94.410285 \nL 369.778976 91.991085 \nL 369.917729 91.991085 \nL 369.917729 91.507245 \nL 370.194135 91.507245 \nL 370.194135 91.023405 \nL 370.331791 91.023405 \nL 370.331791 90.539565 \nL 370.469086 90.539565 \nL 370.469086 90.055725 \nL 370.60602 90.055725 \nL 370.60602 89.571885 \nL 371.285361 89.571885 \nL 371.285361 87.636525 \nL 371.420175 87.636525 \nL 371.420175 86.668845 \nL 371.554642 86.668845 \nL 371.554642 86.185005 \nL 371.95598 86.185005 \nL 371.95598 85.701165 \nL 372.089077 85.701165 \nL 372.089077 85.217325 \nL 372.486346 85.217325 \nL 372.486346 84.733485 \nL 372.6181 84.733485 \nL 372.6181 84.249645 \nL 372.749523 84.249645 \nL 372.749523 83.281965 \nL 372.880616 83.281965 \nL 372.880616 82.798125 \nL 373.011381 82.798125 \nL 373.011381 82.314285 \nL 373.531192 82.314285 \nL 373.531192 79.895085 \nL 373.66034 79.895085 \nL 373.66034 79.411245 \nL 373.917683 79.411245 \nL 373.917683 77.959725 \nL 374.045881 77.959725 \nL 374.045881 77.475885 \nL 374.173765 77.475885 \nL 374.173765 76.992045 \nL 374.301337 76.992045 \nL 374.301337 73.605165 \nL 374.555549 73.605165 \nL 374.555549 73.121325 \nL 374.80853 73.121325 \nL 374.80853 72.637485 \nL 375.435675 72.637485 \nL 375.435675 72.153645 \nL 375.68444 72.153645 \nL 375.68444 71.669805 \nL 375.80838 71.669805 \nL 375.80838 71.185965 \nL 376.178444 71.185965 \nL 376.178444 70.702125 \nL 376.423706 70.702125 \nL 376.423706 70.218285 \nL 376.789452 70.218285 \nL 376.789452 69.734445 \nL 377.273164 69.734445 \nL 377.273164 68.282925 \nL 377.513351 68.282925 \nL 377.513351 67.799085 \nL 377.871573 67.799085 \nL 377.871573 67.315245 \nL 377.990437 67.315245 \nL 377.990437 65.863725 \nL 378.227356 65.863725 \nL 378.227356 65.379885 \nL 378.345414 65.379885 \nL 378.345414 64.412205 \nL 378.463205 64.412205 \nL 378.463205 63.928365 \nL 378.580732 63.928365 \nL 378.580732 62.476845 \nL 378.814995 62.476845 \nL 378.814995 61.993005 \nL 379.164431 61.993005 \nL 379.164431 61.025325 \nL 379.62674 61.025325 \nL 379.62674 59.089965 \nL 379.970807 59.089965 \nL 379.970807 58.606125 \nL 380.312622 58.606125 \nL 380.312622 56.186925 \nL 380.426065 56.186925 \nL 380.426065 53.767725 \nL 380.87739 53.767725 \nL 380.87739 52.800045 \nL 381.213343 52.800045 \nL 381.213343 51.832365 \nL 381.324849 51.832365 \nL 381.324849 49.897005 \nL 381.436118 49.897005 \nL 381.54715 47.961645 \nL 381.657946 47.961645 \nL 381.768508 46.510125 \nL 381.878837 46.510125 \nL 381.988933 44.090925 \nL 382.208431 44.090925 \nL 382.208431 43.123245 \nL 382.427011 43.123245 \nL 382.535959 42.155565 \nL 382.644681 42.155565 \nL 382.644681 40.704045 \nL 382.861447 40.704045 \nL 382.969493 38.768685 \nL 383.931987 38.768685 \nL 384.037844 37.801005 \nL 384.248918 37.801005 \nL 384.248918 35.865645 \nL 384.563937 35.865645 \nL 384.563937 34.414125 \nL 384.668523 34.414125 \n\" clip-path=\"url(#pc754dd0ae8)\" style=\"fill: none; stroke: #6495ed; stroke-width: 1.5; stroke-linecap: square\"/>\n   </g>\n   <g id=\"line2d_38\">\n    <path d=\"M -1 273.893453 \nL 144.616934 273.890489 \nL 180.827324 271.446852 \nL 202.009044 269.003216 \nL 217.037714 266.55958 \nL 228.694856 264.115943 \nL 238.219434 261.672307 \nL 246.272351 259.22867 \nL 253.248104 256.785034 \nL 259.401155 254.341398 \nL 264.905246 251.897761 \nL 269.884302 249.454125 \nL 274.429824 247.010489 \nL 278.611299 244.566852 \nL 282.482741 242.123216 \nL 286.086966 239.67958 \nL 289.458494 237.235943 \nL 292.625558 234.792307 \nL 295.611545 232.34867 \nL 298.436046 229.905034 \nL 301.115636 227.461398 \nL 303.664461 225.017761 \nL 306.094692 222.574125 \nL 308.416877 220.130489 \nL 310.640214 217.686852 \nL 312.772778 215.243216 \nL 314.821689 212.79958 \nL 316.793265 210.355943 \nL 318.693131 207.912307 \nL 320.526321 205.46867 \nL 322.297356 203.025034 \nL 324.010315 200.581398 \nL 325.668884 198.137761 \nL 327.276412 195.694125 \nL 328.835948 193.250489 \nL 330.350273 190.806852 \nL 331.821935 188.363216 \nL 333.253272 185.91958 \nL 334.646436 183.475943 \nL 336.00341 181.032307 \nL 337.326026 178.58867 \nL 338.615982 176.145034 \nL 339.874851 173.701398 \nL 341.104097 171.257761 \nL 342.305082 168.814125 \nL 343.479077 166.370489 \nL 344.627267 163.926852 \nL 345.750763 161.483216 \nL 346.850604 159.03958 \nL 347.927767 156.595943 \nL 348.983168 154.152307 \nL 350.017668 151.70867 \nL 351.032079 149.265034 \nL 352.027168 146.821398 \nL 353.003655 144.377761 \nL 353.962224 141.934125 \nL 354.903521 139.490489 \nL 355.828156 137.046852 \nL 356.736711 134.603216 \nL 357.629733 132.15958 \nL 358.507746 129.715943 \nL 359.371246 127.272307 \nL 360.220705 124.82867 \nL 361.056571 122.385034 \nL 361.879274 119.941398 \nL 362.689221 117.497761 \nL 363.486802 115.054125 \nL 364.272389 112.610489 \nL 365.046338 110.166852 \nL 365.808987 107.723216 \nL 366.560663 105.27958 \nL 367.301676 102.835943 \nL 368.032325 100.392307 \nL 368.752895 97.94867 \nL 369.463662 95.505034 \nL 370.164888 93.061398 \nL 370.856826 90.617761 \nL 371.539719 88.174125 \nL 372.2138 85.730489 \nL 372.879293 83.286852 \nL 373.536416 80.843216 \nL 374.185375 78.39958 \nL 374.826372 75.955943 \nL 375.459598 73.512307 \nL 376.085241 71.06867 \nL 376.70348 68.625034 \nL 377.314487 66.181398 \nL 377.918431 63.737761 \nL 378.515472 61.294125 \nL 379.105767 58.850489 \nL 379.689467 56.406852 \nL 380.266716 53.963216 \nL 380.837657 51.51958 \nL 381.402425 49.075943 \nL 381.961153 46.632307 \nL 382.513968 44.18867 \nL 383.060994 41.745034 \nL 383.602352 39.301398 \nL 384.138157 36.857761 \nL 384.668523 34.414125 \n\" clip-path=\"url(#pc754dd0ae8)\" style=\"fill: none; stroke-dasharray: 5.55,2.4; stroke-dashoffset: 0; stroke: #000000; stroke-width: 1.5\"/>\n   </g>\n   <g id=\"patch_3\">\n    <path d=\"M 43.78125 288.430125 \nL 43.78125 22.318125 \n\" style=\"fill: none; stroke: #000000; stroke-width: 0.8; stroke-linejoin: miter; stroke-linecap: square\"/>\n   </g>\n   <g id=\"patch_4\">\n    <path d=\"M 400.90125 288.430125 \nL 400.90125 22.318125 \n\" style=\"fill: none; stroke: #000000; stroke-width: 0.8; stroke-linejoin: miter; stroke-linecap: square\"/>\n   </g>\n   <g id=\"patch_5\">\n    <path d=\"M 43.78125 288.430125 \nL 400.90125 288.430125 \n\" style=\"fill: none; stroke: #000000; stroke-width: 0.8; stroke-linejoin: miter; stroke-linecap: square\"/>\n   </g>\n   <g id=\"patch_6\">\n    <path d=\"M 43.78125 22.318125 \nL 400.90125 22.318125 \n\" style=\"fill: none; stroke: #000000; stroke-width: 0.8; stroke-linejoin: miter; stroke-linecap: square\"/>\n   </g>\n   <g id=\"text_12\">\n    <!-- ROC curves -->\n    <g transform=\"translate(187.415625 16.318125) scale(0.12 -0.12)\">\n     <defs>\n      <path id=\"DejaVuSans-4f\" d=\"M 2522 4238 \nQ 1834 4238 1429 3725 \nQ 1025 3213 1025 2328 \nQ 1025 1447 1429 934 \nQ 1834 422 2522 422 \nQ 3209 422 3611 934 \nQ 4013 1447 4013 2328 \nQ 4013 3213 3611 3725 \nQ 3209 4238 2522 4238 \nz\nM 2522 4750 \nQ 3503 4750 4090 4092 \nQ 4678 3434 4678 2328 \nQ 4678 1225 4090 567 \nQ 3503 -91 2522 -91 \nQ 1538 -91 948 565 \nQ 359 1222 359 2328 \nQ 359 3434 948 4092 \nQ 1538 4750 2522 4750 \nz\n\" transform=\"scale(0.015625)\"/>\n      <path id=\"DejaVuSans-43\" d=\"M 4122 4306 \nL 4122 3641 \nQ 3803 3938 3442 4084 \nQ 3081 4231 2675 4231 \nQ 1875 4231 1450 3742 \nQ 1025 3253 1025 2328 \nQ 1025 1406 1450 917 \nQ 1875 428 2675 428 \nQ 3081 428 3442 575 \nQ 3803 722 4122 1019 \nL 4122 359 \nQ 3791 134 3420 21 \nQ 3050 -91 2638 -91 \nQ 1578 -91 968 557 \nQ 359 1206 359 2328 \nQ 359 3453 968 4101 \nQ 1578 4750 2638 4750 \nQ 3056 4750 3426 4639 \nQ 3797 4528 4122 4306 \nz\n\" transform=\"scale(0.015625)\"/>\n      <path id=\"DejaVuSans-63\" d=\"M 3122 3366 \nL 3122 2828 \nQ 2878 2963 2633 3030 \nQ 2388 3097 2138 3097 \nQ 1578 3097 1268 2742 \nQ 959 2388 959 1747 \nQ 959 1106 1268 751 \nQ 1578 397 2138 397 \nQ 2388 397 2633 464 \nQ 2878 531 3122 666 \nL 3122 134 \nQ 2881 22 2623 -34 \nQ 2366 -91 2075 -91 \nQ 1284 -91 818 406 \nQ 353 903 353 1747 \nQ 353 2603 823 3093 \nQ 1294 3584 2113 3584 \nQ 2378 3584 2631 3529 \nQ 2884 3475 3122 3366 \nz\n\" transform=\"scale(0.015625)\"/>\n     </defs>\n     <use xlink:href=\"#DejaVuSans-52\"/>\n     <use xlink:href=\"#DejaVuSans-4f\" transform=\"translate(69.482422 0)\"/>\n     <use xlink:href=\"#DejaVuSans-43\" transform=\"translate(148.193359 0)\"/>\n     <use xlink:href=\"#DejaVuSans-20\" transform=\"translate(218.017578 0)\"/>\n     <use xlink:href=\"#DejaVuSans-63\" transform=\"translate(249.804688 0)\"/>\n     <use xlink:href=\"#DejaVuSans-75\" transform=\"translate(304.785156 0)\"/>\n     <use xlink:href=\"#DejaVuSans-72\" transform=\"translate(368.164062 0)\"/>\n     <use xlink:href=\"#DejaVuSans-76\" transform=\"translate(409.277344 0)\"/>\n     <use xlink:href=\"#DejaVuSans-65\" transform=\"translate(468.457031 0)\"/>\n     <use xlink:href=\"#DejaVuSans-73\" transform=\"translate(529.980469 0)\"/>\n    </g>\n   </g>\n   <g id=\"legend_1\">\n    <g id=\"patch_7\">\n     <path d=\"M 50.78125 103.70875 \nL 187.432813 103.70875 \nQ 189.432813 103.70875 189.432813 101.70875 \nL 189.432813 29.318125 \nQ 189.432813 27.318125 187.432813 27.318125 \nL 50.78125 27.318125 \nQ 48.78125 27.318125 48.78125 29.318125 \nL 48.78125 101.70875 \nQ 48.78125 103.70875 50.78125 103.70875 \nz\n\" style=\"fill: #ffffff; opacity: 0.8; stroke: #cccccc; stroke-linejoin: miter\"/>\n    </g>\n    <g id=\"line2d_39\">\n     <path d=\"M 52.78125 35.416562 \nL 62.78125 35.416562 \nL 72.78125 35.416562 \n\" style=\"fill: none; stroke: #ff1493; stroke-width: 1.5; stroke-linecap: square\"/>\n    </g>\n    <g id=\"text_13\">\n     <!-- SNR=5 (AUC=0.49) -->\n     <g transform=\"translate(80.78125 38.916562) scale(0.1 -0.1)\">\n      <defs>\n       <path id=\"DejaVuSans-53\" d=\"M 3425 4513 \nL 3425 3897 \nQ 3066 4069 2747 4153 \nQ 2428 4238 2131 4238 \nQ 1616 4238 1336 4038 \nQ 1056 3838 1056 3469 \nQ 1056 3159 1242 3001 \nQ 1428 2844 1947 2747 \nL 2328 2669 \nQ 3034 2534 3370 2195 \nQ 3706 1856 3706 1288 \nQ 3706 609 3251 259 \nQ 2797 -91 1919 -91 \nQ 1588 -91 1214 -16 \nQ 841 59 441 206 \nL 441 856 \nQ 825 641 1194 531 \nQ 1563 422 1919 422 \nQ 2459 422 2753 634 \nQ 3047 847 3047 1241 \nQ 3047 1584 2836 1778 \nQ 2625 1972 2144 2069 \nL 1759 2144 \nQ 1053 2284 737 2584 \nQ 422 2884 422 3419 \nQ 422 4038 858 4394 \nQ 1294 4750 2059 4750 \nQ 2388 4750 2728 4690 \nQ 3069 4631 3425 4513 \nz\n\" transform=\"scale(0.015625)\"/>\n       <path id=\"DejaVuSans-4e\" d=\"M 628 4666 \nL 1478 4666 \nL 3547 763 \nL 3547 4666 \nL 4159 4666 \nL 4159 0 \nL 3309 0 \nL 1241 3903 \nL 1241 0 \nL 628 0 \nL 628 4666 \nz\n\" transform=\"scale(0.015625)\"/>\n       <path id=\"DejaVuSans-3d\" d=\"M 678 2906 \nL 4684 2906 \nL 4684 2381 \nL 678 2381 \nL 678 2906 \nz\nM 678 1631 \nL 4684 1631 \nL 4684 1100 \nL 678 1100 \nL 678 1631 \nz\n\" transform=\"scale(0.015625)\"/>\n       <path id=\"DejaVuSans-35\" d=\"M 691 4666 \nL 3169 4666 \nL 3169 4134 \nL 1269 4134 \nL 1269 2991 \nQ 1406 3038 1543 3061 \nQ 1681 3084 1819 3084 \nQ 2600 3084 3056 2656 \nQ 3513 2228 3513 1497 \nQ 3513 744 3044 326 \nQ 2575 -91 1722 -91 \nQ 1428 -91 1123 -41 \nQ 819 9 494 109 \nL 494 744 \nQ 775 591 1075 516 \nQ 1375 441 1709 441 \nQ 2250 441 2565 725 \nQ 2881 1009 2881 1497 \nQ 2881 1984 2565 2268 \nQ 2250 2553 1709 2553 \nQ 1456 2553 1204 2497 \nQ 953 2441 691 2322 \nL 691 4666 \nz\n\" transform=\"scale(0.015625)\"/>\n       <path id=\"DejaVuSans-28\" d=\"M 1984 4856 \nQ 1566 4138 1362 3434 \nQ 1159 2731 1159 2009 \nQ 1159 1288 1364 580 \nQ 1569 -128 1984 -844 \nL 1484 -844 \nQ 1016 -109 783 600 \nQ 550 1309 550 2009 \nQ 550 2706 781 3412 \nQ 1013 4119 1484 4856 \nL 1984 4856 \nz\n\" transform=\"scale(0.015625)\"/>\n       <path id=\"DejaVuSans-41\" d=\"M 2188 4044 \nL 1331 1722 \nL 3047 1722 \nL 2188 4044 \nz\nM 1831 4666 \nL 2547 4666 \nL 4325 0 \nL 3669 0 \nL 3244 1197 \nL 1141 1197 \nL 716 0 \nL 50 0 \nL 1831 4666 \nz\n\" transform=\"scale(0.015625)\"/>\n       <path id=\"DejaVuSans-55\" d=\"M 556 4666 \nL 1191 4666 \nL 1191 1831 \nQ 1191 1081 1462 751 \nQ 1734 422 2344 422 \nQ 2950 422 3222 751 \nQ 3494 1081 3494 1831 \nL 3494 4666 \nL 4128 4666 \nL 4128 1753 \nQ 4128 841 3676 375 \nQ 3225 -91 2344 -91 \nQ 1459 -91 1007 375 \nQ 556 841 556 1753 \nL 556 4666 \nz\n\" transform=\"scale(0.015625)\"/>\n       <path id=\"DejaVuSans-39\" d=\"M 703 97 \nL 703 672 \nQ 941 559 1184 500 \nQ 1428 441 1663 441 \nQ 2288 441 2617 861 \nQ 2947 1281 2994 2138 \nQ 2813 1869 2534 1725 \nQ 2256 1581 1919 1581 \nQ 1219 1581 811 2004 \nQ 403 2428 403 3163 \nQ 403 3881 828 4315 \nQ 1253 4750 1959 4750 \nQ 2769 4750 3195 4129 \nQ 3622 3509 3622 2328 \nQ 3622 1225 3098 567 \nQ 2575 -91 1691 -91 \nQ 1453 -91 1209 -44 \nQ 966 3 703 97 \nz\nM 1959 2075 \nQ 2384 2075 2632 2365 \nQ 2881 2656 2881 3163 \nQ 2881 3666 2632 3958 \nQ 2384 4250 1959 4250 \nQ 1534 4250 1286 3958 \nQ 1038 3666 1038 3163 \nQ 1038 2656 1286 2365 \nQ 1534 2075 1959 2075 \nz\n\" transform=\"scale(0.015625)\"/>\n       <path id=\"DejaVuSans-29\" d=\"M 513 4856 \nL 1013 4856 \nQ 1481 4119 1714 3412 \nQ 1947 2706 1947 2009 \nQ 1947 1309 1714 600 \nQ 1481 -109 1013 -844 \nL 513 -844 \nQ 928 -128 1133 580 \nQ 1338 1288 1338 2009 \nQ 1338 2731 1133 3434 \nQ 928 4138 513 4856 \nz\n\" transform=\"scale(0.015625)\"/>\n      </defs>\n      <use xlink:href=\"#DejaVuSans-53\"/>\n      <use xlink:href=\"#DejaVuSans-4e\" transform=\"translate(63.476562 0)\"/>\n      <use xlink:href=\"#DejaVuSans-52\" transform=\"translate(138.28125 0)\"/>\n      <use xlink:href=\"#DejaVuSans-3d\" transform=\"translate(207.763672 0)\"/>\n      <use xlink:href=\"#DejaVuSans-35\" transform=\"translate(291.552734 0)\"/>\n      <use xlink:href=\"#DejaVuSans-20\" transform=\"translate(355.175781 0)\"/>\n      <use xlink:href=\"#DejaVuSans-28\" transform=\"translate(386.962891 0)\"/>\n      <use xlink:href=\"#DejaVuSans-41\" transform=\"translate(425.976562 0)\"/>\n      <use xlink:href=\"#DejaVuSans-55\" transform=\"translate(494.384766 0)\"/>\n      <use xlink:href=\"#DejaVuSans-43\" transform=\"translate(567.578125 0)\"/>\n      <use xlink:href=\"#DejaVuSans-3d\" transform=\"translate(637.402344 0)\"/>\n      <use xlink:href=\"#DejaVuSans-30\" transform=\"translate(721.191406 0)\"/>\n      <use xlink:href=\"#DejaVuSans-2e\" transform=\"translate(784.814453 0)\"/>\n      <use xlink:href=\"#DejaVuSans-34\" transform=\"translate(816.601562 0)\"/>\n      <use xlink:href=\"#DejaVuSans-39\" transform=\"translate(880.224609 0)\"/>\n      <use xlink:href=\"#DejaVuSans-29\" transform=\"translate(943.847656 0)\"/>\n     </g>\n    </g>\n    <g id=\"line2d_40\">\n     <path d=\"M 52.78125 50.094688 \nL 62.78125 50.094688 \nL 72.78125 50.094688 \n\" style=\"fill: none; stroke: #00ffff; stroke-width: 1.5; stroke-linecap: square\"/>\n    </g>\n    <g id=\"text_14\">\n     <!-- SNR=10 (AUC=0.52) -->\n     <g transform=\"translate(80.78125 53.594688) scale(0.1 -0.1)\">\n      <use xlink:href=\"#DejaVuSans-53\"/>\n      <use xlink:href=\"#DejaVuSans-4e\" transform=\"translate(63.476562 0)\"/>\n      <use xlink:href=\"#DejaVuSans-52\" transform=\"translate(138.28125 0)\"/>\n      <use xlink:href=\"#DejaVuSans-3d\" transform=\"translate(207.763672 0)\"/>\n      <use xlink:href=\"#DejaVuSans-31\" transform=\"translate(291.552734 0)\"/>\n      <use xlink:href=\"#DejaVuSans-30\" transform=\"translate(355.175781 0)\"/>\n      <use xlink:href=\"#DejaVuSans-20\" transform=\"translate(418.798828 0)\"/>\n      <use xlink:href=\"#DejaVuSans-28\" transform=\"translate(450.585938 0)\"/>\n      <use xlink:href=\"#DejaVuSans-41\" transform=\"translate(489.599609 0)\"/>\n      <use xlink:href=\"#DejaVuSans-55\" transform=\"translate(558.007812 0)\"/>\n      <use xlink:href=\"#DejaVuSans-43\" transform=\"translate(631.201172 0)\"/>\n      <use xlink:href=\"#DejaVuSans-3d\" transform=\"translate(701.025391 0)\"/>\n      <use xlink:href=\"#DejaVuSans-30\" transform=\"translate(784.814453 0)\"/>\n      <use xlink:href=\"#DejaVuSans-2e\" transform=\"translate(848.4375 0)\"/>\n      <use xlink:href=\"#DejaVuSans-35\" transform=\"translate(880.224609 0)\"/>\n      <use xlink:href=\"#DejaVuSans-32\" transform=\"translate(943.847656 0)\"/>\n      <use xlink:href=\"#DejaVuSans-29\" transform=\"translate(1007.470703 0)\"/>\n     </g>\n    </g>\n    <g id=\"line2d_41\">\n     <path d=\"M 52.78125 64.772812 \nL 62.78125 64.772812 \nL 72.78125 64.772812 \n\" style=\"fill: none; stroke: #ff8c00; stroke-width: 1.5; stroke-linecap: square\"/>\n    </g>\n    <g id=\"text_15\">\n     <!-- SNR=15 (AUC=0.50) -->\n     <g transform=\"translate(80.78125 68.272812) scale(0.1 -0.1)\">\n      <use xlink:href=\"#DejaVuSans-53\"/>\n      <use xlink:href=\"#DejaVuSans-4e\" transform=\"translate(63.476562 0)\"/>\n      <use xlink:href=\"#DejaVuSans-52\" transform=\"translate(138.28125 0)\"/>\n      <use xlink:href=\"#DejaVuSans-3d\" transform=\"translate(207.763672 0)\"/>\n      <use xlink:href=\"#DejaVuSans-31\" transform=\"translate(291.552734 0)\"/>\n      <use xlink:href=\"#DejaVuSans-35\" transform=\"translate(355.175781 0)\"/>\n      <use xlink:href=\"#DejaVuSans-20\" transform=\"translate(418.798828 0)\"/>\n      <use xlink:href=\"#DejaVuSans-28\" transform=\"translate(450.585938 0)\"/>\n      <use xlink:href=\"#DejaVuSans-41\" transform=\"translate(489.599609 0)\"/>\n      <use xlink:href=\"#DejaVuSans-55\" transform=\"translate(558.007812 0)\"/>\n      <use xlink:href=\"#DejaVuSans-43\" transform=\"translate(631.201172 0)\"/>\n      <use xlink:href=\"#DejaVuSans-3d\" transform=\"translate(701.025391 0)\"/>\n      <use xlink:href=\"#DejaVuSans-30\" transform=\"translate(784.814453 0)\"/>\n      <use xlink:href=\"#DejaVuSans-2e\" transform=\"translate(848.4375 0)\"/>\n      <use xlink:href=\"#DejaVuSans-35\" transform=\"translate(880.224609 0)\"/>\n      <use xlink:href=\"#DejaVuSans-30\" transform=\"translate(943.847656 0)\"/>\n      <use xlink:href=\"#DejaVuSans-29\" transform=\"translate(1007.470703 0)\"/>\n     </g>\n    </g>\n    <g id=\"line2d_42\">\n     <path d=\"M 52.78125 79.450938 \nL 62.78125 79.450938 \nL 72.78125 79.450938 \n\" style=\"fill: none; stroke: #6495ed; stroke-width: 1.5; stroke-linecap: square\"/>\n    </g>\n    <g id=\"text_16\">\n     <!-- SNR=20 (AUC=0.48) -->\n     <g transform=\"translate(80.78125 82.950938) scale(0.1 -0.1)\">\n      <use xlink:href=\"#DejaVuSans-53\"/>\n      <use xlink:href=\"#DejaVuSans-4e\" transform=\"translate(63.476562 0)\"/>\n      <use xlink:href=\"#DejaVuSans-52\" transform=\"translate(138.28125 0)\"/>\n      <use xlink:href=\"#DejaVuSans-3d\" transform=\"translate(207.763672 0)\"/>\n      <use xlink:href=\"#DejaVuSans-32\" transform=\"translate(291.552734 0)\"/>\n      <use xlink:href=\"#DejaVuSans-30\" transform=\"translate(355.175781 0)\"/>\n      <use xlink:href=\"#DejaVuSans-20\" transform=\"translate(418.798828 0)\"/>\n      <use xlink:href=\"#DejaVuSans-28\" transform=\"translate(450.585938 0)\"/>\n      <use xlink:href=\"#DejaVuSans-41\" transform=\"translate(489.599609 0)\"/>\n      <use xlink:href=\"#DejaVuSans-55\" transform=\"translate(558.007812 0)\"/>\n      <use xlink:href=\"#DejaVuSans-43\" transform=\"translate(631.201172 0)\"/>\n      <use xlink:href=\"#DejaVuSans-3d\" transform=\"translate(701.025391 0)\"/>\n      <use xlink:href=\"#DejaVuSans-30\" transform=\"translate(784.814453 0)\"/>\n      <use xlink:href=\"#DejaVuSans-2e\" transform=\"translate(848.4375 0)\"/>\n      <use xlink:href=\"#DejaVuSans-34\" transform=\"translate(880.224609 0)\"/>\n      <use xlink:href=\"#DejaVuSans-38\" transform=\"translate(943.847656 0)\"/>\n      <use xlink:href=\"#DejaVuSans-29\" transform=\"translate(1007.470703 0)\"/>\n     </g>\n    </g>\n    <g id=\"line2d_43\">\n     <path d=\"M 52.78125 94.129063 \nL 62.78125 94.129063 \nL 72.78125 94.129063 \n\" style=\"fill: none; stroke-dasharray: 5.55,2.4; stroke-dashoffset: 0; stroke: #000000; stroke-width: 1.5\"/>\n    </g>\n    <g id=\"text_17\">\n     <!-- Luck (AUC=0.50) -->\n     <g transform=\"translate(80.78125 97.629063) scale(0.1 -0.1)\">\n      <defs>\n       <path id=\"DejaVuSans-4c\" d=\"M 628 4666 \nL 1259 4666 \nL 1259 531 \nL 3531 531 \nL 3531 0 \nL 628 0 \nL 628 4666 \nz\n\" transform=\"scale(0.015625)\"/>\n       <path id=\"DejaVuSans-6b\" d=\"M 581 4863 \nL 1159 4863 \nL 1159 1991 \nL 2875 3500 \nL 3609 3500 \nL 1753 1863 \nL 3688 0 \nL 2938 0 \nL 1159 1709 \nL 1159 0 \nL 581 0 \nL 581 4863 \nz\n\" transform=\"scale(0.015625)\"/>\n      </defs>\n      <use xlink:href=\"#DejaVuSans-4c\"/>\n      <use xlink:href=\"#DejaVuSans-75\" transform=\"translate(53.962891 0)\"/>\n      <use xlink:href=\"#DejaVuSans-63\" transform=\"translate(117.341797 0)\"/>\n      <use xlink:href=\"#DejaVuSans-6b\" transform=\"translate(172.322266 0)\"/>\n      <use xlink:href=\"#DejaVuSans-20\" transform=\"translate(230.232422 0)\"/>\n      <use xlink:href=\"#DejaVuSans-28\" transform=\"translate(262.019531 0)\"/>\n      <use xlink:href=\"#DejaVuSans-41\" transform=\"translate(301.033203 0)\"/>\n      <use xlink:href=\"#DejaVuSans-55\" transform=\"translate(369.441406 0)\"/>\n      <use xlink:href=\"#DejaVuSans-43\" transform=\"translate(442.634766 0)\"/>\n      <use xlink:href=\"#DejaVuSans-3d\" transform=\"translate(512.458984 0)\"/>\n      <use xlink:href=\"#DejaVuSans-30\" transform=\"translate(596.248047 0)\"/>\n      <use xlink:href=\"#DejaVuSans-2e\" transform=\"translate(659.871094 0)\"/>\n      <use xlink:href=\"#DejaVuSans-35\" transform=\"translate(691.658203 0)\"/>\n      <use xlink:href=\"#DejaVuSans-30\" transform=\"translate(755.28125 0)\"/>\n      <use xlink:href=\"#DejaVuSans-29\" transform=\"translate(818.904297 0)\"/>\n     </g>\n    </g>\n   </g>\n  </g>\n </g>\n <defs>\n  <clipPath id=\"pc754dd0ae8\">\n   <rect x=\"43.78125\" y=\"22.318125\" width=\"357.12\" height=\"266.112\"/>\n  </clipPath>\n </defs>\n</svg>\n"
          },
          "metadata": {}
        }
      ]
    },
    {
      "cell_type": "markdown",
      "source": [
        "在最后一部分，我们计算了ROC曲线的误差，并绘制了带有误差的ROC曲线。\n",
        "\n",
        "这段代码展示了如何使用PyTorch进行二分类任务，并使用ROC曲线和AUC值进行模型评估。\n",
        "\n",
        "同时，也展示了如何对不同的信噪比进行测试，以及如何计算和绘制带有误差的ROC曲线。"
      ],
      "metadata": {
        "id": "uYxfi-QzHiFG"
      }
    },
    {
      "cell_type": "code",
      "source": [
        "from itertools import cycle\n",
        "colors = cycle([\"deeppink\", \"aqua\", \"darkorange\", \"cornflowerblue\"])\n",
        "\n",
        "def sigma(n, tp):\n",
        "    \"\"\"\n",
        "\n",
        "    :param tp:\n",
        "    :param n:\n",
        "    :return:\n",
        "    \"\"\"\n",
        "    return np.sqrt(tp*(1.-tp)/n)\n",
        "\n",
        "nsample_perepoch = 1000\n",
        "snr_list = [2, 4, 6]\n",
        "for snr in tqdm(snr_list):\n",
        "    dataset_test = DatasetGenerator(snr=snr, nsample_perepoch=nsample_perepoch, verbose=False)\n",
        "    data_iter = DataLoader(dataset_test, batch_size=32, shuffle=True)\n",
        "    y_hat_list, y_list = evaluate_gpu(net, data_iter, device)\n",
        "\n",
        "    fpr, tpr, _ = roc_curve(y_list, y_hat_list)\n",
        "    auc = roc_auc_score(y_list, y_hat_list)\n",
        "\n",
        "    fpr_error = [sigma(len(y_list)/2., t) for t in fpr]\n",
        "    tpr_error = [sigma(len(y_list)/2., t) for t in tpr]\n",
        "\n",
        "    color = next(colors)\n",
        "    plt.plot(fpr, tpr, color=color, label=f'SNR={snr} (AUC={auc:.2f})')\n",
        "    plt.fill_between(fpr, tpr+tpr_error, tpr-tpr_error, alpha=0.2, facecolor=color, zorder=0)\n",
        "plt.plot(*(np.linspace(0,1,100),)*2, 'k--', label='Luck (AUC=0.50)')\n",
        "# plt.axis(\"square\")\n",
        "plt.xscale('log')\n",
        "plt.yscale('log')\n",
        "plt.xlabel(\"False Positive Rate\")\n",
        "plt.ylabel(\"True Positive Rate\")\n",
        "plt.title(\"ROC curves\")\n",
        "plt.xlim(1e-4,1)\n",
        "plt.ylim(1e-4,1)\n",
        "plt.legend()\n",
        "plt.show()"
      ],
      "metadata": {
        "execution": {
          "iopub.status.busy": "2023-12-29T09:56:28.475134Z",
          "iopub.execute_input": "2023-12-29T09:56:28.475447Z",
          "iopub.status.idle": "2023-12-29T09:58:04.65713Z",
          "shell.execute_reply.started": "2023-12-29T09:56:28.475418Z",
          "shell.execute_reply": "2023-12-29T09:58:04.656031Z"
        },
        "trusted": true,
        "id": "FyzTMXn7HiFG",
        "colab": {
          "base_uri": "https://localhost:8080/",
          "height": 473
        },
        "outputId": "5cdb2aae-cc76-48c9-ee12-f9c0f6ff69d2"
      },
      "execution_count": 18,
      "outputs": [
        {
          "output_type": "stream",
          "name": "stderr",
          "text": [
            "100%|██████████| 3/3 [01:18<00:00, 26.10s/it]\n"
          ]
        },
        {
          "output_type": "display_data",
          "data": {
            "text/plain": [
              "<Figure size 640x480 with 1 Axes>"
            ],
            "image/svg+xml": "<?xml version=\"1.0\" encoding=\"utf-8\" standalone=\"no\"?>\n<!DOCTYPE svg PUBLIC \"-//W3C//DTD SVG 1.1//EN\"\n  \"http://www.w3.org/Graphics/SVG/1.1/DTD/svg11.dtd\">\n<svg xmlns:xlink=\"http://www.w3.org/1999/xlink\" width=\"424.498125pt\" height=\"325.986375pt\" viewBox=\"0 0 424.498125 325.986375\" xmlns=\"http://www.w3.org/2000/svg\" version=\"1.1\">\n <metadata>\n  <rdf:RDF xmlns:dc=\"http://purl.org/dc/elements/1.1/\" xmlns:cc=\"http://creativecommons.org/ns#\" xmlns:rdf=\"http://www.w3.org/1999/02/22-rdf-syntax-ns#\">\n   <cc:Work>\n    <dc:type rdf:resource=\"http://purl.org/dc/dcmitype/StillImage\"/>\n    <dc:date>2025-04-13T07:06:47.737922</dc:date>\n    <dc:format>image/svg+xml</dc:format>\n    <dc:creator>\n     <cc:Agent>\n      <dc:title>Matplotlib v3.10.0, https://matplotlib.org/</dc:title>\n     </cc:Agent>\n    </dc:creator>\n   </cc:Work>\n  </rdf:RDF>\n </metadata>\n <defs>\n  <style type=\"text/css\">*{stroke-linejoin: round; stroke-linecap: butt}</style>\n </defs>\n <g id=\"figure_1\">\n  <g id=\"patch_1\">\n   <path d=\"M 0 325.986375 \nL 424.498125 325.986375 \nL 424.498125 0 \nL 0 0 \nz\n\" style=\"fill: #ffffff\"/>\n  </g>\n  <g id=\"axes_1\">\n   <g id=\"patch_2\">\n    <path d=\"M 51.378125 288.430125 \nL 408.498125 288.430125 \nL 408.498125 22.318125 \nL 51.378125 22.318125 \nz\n\" style=\"fill: #ffffff\"/>\n   </g>\n   <g id=\"FillBetweenPolyCollection_1\">\n    <path d=\"M -88871.501875 66550.318125 \nL -88871.501875 66550.318125 \nL 167.534083 66550.318125 \nL 194.410041 66550.318125 \nL 194.410041 166.420408 \nL 210.131469 166.420408 \nL 210.131469 156.997307 \nL 221.285999 156.997307 \nL 221.285999 140.265474 \nL 242.984436 140.265474 \nL 242.984436 136.445017 \nL 252.728854 136.445017 \nL 252.728854 127.478196 \nL 263.883385 127.478196 \nL 263.883385 125.053567 \nL 266.986946 125.053567 \nL 266.986946 120.776399 \nL 269.860394 120.776399 \nL 269.860394 118.868157 \nL 272.535511 118.868157 \nL 272.535511 115.413637 \nL 277.388563 115.413637 \nL 277.388563 113.838583 \nL 289.109144 113.838583 \nL 289.109144 112.349871 \nL 290.759343 112.349871 \nL 290.759343 108.317546 \nL 292.342167 108.317546 \nL 292.342167 105.926362 \nL 296.736352 105.926362 \nL 296.736352 103.727467 \nL 298.096976 103.727467 \nL 298.096976 102.690833 \nL 299.411469 102.690833 \nL 299.411469 101.69195 \nL 301.913873 101.69195 \nL 301.913873 98.896362 \nL 304.264521 98.896362 \nL 304.264521 97.178981 \nL 305.388478 97.178981 \nL 305.388478 96.358855 \nL 306.48077 96.358855 \nL 306.48077 94.78837 \nL 307.543133 94.78837 \nL 307.543133 94.035437 \nL 312.45778 94.035437 \nL 312.45778 92.588519 \nL 319.218125 92.588519 \nL 319.218125 91.892527 \nL 319.985948 91.892527 \nL 319.985948 91.213635 \nL 321.477433 91.213635 \nL 321.477433 90.551016 \nL 323.61231 90.551016 \nL 323.61231 89.903902 \nL 324.29859 89.903902 \nL 324.29859 88.653381 \nL 324.972934 88.653381 \nL 324.972934 88.048686 \nL 326.287427 88.048686 \nL 326.287427 87.456914 \nL 327.558813 87.456914 \nL 327.558813 86.309992 \nL 331.70653 86.309992 \nL 331.70653 85.208648 \nL 332.814428 85.208648 \nL 332.814428 84.149376 \nL 333.891548 84.149376 \nL 333.891548 83.129061 \nL 335.453121 83.129061 \nL 335.453121 80.731166 \nL 336.95423 80.731166 \nL 336.95423 80.275461 \nL 337.441957 80.275461 \nL 337.441957 79.385869 \nL 337.923625 79.385869 \nL 337.923625 78.951526 \nL 339.792605 78.951526 \nL 339.792605 78.523862 \nL 340.694362 78.523862 \nL 340.694362 78.102676 \nL 342.008854 78.102676 \nL 342.008854 76.478941 \nL 342.437299 76.478941 \nL 342.437299 74.94474 \nL 342.86106 74.94474 \nL 342.86106 74.208219 \nL 343.280241 74.208219 \nL 343.280241 73.490675 \nL 344.105246 73.490675 \nL 344.105246 73.138717 \nL 344.913063 73.138717 \nL 344.913063 72.791151 \nL 345.704393 72.791151 \nL 345.704393 72.447867 \nL 346.094083 72.447867 \nL 346.094083 71.77373 \nL 346.861906 71.77373 \nL 346.861906 70.792149 \nL 347.985864 70.792149 \nL 347.985864 70.472489 \nL 348.353391 70.472489 \nL 348.353391 69.534928 \nL 348.717467 69.534928 \nL 348.717467 68.039151 \nL 349.789622 68.039151 \nL 349.789622 67.462602 \nL 350.140519 67.462602 \nL 350.140519 67.178736 \nL 350.832926 67.178736 \nL 350.832926 66.619524 \nL 351.174548 66.619524 \nL 351.174548 65.533647 \nL 351.848892 65.533647 \nL 351.848892 65.268654 \nL 352.181717 65.268654 \nL 352.181717 64.746102 \nL 352.838916 64.746102 \nL 352.838916 64.488451 \nL 354.120811 64.488451 \nL 354.120811 63.72947 \nL 355.055165 63.72947 \nL 355.055165 62.990586 \nL 355.665789 62.990586 \nL 355.665789 62.270761 \nL 355.967532 62.270761 \nL 355.967532 61.800989 \nL 356.564064 61.800989 \nL 356.564064 61.569036 \nL 356.858924 61.569036 \nL 356.858924 61.338994 \nL 357.441999 61.338994 \nL 357.441999 60.884523 \nL 357.730282 60.884523 \nL 357.730282 60.437333 \nL 358.016437 60.437333 \nL 358.016437 59.563893 \nL 358.300495 59.563893 \nL 358.300495 59.137214 \nL 359.416365 59.137214 \nL 359.416365 58.716961 \nL 359.962484 58.716961 \nL 359.962484 58.302942 \nL 360.501018 58.302942 \nL 360.501018 58.098214 \nL 361.032175 58.098214 \nL 361.032175 57.894976 \nL 361.295049 57.894976 \nL 361.295049 57.492889 \nL 361.556153 57.492889 \nL 361.556153 56.900418 \nL 362.329079 56.900418 \nL 362.329079 56.512313 \nL 362.835933 56.512313 \nL 362.835933 56.320266 \nL 363.086897 56.320266 \nL 363.086897 56.129532 \nL 364.074818 56.129532 \nL 364.074818 55.379376 \nL 364.559497 55.379376 \nL 364.559497 55.194947 \nL 365.51105 55.194947 \nL 365.51105 54.46919 \nL 366.439808 54.46919 \nL 366.439808 54.290664 \nL 366.895976 54.290664 \nL 366.895976 53.937003 \nL 367.346839 53.937003 \nL 367.346839 53.761841 \nL 367.57032 53.761841 \nL 367.57032 53.587772 \nL 368.013454 53.587772 \nL 368.013454 53.414784 \nL 368.233136 53.414784 \nL 368.233136 53.242861 \nL 368.884812 53.242861 \nL 368.884812 52.733366 \nL 369.099626 52.733366 \nL 369.099626 52.565583 \nL 369.313257 52.565583 \nL 369.313257 52.06821 \nL 369.525716 52.06821 \nL 369.525716 51.579557 \nL 369.737018 51.579557 \nL 369.737018 51.258486 \nL 370.570896 51.258486 \nL 370.570896 51.099327 \nL 370.981205 51.099327 \nL 370.981205 50.941072 \nL 371.184742 50.941072 \nL 371.184742 50.627235 \nL 371.387217 50.627235 \nL 371.387217 50.471633 \nL 371.58864 50.471633 \nL 371.58864 50.009975 \nL 371.789021 50.009975 \nL 371.789021 49.857774 \nL 371.988373 49.857774 \nL 371.988373 49.706401 \nL 372.186705 49.706401 \nL 372.186705 49.555847 \nL 372.775686 49.555847 \nL 372.775686 49.257159 \nL 373.163427 49.257159 \nL 373.163427 49.109008 \nL 373.547329 49.109008 \nL 373.547329 48.961642 \nL 373.927468 48.961642 \nL 373.927468 48.815052 \nL 374.861822 48.815052 \nL 374.861822 48.37986 \nL 375.229349 48.37986 \nL 375.229349 48.093469 \nL 375.411814 48.093469 \nL 375.411814 47.951371 \nL 375.954114 47.951371 \nL 375.954114 47.669336 \nL 376.311479 47.669336 \nL 376.311479 47.251576 \nL 376.66558 47.251576 \nL 376.66558 46.704153 \nL 376.841425 46.704153 \nL 376.841425 46.568966 \nL 377.016477 46.568966 \nL 377.016477 46.167308 \nL 377.536938 46.167308 \nL 377.536938 45.771375 \nL 377.708884 45.771375 \nL 377.708884 45.640642 \nL 377.880072 45.640642 \nL 377.880072 45.381009 \nL 378.050506 45.381009 \nL 378.050506 43.994898 \nL 378.220195 43.994898 \nL 378.220195 43.507559 \nL 378.557361 43.507559 \nL 378.557361 43.267068 \nL 379.057675 43.267068 \nL 379.057675 43.147601 \nL 379.223022 43.147601 \nL 379.223022 43.028647 \nL 379.387667 43.028647 \nL 379.387667 42.910202 \nL 380.521011 42.910202 \nL 380.521011 42.792262 \nL 380.680247 42.792262 \nL 380.680247 42.557879 \nL 380.838831 42.557879 \nL 380.838831 42.441427 \nL 381.154067 42.441427 \nL 381.154067 42.325465 \nL 381.466761 42.325465 \nL 381.466761 42.209986 \nL 381.776953 42.209986 \nL 381.776953 42.094987 \nL 382.237637 42.094987 \nL 382.237637 41.866416 \nL 382.692912 41.866416 \nL 382.692912 41.752835 \nL 382.84349 41.752835 \nL 382.84349 41.639719 \nL 383.440022 41.639719 \nL 383.440022 41.414867 \nL 383.587732 41.414867 \nL 383.587732 41.303124 \nL 384.173008 41.303124 \nL 384.173008 41.191831 \nL 384.317957 41.191831 \nL 384.317957 41.080985 \nL 384.749581 41.080985 \nL 384.749581 40.86062 \nL 384.892395 40.86062 \nL 384.892395 40.642 \nL 385.034684 40.642 \nL 385.034684 40.533337 \nL 385.176453 40.533337 \nL 385.176453 40.4251 \nL 385.317706 40.4251 \nL 385.317706 40.102916 \nL 385.458446 40.102916 \nL 385.458446 39.996353 \nL 386.016352 39.996353 \nL 386.016352 39.890201 \nL 386.154583 39.890201 \nL 386.154583 39.679116 \nL 386.566344 39.679116 \nL 386.566344 39.574177 \nL 386.838442 39.574177 \nL 386.838442 39.469637 \nL 387.243042 39.469637 \nL 387.243042 39.365492 \nL 387.510449 39.365492 \nL 387.510449 39.26174 \nL 388.039793 39.26174 \nL 388.039793 38.952813 \nL 388.562007 38.952813 \nL 388.562007 38.647319 \nL 388.691469 38.647319 \nL 388.691469 38.445528 \nL 388.8205 38.445528 \nL 388.8205 38.345186 \nL 388.949103 38.345186 \nL 388.949103 37.555395 \nL 389.077281 37.555395 \nL 389.077281 37.458252 \nL 389.332373 37.458252 \nL 389.332373 37.361453 \nL 389.459292 37.361453 \nL 389.459292 36.693284 \nL 390.212205 36.693284 \nL 390.212205 36.599151 \nL 390.828654 36.599151 \nL 390.828654 35.949157 \nL 391.555684 35.949157 \nL 391.555684 35.766257 \nL 391.675542 35.766257 \nL 391.675542 35.675265 \nL 391.795029 35.675265 \nL 391.795029 35.584577 \nL 391.91415 35.584577 \nL 391.91415 35.314312 \nL 392.032906 35.314312 \nL 392.032906 35.224818 \nL 392.387008 35.224818 \nL 392.387008 34.958091 \nL 392.621291 34.958091 \nL 392.621291 34.781719 \nL 392.854168 34.781719 \nL 392.854168 34.693962 \nL 393.085654 34.693962 \nL 393.085654 34.606487 \nL 393.315766 34.606487 \nL 393.315766 34.432382 \nL 393.430312 34.432382 \nL 393.430312 34.259389 \nL 393.544521 34.259389 \nL 393.544521 33.74696 \nL 393.998021 33.74696 \nL 393.998021 32.669057 \nL 394.446278 32.669057 \nL 394.446278 32.587908 \nL 394.889412 32.587908 \nL 394.889412 32.426344 \nL 395.327539 32.426344 \nL 395.327539 32.02666 \nL 395.436301 32.02666 \nL 395.436301 31.86845 \nL 395.54476 31.86845 \nL 395.54476 31.789696 \nL 395.652915 31.789696 \nL 395.652915 31.711175 \nL 396.082546 31.711175 \nL 396.082546 31.632885 \nL 396.189215 31.632885 \nL 396.189215 31.399393 \nL 396.401674 31.399393 \nL 396.401674 31.244868 \nL 396.927786 31.244868 \nL 396.927786 30.938501 \nL 397.24006 30.938501 \nL 397.24006 30.786643 \nL 397.549839 30.786643 \nL 397.549839 30.560487 \nL 397.652551 30.560487 \nL 397.652551 30.410792 \nL 397.857163 30.410792 \nL 397.857163 30.187843 \nL 398.0607 30.187843 \nL 398.0607 30.113948 \nL 398.16207 30.113948 \nL 398.16207 30.040261 \nL 398.364017 30.040261 \nL 398.364017 29.89351 \nL 398.464598 29.89351 \nL 398.464598 29.820444 \nL 398.664979 29.820444 \nL 398.664979 29.674927 \nL 398.963624 29.674927 \nL 398.963624 29.602473 \nL 399.358272 29.602473 \nL 399.358272 29.314674 \nL 399.456309 29.314674 \nL 399.456309 29.171971 \nL 399.554099 29.171971 \nL 399.554099 29.100916 \nL 399.651644 29.100916 \nL 399.651644 28.959394 \nL 399.942813 28.959394 \nL 399.942813 28.818651 \nL 400.039385 28.818651 \nL 400.039385 28.401035 \nL 400.327667 28.401035 \nL 400.327667 28.12641 \nL 400.423287 28.12641 \nL 400.423287 27.854763 \nL 400.613822 27.854763 \nL 400.613822 27.787311 \nL 400.70874 27.787311 \nL 400.70874 27.386422 \nL 400.803426 27.386422 \nL 400.803426 27.320239 \nL 401.086104 27.320239 \nL 401.086104 27.188409 \nL 401.366736 27.188409 \nL 401.366736 26.926882 \nL 401.552701 26.926882 \nL 401.552701 26.861941 \nL 401.73778 26.861941 \nL 401.73778 26.797177 \nL 401.921979 26.797177 \nL 401.921979 26.603934 \nL 402.196647 26.603934 \nL 402.196647 26.539869 \nL 402.287772 26.539869 \nL 402.287772 26.475978 \nL 402.378684 26.475978 \nL 402.378684 26.285346 \nL 402.919722 26.285346 \nL 402.919722 26.09627 \nL 403.364892 26.09627 \nL 403.364892 26.033589 \nL 403.62956 26.033589 \nL 403.62956 25.97108 \nL 403.717383 25.97108 \nL 403.717383 25.908744 \nL 403.979665 25.908744 \nL 403.979665 25.846579 \nL 404.066699 25.846579 \nL 404.066699 25.661115 \nL 404.153539 25.661115 \nL 404.153539 25.599637 \nL 404.240184 25.599637 \nL 404.240184 25.538331 \nL 404.841341 25.538331 \nL 404.841341 25.355444 \nL 405.011401 25.355444 \nL 405.011401 25.23438 \nL 405.096153 25.23438 \nL 405.096153 25.174107 \nL 405.349302 25.174107 \nL 405.349302 25.054081 \nL 405.433319 25.054081 \nL 405.433319 24.994329 \nL 405.600808 24.994329 \nL 405.600808 24.81612 \nL 405.767578 24.81612 \nL 405.767578 24.698193 \nL 405.850694 24.698193 \nL 405.850694 24.639496 \nL 405.933633 24.639496 \nL 405.933633 24.291105 \nL 406.016394 24.291105 \nL 406.016394 24.233683 \nL 406.18139 24.233683 \nL 406.18139 24.176449 \nL 406.345686 24.176449 \nL 406.345686 24.062553 \nL 406.590832 24.062553 \nL 406.590832 23.837111 \nL 406.672204 23.837111 \nL 406.672204 23.670179 \nL 406.834438 23.670179 \nL 406.834438 23.505206 \nL 407.076523 23.505206 \nL 407.076523 23.450674 \nL 407.317105 23.450674 \nL 407.317105 23.396383 \nL 407.396969 23.396383 \nL 407.396969 23.28855 \nL 407.714789 23.28855 \nL 407.714789 23.128822 \nL 407.872727 23.128822 \nL 407.872727 23.023828 \nL 408.030025 23.023828 \nL 408.030025 22.571923 \nL 408.108435 22.571923 \nL 408.108435 22.478935 \nL 408.186687 22.478935 \nL 408.186687 22.434393 \nL 408.4205 22.434393 \nL 408.4205 22.318125 \nL 408.498125 22.318125 \nL 408.498125 22.318125 \nL 408.498125 22.318125 \nL 408.4205 22.318125 \nL 408.4205 22.666466 \nL 408.186687 22.666466 \nL 408.186687 22.738663 \nL 408.108435 22.738663 \nL 408.108435 22.879861 \nL 408.030025 22.879861 \nL 408.030025 23.493701 \nL 407.872727 23.493701 \nL 407.872727 23.628232 \nL 407.714789 23.628232 \nL 407.714789 23.829664 \nL 407.396969 23.829664 \nL 407.396969 23.963865 \nL 407.317105 23.963865 \nL 407.317105 24.030972 \nL 407.076523 24.030972 \nL 407.076523 24.098093 \nL 406.834438 24.098093 \nL 406.834438 24.299626 \nL 406.672204 24.299626 \nL 406.672204 24.501538 \nL 406.590832 24.501538 \nL 406.590832 24.77158 \nL 406.345686 24.77158 \nL 406.345686 24.907028 \nL 406.18139 24.907028 \nL 406.18139 24.974871 \nL 406.016394 24.974871 \nL 406.016394 25.042797 \nL 405.933633 25.042797 \nL 405.933633 25.452258 \nL 405.850694 25.452258 \nL 405.850694 25.520841 \nL 405.767578 25.520841 \nL 405.767578 25.658321 \nL 405.600808 25.658321 \nL 405.600808 25.86535 \nL 405.433319 25.86535 \nL 405.433319 25.934582 \nL 405.349302 25.934582 \nL 405.349302 26.073394 \nL 405.096153 26.073394 \nL 405.096153 26.142976 \nL 405.011401 26.142976 \nL 405.011401 26.282501 \nL 404.841341 26.282501 \nL 404.841341 26.492714 \nL 404.240184 26.492714 \nL 404.240184 26.563037 \nL 404.153539 26.563037 \nL 404.153539 26.633489 \nL 404.066699 26.633489 \nL 404.066699 26.845633 \nL 403.979665 26.845633 \nL 403.979665 26.916615 \nL 403.717383 26.916615 \nL 403.717383 26.987732 \nL 403.62956 26.987732 \nL 403.62956 27.058986 \nL 403.364892 27.058986 \nL 403.364892 27.130378 \nL 402.919722 27.130378 \nL 402.919722 27.345397 \nL 402.378684 27.345397 \nL 402.378684 27.561706 \nL 402.287772 27.561706 \nL 402.287772 27.634102 \nL 402.196647 27.634102 \nL 402.196647 27.706645 \nL 401.921979 27.706645 \nL 401.921979 27.925177 \nL 401.73778 27.925177 \nL 401.73778 27.998326 \nL 401.552701 27.998326 \nL 401.552701 28.071628 \nL 401.366736 28.071628 \nL 401.366736 28.366403 \nL 401.086104 28.366403 \nL 401.086104 28.514745 \nL 400.803426 28.514745 \nL 400.803426 28.589159 \nL 400.70874 28.589159 \nL 400.70874 29.039114 \nL 400.613822 29.039114 \nL 400.613822 29.114696 \nL 400.423287 29.114696 \nL 400.423287 29.418748 \nL 400.327667 29.418748 \nL 400.327667 29.725617 \nL 400.039385 29.725617 \nL 400.039385 30.191363 \nL 399.942813 30.191363 \nL 399.942813 30.3481 \nL 399.651644 30.3481 \nL 399.651644 30.505598 \nL 399.554099 30.505598 \nL 399.554099 30.584635 \nL 399.456309 30.584635 \nL 399.456309 30.743291 \nL 399.358272 30.743291 \nL 399.358272 31.062966 \nL 398.963624 31.062966 \nL 398.963624 31.143384 \nL 398.664979 31.143384 \nL 398.664979 31.304828 \nL 398.464598 31.304828 \nL 398.464598 31.385857 \nL 398.364017 31.385857 \nL 398.364017 31.548533 \nL 398.16207 31.548533 \nL 398.16207 31.630184 \nL 398.0607 31.630184 \nL 398.0607 31.712044 \nL 397.857163 31.712044 \nL 397.857163 31.958898 \nL 397.652551 31.958898 \nL 397.652551 32.124541 \nL 397.549839 32.124541 \nL 397.549839 32.374641 \nL 397.24006 32.374641 \nL 397.24006 32.542482 \nL 396.927786 32.542482 \nL 396.927786 32.880869 \nL 396.401674 32.880869 \nL 396.401674 33.051438 \nL 396.189215 33.051438 \nL 396.189215 33.309044 \nL 396.082546 33.309044 \nL 396.082546 33.395385 \nL 395.652915 33.395385 \nL 395.652915 33.481965 \nL 395.54476 33.481965 \nL 395.54476 33.568786 \nL 395.436301 33.568786 \nL 395.436301 33.743155 \nL 395.327539 33.743155 \nL 395.327539 34.18339 \nL 394.889412 34.18339 \nL 394.889412 34.361242 \nL 394.446278 34.361242 \nL 394.446278 34.450551 \nL 393.998021 34.450551 \nL 393.998021 35.635621 \nL 393.544521 35.635621 \nL 393.544521 36.198301 \nL 393.430312 36.198301 \nL 393.430312 36.388169 \nL 393.315766 36.388169 \nL 393.315766 36.579218 \nL 393.085654 36.579218 \nL 393.085654 36.67519 \nL 392.854168 36.67519 \nL 392.854168 36.771462 \nL 392.621291 36.771462 \nL 392.621291 36.964918 \nL 392.387008 36.964918 \nL 392.387008 37.25741 \nL 392.032906 37.25741 \nL 392.032906 37.355531 \nL 391.91415 37.355531 \nL 391.91415 37.651795 \nL 391.795029 37.651795 \nL 391.795029 37.751191 \nL 391.675542 37.751191 \nL 391.675542 37.85091 \nL 391.555684 37.85091 \nL 391.555684 38.051331 \nL 390.828654 38.051331 \nL 390.828654 38.763347 \nL 390.212205 38.763347 \nL 390.212205 38.866434 \nL 389.459292 38.866434 \nL 389.459292 39.597981 \nL 389.332373 39.597981 \nL 389.332373 39.703939 \nL 389.077281 39.703939 \nL 389.077281 39.810266 \nL 388.949103 39.810266 \nL 388.949103 40.674555 \nL 388.8205 40.674555 \nL 388.8205 40.784342 \nL 388.691469 40.784342 \nL 388.691469 41.005115 \nL 388.562007 41.005115 \nL 388.562007 41.33932 \nL 388.039793 41.33932 \nL 388.039793 41.677251 \nL 387.510449 41.677251 \nL 387.510449 41.790738 \nL 387.243042 41.790738 \nL 387.243042 41.904652 \nL 386.838442 41.904652 \nL 386.838442 42.018997 \nL 386.566344 42.018997 \nL 386.566344 42.133775 \nL 386.154583 42.133775 \nL 386.154583 42.364646 \nL 386.016352 42.364646 \nL 386.016352 42.480746 \nL 385.458446 42.480746 \nL 385.458446 42.597293 \nL 385.317706 42.597293 \nL 385.317706 42.949655 \nL 385.176453 42.949655 \nL 385.176453 43.068029 \nL 385.034684 43.068029 \nL 385.034684 43.186867 \nL 384.892395 43.186867 \nL 384.892395 43.425957 \nL 384.749581 43.425957 \nL 384.749581 43.666955 \nL 384.317957 43.666955 \nL 384.317957 43.78818 \nL 384.173008 43.78818 \nL 384.173008 43.909893 \nL 383.587732 43.909893 \nL 383.587732 44.0321 \nL 383.440022 44.0321 \nL 383.440022 44.278008 \nL 382.84349 44.278008 \nL 382.84349 44.401718 \nL 382.692912 44.401718 \nL 382.692912 44.525938 \nL 382.237637 44.525938 \nL 382.237637 44.775924 \nL 381.776953 44.775924 \nL 381.776953 44.901699 \nL 381.466761 44.901699 \nL 381.466761 45.028001 \nL 381.154067 45.028001 \nL 381.154067 45.154835 \nL 380.838831 45.154835 \nL 380.838831 45.282205 \nL 380.680247 45.282205 \nL 380.680247 45.538572 \nL 380.521011 45.538572 \nL 380.521011 45.667579 \nL 379.387667 45.667579 \nL 379.387667 45.79714 \nL 379.223022 45.79714 \nL 379.223022 45.927262 \nL 379.057675 45.927262 \nL 379.057675 46.057949 \nL 378.557361 46.057949 \nL 378.557361 46.321038 \nL 378.220195 46.321038 \nL 378.220195 46.854221 \nL 378.050506 46.854221 \nL 378.050506 48.371189 \nL 377.880072 48.371189 \nL 377.880072 48.655424 \nL 377.708884 48.655424 \nL 377.708884 48.798557 \nL 377.536938 48.798557 \nL 377.536938 49.232096 \nL 377.016477 49.232096 \nL 377.016477 49.671989 \nL 376.841425 49.671989 \nL 376.841425 49.820065 \nL 376.66558 49.820065 \nL 376.66558 50.419788 \nL 376.311479 50.419788 \nL 376.311479 50.877584 \nL 375.954114 50.877584 \nL 375.954114 51.186711 \nL 375.411814 51.186711 \nL 375.411814 51.342478 \nL 375.229349 51.342478 \nL 375.229349 51.656461 \nL 374.861822 51.656461 \nL 374.861822 52.133692 \nL 373.927468 52.133692 \nL 373.927468 52.294473 \nL 373.547329 52.294473 \nL 373.547329 52.456122 \nL 373.163427 52.456122 \nL 373.163427 52.618647 \nL 372.775686 52.618647 \nL 372.775686 52.946367 \nL 372.186705 52.946367 \nL 372.186705 53.111582 \nL 371.988373 53.111582 \nL 371.988373 53.277713 \nL 371.789021 53.277713 \nL 371.789021 53.44477 \nL 371.58864 53.44477 \nL 371.58864 53.951609 \nL 371.387217 53.951609 \nL 371.387217 54.12248 \nL 371.184742 54.12248 \nL 371.184742 54.467175 \nL 370.981205 54.467175 \nL 370.981205 54.641023 \nL 370.570896 54.641023 \nL 370.570896 54.815886 \nL 369.737018 54.815886 \nL 369.737018 55.168708 \nL 369.525716 55.168708 \nL 369.525716 55.705863 \nL 369.313257 55.705863 \nL 369.313257 56.252837 \nL 369.099626 56.252837 \nL 369.099626 56.437407 \nL 368.884812 56.437407 \nL 368.884812 56.998047 \nL 368.233136 56.998047 \nL 368.233136 57.187287 \nL 368.013454 57.187287 \nL 368.013454 57.377731 \nL 367.57032 57.377731 \nL 367.57032 57.569396 \nL 367.346839 57.569396 \nL 367.346839 57.762297 \nL 366.895976 57.762297 \nL 366.895976 58.151871 \nL 366.439808 58.151871 \nL 366.439808 58.348578 \nL 365.51105 58.348578 \nL 365.51105 59.148605 \nL 364.559497 59.148605 \nL 364.559497 59.352002 \nL 364.074818 59.352002 \nL 364.074818 60.179712 \nL 363.086897 60.179712 \nL 363.086897 60.39027 \nL 362.835933 60.39027 \nL 362.835933 60.602321 \nL 362.329079 60.602321 \nL 362.329079 61.03099 \nL 361.556153 61.03099 \nL 361.556153 61.685743 \nL 361.295049 61.685743 \nL 361.295049 62.13035 \nL 361.032175 62.13035 \nL 361.032175 62.355158 \nL 360.501018 62.355158 \nL 360.501018 62.581669 \nL 359.962484 62.581669 \nL 359.962484 63.039907 \nL 359.416365 63.039907 \nL 359.416365 63.505278 \nL 358.300495 63.505278 \nL 358.300495 63.97801 \nL 358.016437 63.97801 \nL 358.016437 64.946508 \nL 357.730282 64.946508 \nL 357.730282 65.442784 \nL 357.441999 65.442784 \nL 357.441999 65.947438 \nL 356.858924 65.947438 \nL 356.858924 66.202996 \nL 356.564064 66.202996 \nL 356.564064 66.460758 \nL 355.967532 66.460758 \nL 355.967532 66.983046 \nL 355.665789 66.983046 \nL 355.665789 67.783995 \nL 355.055165 67.783995 \nL 355.055165 68.606994 \nL 354.120811 68.606994 \nL 354.120811 69.453288 \nL 352.838916 69.453288 \nL 352.838916 69.740793 \nL 352.181717 69.740793 \nL 352.181717 70.324232 \nL 351.848892 70.324232 \nL 351.848892 70.620276 \nL 351.174548 70.620276 \nL 351.174548 71.834656 \nL 350.832926 71.834656 \nL 350.832926 72.460848 \nL 350.140519 72.460848 \nL 350.140519 72.77893 \nL 349.789622 72.77893 \nL 349.789622 73.425421 \nL 348.717467 73.425421 \nL 348.717467 75.10553 \nL 348.353391 75.10553 \nL 348.353391 76.160813 \nL 347.985864 76.160813 \nL 347.985864 76.521005 \nL 346.861906 76.521005 \nL 346.861906 77.628333 \nL 346.094083 77.628333 \nL 346.094083 78.389973 \nL 345.704393 78.389973 \nL 345.704393 78.77818 \nL 344.913063 78.77818 \nL 344.913063 79.171484 \nL 344.105246 79.171484 \nL 344.105246 79.57002 \nL 343.280241 79.57002 \nL 343.280241 80.383353 \nL 342.86106 80.383353 \nL 342.86106 81.219375 \nL 342.437299 81.219375 \nL 342.437299 82.964781 \nL 342.008854 82.964781 \nL 342.008854 84.818057 \nL 340.694362 84.818057 \nL 340.694362 85.299828 \nL 339.792605 85.299828 \nL 339.792605 85.789457 \nL 337.923625 85.789457 \nL 337.923625 86.287203 \nL 337.441957 86.287203 \nL 337.441957 87.308148 \nL 336.95423 87.308148 \nL 336.95423 87.831934 \nL 335.453121 87.831934 \nL 335.453121 90.597209 \nL 333.891548 90.597209 \nL 333.891548 91.77867 \nL 332.814428 91.77867 \nL 332.814428 93.008409 \nL 331.70653 93.008409 \nL 331.70653 94.290513 \nL 327.558813 94.290513 \nL 327.558813 95.629605 \nL 326.287427 95.629605 \nL 326.287427 96.322136 \nL 324.972934 96.322136 \nL 324.972934 97.030944 \nL 324.29859 97.030944 \nL 324.29859 98.500554 \nL 323.61231 98.500554 \nL 323.61231 99.263086 \nL 321.477433 99.263086 \nL 321.477433 100.045368 \nL 319.985948 100.045368 \nL 319.985948 100.848441 \nL 319.218125 100.848441 \nL 319.218125 101.67343 \nL 312.45778 101.67343 \nL 312.45778 103.394139 \nL 307.543133 103.394139 \nL 307.543133 104.29262 \nL 306.48077 104.29262 \nL 306.48077 106.173705 \nL 305.388478 106.173705 \nL 305.388478 107.159905 \nL 304.264521 107.159905 \nL 304.264521 109.233988 \nL 301.913873 109.233988 \nL 301.913873 112.637392 \nL 299.411469 112.637392 \nL 299.411469 113.862036 \nL 298.096976 113.862036 \nL 298.096976 115.137959 \nL 296.736352 115.137959 \nL 296.736352 117.861966 \nL 292.342167 117.861966 \nL 292.342167 120.852717 \nL 290.759343 120.852717 \nL 290.759343 125.969337 \nL 289.109144 125.969337 \nL 289.109144 127.883488 \nL 277.388563 127.883488 \nL 277.388563 129.9245 \nL 272.535511 129.9245 \nL 272.535511 134.462053 \nL 269.860394 134.462053 \nL 269.860394 137.007277 \nL 266.986946 137.007277 \nL 266.986946 142.823569 \nL 263.883385 142.823569 \nL 263.883385 146.196226 \nL 252.728854 146.196226 \nL 252.728854 159.24652 \nL 242.984436 159.24652 \nL 242.984436 165.145746 \nL 221.285999 165.145746 \nL 221.285999 194.897701 \nL 210.131469 194.897701 \nL 210.131469 217.187731 \nL 194.410041 217.187731 \nL 194.410041 66550.318125 \nL 167.534083 66550.318125 \nL -88871.501875 66550.318125 \nz\n\" clip-path=\"url(#p85bf8bbffa)\" style=\"fill: #ff1493; fill-opacity: 0.2\"/>\n   </g>\n   <g id=\"FillBetweenPolyCollection_2\">\n    <path d=\"M -88871.501875 66550.318125 \nL -88871.501875 66550.318125 \nL -88871.501875 181.862735 \nL 194.410041 181.862735 \nL 194.410041 166.420408 \nL 229.938125 166.420408 \nL 229.938125 150.144982 \nL 252.728854 150.144982 \nL 252.728854 136.445017 \nL 256.814083 136.445017 \nL 256.814083 133.108318 \nL 266.986946 133.108318 \nL 266.986946 130.144809 \nL 269.860394 130.144809 \nL 269.860394 125.053567 \nL 272.535511 125.053567 \nL 272.535511 122.830053 \nL 279.604812 122.830053 \nL 279.604812 117.085835 \nL 283.690041 117.085835 \nL 283.690041 113.838583 \nL 285.581822 113.838583 \nL 285.581822 109.596513 \nL 287.38558 109.596513 \nL 287.38558 107.095815 \nL 289.109144 107.095815 \nL 289.109144 104.804851 \nL 290.759343 104.804851 \nL 290.759343 103.727467 \nL 299.411469 103.727467 \nL 299.411469 98.896362 \nL 303.107008 98.896362 \nL 303.107008 98.02428 \nL 305.388478 98.02428 \nL 305.388478 97.178981 \nL 306.48077 97.178981 \nL 306.48077 94.78837 \nL 307.543133 94.78837 \nL 307.543133 92.588519 \nL 308.577163 92.588519 \nL 308.577163 91.892527 \nL 309.584331 91.892527 \nL 309.584331 90.551016 \nL 312.45778 90.551016 \nL 312.45778 89.903902 \nL 313.370147 89.903902 \nL 313.370147 88.048686 \nL 314.261538 88.048686 \nL 314.261538 87.456914 \nL 315.985102 87.456914 \nL 315.985102 86.309992 \nL 316.81898 86.309992 \nL 316.81898 85.753851 \nL 322.202198 85.753851 \nL 322.202198 83.63453 \nL 322.913664 83.63453 \nL 322.913664 83.129061 \nL 323.61231 83.129061 \nL 323.61231 82.632632 \nL 324.29859 82.632632 \nL 324.29859 82.144923 \nL 324.972934 82.144923 \nL 324.972934 81.665632 \nL 326.287427 81.665632 \nL 326.287427 80.731166 \nL 328.789831 80.731166 \nL 328.789831 79.827107 \nL 329.982966 79.827107 \nL 329.982966 79.385869 \nL 330.566041 79.385869 \nL 330.566041 78.951526 \nL 331.70653 78.951526 \nL 331.70653 78.523862 \nL 332.814428 78.523862 \nL 332.814428 78.102676 \nL 333.356728 78.102676 \nL 333.356728 77.278965 \nL 333.891548 77.278965 \nL 333.891548 76.478941 \nL 334.939553 76.478941 \nL 334.939553 75.701273 \nL 335.453121 75.701273 \nL 335.453121 74.94474 \nL 336.95423 74.94474 \nL 336.95423 74.574045 \nL 337.923625 74.574045 \nL 337.923625 73.490675 \nL 339.333738 73.490675 \nL 339.333738 73.138717 \nL 340.246105 73.138717 \nL 340.246105 72.447867 \nL 341.137496 72.447867 \nL 341.137496 72.10876 \nL 341.575623 72.10876 \nL 341.575623 71.77373 \nL 343.280241 71.77373 \nL 343.280241 71.115517 \nL 344.105246 71.115517 \nL 344.105246 70.472489 \nL 344.511259 70.472489 \nL 344.511259 69.534928 \nL 344.913063 69.534928 \nL 344.913063 68.926957 \nL 346.094083 68.926957 \nL 346.094083 68.039151 \nL 347.24019 68.039151 \nL 347.24019 66.897729 \nL 347.61482 66.897729 \nL 347.61482 66.071303 \nL 347.985864 66.071303 \nL 347.985864 65.80118 \nL 348.353391 65.80118 \nL 348.353391 64.488451 \nL 348.717467 64.488451 \nL 348.717467 64.233157 \nL 349.789622 64.233157 \nL 349.789622 63.72947 \nL 350.832926 63.72947 \nL 350.832926 61.800989 \nL 351.513186 61.800989 \nL 351.513186 61.569036 \nL 352.181717 61.569036 \nL 352.181717 61.110833 \nL 353.485161 61.110833 \nL 353.485161 60.884523 \nL 353.804289 60.884523 \nL 353.804289 59.997196 \nL 354.434771 59.997196 \nL 354.434771 59.779703 \nL 355.055165 59.779703 \nL 355.055165 59.563893 \nL 355.361679 59.563893 \nL 355.361679 59.137214 \nL 355.967532 59.137214 \nL 355.967532 58.509184 \nL 356.564064 58.509184 \nL 356.564064 58.098214 \nL 358.016437 58.098214 \nL 358.016437 57.894976 \nL 358.300495 57.894976 \nL 358.300495 57.096514 \nL 358.582488 57.096514 \nL 358.582488 56.512313 \nL 359.416365 56.512313 \nL 359.416365 56.320266 \nL 359.690386 56.320266 \nL 359.690386 56.129532 \nL 360.232686 56.129532 \nL 360.232686 55.940094 \nL 360.501018 55.940094 \nL 360.501018 55.379376 \nL 361.032175 55.379376 \nL 361.032175 55.194947 \nL 361.295049 55.194947 \nL 361.295049 55.01173 \nL 362.583334 55.01173 \nL 362.583334 54.648867 \nL 362.835933 54.648867 \nL 362.835933 54.46919 \nL 363.830188 54.46919 \nL 363.830188 53.587772 \nL 365.275342 53.587772 \nL 365.275342 53.071993 \nL 365.51105 53.071993 \nL 365.51105 52.902165 \nL 365.745333 52.902165 \nL 365.745333 52.733366 \nL 365.97821 52.733366 \nL 365.97821 52.565583 \nL 366.209696 52.565583 \nL 366.209696 52.233016 \nL 366.439808 52.233016 \nL 366.439808 52.06821 \nL 366.668563 52.06821 \nL 366.668563 51.904372 \nL 367.346839 51.904372 \nL 367.346839 51.741491 \nL 367.79252 51.741491 \nL 367.79252 51.579557 \nL 368.233136 51.579557 \nL 368.233136 51.418559 \nL 369.099626 51.418559 \nL 369.099626 51.258486 \nL 369.313257 51.258486 \nL 369.313257 50.783712 \nL 369.947175 50.783712 \nL 369.947175 50.627235 \nL 370.156199 50.627235 \nL 370.156199 50.316895 \nL 370.364102 50.316895 \nL 370.364102 49.706401 \nL 370.570896 49.706401 \nL 370.570896 49.257159 \nL 370.981205 49.257159 \nL 370.981205 49.109008 \nL 371.58864 49.109008 \nL 371.58864 48.961642 \nL 371.789021 48.961642 \nL 371.789021 48.66923 \nL 372.580351 48.66923 \nL 372.580351 48.236296 \nL 372.775686 48.236296 \nL 372.775686 47.809996 \nL 372.970041 47.809996 \nL 372.970041 47.669336 \nL 373.355853 47.669336 \nL 373.355853 46.976517 \nL 374.490778 46.976517 \nL 374.490778 46.568966 \nL 375.229349 46.568966 \nL 375.229349 46.30055 \nL 375.411814 46.30055 \nL 375.411814 46.167308 \nL 376.488934 46.167308 \nL 376.488934 45.771375 \nL 376.841425 45.771375 \nL 376.841425 45.510522 \nL 377.016477 45.510522 \nL 377.016477 45.381009 \nL 377.190741 45.381009 \nL 377.190741 45.123783 \nL 377.364226 45.123783 \nL 377.364226 44.996058 \nL 377.536938 44.996058 \nL 377.536938 44.49096 \nL 377.708884 44.49096 \nL 377.708884 43.750157 \nL 378.389144 43.750157 \nL 378.389144 43.628593 \nL 378.557361 43.628593 \nL 378.557361 43.387053 \nL 378.89162 43.387053 \nL 378.89162 43.147601 \nL 379.877448 43.147601 \nL 379.877448 42.910202 \nL 380.200565 42.910202 \nL 380.200565 42.792262 \nL 380.521011 42.792262 \nL 380.521011 41.980465 \nL 380.680247 41.980465 \nL 380.680247 41.752835 \nL 380.838831 41.752835 \nL 380.838831 41.639719 \nL 381.154067 41.639719 \nL 381.154067 41.191831 \nL 381.310729 41.191831 \nL 381.310729 41.080985 \nL 381.466761 41.080985 \nL 381.466761 40.970582 \nL 382.237637 40.970582 \nL 382.237637 40.751093 \nL 382.38999 40.751093 \nL 382.38999 40.533337 \nL 382.993486 40.533337 \nL 382.993486 40.102916 \nL 383.440022 40.102916 \nL 383.440022 39.996353 \nL 383.734882 39.996353 \nL 383.734882 39.890201 \nL 383.881475 39.890201 \nL 383.881475 39.679116 \nL 384.027516 39.679116 \nL 384.027516 39.574177 \nL 384.173008 39.574177 \nL 384.173008 39.365492 \nL 384.462367 39.365492 \nL 384.462367 39.26174 \nL 384.60624 39.26174 \nL 384.60624 39.158379 \nL 384.749581 39.158379 \nL 384.749581 38.445528 \nL 384.892395 38.445528 \nL 384.892395 38.345186 \nL 385.034684 38.345186 \nL 385.034684 38.245209 \nL 385.176453 38.245209 \nL 385.176453 38.046342 \nL 385.598677 38.046342 \nL 385.598677 37.168876 \nL 386.292323 37.168876 \nL 386.292323 36.977645 \nL 386.566344 36.977645 \nL 386.566344 36.882529 \nL 386.838442 36.882529 \nL 386.838442 36.693284 \nL 387.643464 36.693284 \nL 387.643464 36.505341 \nL 387.908133 36.505341 \nL 387.908133 36.133294 \nL 388.039793 36.133294 \nL 388.039793 36.04107 \nL 388.171007 36.04107 \nL 388.171007 35.857553 \nL 388.301779 35.857553 \nL 388.301779 35.49419 \nL 388.432111 35.49419 \nL 388.432111 35.314312 \nL 388.691469 35.314312 \nL 388.691469 34.958091 \nL 388.949103 34.958091 \nL 388.949103 34.869762 \nL 389.205037 34.869762 \nL 389.205037 34.781719 \nL 389.332373 34.781719 \nL 389.332373 34.693962 \nL 389.962855 34.693962 \nL 389.962855 34.606487 \nL 390.336281 34.606487 \nL 390.336281 34.519295 \nL 390.706146 34.519295 \nL 390.706146 34.432382 \nL 390.950776 34.432382 \nL 390.950776 34.345747 \nL 391.193873 34.345747 \nL 391.193873 34.259389 \nL 391.314852 34.259389 \nL 391.314852 33.74696 \nL 391.555684 33.74696 \nL 391.555684 33.57829 \nL 391.795029 33.57829 \nL 391.795029 33.41067 \nL 391.91415 33.41067 \nL 391.91415 33.244088 \nL 392.032906 33.244088 \nL 392.032906 33.078532 \nL 392.1513 33.078532 \nL 392.1513 32.913991 \nL 393.430312 32.913991 \nL 393.430312 32.832098 \nL 393.658394 32.832098 \nL 393.658394 32.750453 \nL 393.771934 32.750453 \nL 393.771934 32.669057 \nL 393.885142 32.669057 \nL 393.885142 32.587908 \nL 394.334699 32.587908 \nL 394.334699 32.507004 \nL 394.446278 32.507004 \nL 394.446278 32.426344 \nL 394.779102 32.426344 \nL 394.779102 32.265751 \nL 395.109094 32.265751 \nL 395.109094 32.185816 \nL 395.21847 32.185816 \nL 395.21847 31.947437 \nL 395.436301 31.947437 \nL 395.436301 31.789696 \nL 395.54476 31.789696 \nL 395.54476 31.711175 \nL 395.868326 31.711175 \nL 395.868326 31.632885 \nL 395.975584 31.632885 \nL 395.975584 31.554826 \nL 396.718197 31.554826 \nL 396.718197 31.476995 \nL 396.823133 31.476995 \nL 396.823133 31.167942 \nL 397.032157 31.167942 \nL 397.032157 31.09124 \nL 397.136248 31.09124 \nL 397.136248 31.01476 \nL 397.343595 31.01476 \nL 397.343595 30.938501 \nL 397.446854 30.938501 \nL 397.446854 30.862463 \nL 398.0607 30.862463 \nL 398.0607 30.635656 \nL 398.263175 30.635656 \nL 398.263175 30.560487 \nL 398.464598 30.560487 \nL 398.464598 30.485533 \nL 398.764783 30.485533 \nL 398.764783 30.410792 \nL 398.864331 30.410792 \nL 398.864331 30.040261 \nL 398.963624 30.040261 \nL 398.963624 29.89351 \nL 399.062663 29.89351 \nL 399.062663 29.747583 \nL 399.259986 29.747583 \nL 399.259986 29.674927 \nL 399.358272 29.674927 \nL 399.358272 29.458172 \nL 399.456309 29.458172 \nL 399.456309 29.386323 \nL 399.651644 29.386323 \nL 399.651644 29.243223 \nL 399.845999 29.243223 \nL 399.845999 29.171971 \nL 399.942813 29.171971 \nL 399.942813 29.100916 \nL 400.135718 29.100916 \nL 400.135718 28.959394 \nL 400.231811 28.959394 \nL 400.231811 28.818651 \nL 400.423287 28.818651 \nL 400.423287 28.608984 \nL 400.992106 28.608984 \nL 400.992106 28.194786 \nL 401.273417 28.194786 \nL 401.273417 27.922398 \nL 401.829989 27.922398 \nL 401.829989 27.854763 \nL 401.921979 27.854763 \nL 401.921979 27.787311 \nL 402.287772 27.787311 \nL 402.287772 27.519328 \nL 402.378684 27.519328 \nL 402.378684 27.320239 \nL 402.469383 27.320239 \nL 402.469383 27.254235 \nL 402.55987 27.254235 \nL 402.55987 27.188409 \nL 402.830072 27.188409 \nL 402.830072 27.057291 \nL 403.098404 27.057291 \nL 403.098404 26.991998 \nL 403.276266 26.991998 \nL 403.276266 26.861941 \nL 403.364892 26.861941 \nL 403.364892 26.732588 \nL 403.541538 26.732588 \nL 403.541538 26.603934 \nL 403.979665 26.603934 \nL 403.979665 26.539869 \nL 404.066699 26.539869 \nL 404.066699 26.159123 \nL 404.153539 26.159123 \nL 404.153539 26.09627 \nL 404.240184 26.09627 \nL 404.240184 25.97108 \nL 404.326636 25.97108 \nL 404.326636 25.722765 \nL 404.412896 25.722765 \nL 404.412896 25.477197 \nL 404.498965 25.477197 \nL 404.498965 25.416234 \nL 404.584842 25.416234 \nL 404.584842 25.23438 \nL 404.75603 25.23438 \nL 404.75603 25.174107 \nL 404.841341 25.174107 \nL 404.841341 25.114007 \nL 404.926464 25.114007 \nL 404.926464 25.054081 \nL 405.096153 25.054081 \nL 405.096153 24.994329 \nL 405.433319 24.994329 \nL 405.433319 24.93475 \nL 405.517154 24.93475 \nL 405.517154 24.875347 \nL 405.600808 24.875347 \nL 405.600808 24.81612 \nL 405.933633 24.81612 \nL 405.933633 24.698193 \nL 406.016394 24.698193 \nL 406.016394 24.52264 \nL 406.09898 24.52264 \nL 406.09898 24.464482 \nL 406.18139 24.464482 \nL 406.18139 24.291105 \nL 406.263625 24.291105 \nL 406.263625 24.233683 \nL 406.345686 24.233683 \nL 406.345686 24.176449 \nL 406.427573 24.176449 \nL 406.427573 24.062553 \nL 406.590832 24.062553 \nL 406.590832 23.949433 \nL 406.672204 23.949433 \nL 406.672204 23.893171 \nL 406.753406 23.893171 \nL 406.753406 23.781256 \nL 406.834438 23.781256 \nL 406.834438 23.725611 \nL 406.915301 23.725611 \nL 406.915301 23.670179 \nL 407.076523 23.670179 \nL 407.076523 23.614964 \nL 407.396969 23.614964 \nL 407.396969 23.559971 \nL 407.476669 23.559971 \nL 407.476669 23.396383 \nL 407.556205 23.396383 \nL 407.556205 23.181781 \nL 407.714789 23.181781 \nL 407.714789 23.076166 \nL 407.793839 23.076166 \nL 407.793839 23.023828 \nL 407.872727 23.023828 \nL 407.872727 22.868931 \nL 408.186687 22.868931 \nL 408.186687 22.818094 \nL 408.264781 22.818094 \nL 408.264781 22.668521 \nL 408.342719 22.668521 \nL 408.342719 22.391789 \nL 408.4205 22.391789 \nL 408.4205 22.352159 \nL 408.498125 22.352159 \nL 408.498125 22.318125 \nL 408.498125 22.318125 \nL 408.498125 22.318125 \nL 408.498125 22.515929 \nL 408.4205 22.515929 \nL 408.4205 22.592567 \nL 408.342719 22.592567 \nL 408.342719 23.018402 \nL 408.264781 23.018402 \nL 408.264781 23.223342 \nL 408.186687 23.223342 \nL 408.186687 23.291161 \nL 407.872727 23.291161 \nL 407.872727 23.493701 \nL 407.793839 23.493701 \nL 407.793839 23.561002 \nL 407.714789 23.561002 \nL 407.714789 23.69541 \nL 407.556205 23.69541 \nL 407.556205 23.963865 \nL 407.476669 23.963865 \nL 407.476669 24.165238 \nL 407.396969 24.165238 \nL 407.396969 24.232414 \nL 407.076523 24.232414 \nL 407.076523 24.299626 \nL 406.915301 24.299626 \nL 406.915301 24.36688 \nL 406.834438 24.36688 \nL 406.834438 24.434182 \nL 406.753406 24.434182 \nL 406.753406 24.568951 \nL 406.672204 24.568951 \nL 406.672204 24.636427 \nL 406.590832 24.636427 \nL 406.590832 24.77158 \nL 406.427573 24.77158 \nL 406.427573 24.907028 \nL 406.345686 24.907028 \nL 406.345686 24.974871 \nL 406.263625 24.974871 \nL 406.263625 25.042797 \nL 406.18139 25.042797 \nL 406.18139 25.247104 \nL 406.09898 25.247104 \nL 406.09898 25.315391 \nL 406.016394 25.315391 \nL 406.016394 25.520841 \nL 405.933633 25.520841 \nL 405.933633 25.658321 \nL 405.600808 25.658321 \nL 405.600808 25.727221 \nL 405.517154 25.727221 \nL 405.517154 25.796229 \nL 405.433319 25.796229 \nL 405.433319 25.86535 \nL 405.096153 25.86535 \nL 405.096153 25.934582 \nL 404.926464 25.934582 \nL 404.926464 26.00393 \nL 404.841341 26.00393 \nL 404.841341 26.073394 \nL 404.75603 26.073394 \nL 404.75603 26.142976 \nL 404.584842 26.142976 \nL 404.584842 26.352447 \nL 404.498965 26.352447 \nL 404.498965 26.422517 \nL 404.412896 26.422517 \nL 404.412896 26.704072 \nL 404.326636 26.704072 \nL 404.326636 26.987732 \nL 404.240184 26.987732 \nL 404.240184 27.130378 \nL 404.153539 27.130378 \nL 404.153539 27.20191 \nL 404.066699 27.20191 \nL 404.066699 27.634102 \nL 403.979665 27.634102 \nL 403.979665 27.706645 \nL 403.541538 27.706645 \nL 403.541538 27.852182 \nL 403.364892 27.852182 \nL 403.364892 27.998326 \nL 403.276266 27.998326 \nL 403.276266 28.145086 \nL 403.098404 28.145086 \nL 403.098404 28.2187 \nL 402.830072 28.2187 \nL 402.830072 28.366403 \nL 402.55987 28.366403 \nL 402.55987 28.440493 \nL 402.469383 28.440493 \nL 402.469383 28.514745 \nL 402.378684 28.514745 \nL 402.378684 28.738478 \nL 402.287772 28.738478 \nL 402.287772 29.039114 \nL 401.921979 29.039114 \nL 401.921979 29.114696 \nL 401.829989 29.114696 \nL 401.829989 29.190449 \nL 401.273417 29.190449 \nL 401.273417 29.495199 \nL 400.992106 29.495199 \nL 400.992106 29.957661 \nL 400.423287 29.957661 \nL 400.423287 30.191363 \nL 400.231811 30.191363 \nL 400.231811 30.3481 \nL 400.135718 30.3481 \nL 400.135718 30.505598 \nL 399.942813 30.505598 \nL 399.942813 30.584635 \nL 399.845999 30.584635 \nL 399.845999 30.663865 \nL 399.651644 30.663865 \nL 399.651644 30.822912 \nL 399.456309 30.822912 \nL 399.456309 30.902731 \nL 399.358272 30.902731 \nL 399.358272 31.143384 \nL 399.259986 31.143384 \nL 399.259986 31.224004 \nL 399.062663 31.224004 \nL 399.062663 31.385857 \nL 398.963624 31.385857 \nL 398.963624 31.548533 \nL 398.864331 31.548533 \nL 398.864331 31.958898 \nL 398.764783 31.958898 \nL 398.764783 32.041611 \nL 398.464598 32.041611 \nL 398.464598 32.124541 \nL 398.263175 32.124541 \nL 398.263175 32.207688 \nL 398.0607 32.207688 \nL 398.0607 32.45845 \nL 397.446854 32.45845 \nL 397.446854 32.542482 \nL 397.343595 32.542482 \nL 397.343595 32.626738 \nL 397.136248 32.626738 \nL 397.136248 32.711221 \nL 397.032157 32.711221 \nL 397.032157 32.79593 \nL 396.823133 32.79593 \nL 396.823133 33.137072 \nL 396.718197 33.137072 \nL 396.718197 33.22294 \nL 395.975584 33.22294 \nL 395.975584 33.309044 \nL 395.868326 33.309044 \nL 395.868326 33.395385 \nL 395.54476 33.395385 \nL 395.54476 33.481965 \nL 395.436301 33.481965 \nL 395.436301 33.655849 \nL 395.21847 33.655849 \nL 395.21847 33.918503 \nL 395.109094 33.918503 \nL 395.109094 34.006548 \nL 394.779102 34.006548 \nL 394.779102 34.18339 \nL 394.446278 34.18339 \nL 394.446278 34.272189 \nL 394.334699 34.272189 \nL 394.334699 34.361242 \nL 393.885142 34.361242 \nL 393.885142 34.450551 \nL 393.771934 34.450551 \nL 393.771934 34.540118 \nL 393.658394 34.540118 \nL 393.658394 34.629944 \nL 393.430312 34.629944 \nL 393.430312 34.720031 \nL 392.1513 34.720031 \nL 392.1513 34.900995 \nL 392.032906 34.900995 \nL 392.032906 35.083021 \nL 391.91415 35.083021 \nL 391.91415 35.266125 \nL 391.795029 35.266125 \nL 391.795029 35.450321 \nL 391.555684 35.450321 \nL 391.555684 35.635621 \nL 391.314852 35.635621 \nL 391.314852 36.198301 \nL 391.193873 36.198301 \nL 391.193873 36.293089 \nL 390.950776 36.293089 \nL 390.950776 36.388169 \nL 390.706146 36.388169 \nL 390.706146 36.483545 \nL 390.336281 36.483545 \nL 390.336281 36.579218 \nL 389.962855 36.579218 \nL 389.962855 36.67519 \nL 389.332373 36.67519 \nL 389.332373 36.771462 \nL 389.205037 36.771462 \nL 389.205037 36.868038 \nL 388.949103 36.868038 \nL 388.949103 36.964918 \nL 388.691469 36.964918 \nL 388.691469 37.355531 \nL 388.432111 37.355531 \nL 388.432111 37.552722 \nL 388.301779 37.552722 \nL 388.301779 37.950956 \nL 388.171007 37.950956 \nL 388.171007 38.152036 \nL 388.039793 38.152036 \nL 388.039793 38.253075 \nL 387.908133 38.253075 \nL 387.908133 38.660608 \nL 387.643464 38.660608 \nL 387.643464 38.866434 \nL 386.838442 38.866434 \nL 386.838442 39.073661 \nL 386.566344 39.073661 \nL 386.566344 39.177805 \nL 386.292323 39.177805 \nL 386.292323 39.387168 \nL 385.598677 39.387168 \nL 385.598677 40.347557 \nL 385.176453 40.347557 \nL 385.176453 40.565164 \nL 385.034684 40.565164 \nL 385.034684 40.674555 \nL 384.892395 40.674555 \nL 384.892395 40.784342 \nL 384.749581 40.784342 \nL 384.749581 41.564188 \nL 384.60624 41.564188 \nL 384.60624 41.677251 \nL 384.462367 41.677251 \nL 384.462367 41.790738 \nL 384.173008 41.790738 \nL 384.173008 42.018997 \nL 384.027516 42.018997 \nL 384.027516 42.133775 \nL 383.881475 42.133775 \nL 383.881475 42.364646 \nL 383.734882 42.364646 \nL 383.734882 42.480746 \nL 383.440022 42.480746 \nL 383.440022 42.597293 \nL 382.993486 42.597293 \nL 382.993486 43.068029 \nL 382.38999 43.068029 \nL 382.38999 43.306176 \nL 382.237637 43.306176 \nL 382.237637 43.546216 \nL 381.466761 43.546216 \nL 381.466761 43.666955 \nL 381.310729 43.666955 \nL 381.310729 43.78818 \nL 381.154067 43.78818 \nL 381.154067 44.278008 \nL 380.838831 44.278008 \nL 380.838831 44.401718 \nL 380.680247 44.401718 \nL 380.680247 44.650672 \nL 380.521011 44.650672 \nL 380.521011 45.538572 \nL 380.200565 45.538572 \nL 380.200565 45.667579 \nL 379.877448 45.667579 \nL 379.877448 45.927262 \nL 378.89162 45.927262 \nL 378.89162 46.189206 \nL 378.557361 46.189206 \nL 378.557361 46.45345 \nL 378.389144 46.45345 \nL 378.389144 46.586448 \nL 377.708884 46.586448 \nL 377.708884 47.397027 \nL 377.536938 47.397027 \nL 377.536938 47.949818 \nL 377.364226 47.949818 \nL 377.364226 48.089619 \nL 377.190741 48.089619 \nL 377.190741 48.371189 \nL 377.016477 48.371189 \nL 377.016477 48.51297 \nL 376.841425 48.51297 \nL 376.841425 48.798557 \nL 376.488934 48.798557 \nL 376.488934 49.232096 \nL 375.411814 49.232096 \nL 375.411814 49.378012 \nL 375.229349 49.378012 \nL 375.229349 49.671989 \nL 374.490778 49.671989 \nL 374.490778 50.118428 \nL 373.355853 50.118428 \nL 373.355853 50.877584 \nL 372.970041 50.877584 \nL 372.970041 51.031749 \nL 372.775686 51.031749 \nL 372.775686 51.499058 \nL 372.580351 51.499058 \nL 372.580351 51.973769 \nL 371.789021 51.973769 \nL 371.789021 52.294473 \nL 371.58864 52.294473 \nL 371.58864 52.456122 \nL 370.981205 52.456122 \nL 370.981205 52.618647 \nL 370.570896 52.618647 \nL 370.570896 53.111582 \nL 370.364102 53.111582 \nL 370.364102 53.781708 \nL 370.156199 53.781708 \nL 370.156199 54.12248 \nL 369.947175 54.12248 \nL 369.947175 54.294332 \nL 369.313257 54.294332 \nL 369.313257 54.815886 \nL 369.099626 54.815886 \nL 369.099626 54.991777 \nL 368.233136 54.991777 \nL 368.233136 55.168708 \nL 367.79252 55.168708 \nL 367.79252 55.34669 \nL 367.346839 55.34669 \nL 367.346839 55.525738 \nL 366.668563 55.525738 \nL 366.668563 55.705863 \nL 366.439808 55.705863 \nL 366.439808 55.887079 \nL 366.209696 55.887079 \nL 366.209696 56.252837 \nL 365.97821 56.252837 \nL 365.97821 56.437407 \nL 365.745333 56.437407 \nL 365.745333 56.623122 \nL 365.51105 56.623122 \nL 365.51105 56.809997 \nL 365.275342 56.809997 \nL 365.275342 57.377731 \nL 363.830188 57.377731 \nL 363.830188 58.348578 \nL 362.835933 58.348578 \nL 362.835933 58.546587 \nL 362.583334 58.546587 \nL 362.583334 58.946583 \nL 361.295049 58.946583 \nL 361.295049 59.148605 \nL 361.032175 59.148605 \nL 361.032175 59.352002 \nL 360.501018 59.352002 \nL 360.501018 59.970627 \nL 360.232686 59.970627 \nL 360.232686 60.179712 \nL 359.690386 60.179712 \nL 359.690386 60.39027 \nL 359.416365 60.39027 \nL 359.416365 60.602321 \nL 358.582488 60.602321 \nL 358.582488 61.247652 \nL 358.300495 61.247652 \nL 358.300495 62.13035 \nL 358.016437 62.13035 \nL 358.016437 62.355158 \nL 356.564064 62.355158 \nL 356.564064 62.80991 \nL 355.967532 62.80991 \nL 355.967532 63.505278 \nL 355.361679 63.505278 \nL 355.361679 63.97801 \nL 355.055165 63.97801 \nL 355.055165 64.217208 \nL 354.434771 64.217208 \nL 354.434771 64.458337 \nL 353.804289 64.458337 \nL 353.804289 65.442784 \nL 353.485161 65.442784 \nL 353.485161 65.694046 \nL 352.181717 65.694046 \nL 352.181717 66.202996 \nL 351.513186 66.202996 \nL 351.513186 66.460758 \nL 350.832926 66.460758 \nL 350.832926 68.606994 \nL 349.789622 68.606994 \nL 349.789622 69.16852 \nL 348.717467 69.16852 \nL 348.717467 69.453288 \nL 348.353391 69.453288 \nL 348.353391 70.91928 \nL 347.985864 70.91928 \nL 347.985864 71.221303 \nL 347.61482 71.221303 \nL 347.61482 72.146114 \nL 347.24019 72.146114 \nL 347.24019 73.425421 \nL 346.094083 73.425421 \nL 346.094083 74.422126 \nL 344.913063 74.422126 \nL 344.913063 75.10553 \nL 344.511259 75.10553 \nL 344.511259 76.160813 \nL 344.105246 76.160813 \nL 344.105246 76.885584 \nL 343.280241 76.885584 \nL 343.280241 77.628333 \nL 341.575623 77.628333 \nL 341.575623 78.006732 \nL 341.137496 78.006732 \nL 341.137496 78.389973 \nL 340.246105 78.389973 \nL 340.246105 79.171484 \nL 339.333738 79.171484 \nL 339.333738 79.57002 \nL 337.923625 79.57002 \nL 337.923625 80.798449 \nL 336.95423 80.798449 \nL 336.95423 81.219375 \nL 335.453121 81.219375 \nL 335.453121 82.079381 \nL 334.939553 82.079381 \nL 334.939553 82.964781 \nL 333.891548 82.964781 \nL 333.891548 83.877113 \nL 333.356728 83.877113 \nL 333.356728 84.818057 \nL 332.814428 84.818057 \nL 332.814428 85.299828 \nL 331.70653 85.299828 \nL 331.70653 85.789457 \nL 330.566041 85.789457 \nL 330.566041 86.287203 \nL 329.982966 86.287203 \nL 329.982966 86.793338 \nL 328.789831 86.793338 \nL 328.789831 87.831934 \nL 326.287427 87.831934 \nL 326.287427 88.907718 \nL 324.972934 88.907718 \nL 324.972934 89.460401 \nL 324.29859 89.460401 \nL 324.29859 90.023434 \nL 323.61231 90.023434 \nL 323.61231 90.597209 \nL 322.913664 90.597209 \nL 322.913664 91.182141 \nL 322.202198 91.182141 \nL 322.202198 93.642641 \nL 316.81898 93.642641 \nL 316.81898 94.290513 \nL 315.985102 94.290513 \nL 315.985102 95.629605 \nL 314.261538 95.629605 \nL 314.261538 96.322136 \nL 313.370147 96.322136 \nL 313.370147 98.500554 \nL 312.45778 98.500554 \nL 312.45778 99.263086 \nL 309.584331 99.263086 \nL 309.584331 100.848441 \nL 308.577163 100.848441 \nL 308.577163 101.67343 \nL 307.543133 101.67343 \nL 307.543133 104.29262 \nL 306.48077 104.29262 \nL 306.48077 107.159905 \nL 305.388478 107.159905 \nL 305.388478 108.179239 \nL 303.107008 108.179239 \nL 303.107008 109.233988 \nL 299.411469 109.233988 \nL 299.411469 115.137959 \nL 290.759343 115.137959 \nL 290.759343 116.469593 \nL 289.109144 116.469593 \nL 289.109144 119.320813 \nL 287.38558 119.320813 \nL 287.38558 122.465283 \nL 285.581822 122.465283 \nL 285.581822 127.883488 \nL 283.690041 127.883488 \nL 283.690041 132.110116 \nL 279.604812 132.110116 \nL 279.604812 139.779838 \nL 272.535511 139.779838 \nL 272.535511 142.823569 \nL 269.860394 142.823569 \nL 269.860394 149.976042 \nL 266.986946 149.976042 \nL 266.986946 154.272666 \nL 256.814083 154.272666 \nL 256.814083 159.24652 \nL 252.728854 159.24652 \nL 252.728854 181.732706 \nL 229.938125 181.732706 \nL 229.938125 217.187731 \nL 194.410041 217.187731 \nL 194.410041 401.444744 \nL -88871.501875 401.444744 \nL -88871.501875 66550.318125 \nz\n\" clip-path=\"url(#p85bf8bbffa)\" style=\"fill: #00ffff; fill-opacity: 0.2\"/>\n   </g>\n   <g id=\"FillBetweenPolyCollection_3\">\n    <path d=\"M -88871.501875 66550.318125 \nL -88871.501875 66550.318125 \nL 167.534083 66550.318125 \nL 167.534083 156.997307 \nL 221.285999 156.997307 \nL 221.285999 150.144982 \nL 260.509622 150.144982 \nL 260.509622 136.445017 \nL 263.883385 136.445017 \nL 263.883385 127.478196 \nL 269.860394 127.478196 \nL 269.860394 122.830053 \nL 275.037915 122.830053 \nL 275.037915 113.838583 \nL 277.388563 113.838583 \nL 277.388563 110.938419 \nL 279.604812 110.938419 \nL 279.604812 109.596513 \nL 281.701205 109.596513 \nL 281.701205 104.804851 \nL 285.581822 104.804851 \nL 285.581822 101.69195 \nL 290.759343 101.69195 \nL 290.759343 100.728139 \nL 292.342167 100.728139 \nL 292.342167 98.02428 \nL 293.862904 98.02428 \nL 293.862904 93.302501 \nL 296.736352 93.302501 \nL 296.736352 91.213635 \nL 304.264521 91.213635 \nL 304.264521 90.551016 \nL 305.388478 90.551016 \nL 305.388478 88.653381 \nL 313.370147 88.653381 \nL 313.370147 83.129061 \nL 314.261538 83.129061 \nL 314.261538 82.144923 \nL 315.132896 82.144923 \nL 315.132896 81.665632 \nL 317.635301 81.665632 \nL 317.635301 81.19447 \nL 322.202198 81.19447 \nL 322.202198 80.731166 \nL 324.29859 80.731166 \nL 324.29859 79.827107 \nL 324.972934 79.827107 \nL 324.972934 78.102676 \nL 326.287427 78.102676 \nL 326.287427 77.687772 \nL 328.179207 77.687772 \nL 328.179207 76.876078 \nL 329.390987 76.876078 \nL 329.390987 76.087391 \nL 329.982966 76.087391 \nL 329.982966 75.701273 \nL 332.814428 75.701273 \nL 332.814428 74.94474 \nL 333.891548 74.94474 \nL 333.891548 74.574045 \nL 334.939553 74.574045 \nL 334.939553 73.847137 \nL 335.959975 73.847137 \nL 335.959975 73.138717 \nL 336.460289 73.138717 \nL 336.460289 72.791151 \nL 336.95423 72.791151 \nL 336.95423 72.10876 \nL 337.923625 72.10876 \nL 337.923625 71.77373 \nL 338.869375 71.77373 \nL 338.869375 71.115517 \nL 339.333738 71.115517 \nL 339.333738 70.156452 \nL 339.792605 70.156452 \nL 339.792605 69.229286 \nL 340.246105 69.229286 \nL 340.246105 68.926957 \nL 341.137496 68.926957 \nL 341.137496 68.62787 \nL 341.575623 68.62787 \nL 341.575623 68.039151 \nL 344.105246 68.039151 \nL 344.105246 67.462602 \nL 344.511259 67.462602 \nL 344.511259 66.619524 \nL 344.913063 66.619524 \nL 344.913063 66.344067 \nL 345.704393 66.344067 \nL 345.704393 65.533647 \nL 346.479895 65.533647 \nL 346.479895 65.268654 \nL 347.24019 65.268654 \nL 347.24019 64.488451 \nL 347.985864 64.488451 \nL 347.985864 63.72947 \nL 349.078156 63.72947 \nL 349.078156 62.748575 \nL 349.435521 62.748575 \nL 349.435521 62.034886 \nL 349.789622 62.034886 \nL 349.789622 61.338994 \nL 352.511709 61.338994 \nL 352.511709 61.110833 \nL 353.163385 61.110833 \nL 353.163385 60.884523 \nL 355.361679 60.884523 \nL 355.361679 60.437333 \nL 355.665789 60.437333 \nL 355.665789 59.997196 \nL 356.564064 59.997196 \nL 356.564064 59.563893 \nL 356.858924 59.563893 \nL 356.858924 59.349738 \nL 357.151558 59.349738 \nL 357.151558 58.926296 \nL 357.730282 58.926296 \nL 357.730282 58.716961 \nL 358.300495 58.716961 \nL 358.300495 58.509184 \nL 358.862444 58.509184 \nL 358.862444 58.098214 \nL 360.501018 58.098214 \nL 360.501018 57.693209 \nL 361.032175 57.693209 \nL 361.032175 57.293998 \nL 361.295049 57.293998 \nL 361.295049 56.900418 \nL 362.073145 56.900418 \nL 362.073145 56.129532 \nL 362.835933 56.129532 \nL 362.835933 55.751933 \nL 363.584004 55.751933 \nL 363.584004 55.565033 \nL 364.799584 55.565033 \nL 364.799584 55.194947 \nL 365.038192 55.194947 \nL 365.038192 55.01173 \nL 365.51105 55.01173 \nL 365.51105 54.46919 \nL 367.122063 54.46919 \nL 367.122063 54.290664 \nL 367.79252 54.290664 \nL 367.79252 53.761841 \nL 368.013454 53.761841 \nL 368.013454 53.587772 \nL 368.451581 53.587772 \nL 368.451581 53.071993 \nL 369.099626 53.071993 \nL 369.099626 52.733366 \nL 369.313257 52.733366 \nL 369.313257 51.258486 \nL 369.947175 51.258486 \nL 369.947175 51.099327 \nL 370.364102 51.099327 \nL 370.364102 50.783712 \nL 370.776593 50.783712 \nL 370.776593 50.163012 \nL 371.184742 50.163012 \nL 371.184742 49.706401 \nL 371.387217 49.706401 \nL 371.387217 49.257159 \nL 371.58864 49.257159 \nL 371.58864 48.961642 \nL 372.186705 48.961642 \nL 372.186705 48.66923 \nL 372.384028 48.66923 \nL 372.384028 48.524169 \nL 373.163427 48.524169 \nL 373.163427 48.37986 \nL 373.355853 48.37986 \nL 373.355853 48.236296 \nL 373.547329 48.236296 \nL 373.547329 47.390133 \nL 373.927468 47.390133 \nL 373.927468 47.251576 \nL 374.116148 47.251576 \nL 374.116148 47.113706 \nL 374.676743 47.113706 \nL 374.676743 46.976517 \nL 375.229349 46.976517 \nL 375.229349 46.704153 \nL 375.593425 46.704153 \nL 375.593425 46.568966 \nL 375.774189 46.568966 \nL 375.774189 46.434434 \nL 376.311479 46.434434 \nL 376.311479 46.30055 \nL 376.66558 46.30055 \nL 376.66558 46.034702 \nL 377.190741 46.034702 \nL 377.190741 45.771375 \nL 377.364226 45.771375 \nL 377.364226 45.510522 \nL 377.536938 45.510522 \nL 377.536938 45.252098 \nL 377.708884 45.252098 \nL 377.708884 44.868919 \nL 378.220195 44.868919 \nL 378.220195 44.616375 \nL 378.72485 44.616375 \nL 378.72485 44.49096 \nL 378.89162 44.49096 \nL 378.89162 44.36611 \nL 379.057675 44.36611 \nL 379.057675 44.24182 \nL 379.223022 44.24182 \nL 379.223022 43.994898 \nL 379.387667 43.994898 \nL 379.387667 43.872258 \nL 379.551615 43.872258 \nL 379.551615 43.147601 \nL 379.714874 43.147601 \nL 379.714874 42.910202 \nL 379.877448 42.910202 \nL 379.877448 42.792262 \nL 380.521011 42.792262 \nL 380.521011 42.674822 \nL 380.838831 42.674822 \nL 380.838831 42.441427 \nL 380.996769 42.441427 \nL 380.996769 42.209986 \nL 381.154067 42.209986 \nL 381.154067 42.094987 \nL 381.466761 42.094987 \nL 381.466761 41.866416 \nL 381.622167 41.866416 \nL 381.622167 41.752835 \nL 381.776953 41.752835 \nL 381.776953 41.527064 \nL 381.931123 41.527064 \nL 381.931123 41.414867 \nL 382.084683 41.414867 \nL 382.084683 41.191831 \nL 382.237637 41.191831 \nL 382.237637 41.080985 \nL 382.84349 41.080985 \nL 382.84349 40.86062 \nL 383.142904 40.86062 \nL 383.142904 40.751093 \nL 383.440022 40.751093 \nL 383.440022 40.642 \nL 383.587732 40.642 \nL 383.587732 40.4251 \nL 383.734882 40.4251 \nL 383.734882 40.317286 \nL 384.60624 40.317286 \nL 384.60624 39.784456 \nL 385.034684 39.784456 \nL 385.034684 39.574177 \nL 385.458446 39.574177 \nL 385.458446 39.365492 \nL 385.598677 39.365492 \nL 385.598677 39.26174 \nL 385.877626 39.26174 \nL 385.877626 38.952813 \nL 386.016352 38.952813 \nL 386.016352 38.647319 \nL 386.154583 38.647319 \nL 386.154583 38.546238 \nL 386.292323 38.546238 \nL 386.292323 38.445528 \nL 386.702632 38.445528 \nL 386.702632 38.345186 \nL 386.838442 38.345186 \nL 386.838442 38.046342 \nL 387.243042 38.046342 \nL 387.243042 37.947446 \nL 387.510449 37.947446 \nL 387.510449 37.848906 \nL 387.776024 37.848906 \nL 387.776024 37.750719 \nL 387.908133 37.750719 \nL 387.908133 37.361453 \nL 388.171007 37.361453 \nL 388.171007 37.264995 \nL 388.432111 37.264995 \nL 388.432111 37.168876 \nL 388.691469 37.168876 \nL 388.691469 37.073093 \nL 389.077281 37.073093 \nL 389.077281 36.693284 \nL 389.205037 36.693284 \nL 389.205037 36.599151 \nL 389.459292 36.599151 \nL 389.459292 36.505341 \nL 389.585797 36.505341 \nL 389.585797 36.411853 \nL 389.711891 36.411853 \nL 389.711891 36.133294 \nL 389.837576 36.133294 \nL 389.837576 36.04107 \nL 390.087731 36.04107 \nL 390.087731 35.949157 \nL 390.212205 35.949157 \nL 390.212205 35.857553 \nL 390.583249 35.857553 \nL 390.583249 35.675265 \nL 390.828654 35.675265 \nL 390.828654 35.135618 \nL 390.950776 35.135618 \nL 390.950776 34.869762 \nL 391.193873 34.869762 \nL 391.193873 34.259389 \nL 391.314852 34.259389 \nL 391.314852 34.173306 \nL 391.435455 34.173306 \nL 391.435455 33.662493 \nL 391.555684 33.662493 \nL 391.555684 33.57829 \nL 391.795029 33.57829 \nL 391.795029 33.41067 \nL 392.269333 33.41067 \nL 392.269333 33.244088 \nL 392.387008 33.244088 \nL 392.387008 33.161183 \nL 392.504326 33.161183 \nL 392.504326 32.832098 \nL 392.621291 32.832098 \nL 392.621291 32.587908 \nL 392.854168 32.587908 \nL 392.854168 32.507004 \nL 392.970083 32.507004 \nL 392.970083 32.426344 \nL 393.430312 32.426344 \nL 393.430312 32.02666 \nL 393.658394 32.02666 \nL 393.658394 31.711175 \nL 393.885142 31.711175 \nL 393.885142 31.632885 \nL 393.998021 31.632885 \nL 393.998021 31.554826 \nL 394.110572 31.554826 \nL 394.110572 31.476995 \nL 394.557537 31.476995 \nL 394.557537 31.167942 \nL 394.779102 31.167942 \nL 394.779102 31.09124 \nL 395.109094 31.09124 \nL 395.109094 30.938501 \nL 396.189215 30.938501 \nL 396.189215 30.862463 \nL 396.29559 30.862463 \nL 396.29559 30.786643 \nL 396.401674 30.786643 \nL 396.401674 30.711041 \nL 396.612976 30.711041 \nL 396.612976 30.635656 \nL 396.823133 30.635656 \nL 396.823133 30.485533 \nL 397.343595 30.485533 \nL 397.343595 30.336264 \nL 397.446854 30.336264 \nL 397.446854 30.187843 \nL 397.549839 30.187843 \nL 397.549839 30.113948 \nL 397.754992 30.113948 \nL 397.754992 29.747583 \nL 398.263175 29.747583 \nL 398.263175 29.602473 \nL 398.364017 29.602473 \nL 398.364017 29.530222 \nL 398.664979 29.530222 \nL 398.664979 29.314674 \nL 399.16145 29.314674 \nL 399.16145 29.243223 \nL 399.259986 29.243223 \nL 399.259986 28.959394 \nL 399.358272 28.959394 \nL 399.358272 28.888925 \nL 399.748943 28.888925 \nL 399.748943 28.818651 \nL 399.942813 28.818651 \nL 399.942813 28.401035 \nL 400.039385 28.401035 \nL 400.039385 28.058221 \nL 400.135718 28.058221 \nL 400.135718 27.990217 \nL 400.231811 27.990217 \nL 400.231811 27.922398 \nL 400.613822 27.922398 \nL 400.613822 27.854763 \nL 400.897881 27.854763 \nL 400.897881 27.720042 \nL 400.992106 27.720042 \nL 400.992106 27.652956 \nL 401.086104 27.652956 \nL 401.086104 27.586051 \nL 401.273417 27.586051 \nL 401.273417 27.386422 \nL 401.366736 27.386422 \nL 401.366736 27.122761 \nL 401.921979 27.122761 \nL 401.921979 26.926882 \nL 402.013751 26.926882 \nL 402.013751 26.861941 \nL 402.196647 26.861941 \nL 402.196647 26.797177 \nL 402.287772 26.797177 \nL 402.287772 26.603934 \nL 402.378684 26.603934 \nL 402.378684 26.09627 \nL 402.469383 26.09627 \nL 402.469383 26.033589 \nL 402.55987 26.033589 \nL 402.55987 25.97108 \nL 402.650147 25.97108 \nL 402.650147 25.784586 \nL 402.740214 25.784586 \nL 402.740214 25.722765 \nL 402.830072 25.722765 \nL 402.830072 25.599637 \nL 403.098404 25.599637 \nL 403.098404 25.538331 \nL 403.187437 25.538331 \nL 403.187437 25.477197 \nL 403.453315 25.477197 \nL 403.453315 25.355444 \nL 403.541538 25.355444 \nL 403.541538 25.23438 \nL 403.62956 25.23438 \nL 403.62956 25.054081 \nL 403.892435 25.054081 \nL 403.892435 24.994329 \nL 403.979665 24.994329 \nL 403.979665 24.93475 \nL 404.066699 24.93475 \nL 404.066699 24.875347 \nL 404.153539 24.875347 \nL 404.153539 24.81612 \nL 404.240184 24.81612 \nL 404.240184 24.698193 \nL 404.75603 24.698193 \nL 404.75603 24.52264 \nL 404.841341 24.52264 \nL 404.841341 24.406506 \nL 404.926464 24.406506 \nL 404.926464 24.348713 \nL 405.18072 24.348713 \nL 405.18072 24.291105 \nL 405.265102 24.291105 \nL 405.265102 24.176449 \nL 405.517154 24.176449 \nL 405.517154 24.119405 \nL 405.767578 24.119405 \nL 405.767578 24.005894 \nL 405.850694 24.005894 \nL 405.850694 23.893171 \nL 406.016394 23.893171 \nL 406.016394 23.837111 \nL 406.18139 23.837111 \nL 406.18139 23.781256 \nL 406.509288 23.781256 \nL 406.509288 23.725611 \nL 406.590832 23.725611 \nL 406.590832 23.450674 \nL 406.753406 23.450674 \nL 406.753406 23.396383 \nL 406.834438 23.396383 \nL 406.834438 23.28855 \nL 406.915301 23.28855 \nL 406.915301 23.235028 \nL 406.995995 23.235028 \nL 406.995995 23.076166 \nL 407.076523 23.076166 \nL 407.076523 22.920186 \nL 407.156883 22.920186 \nL 407.156883 22.818094 \nL 407.396969 22.818094 \nL 407.396969 22.717835 \nL 407.635578 22.717835 \nL 407.635578 22.61985 \nL 407.714789 22.61985 \nL 407.714789 22.571923 \nL 407.872727 22.571923 \nL 407.872727 22.524883 \nL 408.030025 22.524883 \nL 408.030025 22.478935 \nL 408.108435 22.478935 \nL 408.108435 22.434393 \nL 408.264781 22.434393 \nL 408.264781 22.391789 \nL 408.342719 22.391789 \nL 408.342719 22.318183 \nL 408.498125 22.318183 \nL 408.498125 22.318125 \nL 408.498125 22.318125 \nL 408.498125 22.318125 \nL 408.498125 22.43387 \nL 408.342719 22.43387 \nL 408.342719 22.592567 \nL 408.264781 22.592567 \nL 408.264781 22.666466 \nL 408.108435 22.666466 \nL 408.108435 22.738663 \nL 408.030025 22.738663 \nL 408.030025 22.809689 \nL 407.872727 22.809689 \nL 407.872727 22.879861 \nL 407.714789 22.879861 \nL 407.714789 22.949384 \nL 407.635578 22.949384 \nL 407.635578 23.087018 \nL 407.396969 23.087018 \nL 407.396969 23.223342 \nL 407.156883 23.223342 \nL 407.156883 23.358806 \nL 407.076523 23.358806 \nL 407.076523 23.561002 \nL 406.995995 23.561002 \nL 406.995995 23.762549 \nL 406.915301 23.762549 \nL 406.915301 23.829664 \nL 406.834438 23.829664 \nL 406.834438 23.963865 \nL 406.753406 23.963865 \nL 406.753406 24.030972 \nL 406.590832 24.030972 \nL 406.590832 24.36688 \nL 406.509288 24.36688 \nL 406.509288 24.434182 \nL 406.18139 24.434182 \nL 406.18139 24.501538 \nL 406.016394 24.501538 \nL 406.016394 24.568951 \nL 405.850694 24.568951 \nL 405.850694 24.703968 \nL 405.767578 24.703968 \nL 405.767578 24.839265 \nL 405.517154 24.839265 \nL 405.517154 24.907028 \nL 405.265102 24.907028 \nL 405.265102 25.042797 \nL 405.18072 25.042797 \nL 405.18072 25.110809 \nL 404.926464 25.110809 \nL 404.926464 25.178911 \nL 404.841341 25.178911 \nL 404.841341 25.315391 \nL 404.75603 25.315391 \nL 404.75603 25.520841 \nL 404.240184 25.520841 \nL 404.240184 25.658321 \nL 404.153539 25.658321 \nL 404.153539 25.727221 \nL 404.066699 25.727221 \nL 404.066699 25.796229 \nL 403.979665 25.796229 \nL 403.979665 25.86535 \nL 403.892435 25.86535 \nL 403.892435 25.934582 \nL 403.62956 25.934582 \nL 403.62956 26.142976 \nL 403.541538 26.142976 \nL 403.541538 26.282501 \nL 403.453315 26.282501 \nL 403.453315 26.422517 \nL 403.187437 26.422517 \nL 403.187437 26.492714 \nL 403.098404 26.492714 \nL 403.098404 26.563037 \nL 402.830072 26.563037 \nL 402.830072 26.704072 \nL 402.740214 26.704072 \nL 402.740214 26.774786 \nL 402.650147 26.774786 \nL 402.650147 26.987732 \nL 402.55987 26.987732 \nL 402.55987 27.058986 \nL 402.469383 27.058986 \nL 402.469383 27.130378 \nL 402.378684 27.130378 \nL 402.378684 27.706645 \nL 402.287772 27.706645 \nL 402.287772 27.925177 \nL 402.196647 27.925177 \nL 402.196647 27.998326 \nL 402.013751 27.998326 \nL 402.013751 28.071628 \nL 401.921979 28.071628 \nL 401.921979 28.292472 \nL 401.366736 28.292472 \nL 401.366736 28.589159 \nL 401.273417 28.589159 \nL 401.273417 28.813386 \nL 401.086104 28.813386 \nL 401.086104 28.88846 \nL 400.992106 28.88846 \nL 400.992106 28.963703 \nL 400.897881 28.963703 \nL 400.897881 29.114696 \nL 400.613822 29.114696 \nL 400.613822 29.190449 \nL 400.231811 29.190449 \nL 400.231811 29.266375 \nL 400.135718 29.266375 \nL 400.135718 29.342474 \nL 400.039385 29.342474 \nL 400.039385 29.725617 \nL 399.942813 29.725617 \nL 399.942813 30.191363 \nL 399.748943 30.191363 \nL 399.748943 30.269637 \nL 399.358272 30.269637 \nL 399.358272 30.3481 \nL 399.259986 30.3481 \nL 399.259986 30.663865 \nL 399.16145 30.663865 \nL 399.16145 30.743291 \nL 398.664979 30.743291 \nL 398.664979 30.982748 \nL 398.364017 30.982748 \nL 398.364017 31.062966 \nL 398.263175 31.062966 \nL 398.263175 31.224004 \nL 397.754992 31.224004 \nL 397.754992 31.630184 \nL 397.549839 31.630184 \nL 397.549839 31.712044 \nL 397.446854 31.712044 \nL 397.446854 31.8764 \nL 397.343595 31.8764 \nL 397.343595 32.041611 \nL 396.823133 32.041611 \nL 396.823133 32.207688 \nL 396.612976 32.207688 \nL 396.612976 32.291054 \nL 396.401674 32.291054 \nL 396.401674 32.374641 \nL 396.29559 32.374641 \nL 396.29559 32.45845 \nL 396.189215 32.45845 \nL 396.189215 32.542482 \nL 395.109094 32.542482 \nL 395.109094 32.711221 \nL 394.779102 32.711221 \nL 394.779102 32.79593 \nL 394.557537 32.79593 \nL 394.557537 33.137072 \nL 394.110572 33.137072 \nL 394.110572 33.22294 \nL 393.998021 33.22294 \nL 393.998021 33.309044 \nL 393.885142 33.309044 \nL 393.885142 33.395385 \nL 393.658394 33.395385 \nL 393.658394 33.743155 \nL 393.430312 33.743155 \nL 393.430312 34.18339 \nL 392.970083 34.18339 \nL 392.970083 34.272189 \nL 392.854168 34.272189 \nL 392.854168 34.361242 \nL 392.621291 34.361242 \nL 392.621291 34.629944 \nL 392.504326 34.629944 \nL 392.504326 34.991874 \nL 392.387008 34.991874 \nL 392.387008 35.083021 \nL 392.269333 35.083021 \nL 392.269333 35.266125 \nL 391.795029 35.266125 \nL 391.795029 35.450321 \nL 391.555684 35.450321 \nL 391.555684 35.542832 \nL 391.435455 35.542832 \nL 391.435455 36.103804 \nL 391.314852 36.103804 \nL 391.314852 36.198301 \nL 391.193873 36.198301 \nL 391.193873 36.868038 \nL 390.950776 36.868038 \nL 390.950776 37.159602 \nL 390.828654 37.159602 \nL 390.828654 37.751191 \nL 390.583249 37.751191 \nL 390.583249 37.950956 \nL 390.212205 37.950956 \nL 390.212205 38.051331 \nL 390.087731 38.051331 \nL 390.087731 38.152036 \nL 389.837576 38.152036 \nL 389.837576 38.253075 \nL 389.711891 38.253075 \nL 389.711891 38.558213 \nL 389.585797 38.558213 \nL 389.585797 38.660608 \nL 389.459292 38.660608 \nL 389.459292 38.763347 \nL 389.205037 38.763347 \nL 389.205037 38.866434 \nL 389.077281 38.866434 \nL 389.077281 39.282306 \nL 388.691469 39.282306 \nL 388.691469 39.387168 \nL 388.432111 39.387168 \nL 388.432111 39.492392 \nL 388.171007 39.492392 \nL 388.171007 39.597981 \nL 387.908133 39.597981 \nL 387.908133 40.024044 \nL 387.776024 40.024044 \nL 387.776024 40.131499 \nL 387.510449 40.131499 \nL 387.510449 40.239336 \nL 387.243042 40.239336 \nL 387.243042 40.347557 \nL 386.838442 40.347557 \nL 386.838442 40.674555 \nL 386.702632 40.674555 \nL 386.702632 40.784342 \nL 386.292323 40.784342 \nL 386.292323 40.894528 \nL 386.154583 40.894528 \nL 386.154583 41.005115 \nL 386.016352 41.005115 \nL 386.016352 41.33932 \nL 385.877626 41.33932 \nL 385.877626 41.677251 \nL 385.598677 41.677251 \nL 385.598677 41.790738 \nL 385.458446 41.790738 \nL 385.458446 42.018997 \nL 385.034684 42.018997 \nL 385.034684 42.24899 \nL 384.60624 42.24899 \nL 384.60624 42.831744 \nL 383.734882 42.831744 \nL 383.734882 42.949655 \nL 383.587732 42.949655 \nL 383.587732 43.186867 \nL 383.440022 43.186867 \nL 383.440022 43.306176 \nL 383.142904 43.306176 \nL 383.142904 43.425957 \nL 382.84349 43.425957 \nL 382.84349 43.666955 \nL 382.237637 43.666955 \nL 382.237637 43.78818 \nL 382.084683 43.78818 \nL 382.084683 44.0321 \nL 381.931123 44.0321 \nL 381.931123 44.154804 \nL 381.776953 44.154804 \nL 381.776953 44.401718 \nL 381.622167 44.401718 \nL 381.622167 44.525938 \nL 381.466761 44.525938 \nL 381.466761 44.775924 \nL 381.154067 44.775924 \nL 381.154067 44.901699 \nL 380.996769 44.901699 \nL 380.996769 45.154835 \nL 380.838831 45.154835 \nL 380.838831 45.410115 \nL 380.521011 45.410115 \nL 380.521011 45.538572 \nL 379.877448 45.538572 \nL 379.877448 45.667579 \nL 379.714874 45.667579 \nL 379.714874 45.927262 \nL 379.551615 45.927262 \nL 379.551615 46.720036 \nL 379.387667 46.720036 \nL 379.387667 46.854221 \nL 379.223022 46.854221 \nL 379.223022 47.124399 \nL 379.057675 47.124399 \nL 379.057675 47.260404 \nL 378.89162 47.260404 \nL 378.89162 47.397027 \nL 378.72485 47.397027 \nL 378.72485 47.534275 \nL 378.220195 47.534275 \nL 378.220195 47.810664 \nL 377.708884 47.810664 \nL 377.708884 48.230074 \nL 377.536938 48.230074 \nL 377.536938 48.51297 \nL 377.364226 48.51297 \nL 377.364226 48.798557 \nL 377.190741 48.798557 \nL 377.190741 49.086886 \nL 376.66558 49.086886 \nL 376.66558 49.378012 \nL 376.311479 49.378012 \nL 376.311479 49.524641 \nL 375.774189 49.524641 \nL 375.774189 49.671989 \nL 375.593425 49.671989 \nL 375.593425 49.820065 \nL 375.229349 49.820065 \nL 375.229349 50.118428 \nL 374.676743 50.118428 \nL 374.676743 50.26873 \nL 374.116148 50.26873 \nL 374.116148 50.419788 \nL 373.927468 50.419788 \nL 373.927468 50.571612 \nL 373.547329 50.571612 \nL 373.547329 51.499058 \nL 373.355853 51.499058 \nL 373.355853 51.656461 \nL 373.163427 51.656461 \nL 373.163427 51.814695 \nL 372.384028 51.814695 \nL 372.384028 51.973769 \nL 372.186705 51.973769 \nL 372.186705 52.294473 \nL 371.58864 52.294473 \nL 371.58864 52.618647 \nL 371.387217 52.618647 \nL 371.387217 53.111582 \nL 371.184742 53.111582 \nL 371.184742 53.612765 \nL 370.776593 53.612765 \nL 370.776593 54.294332 \nL 370.364102 54.294332 \nL 370.364102 54.641023 \nL 369.947175 54.641023 \nL 369.947175 54.815886 \nL 369.313257 54.815886 \nL 369.313257 56.437407 \nL 369.099626 56.437407 \nL 369.099626 56.809997 \nL 368.451581 56.809997 \nL 368.451581 57.377731 \nL 368.013454 57.377731 \nL 368.013454 57.569396 \nL 367.79252 57.569396 \nL 367.79252 58.151871 \nL 367.122063 58.151871 \nL 367.122063 58.348578 \nL 365.51105 58.348578 \nL 365.51105 58.946583 \nL 365.038192 58.946583 \nL 365.038192 59.148605 \nL 364.799584 59.148605 \nL 364.799584 59.556791 \nL 363.584004 59.556791 \nL 363.584004 59.762993 \nL 362.835933 59.762993 \nL 362.835933 60.179712 \nL 362.073145 60.179712 \nL 362.073145 61.03099 \nL 361.295049 61.03099 \nL 361.295049 61.465895 \nL 361.032175 61.465895 \nL 361.032175 61.90722 \nL 360.501018 61.90722 \nL 360.501018 62.355158 \nL 358.862444 62.355158 \nL 358.862444 62.80991 \nL 358.300495 62.80991 \nL 358.300495 63.039907 \nL 357.730282 63.039907 \nL 357.730282 63.271687 \nL 357.151558 63.271687 \nL 357.151558 63.74071 \nL 356.858924 63.74071 \nL 356.858924 63.97801 \nL 356.564064 63.97801 \nL 356.564064 64.458337 \nL 355.665789 64.458337 \nL 355.665789 64.946508 \nL 355.361679 64.946508 \nL 355.361679 65.442784 \nL 353.163385 65.442784 \nL 353.163385 65.694046 \nL 352.511709 65.694046 \nL 352.511709 65.947438 \nL 349.789622 65.947438 \nL 349.789622 66.720761 \nL 349.435521 66.720761 \nL 349.435521 67.514621 \nL 349.078156 67.514621 \nL 349.078156 68.606994 \nL 347.985864 68.606994 \nL 347.985864 69.453288 \nL 347.24019 69.453288 \nL 347.24019 70.324232 \nL 346.479895 70.324232 \nL 346.479895 70.620276 \nL 345.704393 70.620276 \nL 345.704393 71.526407 \nL 344.913063 71.526407 \nL 344.913063 71.834656 \nL 344.511259 71.834656 \nL 344.511259 72.77893 \nL 344.105246 72.77893 \nL 344.105246 73.425421 \nL 341.575623 73.425421 \nL 341.575623 74.086189 \nL 341.137496 74.086189 \nL 341.137496 74.422126 \nL 340.246105 74.422126 \nL 340.246105 74.761878 \nL 339.792605 74.761878 \nL 339.792605 75.804902 \nL 339.333738 75.804902 \nL 339.333738 76.885584 \nL 338.869375 76.885584 \nL 338.869375 77.628333 \nL 337.923625 77.628333 \nL 337.923625 78.006732 \nL 336.95423 78.006732 \nL 336.95423 78.77818 \nL 336.460289 78.77818 \nL 336.460289 79.171484 \nL 335.959975 79.171484 \nL 335.959975 79.973927 \nL 334.939553 79.973927 \nL 334.939553 80.798449 \nL 333.891548 80.798449 \nL 333.891548 81.219375 \nL 332.814428 81.219375 \nL 332.814428 82.079381 \nL 329.982966 82.079381 \nL 329.982966 82.518814 \nL 329.390987 82.518814 \nL 329.390987 83.417479 \nL 328.179207 83.417479 \nL 328.179207 84.343897 \nL 326.287427 84.343897 \nL 326.287427 84.818057 \nL 324.972934 84.818057 \nL 324.972934 86.793338 \nL 324.29859 86.793338 \nL 324.29859 87.831934 \nL 322.202198 87.831934 \nL 322.202198 88.365013 \nL 317.635301 88.365013 \nL 317.635301 88.907718 \nL 315.132896 88.907718 \nL 315.132896 89.460401 \nL 314.261538 89.460401 \nL 314.261538 90.597209 \nL 313.370147 90.597209 \nL 313.370147 97.030944 \nL 305.388478 97.030944 \nL 305.388478 99.263086 \nL 304.264521 99.263086 \nL 304.264521 100.045368 \nL 296.736352 100.045368 \nL 296.736352 102.521555 \nL 293.862904 102.521555 \nL 293.862904 108.179239 \nL 292.342167 108.179239 \nL 292.342167 111.460103 \nL 290.759343 111.460103 \nL 290.759343 112.637392 \nL 285.581822 112.637392 \nL 285.581822 116.469593 \nL 281.701205 116.469593 \nL 281.701205 122.465283 \nL 279.604812 122.465283 \nL 279.604812 124.167363 \nL 277.388563 124.167363 \nL 277.388563 127.883488 \nL 275.037915 127.883488 \nL 275.037915 139.779838 \nL 269.860394 139.779838 \nL 269.860394 146.196226 \nL 263.883385 146.196226 \nL 263.883385 159.24652 \nL 260.509622 159.24652 \nL 260.509622 181.732706 \nL 221.285999 181.732706 \nL 221.285999 194.897701 \nL 167.534083 194.897701 \nL 167.534083 66550.318125 \nL -88871.501875 66550.318125 \nz\n\" clip-path=\"url(#p85bf8bbffa)\" style=\"fill: #ff8c00; fill-opacity: 0.2\"/>\n   </g>\n   <g id=\"matplotlib.axis_1\">\n    <g id=\"xtick_1\">\n     <g id=\"line2d_1\">\n      <defs>\n       <path id=\"m2f4115aae7\" d=\"M 0 0 \nL 0 3.5 \n\" style=\"stroke: #000000; stroke-width: 0.8\"/>\n      </defs>\n      <g>\n       <use xlink:href=\"#m2f4115aae7\" x=\"51.378125\" y=\"288.430125\" style=\"stroke: #000000; stroke-width: 0.8\"/>\n      </g>\n     </g>\n     <g id=\"text_1\">\n      <!-- $\\mathdefault{10^{-4}}$ -->\n      <g transform=\"translate(39.628125 303.028562) scale(0.1 -0.1)\">\n       <defs>\n        <path id=\"DejaVuSans-31\" d=\"M 794 531 \nL 1825 531 \nL 1825 4091 \nL 703 3866 \nL 703 4441 \nL 1819 4666 \nL 2450 4666 \nL 2450 531 \nL 3481 531 \nL 3481 0 \nL 794 0 \nL 794 531 \nz\n\" transform=\"scale(0.015625)\"/>\n        <path id=\"DejaVuSans-30\" d=\"M 2034 4250 \nQ 1547 4250 1301 3770 \nQ 1056 3291 1056 2328 \nQ 1056 1369 1301 889 \nQ 1547 409 2034 409 \nQ 2525 409 2770 889 \nQ 3016 1369 3016 2328 \nQ 3016 3291 2770 3770 \nQ 2525 4250 2034 4250 \nz\nM 2034 4750 \nQ 2819 4750 3233 4129 \nQ 3647 3509 3647 2328 \nQ 3647 1150 3233 529 \nQ 2819 -91 2034 -91 \nQ 1250 -91 836 529 \nQ 422 1150 422 2328 \nQ 422 3509 836 4129 \nQ 1250 4750 2034 4750 \nz\n\" transform=\"scale(0.015625)\"/>\n        <path id=\"DejaVuSans-2212\" d=\"M 678 2272 \nL 4684 2272 \nL 4684 1741 \nL 678 1741 \nL 678 2272 \nz\n\" transform=\"scale(0.015625)\"/>\n        <path id=\"DejaVuSans-34\" d=\"M 2419 4116 \nL 825 1625 \nL 2419 1625 \nL 2419 4116 \nz\nM 2253 4666 \nL 3047 4666 \nL 3047 1625 \nL 3713 1625 \nL 3713 1100 \nL 3047 1100 \nL 3047 0 \nL 2419 0 \nL 2419 1100 \nL 313 1100 \nL 313 1709 \nL 2253 4666 \nz\n\" transform=\"scale(0.015625)\"/>\n       </defs>\n       <use xlink:href=\"#DejaVuSans-31\" transform=\"translate(0 0.684375)\"/>\n       <use xlink:href=\"#DejaVuSans-30\" transform=\"translate(63.623047 0.684375)\"/>\n       <use xlink:href=\"#DejaVuSans-2212\" transform=\"translate(128.203125 38.965625) scale(0.7)\"/>\n       <use xlink:href=\"#DejaVuSans-34\" transform=\"translate(186.855469 38.965625) scale(0.7)\"/>\n      </g>\n     </g>\n    </g>\n    <g id=\"xtick_2\">\n     <g id=\"line2d_2\">\n      <g>\n       <use xlink:href=\"#m2f4115aae7\" x=\"140.658125\" y=\"288.430125\" style=\"stroke: #000000; stroke-width: 0.8\"/>\n      </g>\n     </g>\n     <g id=\"text_2\">\n      <!-- $\\mathdefault{10^{-3}}$ -->\n      <g transform=\"translate(128.908125 303.028562) scale(0.1 -0.1)\">\n       <defs>\n        <path id=\"DejaVuSans-33\" d=\"M 2597 2516 \nQ 3050 2419 3304 2112 \nQ 3559 1806 3559 1356 \nQ 3559 666 3084 287 \nQ 2609 -91 1734 -91 \nQ 1441 -91 1130 -33 \nQ 819 25 488 141 \nL 488 750 \nQ 750 597 1062 519 \nQ 1375 441 1716 441 \nQ 2309 441 2620 675 \nQ 2931 909 2931 1356 \nQ 2931 1769 2642 2001 \nQ 2353 2234 1838 2234 \nL 1294 2234 \nL 1294 2753 \nL 1863 2753 \nQ 2328 2753 2575 2939 \nQ 2822 3125 2822 3475 \nQ 2822 3834 2567 4026 \nQ 2313 4219 1838 4219 \nQ 1578 4219 1281 4162 \nQ 984 4106 628 3988 \nL 628 4550 \nQ 988 4650 1302 4700 \nQ 1616 4750 1894 4750 \nQ 2613 4750 3031 4423 \nQ 3450 4097 3450 3541 \nQ 3450 3153 3228 2886 \nQ 3006 2619 2597 2516 \nz\n\" transform=\"scale(0.015625)\"/>\n       </defs>\n       <use xlink:href=\"#DejaVuSans-31\" transform=\"translate(0 0.765625)\"/>\n       <use xlink:href=\"#DejaVuSans-30\" transform=\"translate(63.623047 0.765625)\"/>\n       <use xlink:href=\"#DejaVuSans-2212\" transform=\"translate(128.203125 39.046875) scale(0.7)\"/>\n       <use xlink:href=\"#DejaVuSans-33\" transform=\"translate(186.855469 39.046875) scale(0.7)\"/>\n      </g>\n     </g>\n    </g>\n    <g id=\"xtick_3\">\n     <g id=\"line2d_3\">\n      <g>\n       <use xlink:href=\"#m2f4115aae7\" x=\"229.938125\" y=\"288.430125\" style=\"stroke: #000000; stroke-width: 0.8\"/>\n      </g>\n     </g>\n     <g id=\"text_3\">\n      <!-- $\\mathdefault{10^{-2}}$ -->\n      <g transform=\"translate(218.188125 303.028562) scale(0.1 -0.1)\">\n       <defs>\n        <path id=\"DejaVuSans-32\" d=\"M 1228 531 \nL 3431 531 \nL 3431 0 \nL 469 0 \nL 469 531 \nQ 828 903 1448 1529 \nQ 2069 2156 2228 2338 \nQ 2531 2678 2651 2914 \nQ 2772 3150 2772 3378 \nQ 2772 3750 2511 3984 \nQ 2250 4219 1831 4219 \nQ 1534 4219 1204 4116 \nQ 875 4013 500 3803 \nL 500 4441 \nQ 881 4594 1212 4672 \nQ 1544 4750 1819 4750 \nQ 2544 4750 2975 4387 \nQ 3406 4025 3406 3419 \nQ 3406 3131 3298 2873 \nQ 3191 2616 2906 2266 \nQ 2828 2175 2409 1742 \nQ 1991 1309 1228 531 \nz\n\" transform=\"scale(0.015625)\"/>\n       </defs>\n       <use xlink:href=\"#DejaVuSans-31\" transform=\"translate(0 0.765625)\"/>\n       <use xlink:href=\"#DejaVuSans-30\" transform=\"translate(63.623047 0.765625)\"/>\n       <use xlink:href=\"#DejaVuSans-2212\" transform=\"translate(128.203125 39.046875) scale(0.7)\"/>\n       <use xlink:href=\"#DejaVuSans-32\" transform=\"translate(186.855469 39.046875) scale(0.7)\"/>\n      </g>\n     </g>\n    </g>\n    <g id=\"xtick_4\">\n     <g id=\"line2d_4\">\n      <g>\n       <use xlink:href=\"#m2f4115aae7\" x=\"319.218125\" y=\"288.430125\" style=\"stroke: #000000; stroke-width: 0.8\"/>\n      </g>\n     </g>\n     <g id=\"text_4\">\n      <!-- $\\mathdefault{10^{-1}}$ -->\n      <g transform=\"translate(307.468125 303.028562) scale(0.1 -0.1)\">\n       <use xlink:href=\"#DejaVuSans-31\" transform=\"translate(0 0.684375)\"/>\n       <use xlink:href=\"#DejaVuSans-30\" transform=\"translate(63.623047 0.684375)\"/>\n       <use xlink:href=\"#DejaVuSans-2212\" transform=\"translate(128.203125 38.965625) scale(0.7)\"/>\n       <use xlink:href=\"#DejaVuSans-31\" transform=\"translate(186.855469 38.965625) scale(0.7)\"/>\n      </g>\n     </g>\n    </g>\n    <g id=\"xtick_5\">\n     <g id=\"line2d_5\">\n      <g>\n       <use xlink:href=\"#m2f4115aae7\" x=\"408.498125\" y=\"288.430125\" style=\"stroke: #000000; stroke-width: 0.8\"/>\n      </g>\n     </g>\n     <g id=\"text_5\">\n      <!-- $\\mathdefault{10^{0}}$ -->\n      <g transform=\"translate(399.698125 303.028562) scale(0.1 -0.1)\">\n       <use xlink:href=\"#DejaVuSans-31\" transform=\"translate(0 0.765625)\"/>\n       <use xlink:href=\"#DejaVuSans-30\" transform=\"translate(63.623047 0.765625)\"/>\n       <use xlink:href=\"#DejaVuSans-30\" transform=\"translate(128.203125 39.046875) scale(0.7)\"/>\n      </g>\n     </g>\n    </g>\n    <g id=\"xtick_6\">\n     <g id=\"line2d_6\">\n      <defs>\n       <path id=\"m8395e89b75\" d=\"M 0 0 \nL 0 2 \n\" style=\"stroke: #000000; stroke-width: 0.6\"/>\n      </defs>\n      <g>\n       <use xlink:href=\"#m8395e89b75\" x=\"78.254083\" y=\"288.430125\" style=\"stroke: #000000; stroke-width: 0.6\"/>\n      </g>\n     </g>\n    </g>\n    <g id=\"xtick_7\">\n     <g id=\"line2d_7\">\n      <g>\n       <use xlink:href=\"#m8395e89b75\" x=\"93.975511\" y=\"288.430125\" style=\"stroke: #000000; stroke-width: 0.6\"/>\n      </g>\n     </g>\n    </g>\n    <g id=\"xtick_8\">\n     <g id=\"line2d_8\">\n      <g>\n       <use xlink:href=\"#m8395e89b75\" x=\"105.130041\" y=\"288.430125\" style=\"stroke: #000000; stroke-width: 0.6\"/>\n      </g>\n     </g>\n    </g>\n    <g id=\"xtick_9\">\n     <g id=\"line2d_9\">\n      <g>\n       <use xlink:href=\"#m8395e89b75\" x=\"113.782167\" y=\"288.430125\" style=\"stroke: #000000; stroke-width: 0.6\"/>\n      </g>\n     </g>\n    </g>\n    <g id=\"xtick_10\">\n     <g id=\"line2d_10\">\n      <g>\n       <use xlink:href=\"#m8395e89b75\" x=\"120.851469\" y=\"288.430125\" style=\"stroke: #000000; stroke-width: 0.6\"/>\n      </g>\n     </g>\n    </g>\n    <g id=\"xtick_11\">\n     <g id=\"line2d_11\">\n      <g>\n       <use xlink:href=\"#m8395e89b75\" x=\"126.828478\" y=\"288.430125\" style=\"stroke: #000000; stroke-width: 0.6\"/>\n      </g>\n     </g>\n    </g>\n    <g id=\"xtick_12\">\n     <g id=\"line2d_12\">\n      <g>\n       <use xlink:href=\"#m8395e89b75\" x=\"132.005999\" y=\"288.430125\" style=\"stroke: #000000; stroke-width: 0.6\"/>\n      </g>\n     </g>\n    </g>\n    <g id=\"xtick_13\">\n     <g id=\"line2d_13\">\n      <g>\n       <use xlink:href=\"#m8395e89b75\" x=\"136.572896\" y=\"288.430125\" style=\"stroke: #000000; stroke-width: 0.6\"/>\n      </g>\n     </g>\n    </g>\n    <g id=\"xtick_14\">\n     <g id=\"line2d_14\">\n      <g>\n       <use xlink:href=\"#m8395e89b75\" x=\"167.534083\" y=\"288.430125\" style=\"stroke: #000000; stroke-width: 0.6\"/>\n      </g>\n     </g>\n    </g>\n    <g id=\"xtick_15\">\n     <g id=\"line2d_15\">\n      <g>\n       <use xlink:href=\"#m8395e89b75\" x=\"183.255511\" y=\"288.430125\" style=\"stroke: #000000; stroke-width: 0.6\"/>\n      </g>\n     </g>\n    </g>\n    <g id=\"xtick_16\">\n     <g id=\"line2d_16\">\n      <g>\n       <use xlink:href=\"#m8395e89b75\" x=\"194.410041\" y=\"288.430125\" style=\"stroke: #000000; stroke-width: 0.6\"/>\n      </g>\n     </g>\n    </g>\n    <g id=\"xtick_17\">\n     <g id=\"line2d_17\">\n      <g>\n       <use xlink:href=\"#m8395e89b75\" x=\"203.062167\" y=\"288.430125\" style=\"stroke: #000000; stroke-width: 0.6\"/>\n      </g>\n     </g>\n    </g>\n    <g id=\"xtick_18\">\n     <g id=\"line2d_18\">\n      <g>\n       <use xlink:href=\"#m8395e89b75\" x=\"210.131469\" y=\"288.430125\" style=\"stroke: #000000; stroke-width: 0.6\"/>\n      </g>\n     </g>\n    </g>\n    <g id=\"xtick_19\">\n     <g id=\"line2d_19\">\n      <g>\n       <use xlink:href=\"#m8395e89b75\" x=\"216.108478\" y=\"288.430125\" style=\"stroke: #000000; stroke-width: 0.6\"/>\n      </g>\n     </g>\n    </g>\n    <g id=\"xtick_20\">\n     <g id=\"line2d_20\">\n      <g>\n       <use xlink:href=\"#m8395e89b75\" x=\"221.285999\" y=\"288.430125\" style=\"stroke: #000000; stroke-width: 0.6\"/>\n      </g>\n     </g>\n    </g>\n    <g id=\"xtick_21\">\n     <g id=\"line2d_21\">\n      <g>\n       <use xlink:href=\"#m8395e89b75\" x=\"225.852896\" y=\"288.430125\" style=\"stroke: #000000; stroke-width: 0.6\"/>\n      </g>\n     </g>\n    </g>\n    <g id=\"xtick_22\">\n     <g id=\"line2d_22\">\n      <g>\n       <use xlink:href=\"#m8395e89b75\" x=\"256.814083\" y=\"288.430125\" style=\"stroke: #000000; stroke-width: 0.6\"/>\n      </g>\n     </g>\n    </g>\n    <g id=\"xtick_23\">\n     <g id=\"line2d_23\">\n      <g>\n       <use xlink:href=\"#m8395e89b75\" x=\"272.535511\" y=\"288.430125\" style=\"stroke: #000000; stroke-width: 0.6\"/>\n      </g>\n     </g>\n    </g>\n    <g id=\"xtick_24\">\n     <g id=\"line2d_24\">\n      <g>\n       <use xlink:href=\"#m8395e89b75\" x=\"283.690041\" y=\"288.430125\" style=\"stroke: #000000; stroke-width: 0.6\"/>\n      </g>\n     </g>\n    </g>\n    <g id=\"xtick_25\">\n     <g id=\"line2d_25\">\n      <g>\n       <use xlink:href=\"#m8395e89b75\" x=\"292.342167\" y=\"288.430125\" style=\"stroke: #000000; stroke-width: 0.6\"/>\n      </g>\n     </g>\n    </g>\n    <g id=\"xtick_26\">\n     <g id=\"line2d_26\">\n      <g>\n       <use xlink:href=\"#m8395e89b75\" x=\"299.411469\" y=\"288.430125\" style=\"stroke: #000000; stroke-width: 0.6\"/>\n      </g>\n     </g>\n    </g>\n    <g id=\"xtick_27\">\n     <g id=\"line2d_27\">\n      <g>\n       <use xlink:href=\"#m8395e89b75\" x=\"305.388478\" y=\"288.430125\" style=\"stroke: #000000; stroke-width: 0.6\"/>\n      </g>\n     </g>\n    </g>\n    <g id=\"xtick_28\">\n     <g id=\"line2d_28\">\n      <g>\n       <use xlink:href=\"#m8395e89b75\" x=\"310.565999\" y=\"288.430125\" style=\"stroke: #000000; stroke-width: 0.6\"/>\n      </g>\n     </g>\n    </g>\n    <g id=\"xtick_29\">\n     <g id=\"line2d_29\">\n      <g>\n       <use xlink:href=\"#m8395e89b75\" x=\"315.132896\" y=\"288.430125\" style=\"stroke: #000000; stroke-width: 0.6\"/>\n      </g>\n     </g>\n    </g>\n    <g id=\"xtick_30\">\n     <g id=\"line2d_30\">\n      <g>\n       <use xlink:href=\"#m8395e89b75\" x=\"346.094083\" y=\"288.430125\" style=\"stroke: #000000; stroke-width: 0.6\"/>\n      </g>\n     </g>\n    </g>\n    <g id=\"xtick_31\">\n     <g id=\"line2d_31\">\n      <g>\n       <use xlink:href=\"#m8395e89b75\" x=\"361.815511\" y=\"288.430125\" style=\"stroke: #000000; stroke-width: 0.6\"/>\n      </g>\n     </g>\n    </g>\n    <g id=\"xtick_32\">\n     <g id=\"line2d_32\">\n      <g>\n       <use xlink:href=\"#m8395e89b75\" x=\"372.970041\" y=\"288.430125\" style=\"stroke: #000000; stroke-width: 0.6\"/>\n      </g>\n     </g>\n    </g>\n    <g id=\"xtick_33\">\n     <g id=\"line2d_33\">\n      <g>\n       <use xlink:href=\"#m8395e89b75\" x=\"381.622167\" y=\"288.430125\" style=\"stroke: #000000; stroke-width: 0.6\"/>\n      </g>\n     </g>\n    </g>\n    <g id=\"xtick_34\">\n     <g id=\"line2d_34\">\n      <g>\n       <use xlink:href=\"#m8395e89b75\" x=\"388.691469\" y=\"288.430125\" style=\"stroke: #000000; stroke-width: 0.6\"/>\n      </g>\n     </g>\n    </g>\n    <g id=\"xtick_35\">\n     <g id=\"line2d_35\">\n      <g>\n       <use xlink:href=\"#m8395e89b75\" x=\"394.668478\" y=\"288.430125\" style=\"stroke: #000000; stroke-width: 0.6\"/>\n      </g>\n     </g>\n    </g>\n    <g id=\"xtick_36\">\n     <g id=\"line2d_36\">\n      <g>\n       <use xlink:href=\"#m8395e89b75\" x=\"399.845999\" y=\"288.430125\" style=\"stroke: #000000; stroke-width: 0.6\"/>\n      </g>\n     </g>\n    </g>\n    <g id=\"xtick_37\">\n     <g id=\"line2d_37\">\n      <g>\n       <use xlink:href=\"#m8395e89b75\" x=\"404.412896\" y=\"288.430125\" style=\"stroke: #000000; stroke-width: 0.6\"/>\n      </g>\n     </g>\n    </g>\n    <g id=\"text_6\">\n     <!-- False Positive Rate -->\n     <g transform=\"translate(183.471719 316.706687) scale(0.1 -0.1)\">\n      <defs>\n       <path id=\"DejaVuSans-46\" d=\"M 628 4666 \nL 3309 4666 \nL 3309 4134 \nL 1259 4134 \nL 1259 2759 \nL 3109 2759 \nL 3109 2228 \nL 1259 2228 \nL 1259 0 \nL 628 0 \nL 628 4666 \nz\n\" transform=\"scale(0.015625)\"/>\n       <path id=\"DejaVuSans-61\" d=\"M 2194 1759 \nQ 1497 1759 1228 1600 \nQ 959 1441 959 1056 \nQ 959 750 1161 570 \nQ 1363 391 1709 391 \nQ 2188 391 2477 730 \nQ 2766 1069 2766 1631 \nL 2766 1759 \nL 2194 1759 \nz\nM 3341 1997 \nL 3341 0 \nL 2766 0 \nL 2766 531 \nQ 2569 213 2275 61 \nQ 1981 -91 1556 -91 \nQ 1019 -91 701 211 \nQ 384 513 384 1019 \nQ 384 1609 779 1909 \nQ 1175 2209 1959 2209 \nL 2766 2209 \nL 2766 2266 \nQ 2766 2663 2505 2880 \nQ 2244 3097 1772 3097 \nQ 1472 3097 1187 3025 \nQ 903 2953 641 2809 \nL 641 3341 \nQ 956 3463 1253 3523 \nQ 1550 3584 1831 3584 \nQ 2591 3584 2966 3190 \nQ 3341 2797 3341 1997 \nz\n\" transform=\"scale(0.015625)\"/>\n       <path id=\"DejaVuSans-6c\" d=\"M 603 4863 \nL 1178 4863 \nL 1178 0 \nL 603 0 \nL 603 4863 \nz\n\" transform=\"scale(0.015625)\"/>\n       <path id=\"DejaVuSans-73\" d=\"M 2834 3397 \nL 2834 2853 \nQ 2591 2978 2328 3040 \nQ 2066 3103 1784 3103 \nQ 1356 3103 1142 2972 \nQ 928 2841 928 2578 \nQ 928 2378 1081 2264 \nQ 1234 2150 1697 2047 \nL 1894 2003 \nQ 2506 1872 2764 1633 \nQ 3022 1394 3022 966 \nQ 3022 478 2636 193 \nQ 2250 -91 1575 -91 \nQ 1294 -91 989 -36 \nQ 684 19 347 128 \nL 347 722 \nQ 666 556 975 473 \nQ 1284 391 1588 391 \nQ 1994 391 2212 530 \nQ 2431 669 2431 922 \nQ 2431 1156 2273 1281 \nQ 2116 1406 1581 1522 \nL 1381 1569 \nQ 847 1681 609 1914 \nQ 372 2147 372 2553 \nQ 372 3047 722 3315 \nQ 1072 3584 1716 3584 \nQ 2034 3584 2315 3537 \nQ 2597 3491 2834 3397 \nz\n\" transform=\"scale(0.015625)\"/>\n       <path id=\"DejaVuSans-65\" d=\"M 3597 1894 \nL 3597 1613 \nL 953 1613 \nQ 991 1019 1311 708 \nQ 1631 397 2203 397 \nQ 2534 397 2845 478 \nQ 3156 559 3463 722 \nL 3463 178 \nQ 3153 47 2828 -22 \nQ 2503 -91 2169 -91 \nQ 1331 -91 842 396 \nQ 353 884 353 1716 \nQ 353 2575 817 3079 \nQ 1281 3584 2069 3584 \nQ 2775 3584 3186 3129 \nQ 3597 2675 3597 1894 \nz\nM 3022 2063 \nQ 3016 2534 2758 2815 \nQ 2500 3097 2075 3097 \nQ 1594 3097 1305 2825 \nQ 1016 2553 972 2059 \nL 3022 2063 \nz\n\" transform=\"scale(0.015625)\"/>\n       <path id=\"DejaVuSans-20\" transform=\"scale(0.015625)\"/>\n       <path id=\"DejaVuSans-50\" d=\"M 1259 4147 \nL 1259 2394 \nL 2053 2394 \nQ 2494 2394 2734 2622 \nQ 2975 2850 2975 3272 \nQ 2975 3691 2734 3919 \nQ 2494 4147 2053 4147 \nL 1259 4147 \nz\nM 628 4666 \nL 2053 4666 \nQ 2838 4666 3239 4311 \nQ 3641 3956 3641 3272 \nQ 3641 2581 3239 2228 \nQ 2838 1875 2053 1875 \nL 1259 1875 \nL 1259 0 \nL 628 0 \nL 628 4666 \nz\n\" transform=\"scale(0.015625)\"/>\n       <path id=\"DejaVuSans-6f\" d=\"M 1959 3097 \nQ 1497 3097 1228 2736 \nQ 959 2375 959 1747 \nQ 959 1119 1226 758 \nQ 1494 397 1959 397 \nQ 2419 397 2687 759 \nQ 2956 1122 2956 1747 \nQ 2956 2369 2687 2733 \nQ 2419 3097 1959 3097 \nz\nM 1959 3584 \nQ 2709 3584 3137 3096 \nQ 3566 2609 3566 1747 \nQ 3566 888 3137 398 \nQ 2709 -91 1959 -91 \nQ 1206 -91 779 398 \nQ 353 888 353 1747 \nQ 353 2609 779 3096 \nQ 1206 3584 1959 3584 \nz\n\" transform=\"scale(0.015625)\"/>\n       <path id=\"DejaVuSans-69\" d=\"M 603 3500 \nL 1178 3500 \nL 1178 0 \nL 603 0 \nL 603 3500 \nz\nM 603 4863 \nL 1178 4863 \nL 1178 4134 \nL 603 4134 \nL 603 4863 \nz\n\" transform=\"scale(0.015625)\"/>\n       <path id=\"DejaVuSans-74\" d=\"M 1172 4494 \nL 1172 3500 \nL 2356 3500 \nL 2356 3053 \nL 1172 3053 \nL 1172 1153 \nQ 1172 725 1289 603 \nQ 1406 481 1766 481 \nL 2356 481 \nL 2356 0 \nL 1766 0 \nQ 1100 0 847 248 \nQ 594 497 594 1153 \nL 594 3053 \nL 172 3053 \nL 172 3500 \nL 594 3500 \nL 594 4494 \nL 1172 4494 \nz\n\" transform=\"scale(0.015625)\"/>\n       <path id=\"DejaVuSans-76\" d=\"M 191 3500 \nL 800 3500 \nL 1894 563 \nL 2988 3500 \nL 3597 3500 \nL 2284 0 \nL 1503 0 \nL 191 3500 \nz\n\" transform=\"scale(0.015625)\"/>\n       <path id=\"DejaVuSans-52\" d=\"M 2841 2188 \nQ 3044 2119 3236 1894 \nQ 3428 1669 3622 1275 \nL 4263 0 \nL 3584 0 \nL 2988 1197 \nQ 2756 1666 2539 1819 \nQ 2322 1972 1947 1972 \nL 1259 1972 \nL 1259 0 \nL 628 0 \nL 628 4666 \nL 2053 4666 \nQ 2853 4666 3247 4331 \nQ 3641 3997 3641 3322 \nQ 3641 2881 3436 2590 \nQ 3231 2300 2841 2188 \nz\nM 1259 4147 \nL 1259 2491 \nL 2053 2491 \nQ 2509 2491 2742 2702 \nQ 2975 2913 2975 3322 \nQ 2975 3731 2742 3939 \nQ 2509 4147 2053 4147 \nL 1259 4147 \nz\n\" transform=\"scale(0.015625)\"/>\n      </defs>\n      <use xlink:href=\"#DejaVuSans-46\"/>\n      <use xlink:href=\"#DejaVuSans-61\" transform=\"translate(48.394531 0)\"/>\n      <use xlink:href=\"#DejaVuSans-6c\" transform=\"translate(109.673828 0)\"/>\n      <use xlink:href=\"#DejaVuSans-73\" transform=\"translate(137.457031 0)\"/>\n      <use xlink:href=\"#DejaVuSans-65\" transform=\"translate(189.556641 0)\"/>\n      <use xlink:href=\"#DejaVuSans-20\" transform=\"translate(251.080078 0)\"/>\n      <use xlink:href=\"#DejaVuSans-50\" transform=\"translate(282.867188 0)\"/>\n      <use xlink:href=\"#DejaVuSans-6f\" transform=\"translate(339.544922 0)\"/>\n      <use xlink:href=\"#DejaVuSans-73\" transform=\"translate(400.726562 0)\"/>\n      <use xlink:href=\"#DejaVuSans-69\" transform=\"translate(452.826172 0)\"/>\n      <use xlink:href=\"#DejaVuSans-74\" transform=\"translate(480.609375 0)\"/>\n      <use xlink:href=\"#DejaVuSans-69\" transform=\"translate(519.818359 0)\"/>\n      <use xlink:href=\"#DejaVuSans-76\" transform=\"translate(547.601562 0)\"/>\n      <use xlink:href=\"#DejaVuSans-65\" transform=\"translate(606.78125 0)\"/>\n      <use xlink:href=\"#DejaVuSans-20\" transform=\"translate(668.304688 0)\"/>\n      <use xlink:href=\"#DejaVuSans-52\" transform=\"translate(700.091797 0)\"/>\n      <use xlink:href=\"#DejaVuSans-61\" transform=\"translate(767.324219 0)\"/>\n      <use xlink:href=\"#DejaVuSans-74\" transform=\"translate(828.603516 0)\"/>\n      <use xlink:href=\"#DejaVuSans-65\" transform=\"translate(867.8125 0)\"/>\n     </g>\n    </g>\n   </g>\n   <g id=\"matplotlib.axis_2\">\n    <g id=\"ytick_1\">\n     <g id=\"line2d_38\">\n      <defs>\n       <path id=\"m37bf2f4124\" d=\"M 0 0 \nL -3.5 0 \n\" style=\"stroke: #000000; stroke-width: 0.8\"/>\n      </defs>\n      <g>\n       <use xlink:href=\"#m37bf2f4124\" x=\"51.378125\" y=\"288.430125\" style=\"stroke: #000000; stroke-width: 0.8\"/>\n      </g>\n     </g>\n     <g id=\"text_7\">\n      <!-- $\\mathdefault{10^{-4}}$ -->\n      <g transform=\"translate(20.878125 292.229344) scale(0.1 -0.1)\">\n       <use xlink:href=\"#DejaVuSans-31\" transform=\"translate(0 0.684375)\"/>\n       <use xlink:href=\"#DejaVuSans-30\" transform=\"translate(63.623047 0.684375)\"/>\n       <use xlink:href=\"#DejaVuSans-2212\" transform=\"translate(128.203125 38.965625) scale(0.7)\"/>\n       <use xlink:href=\"#DejaVuSans-34\" transform=\"translate(186.855469 38.965625) scale(0.7)\"/>\n      </g>\n     </g>\n    </g>\n    <g id=\"ytick_2\">\n     <g id=\"line2d_39\">\n      <g>\n       <use xlink:href=\"#m37bf2f4124\" x=\"51.378125\" y=\"221.902125\" style=\"stroke: #000000; stroke-width: 0.8\"/>\n      </g>\n     </g>\n     <g id=\"text_8\">\n      <!-- $\\mathdefault{10^{-3}}$ -->\n      <g transform=\"translate(20.878125 225.701344) scale(0.1 -0.1)\">\n       <use xlink:href=\"#DejaVuSans-31\" transform=\"translate(0 0.765625)\"/>\n       <use xlink:href=\"#DejaVuSans-30\" transform=\"translate(63.623047 0.765625)\"/>\n       <use xlink:href=\"#DejaVuSans-2212\" transform=\"translate(128.203125 39.046875) scale(0.7)\"/>\n       <use xlink:href=\"#DejaVuSans-33\" transform=\"translate(186.855469 39.046875) scale(0.7)\"/>\n      </g>\n     </g>\n    </g>\n    <g id=\"ytick_3\">\n     <g id=\"line2d_40\">\n      <g>\n       <use xlink:href=\"#m37bf2f4124\" x=\"51.378125\" y=\"155.374125\" style=\"stroke: #000000; stroke-width: 0.8\"/>\n      </g>\n     </g>\n     <g id=\"text_9\">\n      <!-- $\\mathdefault{10^{-2}}$ -->\n      <g transform=\"translate(20.878125 159.173344) scale(0.1 -0.1)\">\n       <use xlink:href=\"#DejaVuSans-31\" transform=\"translate(0 0.765625)\"/>\n       <use xlink:href=\"#DejaVuSans-30\" transform=\"translate(63.623047 0.765625)\"/>\n       <use xlink:href=\"#DejaVuSans-2212\" transform=\"translate(128.203125 39.046875) scale(0.7)\"/>\n       <use xlink:href=\"#DejaVuSans-32\" transform=\"translate(186.855469 39.046875) scale(0.7)\"/>\n      </g>\n     </g>\n    </g>\n    <g id=\"ytick_4\">\n     <g id=\"line2d_41\">\n      <g>\n       <use xlink:href=\"#m37bf2f4124\" x=\"51.378125\" y=\"88.846125\" style=\"stroke: #000000; stroke-width: 0.8\"/>\n      </g>\n     </g>\n     <g id=\"text_10\">\n      <!-- $\\mathdefault{10^{-1}}$ -->\n      <g transform=\"translate(20.878125 92.645344) scale(0.1 -0.1)\">\n       <use xlink:href=\"#DejaVuSans-31\" transform=\"translate(0 0.684375)\"/>\n       <use xlink:href=\"#DejaVuSans-30\" transform=\"translate(63.623047 0.684375)\"/>\n       <use xlink:href=\"#DejaVuSans-2212\" transform=\"translate(128.203125 38.965625) scale(0.7)\"/>\n       <use xlink:href=\"#DejaVuSans-31\" transform=\"translate(186.855469 38.965625) scale(0.7)\"/>\n      </g>\n     </g>\n    </g>\n    <g id=\"ytick_5\">\n     <g id=\"line2d_42\">\n      <g>\n       <use xlink:href=\"#m37bf2f4124\" x=\"51.378125\" y=\"22.318125\" style=\"stroke: #000000; stroke-width: 0.8\"/>\n      </g>\n     </g>\n     <g id=\"text_11\">\n      <!-- $\\mathdefault{10^{0}}$ -->\n      <g transform=\"translate(26.778125 26.117344) scale(0.1 -0.1)\">\n       <use xlink:href=\"#DejaVuSans-31\" transform=\"translate(0 0.765625)\"/>\n       <use xlink:href=\"#DejaVuSans-30\" transform=\"translate(63.623047 0.765625)\"/>\n       <use xlink:href=\"#DejaVuSans-30\" transform=\"translate(128.203125 39.046875) scale(0.7)\"/>\n      </g>\n     </g>\n    </g>\n    <g id=\"ytick_6\">\n     <g id=\"line2d_43\">\n      <defs>\n       <path id=\"m2575c71968\" d=\"M 0 0 \nL -2 0 \n\" style=\"stroke: #000000; stroke-width: 0.6\"/>\n      </defs>\n      <g>\n       <use xlink:href=\"#m2575c71968\" x=\"51.378125\" y=\"268.403201\" style=\"stroke: #000000; stroke-width: 0.6\"/>\n      </g>\n     </g>\n    </g>\n    <g id=\"ytick_7\">\n     <g id=\"line2d_44\">\n      <g>\n       <use xlink:href=\"#m2575c71968\" x=\"51.378125\" y=\"256.688202\" style=\"stroke: #000000; stroke-width: 0.6\"/>\n      </g>\n     </g>\n    </g>\n    <g id=\"ytick_8\">\n     <g id=\"line2d_45\">\n      <g>\n       <use xlink:href=\"#m2575c71968\" x=\"51.378125\" y=\"248.376278\" style=\"stroke: #000000; stroke-width: 0.6\"/>\n      </g>\n     </g>\n    </g>\n    <g id=\"ytick_9\">\n     <g id=\"line2d_46\">\n      <g>\n       <use xlink:href=\"#m2575c71968\" x=\"51.378125\" y=\"241.929049\" style=\"stroke: #000000; stroke-width: 0.6\"/>\n      </g>\n     </g>\n    </g>\n    <g id=\"ytick_10\">\n     <g id=\"line2d_47\">\n      <g>\n       <use xlink:href=\"#m2575c71968\" x=\"51.378125\" y=\"236.661279\" style=\"stroke: #000000; stroke-width: 0.6\"/>\n      </g>\n     </g>\n    </g>\n    <g id=\"ytick_11\">\n     <g id=\"line2d_48\">\n      <g>\n       <use xlink:href=\"#m2575c71968\" x=\"51.378125\" y=\"232.207443\" style=\"stroke: #000000; stroke-width: 0.6\"/>\n      </g>\n     </g>\n    </g>\n    <g id=\"ytick_12\">\n     <g id=\"line2d_49\">\n      <g>\n       <use xlink:href=\"#m2575c71968\" x=\"51.378125\" y=\"228.349354\" style=\"stroke: #000000; stroke-width: 0.6\"/>\n      </g>\n     </g>\n    </g>\n    <g id=\"ytick_13\">\n     <g id=\"line2d_50\">\n      <g>\n       <use xlink:href=\"#m2575c71968\" x=\"51.378125\" y=\"224.946279\" style=\"stroke: #000000; stroke-width: 0.6\"/>\n      </g>\n     </g>\n    </g>\n    <g id=\"ytick_14\">\n     <g id=\"line2d_51\">\n      <g>\n       <use xlink:href=\"#m2575c71968\" x=\"51.378125\" y=\"201.875201\" style=\"stroke: #000000; stroke-width: 0.6\"/>\n      </g>\n     </g>\n    </g>\n    <g id=\"ytick_15\">\n     <g id=\"line2d_52\">\n      <g>\n       <use xlink:href=\"#m2575c71968\" x=\"51.378125\" y=\"190.160202\" style=\"stroke: #000000; stroke-width: 0.6\"/>\n      </g>\n     </g>\n    </g>\n    <g id=\"ytick_16\">\n     <g id=\"line2d_53\">\n      <g>\n       <use xlink:href=\"#m2575c71968\" x=\"51.378125\" y=\"181.848278\" style=\"stroke: #000000; stroke-width: 0.6\"/>\n      </g>\n     </g>\n    </g>\n    <g id=\"ytick_17\">\n     <g id=\"line2d_54\">\n      <g>\n       <use xlink:href=\"#m2575c71968\" x=\"51.378125\" y=\"175.401049\" style=\"stroke: #000000; stroke-width: 0.6\"/>\n      </g>\n     </g>\n    </g>\n    <g id=\"ytick_18\">\n     <g id=\"line2d_55\">\n      <g>\n       <use xlink:href=\"#m2575c71968\" x=\"51.378125\" y=\"170.133279\" style=\"stroke: #000000; stroke-width: 0.6\"/>\n      </g>\n     </g>\n    </g>\n    <g id=\"ytick_19\">\n     <g id=\"line2d_56\">\n      <g>\n       <use xlink:href=\"#m2575c71968\" x=\"51.378125\" y=\"165.679443\" style=\"stroke: #000000; stroke-width: 0.6\"/>\n      </g>\n     </g>\n    </g>\n    <g id=\"ytick_20\">\n     <g id=\"line2d_57\">\n      <g>\n       <use xlink:href=\"#m2575c71968\" x=\"51.378125\" y=\"161.821354\" style=\"stroke: #000000; stroke-width: 0.6\"/>\n      </g>\n     </g>\n    </g>\n    <g id=\"ytick_21\">\n     <g id=\"line2d_58\">\n      <g>\n       <use xlink:href=\"#m2575c71968\" x=\"51.378125\" y=\"158.418279\" style=\"stroke: #000000; stroke-width: 0.6\"/>\n      </g>\n     </g>\n    </g>\n    <g id=\"ytick_22\">\n     <g id=\"line2d_59\">\n      <g>\n       <use xlink:href=\"#m2575c71968\" x=\"51.378125\" y=\"135.347201\" style=\"stroke: #000000; stroke-width: 0.6\"/>\n      </g>\n     </g>\n    </g>\n    <g id=\"ytick_23\">\n     <g id=\"line2d_60\">\n      <g>\n       <use xlink:href=\"#m2575c71968\" x=\"51.378125\" y=\"123.632202\" style=\"stroke: #000000; stroke-width: 0.6\"/>\n      </g>\n     </g>\n    </g>\n    <g id=\"ytick_24\">\n     <g id=\"line2d_61\">\n      <g>\n       <use xlink:href=\"#m2575c71968\" x=\"51.378125\" y=\"115.320278\" style=\"stroke: #000000; stroke-width: 0.6\"/>\n      </g>\n     </g>\n    </g>\n    <g id=\"ytick_25\">\n     <g id=\"line2d_62\">\n      <g>\n       <use xlink:href=\"#m2575c71968\" x=\"51.378125\" y=\"108.873049\" style=\"stroke: #000000; stroke-width: 0.6\"/>\n      </g>\n     </g>\n    </g>\n    <g id=\"ytick_26\">\n     <g id=\"line2d_63\">\n      <g>\n       <use xlink:href=\"#m2575c71968\" x=\"51.378125\" y=\"103.605279\" style=\"stroke: #000000; stroke-width: 0.6\"/>\n      </g>\n     </g>\n    </g>\n    <g id=\"ytick_27\">\n     <g id=\"line2d_64\">\n      <g>\n       <use xlink:href=\"#m2575c71968\" x=\"51.378125\" y=\"99.151443\" style=\"stroke: #000000; stroke-width: 0.6\"/>\n      </g>\n     </g>\n    </g>\n    <g id=\"ytick_28\">\n     <g id=\"line2d_65\">\n      <g>\n       <use xlink:href=\"#m2575c71968\" x=\"51.378125\" y=\"95.293354\" style=\"stroke: #000000; stroke-width: 0.6\"/>\n      </g>\n     </g>\n    </g>\n    <g id=\"ytick_29\">\n     <g id=\"line2d_66\">\n      <g>\n       <use xlink:href=\"#m2575c71968\" x=\"51.378125\" y=\"91.890279\" style=\"stroke: #000000; stroke-width: 0.6\"/>\n      </g>\n     </g>\n    </g>\n    <g id=\"ytick_30\">\n     <g id=\"line2d_67\">\n      <g>\n       <use xlink:href=\"#m2575c71968\" x=\"51.378125\" y=\"68.819201\" style=\"stroke: #000000; stroke-width: 0.6\"/>\n      </g>\n     </g>\n    </g>\n    <g id=\"ytick_31\">\n     <g id=\"line2d_68\">\n      <g>\n       <use xlink:href=\"#m2575c71968\" x=\"51.378125\" y=\"57.104202\" style=\"stroke: #000000; stroke-width: 0.6\"/>\n      </g>\n     </g>\n    </g>\n    <g id=\"ytick_32\">\n     <g id=\"line2d_69\">\n      <g>\n       <use xlink:href=\"#m2575c71968\" x=\"51.378125\" y=\"48.792278\" style=\"stroke: #000000; stroke-width: 0.6\"/>\n      </g>\n     </g>\n    </g>\n    <g id=\"ytick_33\">\n     <g id=\"line2d_70\">\n      <g>\n       <use xlink:href=\"#m2575c71968\" x=\"51.378125\" y=\"42.345049\" style=\"stroke: #000000; stroke-width: 0.6\"/>\n      </g>\n     </g>\n    </g>\n    <g id=\"ytick_34\">\n     <g id=\"line2d_71\">\n      <g>\n       <use xlink:href=\"#m2575c71968\" x=\"51.378125\" y=\"37.077279\" style=\"stroke: #000000; stroke-width: 0.6\"/>\n      </g>\n     </g>\n    </g>\n    <g id=\"ytick_35\">\n     <g id=\"line2d_72\">\n      <g>\n       <use xlink:href=\"#m2575c71968\" x=\"51.378125\" y=\"32.623443\" style=\"stroke: #000000; stroke-width: 0.6\"/>\n      </g>\n     </g>\n    </g>\n    <g id=\"ytick_36\">\n     <g id=\"line2d_73\">\n      <g>\n       <use xlink:href=\"#m2575c71968\" x=\"51.378125\" y=\"28.765354\" style=\"stroke: #000000; stroke-width: 0.6\"/>\n      </g>\n     </g>\n    </g>\n    <g id=\"ytick_37\">\n     <g id=\"line2d_74\">\n      <g>\n       <use xlink:href=\"#m2575c71968\" x=\"51.378125\" y=\"25.362279\" style=\"stroke: #000000; stroke-width: 0.6\"/>\n      </g>\n     </g>\n    </g>\n    <g id=\"text_12\">\n     <!-- True Positive Rate -->\n     <g transform=\"translate(14.798438 199.903812) rotate(-90) scale(0.1 -0.1)\">\n      <defs>\n       <path id=\"DejaVuSans-54\" d=\"M -19 4666 \nL 3928 4666 \nL 3928 4134 \nL 2272 4134 \nL 2272 0 \nL 1638 0 \nL 1638 4134 \nL -19 4134 \nL -19 4666 \nz\n\" transform=\"scale(0.015625)\"/>\n       <path id=\"DejaVuSans-72\" d=\"M 2631 2963 \nQ 2534 3019 2420 3045 \nQ 2306 3072 2169 3072 \nQ 1681 3072 1420 2755 \nQ 1159 2438 1159 1844 \nL 1159 0 \nL 581 0 \nL 581 3500 \nL 1159 3500 \nL 1159 2956 \nQ 1341 3275 1631 3429 \nQ 1922 3584 2338 3584 \nQ 2397 3584 2469 3576 \nQ 2541 3569 2628 3553 \nL 2631 2963 \nz\n\" transform=\"scale(0.015625)\"/>\n       <path id=\"DejaVuSans-75\" d=\"M 544 1381 \nL 544 3500 \nL 1119 3500 \nL 1119 1403 \nQ 1119 906 1312 657 \nQ 1506 409 1894 409 \nQ 2359 409 2629 706 \nQ 2900 1003 2900 1516 \nL 2900 3500 \nL 3475 3500 \nL 3475 0 \nL 2900 0 \nL 2900 538 \nQ 2691 219 2414 64 \nQ 2138 -91 1772 -91 \nQ 1169 -91 856 284 \nQ 544 659 544 1381 \nz\nM 1991 3584 \nL 1991 3584 \nz\n\" transform=\"scale(0.015625)\"/>\n      </defs>\n      <use xlink:href=\"#DejaVuSans-54\"/>\n      <use xlink:href=\"#DejaVuSans-72\" transform=\"translate(46.333984 0)\"/>\n      <use xlink:href=\"#DejaVuSans-75\" transform=\"translate(87.447266 0)\"/>\n      <use xlink:href=\"#DejaVuSans-65\" transform=\"translate(150.826172 0)\"/>\n      <use xlink:href=\"#DejaVuSans-20\" transform=\"translate(212.349609 0)\"/>\n      <use xlink:href=\"#DejaVuSans-50\" transform=\"translate(244.136719 0)\"/>\n      <use xlink:href=\"#DejaVuSans-6f\" transform=\"translate(300.814453 0)\"/>\n      <use xlink:href=\"#DejaVuSans-73\" transform=\"translate(361.996094 0)\"/>\n      <use xlink:href=\"#DejaVuSans-69\" transform=\"translate(414.095703 0)\"/>\n      <use xlink:href=\"#DejaVuSans-74\" transform=\"translate(441.878906 0)\"/>\n      <use xlink:href=\"#DejaVuSans-69\" transform=\"translate(481.087891 0)\"/>\n      <use xlink:href=\"#DejaVuSans-76\" transform=\"translate(508.871094 0)\"/>\n      <use xlink:href=\"#DejaVuSans-65\" transform=\"translate(568.050781 0)\"/>\n      <use xlink:href=\"#DejaVuSans-20\" transform=\"translate(629.574219 0)\"/>\n      <use xlink:href=\"#DejaVuSans-52\" transform=\"translate(661.361328 0)\"/>\n      <use xlink:href=\"#DejaVuSans-61\" transform=\"translate(728.59375 0)\"/>\n      <use xlink:href=\"#DejaVuSans-74\" transform=\"translate(789.873047 0)\"/>\n      <use xlink:href=\"#DejaVuSans-65\" transform=\"translate(829.082031 0)\"/>\n     </g>\n    </g>\n   </g>\n   <g id=\"line2d_75\">\n    <path d=\"M 194.410041 326.986375 \nL 194.410041 181.848278 \nL 210.131469 181.848278 \nL 210.131469 170.133279 \nL 221.285999 170.133279 \nL 221.285999 150.106355 \nL 242.984436 150.106355 \nL 242.984436 145.652519 \nL 252.728854 145.652519 \nL 252.728854 135.347201 \nL 263.883385 135.347201 \nL 263.883385 132.593429 \nL 266.986946 132.593429 \nL 266.986946 127.766778 \nL 269.860394 127.766778 \nL 269.860394 125.625595 \nL 272.535511 125.625595 \nL 272.535511 121.767507 \nL 277.388563 121.767507 \nL 277.388563 120.015896 \nL 289.109144 120.015896 \nL 289.109144 118.364432 \nL 290.759343 118.364432 \nL 290.759343 113.910596 \nL 292.342167 113.910596 \nL 292.342167 111.282172 \nL 296.736352 111.282172 \nL 296.736352 108.873049 \nL 298.096976 108.873049 \nL 298.096976 107.739855 \nL 299.411469 107.739855 \nL 299.411469 106.649433 \nL 301.913873 106.649433 \nL 301.913873 103.605279 \nL 304.264521 103.605279 \nL 304.264521 101.740584 \nL 305.388478 101.740584 \nL 305.388478 100.851506 \nL 306.48077 100.851506 \nL 306.48077 99.151443 \nL 307.543133 99.151443 \nL 307.543133 98.337509 \nL 312.45778 98.337509 \nL 312.45778 96.775358 \nL 319.218125 96.775358 \nL 319.218125 96.024855 \nL 319.985948 96.024855 \nL 319.985948 95.293354 \nL 321.477433 95.293354 \nL 321.477433 94.579917 \nL 323.61231 94.579917 \nL 323.61231 93.883673 \nL 324.29859 93.883673 \nL 324.29859 92.539582 \nL 324.972934 92.539582 \nL 324.972934 91.890279 \nL 326.287427 91.890279 \nL 326.287427 91.255248 \nL 327.558813 91.255248 \nL 327.558813 90.025584 \nL 331.70653 90.025584 \nL 331.70653 88.846125 \nL 332.814428 88.846125 \nL 332.814428 87.712931 \nL 333.891548 87.712931 \nL 333.891548 86.622509 \nL 335.453121 86.622509 \nL 335.453121 84.063959 \nL 336.95423 84.063959 \nL 336.95423 83.578355 \nL 337.441957 83.578355 \nL 337.441957 82.630967 \nL 337.923625 82.630967 \nL 337.923625 82.168673 \nL 339.792605 82.168673 \nL 339.792605 81.71366 \nL 340.694362 81.71366 \nL 340.694362 81.265702 \nL 342.008854 81.265702 \nL 342.008854 79.540249 \nL 342.437299 79.540249 \nL 342.437299 77.912058 \nL 342.86106 77.912058 \nL 342.86106 77.131126 \nL 343.280241 77.131126 \nL 343.280241 76.370746 \nL 344.105246 76.370746 \nL 344.105246 75.997932 \nL 344.913063 75.997932 \nL 344.913063 75.629866 \nL 345.704393 75.629866 \nL 345.704393 75.266431 \nL 346.094083 75.266431 \nL 346.094083 74.552993 \nL 346.861906 74.552993 \nL 346.861906 73.514819 \nL 347.985864 73.514819 \nL 347.985864 73.176888 \nL 348.353391 73.176888 \nL 348.353391 72.186183 \nL 348.717467 72.186183 \nL 348.717467 70.606952 \nL 349.789622 70.606952 \nL 349.789622 69.998661 \nL 350.140519 69.998661 \nL 350.140519 69.699252 \nL 350.832926 69.699252 \nL 350.832926 69.109583 \nL 351.174548 69.109583 \nL 351.174548 67.965167 \nL 351.848892 67.965167 \nL 351.848892 67.686007 \nL 352.181717 67.686007 \nL 352.181717 67.135653 \nL 352.838916 67.135653 \nL 352.838916 66.864357 \nL 354.120811 66.864357 \nL 354.120811 66.065429 \nL 355.055165 66.065429 \nL 355.055165 65.287999 \nL 355.665789 65.287999 \nL 355.665789 64.53094 \nL 355.967532 64.53094 \nL 355.967532 64.037035 \nL 356.564064 64.037035 \nL 356.564064 63.793213 \nL 356.858924 63.793213 \nL 356.858924 63.551432 \nL 357.441999 63.551432 \nL 357.441999 63.073855 \nL 357.730282 63.073855 \nL 357.730282 62.604044 \nL 358.016437 62.604044 \nL 358.016437 61.686737 \nL 358.300495 61.686737 \nL 358.300495 61.238778 \nL 359.416365 61.238778 \nL 359.416365 60.797659 \nL 359.962484 60.797659 \nL 359.962484 60.363173 \nL 360.501018 60.363173 \nL 360.501018 60.148356 \nL 361.032175 60.148356 \nL 361.032175 59.935125 \nL 361.295049 59.935125 \nL 361.295049 59.513326 \nL 361.556153 59.513326 \nL 361.556153 58.891952 \nL 362.329079 58.891952 \nL 362.329079 58.485006 \nL 362.835933 58.485006 \nL 362.835933 58.283662 \nL 363.086897 58.283662 \nL 363.086897 58.083711 \nL 364.074818 58.083711 \nL 364.074818 57.297465 \nL 364.559497 57.297465 \nL 364.559497 57.104202 \nL 365.51105 57.104202 \nL 365.51105 56.343823 \nL 366.439808 56.343823 \nL 366.439808 56.156814 \nL 366.895976 56.156814 \nL 366.895976 55.786389 \nL 367.346839 55.786389 \nL 367.346839 55.602943 \nL 367.57032 55.602943 \nL 367.57032 55.420654 \nL 368.013454 55.420654 \nL 368.013454 55.239507 \nL 368.233136 55.239507 \nL 368.233136 55.05949 \nL 368.884812 55.05949 \nL 368.884812 54.52607 \nL 369.099626 54.52607 \nL 369.099626 54.35043 \nL 369.313257 54.35043 \nL 369.313257 53.829826 \nL 369.525716 53.829826 \nL 369.525716 53.318436 \nL 369.737018 53.318436 \nL 369.737018 52.98247 \nL 370.570896 52.98247 \nL 370.570896 52.815941 \nL 370.981205 52.815941 \nL 370.981205 52.650366 \nL 371.184742 52.650366 \nL 371.184742 52.322036 \nL 371.387217 52.322036 \nL 371.387217 52.15926 \nL 371.58864 52.15926 \nL 371.58864 51.676361 \nL 371.789021 51.676361 \nL 371.789021 51.517172 \nL 371.988373 51.517172 \nL 371.988373 51.358855 \nL 372.186705 51.358855 \nL 372.186705 51.201401 \nL 372.775686 51.201401 \nL 372.775686 50.889044 \nL 373.163427 50.889044 \nL 373.163427 50.734123 \nL 373.547329 50.734123 \nL 373.547329 50.580028 \nL 373.927468 50.580028 \nL 373.927468 50.426751 \nL 374.861822 50.426751 \nL 374.861822 49.971737 \nL 375.229349 49.971737 \nL 375.229349 49.672328 \nL 375.411814 49.672328 \nL 375.411814 49.523779 \nL 375.954114 49.523779 \nL 375.954114 49.228952 \nL 376.311479 49.228952 \nL 376.311479 48.792278 \nL 376.66558 48.792278 \nL 376.66558 48.220126 \nL 376.841425 48.220126 \nL 376.841425 48.078841 \nL 377.016477 48.078841 \nL 377.016477 47.659084 \nL 377.536938 47.659084 \nL 377.536938 47.245338 \nL 377.708884 47.245338 \nL 377.708884 47.108729 \nL 377.880072 47.108729 \nL 377.880072 46.837434 \nL 378.050506 46.837434 \nL 378.050506 45.389203 \nL 378.220195 45.389203 \nL 378.220195 44.880066 \nL 378.557361 44.880066 \nL 378.557361 44.628824 \nL 379.057675 44.628824 \nL 379.057675 44.504017 \nL 379.223022 44.504017 \nL 379.223022 44.379747 \nL 379.387667 44.379747 \nL 379.387667 44.256009 \nL 380.521011 44.256009 \nL 380.521011 44.132799 \nL 380.680247 44.132799 \nL 380.680247 43.887943 \nL 380.838831 43.887943 \nL 380.838831 43.76629 \nL 381.154067 43.76629 \nL 381.154067 43.645146 \nL 381.466761 43.645146 \nL 381.466761 43.524508 \nL 381.776953 43.524508 \nL 381.776953 43.404372 \nL 382.237637 43.404372 \nL 382.237637 43.165587 \nL 382.692912 43.165587 \nL 382.692912 43.046931 \nL 382.84349 43.046931 \nL 382.84349 42.92876 \nL 383.440022 42.92876 \nL 383.440022 42.693859 \nL 383.587732 42.693859 \nL 383.587732 42.57712 \nL 384.173008 42.57712 \nL 384.173008 42.460851 \nL 384.317957 42.460851 \nL 384.317957 42.345049 \nL 384.749581 42.345049 \nL 384.749581 42.114826 \nL 384.892395 42.114826 \nL 384.892395 41.886424 \nL 385.034684 41.886424 \nL 385.034684 41.772896 \nL 385.176453 41.772896 \nL 385.176453 41.659813 \nL 385.317706 41.659813 \nL 385.317706 41.323195 \nL 385.458446 41.323195 \nL 385.458446 41.211855 \nL 386.154583 41.100942 \nL 386.154583 40.880385 \nL 386.838442 40.770735 \nL 386.838442 40.6615 \nL 387.510449 40.552676 \nL 387.510449 40.44426 \nL 388.039793 40.44426 \nL 388.039793 40.121433 \nL 388.562007 40.121433 \nL 388.562007 39.802173 \nL 388.691469 39.802173 \nL 388.691469 39.591276 \nL 388.949103 39.486402 \nL 388.949103 38.660839 \nL 389.332373 38.559283 \nL 389.332373 38.458082 \nL 389.459292 38.458082 \nL 389.459292 37.759432 \nL 390.828654 37.66099 \nL 390.828654 36.98113 \nL 391.555684 36.98113 \nL 391.555684 36.789786 \nL 391.795029 36.694588 \nL 391.795029 36.599702 \nL 391.91415 36.599702 \nL 391.91415 36.316899 \nL 392.387008 36.223244 \nL 392.387008 35.944085 \nL 392.621291 35.944085 \nL 392.621291 35.759466 \nL 393.085654 35.667597 \nL 393.085654 35.576019 \nL 393.315766 35.576019 \nL 393.315766 35.39373 \nL 393.430312 35.39373 \nL 393.430312 35.212584 \nL 393.544521 35.212584 \nL 393.544521 34.675861 \nL 393.998021 34.675861 \nL 393.998021 33.546076 \nL 394.889412 33.460972 \nL 394.889412 33.291513 \nL 395.327539 33.291513 \nL 395.436301 32.706111 \nL 395.652915 32.623443 \nL 395.652915 32.54101 \nL 396.189215 32.458811 \nL 396.189215 32.21361 \nL 396.401674 32.21361 \nL 396.401674 32.05129 \nL 396.927786 32.05129 \nL 396.927786 31.729362 \nL 397.24006 31.729362 \nL 397.24006 31.569733 \nL 397.549839 31.569733 \nL 397.652551 31.174478 \nL 397.857163 31.174478 \nL 397.857163 30.939894 \nL 398.16207 30.862121 \nL 398.16207 30.784556 \nL 398.364017 30.784556 \nL 398.464598 30.553105 \nL 398.664979 30.553105 \nL 398.664979 30.399827 \nL 399.358272 30.323492 \nL 399.456309 29.86967 \nL 399.651644 29.794721 \nL 399.651644 29.645404 \nL 399.942813 29.645404 \nL 400.039385 29.055736 \nL 400.327667 29.055736 \nL 400.423287 28.477862 \nL 400.70874 28.406434 \nL 400.803426 27.911319 \nL 401.086104 27.911319 \nL 401.086104 27.771403 \nL 401.366736 27.771403 \nL 401.366736 27.493586 \nL 401.73778 27.424547 \nL 401.73778 27.355673 \nL 401.921979 27.355673 \nL 401.921979 27.150029 \nL 402.287772 27.081806 \nL 402.378684 26.81051 \nL 402.919722 26.81051 \nL 402.919722 26.608698 \nL 403.62956 26.541739 \nL 403.717383 26.408285 \nL 404.066699 26.341788 \nL 404.153539 26.077322 \nL 404.841341 26.011582 \nL 404.841341 25.815254 \nL 405.011401 25.815254 \nL 405.096153 25.620252 \nL 405.349302 25.620252 \nL 405.433319 25.426557 \nL 405.600808 25.426557 \nL 405.600808 25.234152 \nL 405.767578 25.234152 \nL 405.850694 25.043019 \nL 405.933633 25.043019 \nL 406.016394 24.6019 \nL 406.345686 24.539429 \nL 406.345686 24.414891 \nL 406.590832 24.414891 \nL 406.672204 23.983188 \nL 406.834438 23.983188 \nL 406.834438 23.800129 \nL 407.317105 23.739366 \nL 407.396969 23.55784 \nL 407.714789 23.55784 \nL 407.714789 23.377448 \nL 407.872727 23.377448 \nL 407.872727 23.257809 \nL 408.030025 23.257809 \nL 408.108435 22.608507 \nL 408.4205 22.550196 \nL 408.4205 22.318125 \nL 408.498125 22.318125 \n\" clip-path=\"url(#p85bf8bbffa)\" style=\"fill: none; stroke: #ff1493; stroke-width: 1.5; stroke-linecap: square\"/>\n   </g>\n   <g id=\"line2d_76\">\n    <path d=\"M -1 201.875201 \nL 194.410041 201.875201 \nL 194.410041 181.848278 \nL 229.938125 181.848278 \nL 229.938125 161.821354 \nL 252.728854 161.821354 \nL 252.728854 145.652519 \nL 256.814083 145.652519 \nL 256.814083 141.794431 \nL 266.986946 141.794431 \nL 266.986946 138.391356 \nL 269.860394 138.391356 \nL 269.860394 132.593429 \nL 272.535511 132.593429 \nL 272.535511 130.079432 \nL 279.604812 130.079432 \nL 279.604812 123.632202 \nL 283.690041 123.632202 \nL 283.690041 120.015896 \nL 285.581822 120.015896 \nL 285.581822 115.320278 \nL 287.38558 115.320278 \nL 287.38558 112.566505 \nL 289.109144 112.566505 \nL 289.109144 110.052508 \nL 290.759343 110.052508 \nL 290.759343 108.873049 \nL 299.411469 108.873049 \nL 299.411469 103.605279 \nL 303.107008 103.605279 \nL 303.107008 102.657891 \nL 305.388478 102.657891 \nL 305.388478 101.740584 \nL 306.48077 101.740584 \nL 306.48077 99.151443 \nL 307.543133 99.151443 \nL 307.543133 96.775358 \nL 308.577163 96.775358 \nL 308.577163 96.024855 \nL 309.584331 96.024855 \nL 309.584331 94.579917 \nL 312.45778 94.579917 \nL 312.45778 93.883673 \nL 313.370147 93.883673 \nL 313.370147 91.890279 \nL 314.261538 91.890279 \nL 314.261538 91.255248 \nL 315.985102 91.255248 \nL 315.985102 90.025584 \nL 316.81898 90.025584 \nL 316.81898 89.429837 \nL 322.202198 89.429837 \nL 322.202198 87.162576 \nL 322.913664 87.162576 \nL 322.913664 86.622509 \nL 323.61231 86.622509 \nL 323.61231 86.092352 \nL 324.29859 86.092352 \nL 324.29859 85.571748 \nL 324.972934 85.571748 \nL 324.972934 85.060359 \nL 326.287427 85.060359 \nL 326.287427 84.063959 \nL 328.789831 84.063959 \nL 328.789831 83.100778 \nL 329.982966 83.100778 \nL 329.982966 82.630967 \nL 330.566041 82.630967 \nL 330.566041 82.168673 \nL 331.70653 82.168673 \nL 331.70653 81.71366 \nL 332.814428 81.71366 \nL 332.814428 81.265702 \nL 333.356728 81.265702 \nL 333.356728 80.390097 \nL 333.891548 80.390097 \nL 333.891548 79.540249 \nL 334.939553 79.540249 \nL 334.939553 78.714686 \nL 335.453121 78.714686 \nL 335.453121 77.912058 \nL 336.95423 77.912058 \nL 336.95423 77.518954 \nL 337.923625 77.518954 \nL 337.923625 76.370746 \nL 339.333738 76.370746 \nL 339.333738 75.997932 \nL 340.246105 75.997932 \nL 340.246105 75.266431 \nL 341.137496 75.266431 \nL 341.137496 74.90751 \nL 341.575623 74.90751 \nL 341.575623 74.552993 \nL 343.280241 74.552993 \nL 343.280241 73.856749 \nL 344.105246 73.856749 \nL 344.105246 73.176888 \nL 344.511259 73.176888 \nL 344.511259 72.186183 \nL 344.913063 72.186183 \nL 344.913063 71.544096 \nL 346.094083 71.544096 \nL 346.094083 70.606952 \nL 347.24019 70.606952 \nL 347.24019 69.402913 \nL 347.61482 69.402913 \nL 347.61482 68.531709 \nL 347.985864 68.531709 \nL 347.985864 68.247049 \nL 348.353391 68.247049 \nL 348.353391 66.864357 \nL 348.717467 66.864357 \nL 348.717467 66.595586 \nL 349.789622 66.595586 \nL 349.789622 66.065429 \nL 350.832926 66.065429 \nL 350.832926 64.037035 \nL 351.513186 64.037035 \nL 351.513186 63.793213 \nL 352.181717 63.793213 \nL 352.181717 63.311656 \nL 353.485161 63.311656 \nL 353.485161 63.073855 \nL 353.804289 63.073855 \nL 353.804289 62.14175 \nL 354.434771 62.14175 \nL 354.434771 61.913348 \nL 355.055165 61.913348 \nL 355.055165 61.686737 \nL 355.361679 61.686737 \nL 355.361679 61.238778 \nL 355.967532 61.238778 \nL 355.967532 60.579599 \nL 356.564064 60.579599 \nL 356.564064 60.148356 \nL 358.016437 60.148356 \nL 358.016437 59.935125 \nL 358.300495 59.935125 \nL 358.300495 59.097595 \nL 358.582488 59.097595 \nL 358.582488 58.485006 \nL 359.416365 58.485006 \nL 359.416365 58.283662 \nL 359.690386 58.283662 \nL 359.690386 58.083711 \nL 360.232686 58.083711 \nL 360.232686 57.885135 \nL 360.501018 57.885135 \nL 360.501018 57.297465 \nL 361.032175 57.297465 \nL 361.032175 57.104202 \nL 361.295049 57.104202 \nL 361.295049 56.912223 \nL 362.583334 56.912223 \nL 362.583334 56.53205 \nL 362.835933 56.53205 \nL 362.835933 56.343823 \nL 363.830188 56.343823 \nL 363.830188 55.420654 \nL 365.275342 55.420654 \nL 365.275342 54.880587 \nL 365.51105 54.880587 \nL 365.51105 54.702785 \nL 365.745333 54.702785 \nL 365.745333 54.52607 \nL 365.97821 54.52607 \nL 365.97821 54.35043 \nL 366.209696 54.35043 \nL 366.209696 54.00232 \nL 366.439808 54.00232 \nL 366.439808 53.829826 \nL 366.668563 53.829826 \nL 366.668563 53.658355 \nL 367.346839 53.658355 \nL 367.346839 53.487896 \nL 367.79252 53.487896 \nL 367.79252 53.318436 \nL 368.233136 53.318436 \nL 368.233136 53.149965 \nL 369.099626 53.149965 \nL 369.099626 52.98247 \nL 369.313257 52.98247 \nL 369.313257 52.485735 \nL 369.947175 52.485735 \nL 369.947175 52.322036 \nL 370.156199 52.322036 \nL 370.156199 51.997395 \nL 370.364102 51.997395 \nL 370.364102 51.358855 \nL 370.570896 51.358855 \nL 370.570896 50.889044 \nL 370.981205 50.889044 \nL 370.981205 50.734123 \nL 371.58864 50.734123 \nL 371.58864 50.580028 \nL 371.789021 50.580028 \nL 371.789021 50.274282 \nL 372.580351 50.274282 \nL 372.580351 49.821645 \nL 372.775686 49.821645 \nL 372.775686 49.37599 \nL 372.970041 49.37599 \nL 372.970041 49.228952 \nL 373.355853 49.228952 \nL 373.355853 48.504786 \nL 374.490778 48.504786 \nL 374.490778 48.078841 \nL 375.229349 48.078841 \nL 375.229349 47.798326 \nL 375.411814 47.798326 \nL 375.411814 47.659084 \nL 376.488934 47.659084 \nL 376.488934 47.245338 \nL 376.841425 47.245338 \nL 376.841425 46.972763 \nL 377.016477 46.972763 \nL 377.016477 46.837434 \nL 377.190741 46.837434 \nL 377.190741 46.568662 \nL 377.364226 46.568662 \nL 377.364226 46.435208 \nL 377.536938 46.435208 \nL 377.536938 45.907472 \nL 377.708884 45.907472 \nL 377.708884 45.133513 \nL 378.389144 45.133513 \nL 378.389144 45.006512 \nL 378.557361 45.006512 \nL 378.557361 44.754172 \nL 378.89162 44.754172 \nL 378.89162 44.504017 \nL 379.877448 44.504017 \nL 379.877448 44.256009 \nL 380.200565 44.256009 \nL 380.200565 44.132799 \nL 380.521011 44.132799 \nL 380.521011 43.284733 \nL 380.680247 43.284733 \nL 380.680247 43.046931 \nL 380.838831 43.046931 \nL 380.838831 42.92876 \nL 381.154067 42.92876 \nL 381.154067 42.460851 \nL 381.310729 42.460851 \nL 381.310729 42.345049 \nL 381.466761 42.345049 \nL 381.466761 42.229708 \nL 382.237637 42.229708 \nL 382.237637 42.000399 \nL 382.38999 42.000399 \nL 382.38999 41.772896 \nL 382.993486 41.772896 \nL 382.993486 41.323195 \nL 383.440022 41.323195 \nL 383.440022 41.211855 \nL 383.881475 41.100942 \nL 383.881475 40.880385 \nL 384.173008 40.770735 \nL 384.173008 40.552676 \nL 384.60624 40.44426 \nL 384.60624 40.33625 \nL 384.749581 40.33625 \nL 384.749581 39.591276 \nL 385.034684 39.486402 \nL 385.034684 39.381907 \nL 385.176453 39.381907 \nL 385.176453 39.174045 \nL 385.598677 39.174045 \nL 385.598677 38.256738 \nL 386.292323 38.256738 \nL 386.292323 38.056787 \nL 386.838442 37.957329 \nL 386.838442 37.759432 \nL 387.643464 37.759432 \nL 387.643464 37.562882 \nL 387.908133 37.562882 \nL 387.908133 37.173749 \nL 388.171007 37.077279 \nL 388.171007 36.8853 \nL 388.301779 36.8853 \nL 388.301779 36.505126 \nL 388.432111 36.505126 \nL 388.432111 36.316899 \nL 388.691469 36.316899 \nL 388.691469 35.944085 \nL 389.205037 35.851628 \nL 389.205037 35.759466 \nL 389.962855 35.667597 \nL 389.962855 35.576019 \nL 390.706146 35.484731 \nL 390.706146 35.39373 \nL 391.193873 35.303015 \nL 391.193873 35.212584 \nL 391.314852 35.212584 \nL 391.314852 34.675861 \nL 391.555684 34.675861 \nL 391.555684 34.499146 \nL 391.795029 34.499146 \nL 391.795029 34.323506 \nL 391.91415 34.323506 \nL 391.91415 34.148927 \nL 392.032906 34.148927 \nL 392.032906 33.975397 \nL 392.1513 33.975397 \nL 392.1513 33.802902 \nL 393.658394 33.717039 \nL 393.658394 33.631431 \nL 393.885142 33.546076 \nL 393.885142 33.460972 \nL 394.446278 33.376118 \nL 394.446278 33.291513 \nL 394.779102 33.291513 \nL 394.779102 33.123041 \nL 395.21847 33.039173 \nL 395.21847 32.789018 \nL 395.436301 32.789018 \nL 395.54476 32.54101 \nL 395.975584 32.458811 \nL 395.975584 32.376846 \nL 396.823133 32.295112 \nL 396.823133 31.970471 \nL 397.136248 31.889878 \nL 397.136248 31.809509 \nL 397.446854 31.729362 \nL 397.446854 31.649438 \nL 398.0607 31.649438 \nL 398.0607 31.410982 \nL 398.464598 31.331932 \nL 398.464598 31.253098 \nL 398.864331 31.174478 \nL 398.963624 30.630049 \nL 399.062663 30.630049 \nL 399.062663 30.476364 \nL 399.358272 30.399827 \nL 399.456309 30.09569 \nL 399.651644 30.09569 \nL 399.651644 29.944814 \nL 399.942813 29.86967 \nL 399.942813 29.794721 \nL 400.135718 29.794721 \nL 400.231811 29.496855 \nL 400.423287 29.496855 \nL 400.423287 29.275454 \nL 400.992106 29.275454 \nL 400.992106 28.837677 \nL 401.273417 28.837677 \nL 401.273417 28.549467 \nL 401.921979 28.477862 \nL 401.921979 28.406434 \nL 402.287772 28.406434 \nL 402.378684 27.911319 \nL 402.55987 27.841276 \nL 402.55987 27.771403 \nL 402.830072 27.771403 \nL 402.830072 27.63216 \nL 403.276266 27.56279 \nL 403.364892 27.286962 \nL 403.541538 27.286962 \nL 403.541538 27.150029 \nL 404.066699 27.081806 \nL 404.153539 26.608698 \nL 404.240184 26.608698 \nL 404.326636 26.209252 \nL 404.412896 26.209252 \nL 404.498965 25.880549 \nL 404.584842 25.880549 \nL 404.584842 25.685107 \nL 404.841341 25.620252 \nL 404.926464 25.490978 \nL 405.433319 25.426557 \nL 405.517154 25.298144 \nL 405.933633 25.234152 \nL 406.016394 24.916296 \nL 406.18139 24.853143 \nL 406.263625 24.6019 \nL 406.427573 24.539429 \nL 406.427573 24.414891 \nL 406.590832 24.414891 \nL 406.672204 24.229085 \nL 406.753406 24.229085 \nL 406.834438 24.044467 \nL 407.076523 23.983188 \nL 407.076523 23.922039 \nL 407.476669 23.86102 \nL 407.556205 23.437454 \nL 407.714789 23.437454 \nL 407.793839 23.257809 \nL 407.872727 23.257809 \nL 407.872727 23.079275 \nL 408.264781 23.020008 \nL 408.342719 22.492004 \nL 408.498125 22.433928 \nL 408.498125 22.318125 \nL 408.498125 22.318125 \n\" clip-path=\"url(#p85bf8bbffa)\" style=\"fill: none; stroke: #00ffff; stroke-width: 1.5; stroke-linecap: square\"/>\n   </g>\n   <g id=\"line2d_77\">\n    <path d=\"M 167.534083 326.986375 \nL 167.534083 170.133279 \nL 221.285999 170.133279 \nL 221.285999 161.821354 \nL 260.509622 161.821354 \nL 260.509622 145.652519 \nL 263.883385 145.652519 \nL 263.883385 135.347201 \nL 269.860394 135.347201 \nL 269.860394 130.079432 \nL 275.037915 130.079432 \nL 275.037915 120.015896 \nL 277.388563 120.015896 \nL 277.388563 116.802282 \nL 279.604812 116.802282 \nL 279.604812 115.320278 \nL 281.701205 115.320278 \nL 281.701205 110.052508 \nL 285.581822 110.052508 \nL 285.581822 106.649433 \nL 290.759343 106.649433 \nL 290.759343 105.598672 \nL 292.342167 105.598672 \nL 292.342167 102.657891 \nL 293.862904 102.657891 \nL 293.862904 97.545877 \nL 296.736352 97.545877 \nL 296.736352 95.293354 \nL 304.264521 95.293354 \nL 304.264521 94.579917 \nL 305.388478 94.579917 \nL 305.388478 92.539582 \nL 313.370147 92.539582 \nL 313.370147 86.622509 \nL 314.261538 86.622509 \nL 314.261538 85.571748 \nL 315.132896 85.571748 \nL 315.132896 85.060359 \nL 317.635301 85.060359 \nL 317.635301 84.557864 \nL 322.202198 84.557864 \nL 322.202198 84.063959 \nL 324.29859 84.063959 \nL 324.29859 83.100778 \nL 324.972934 83.100778 \nL 324.972934 81.265702 \nL 326.287427 81.265702 \nL 326.287427 80.824583 \nL 328.179207 80.824583 \nL 328.179207 79.962049 \nL 329.390987 79.962049 \nL 329.390987 79.124519 \nL 329.982966 79.124519 \nL 329.982966 78.714686 \nL 332.814428 78.714686 \nL 332.814428 77.912058 \nL 333.891548 77.912058 \nL 333.891548 77.518954 \nL 334.939553 77.518954 \nL 334.939553 76.748435 \nL 335.959975 76.748435 \nL 335.959975 75.997932 \nL 336.460289 75.997932 \nL 336.460289 75.629866 \nL 336.95423 75.629866 \nL 336.95423 74.90751 \nL 337.923625 74.90751 \nL 337.923625 74.552993 \nL 338.869375 74.552993 \nL 338.869375 73.856749 \nL 339.333738 73.856749 \nL 339.333738 72.842865 \nL 339.792605 72.842865 \nL 339.792605 71.863356 \nL 340.246105 71.863356 \nL 340.246105 71.544096 \nL 341.137496 71.544096 \nL 341.137496 71.228325 \nL 341.575623 71.228325 \nL 341.575623 70.606952 \nL 344.105246 70.606952 \nL 344.105246 69.998661 \nL 344.511259 69.998661 \nL 344.511259 69.109583 \nL 344.913063 69.109583 \nL 344.913063 68.819201 \nL 345.704393 68.819201 \nL 345.704393 67.965167 \nL 346.479895 67.965167 \nL 346.479895 67.686007 \nL 347.24019 67.686007 \nL 347.24019 66.864357 \nL 347.985864 66.864357 \nL 347.985864 66.065429 \nL 349.078156 66.065429 \nL 349.078156 65.033435 \nL 349.435521 65.033435 \nL 349.435521 64.282932 \nL 349.789622 64.282932 \nL 349.789622 63.551432 \nL 352.511709 63.551432 \nL 352.511709 63.311656 \nL 353.163385 63.311656 \nL 353.163385 63.073855 \nL 355.361679 63.073855 \nL 355.361679 62.604044 \nL 355.665789 62.604044 \nL 355.665789 62.14175 \nL 356.564064 62.14175 \nL 356.564064 61.686737 \nL 356.858924 61.686737 \nL 356.858924 61.461889 \nL 357.151558 61.461889 \nL 357.151558 61.017377 \nL 357.730282 61.017377 \nL 357.730282 60.797659 \nL 358.300495 60.797659 \nL 358.300495 60.579599 \nL 358.862444 60.579599 \nL 358.862444 60.148356 \nL 360.501018 60.148356 \nL 360.501018 59.723456 \nL 361.032175 59.723456 \nL 361.032175 59.304713 \nL 361.295049 59.304713 \nL 361.295049 58.891952 \nL 362.073145 58.891952 \nL 362.073145 58.083711 \nL 362.835933 58.083711 \nL 362.835933 57.687914 \nL 363.584004 57.687914 \nL 363.584004 57.49203 \nL 364.799584 57.49203 \nL 364.799584 57.104202 \nL 365.038192 57.104202 \nL 365.038192 56.912223 \nL 365.51105 56.912223 \nL 365.51105 56.343823 \nL 367.122063 56.343823 \nL 367.122063 56.156814 \nL 367.79252 56.156814 \nL 367.79252 55.602943 \nL 368.013454 55.602943 \nL 368.013454 55.420654 \nL 368.451581 55.420654 \nL 368.451581 54.880587 \nL 369.099626 54.880587 \nL 369.099626 54.52607 \nL 369.313257 54.52607 \nL 369.313257 52.98247 \nL 369.947175 52.98247 \nL 369.947175 52.815941 \nL 370.364102 52.815941 \nL 370.364102 52.485735 \nL 370.776593 52.485735 \nL 370.776593 51.836432 \nL 371.184742 51.836432 \nL 371.184742 51.358855 \nL 371.387217 51.358855 \nL 371.387217 50.889044 \nL 371.58864 50.889044 \nL 371.58864 50.580028 \nL 372.186705 50.580028 \nL 372.186705 50.274282 \nL 372.384028 50.274282 \nL 372.384028 50.122614 \nL 373.163427 50.122614 \nL 373.163427 49.971737 \nL 373.355853 49.971737 \nL 373.355853 49.821645 \nL 373.547329 49.821645 \nL 373.547329 48.937104 \nL 373.927468 48.937104 \nL 373.927468 48.792278 \nL 374.116148 48.792278 \nL 374.116148 48.648174 \nL 374.676743 48.648174 \nL 374.676743 48.504786 \nL 375.229349 48.504786 \nL 375.229349 48.220126 \nL 375.593425 48.220126 \nL 375.593425 48.078841 \nL 375.774189 48.078841 \nL 375.774189 47.938243 \nL 376.311479 47.938243 \nL 376.311479 47.798326 \nL 376.66558 47.798326 \nL 376.66558 47.520509 \nL 377.190741 47.520509 \nL 377.190741 47.245338 \nL 377.364226 47.245338 \nL 377.364226 46.972763 \nL 377.536938 46.972763 \nL 377.536938 46.702736 \nL 377.708884 46.702736 \nL 377.708884 46.302368 \nL 378.220195 46.302368 \nL 378.220195 46.038505 \nL 378.72485 46.038505 \nL 378.72485 45.907472 \nL 378.89162 45.907472 \nL 378.89162 45.777031 \nL 379.057675 45.777031 \nL 379.057675 45.647176 \nL 379.223022 45.647176 \nL 379.223022 45.389203 \nL 379.387667 45.389203 \nL 379.387667 45.261075 \nL 379.551615 45.261075 \nL 379.551615 44.504017 \nL 379.714874 44.504017 \nL 379.714874 44.256009 \nL 379.877448 44.256009 \nL 379.877448 44.132799 \nL 380.521011 44.132799 \nL 380.521011 44.010112 \nL 380.838831 44.010112 \nL 380.838831 43.76629 \nL 380.996769 43.76629 \nL 380.996769 43.524508 \nL 381.154067 43.524508 \nL 381.154067 43.404372 \nL 381.466761 43.404372 \nL 381.466761 43.165587 \nL 381.622167 43.165587 \nL 381.622167 43.046931 \nL 381.776953 43.046931 \nL 381.776953 42.811071 \nL 381.931123 42.811071 \nL 381.931123 42.693859 \nL 382.084683 42.693859 \nL 382.084683 42.460851 \nL 382.237637 42.460851 \nL 382.237637 42.345049 \nL 382.84349 42.345049 \nL 382.84349 42.114826 \nL 383.142904 42.114826 \nL 383.142904 42.000399 \nL 383.440022 42.000399 \nL 383.440022 41.886424 \nL 383.587732 41.886424 \nL 383.587732 41.659813 \nL 383.734882 41.659813 \nL 383.734882 41.547171 \nL 384.60624 41.547171 \nL 384.60624 40.990453 \nL 385.034684 40.990453 \nL 385.034684 40.770735 \nL 385.458446 40.770735 \nL 385.458446 40.552676 \nL 385.877626 40.44426 \nL 385.877626 40.121433 \nL 386.016352 40.121433 \nL 386.016352 39.802173 \nL 386.292323 39.696532 \nL 386.292323 39.591276 \nL 386.838442 39.486402 \nL 386.838442 39.174045 \nL 387.510449 39.070672 \nL 387.510449 38.967667 \nL 387.908133 38.865029 \nL 387.908133 38.458082 \nL 388.432111 38.357235 \nL 388.432111 38.256738 \nL 389.077281 38.15659 \nL 389.077281 37.759432 \nL 389.459292 37.66099 \nL 389.459292 37.562882 \nL 389.711891 37.465106 \nL 389.711891 37.173749 \nL 390.087731 37.077279 \nL 390.087731 36.98113 \nL 390.583249 36.8853 \nL 390.583249 36.694588 \nL 390.828654 36.694588 \nL 390.828654 36.129891 \nL 390.950776 36.129891 \nL 390.950776 35.851628 \nL 391.193873 35.851628 \nL 391.193873 35.212584 \nL 391.435455 35.122435 \nL 391.435455 34.587369 \nL 391.795029 34.499146 \nL 391.795029 34.323506 \nL 392.269333 34.323506 \nL 392.269333 34.148927 \nL 392.504326 34.062031 \nL 392.504326 33.717039 \nL 392.621291 33.717039 \nL 392.621291 33.460972 \nL 392.970083 33.376118 \nL 392.970083 33.291513 \nL 393.430312 33.291513 \nL 393.430312 32.872162 \nL 393.658394 32.872162 \nL 393.658394 32.54101 \nL 393.998021 32.458811 \nL 393.998021 32.376846 \nL 394.557537 32.295112 \nL 394.557537 31.970471 \nL 395.109094 31.889878 \nL 395.109094 31.729362 \nL 396.29559 31.649438 \nL 396.401674 31.490249 \nL 396.823133 31.410982 \nL 396.823133 31.253098 \nL 397.343595 31.253098 \nL 397.446854 30.939894 \nL 397.754992 30.862121 \nL 397.754992 30.476364 \nL 398.263175 30.476364 \nL 398.364017 30.247358 \nL 398.664979 30.247358 \nL 398.664979 30.020153 \nL 399.259986 29.944814 \nL 399.358272 29.571034 \nL 399.942813 29.496855 \nL 400.039385 28.693213 \nL 400.231811 28.621251 \nL 400.231811 28.549467 \nL 400.897881 28.477862 \nL 400.992106 28.264105 \nL 401.273417 28.193202 \nL 401.366736 27.701698 \nL 401.921979 27.701698 \nL 402.013751 27.424547 \nL 402.287772 27.355673 \nL 402.378684 26.608698 \nL 402.55987 26.541739 \nL 402.650147 26.275444 \nL 402.830072 26.209252 \nL 402.830072 26.077322 \nL 403.187437 26.011582 \nL 403.187437 25.945991 \nL 403.453315 25.945991 \nL 403.541538 25.685107 \nL 403.62956 25.685107 \nL 403.62956 25.490978 \nL 403.979665 25.426557 \nL 404.066699 25.298144 \nL 404.240184 25.234152 \nL 404.240184 25.10659 \nL 404.75603 25.10659 \nL 404.841341 24.790127 \nL 405.18072 24.727248 \nL 405.265102 24.539429 \nL 405.767578 24.477093 \nL 405.850694 24.229085 \nL 406.18139 24.167415 \nL 406.18139 24.105875 \nL 406.590832 24.044467 \nL 406.590832 23.739366 \nL 406.834438 23.678731 \nL 406.915301 23.497584 \nL 406.995995 23.497584 \nL 407.076523 23.138664 \nL 407.156883 23.138664 \nL 407.156883 23.020008 \nL 407.396969 23.020008 \nL 407.396969 22.901837 \nL 407.635578 22.901837 \nL 407.714789 22.725482 \nL 408.030025 22.666935 \nL 408.108435 22.550196 \nL 408.342719 22.492004 \nL 408.342719 22.375968 \nL 408.498125 22.375968 \nL 408.498125 22.318125 \n\" clip-path=\"url(#p85bf8bbffa)\" style=\"fill: none; stroke: #ff8c00; stroke-width: 1.5; stroke-linecap: square\"/>\n   </g>\n   <g id=\"line2d_78\">\n    <path d=\"M -0.364029 326.986375 \nL 230.327815 155.083743 \nL 257.203773 135.05682 \nL 272.9252 123.34182 \nL 284.079731 115.029896 \nL 292.731857 108.582667 \nL 299.801158 103.314897 \nL 305.778168 98.861061 \nL 310.955689 95.002973 \nL 315.522586 91.599898 \nL 319.607815 88.555743 \nL 323.303354 85.801971 \nL 326.677116 83.287973 \nL 329.780677 80.97532 \nL 332.654126 78.834137 \nL 335.329242 76.840744 \nL 337.831647 74.976049 \nL 340.182295 73.224437 \nL 342.398544 71.572974 \nL 344.494936 70.010824 \nL 346.483773 68.52882 \nL 348.375553 67.119138 \nL 350.179312 65.775047 \nL 351.902876 64.490714 \nL 353.553074 63.26105 \nL 355.135899 62.08159 \nL 356.656635 60.948396 \nL 358.119972 59.857975 \nL 359.530084 58.807214 \nL 360.890708 57.793329 \nL 362.2052 56.81382 \nL 363.476587 55.866432 \nL 364.707605 54.949125 \nL 365.900739 54.060048 \nL 367.058253 53.197514 \nL 368.18221 52.359984 \nL 369.274502 51.54605 \nL 370.336865 50.754419 \nL 371.370894 49.9839 \nL 372.378063 49.233397 \nL 373.359731 48.501896 \nL 374.317158 47.788459 \nL 375.251511 47.092214 \nL 376.163879 46.412354 \nL 377.05527 45.748124 \nL 377.926628 45.098821 \nL 378.778834 44.46379 \nL 379.612712 43.842417 \nL 380.429032 43.234126 \nL 381.228521 42.638378 \nL 382.011857 42.054667 \nL 382.77968 41.482515 \nL 383.532593 40.921473 \nL 384.271164 40.371118 \nL 384.99593 39.831051 \nL 385.707396 39.300894 \nL 386.406042 38.78029 \nL 387.092322 38.268901 \nL 387.766666 37.766406 \nL 388.429482 37.272501 \nL 389.081158 36.786897 \nL 389.722062 36.30932 \nL 390.352545 35.839509 \nL 390.972939 35.377215 \nL 391.583563 34.922202 \nL 392.184719 34.474243 \nL 392.776697 34.033124 \nL 393.359773 33.598639 \nL 393.934211 33.17059 \nL 394.500262 32.748791 \nL 395.058168 32.333061 \nL 395.60816 31.923228 \nL 396.15046 31.519127 \nL 396.68528 31.1206 \nL 397.212823 30.727495 \nL 397.733284 30.339667 \nL 398.246852 29.956977 \nL 398.753707 29.579288 \nL 399.254021 29.206473 \nL 399.747962 28.838408 \nL 400.235689 28.474973 \nL 400.717357 28.116052 \nL 401.193116 27.761535 \nL 401.663107 27.411316 \nL 402.127469 27.065291 \nL 402.586337 26.723361 \nL 403.039837 26.38543 \nL 403.488094 26.051406 \nL 403.931228 25.7212 \nL 404.369355 25.394725 \nL 404.802586 25.071898 \nL 405.23103 24.752637 \nL 405.654792 24.436867 \nL 406.073972 24.12451 \nL 406.48867 23.815493 \nL 406.898978 23.509747 \nL 407.304991 23.207203 \nL 407.706795 22.907793 \nL 408.104479 22.611455 \nL 408.498125 22.318125 \n\" clip-path=\"url(#p85bf8bbffa)\" style=\"fill: none; stroke-dasharray: 5.55,2.4; stroke-dashoffset: 0; stroke: #000000; stroke-width: 1.5\"/>\n   </g>\n   <g id=\"patch_3\">\n    <path d=\"M 51.378125 288.430125 \nL 51.378125 22.318125 \n\" style=\"fill: none; stroke: #000000; stroke-width: 0.8; stroke-linejoin: miter; stroke-linecap: square\"/>\n   </g>\n   <g id=\"patch_4\">\n    <path d=\"M 408.498125 288.430125 \nL 408.498125 22.318125 \n\" style=\"fill: none; stroke: #000000; stroke-width: 0.8; stroke-linejoin: miter; stroke-linecap: square\"/>\n   </g>\n   <g id=\"patch_5\">\n    <path d=\"M 51.378125 288.430125 \nL 408.498125 288.430125 \n\" style=\"fill: none; stroke: #000000; stroke-width: 0.8; stroke-linejoin: miter; stroke-linecap: square\"/>\n   </g>\n   <g id=\"patch_6\">\n    <path d=\"M 51.378125 22.318125 \nL 408.498125 22.318125 \n\" style=\"fill: none; stroke: #000000; stroke-width: 0.8; stroke-linejoin: miter; stroke-linecap: square\"/>\n   </g>\n   <g id=\"text_13\">\n    <!-- ROC curves -->\n    <g transform=\"translate(195.0125 16.318125) scale(0.12 -0.12)\">\n     <defs>\n      <path id=\"DejaVuSans-4f\" d=\"M 2522 4238 \nQ 1834 4238 1429 3725 \nQ 1025 3213 1025 2328 \nQ 1025 1447 1429 934 \nQ 1834 422 2522 422 \nQ 3209 422 3611 934 \nQ 4013 1447 4013 2328 \nQ 4013 3213 3611 3725 \nQ 3209 4238 2522 4238 \nz\nM 2522 4750 \nQ 3503 4750 4090 4092 \nQ 4678 3434 4678 2328 \nQ 4678 1225 4090 567 \nQ 3503 -91 2522 -91 \nQ 1538 -91 948 565 \nQ 359 1222 359 2328 \nQ 359 3434 948 4092 \nQ 1538 4750 2522 4750 \nz\n\" transform=\"scale(0.015625)\"/>\n      <path id=\"DejaVuSans-43\" d=\"M 4122 4306 \nL 4122 3641 \nQ 3803 3938 3442 4084 \nQ 3081 4231 2675 4231 \nQ 1875 4231 1450 3742 \nQ 1025 3253 1025 2328 \nQ 1025 1406 1450 917 \nQ 1875 428 2675 428 \nQ 3081 428 3442 575 \nQ 3803 722 4122 1019 \nL 4122 359 \nQ 3791 134 3420 21 \nQ 3050 -91 2638 -91 \nQ 1578 -91 968 557 \nQ 359 1206 359 2328 \nQ 359 3453 968 4101 \nQ 1578 4750 2638 4750 \nQ 3056 4750 3426 4639 \nQ 3797 4528 4122 4306 \nz\n\" transform=\"scale(0.015625)\"/>\n      <path id=\"DejaVuSans-63\" d=\"M 3122 3366 \nL 3122 2828 \nQ 2878 2963 2633 3030 \nQ 2388 3097 2138 3097 \nQ 1578 3097 1268 2742 \nQ 959 2388 959 1747 \nQ 959 1106 1268 751 \nQ 1578 397 2138 397 \nQ 2388 397 2633 464 \nQ 2878 531 3122 666 \nL 3122 134 \nQ 2881 22 2623 -34 \nQ 2366 -91 2075 -91 \nQ 1284 -91 818 406 \nQ 353 903 353 1747 \nQ 353 2603 823 3093 \nQ 1294 3584 2113 3584 \nQ 2378 3584 2631 3529 \nQ 2884 3475 3122 3366 \nz\n\" transform=\"scale(0.015625)\"/>\n     </defs>\n     <use xlink:href=\"#DejaVuSans-52\"/>\n     <use xlink:href=\"#DejaVuSans-4f\" transform=\"translate(69.482422 0)\"/>\n     <use xlink:href=\"#DejaVuSans-43\" transform=\"translate(148.193359 0)\"/>\n     <use xlink:href=\"#DejaVuSans-20\" transform=\"translate(218.017578 0)\"/>\n     <use xlink:href=\"#DejaVuSans-63\" transform=\"translate(249.804688 0)\"/>\n     <use xlink:href=\"#DejaVuSans-75\" transform=\"translate(304.785156 0)\"/>\n     <use xlink:href=\"#DejaVuSans-72\" transform=\"translate(368.164062 0)\"/>\n     <use xlink:href=\"#DejaVuSans-76\" transform=\"translate(409.277344 0)\"/>\n     <use xlink:href=\"#DejaVuSans-65\" transform=\"translate(468.457031 0)\"/>\n     <use xlink:href=\"#DejaVuSans-73\" transform=\"translate(529.980469 0)\"/>\n    </g>\n   </g>\n   <g id=\"legend_1\">\n    <g id=\"patch_7\">\n     <path d=\"M 58.378125 89.030625 \nL 188.667188 89.030625 \nQ 190.667188 89.030625 190.667188 87.030625 \nL 190.667188 29.318125 \nQ 190.667188 27.318125 188.667188 27.318125 \nL 58.378125 27.318125 \nQ 56.378125 27.318125 56.378125 29.318125 \nL 56.378125 87.030625 \nQ 56.378125 89.030625 58.378125 89.030625 \nz\n\" style=\"fill: #ffffff; opacity: 0.8; stroke: #cccccc; stroke-linejoin: miter\"/>\n    </g>\n    <g id=\"line2d_79\">\n     <path d=\"M 60.378125 35.416562 \nL 70.378125 35.416562 \nL 80.378125 35.416562 \n\" style=\"fill: none; stroke: #ff1493; stroke-width: 1.5; stroke-linecap: square\"/>\n    </g>\n    <g id=\"text_14\">\n     <!-- SNR=2 (AUC=0.48) -->\n     <g transform=\"translate(88.378125 38.916562) scale(0.1 -0.1)\">\n      <defs>\n       <path id=\"DejaVuSans-53\" d=\"M 3425 4513 \nL 3425 3897 \nQ 3066 4069 2747 4153 \nQ 2428 4238 2131 4238 \nQ 1616 4238 1336 4038 \nQ 1056 3838 1056 3469 \nQ 1056 3159 1242 3001 \nQ 1428 2844 1947 2747 \nL 2328 2669 \nQ 3034 2534 3370 2195 \nQ 3706 1856 3706 1288 \nQ 3706 609 3251 259 \nQ 2797 -91 1919 -91 \nQ 1588 -91 1214 -16 \nQ 841 59 441 206 \nL 441 856 \nQ 825 641 1194 531 \nQ 1563 422 1919 422 \nQ 2459 422 2753 634 \nQ 3047 847 3047 1241 \nQ 3047 1584 2836 1778 \nQ 2625 1972 2144 2069 \nL 1759 2144 \nQ 1053 2284 737 2584 \nQ 422 2884 422 3419 \nQ 422 4038 858 4394 \nQ 1294 4750 2059 4750 \nQ 2388 4750 2728 4690 \nQ 3069 4631 3425 4513 \nz\n\" transform=\"scale(0.015625)\"/>\n       <path id=\"DejaVuSans-4e\" d=\"M 628 4666 \nL 1478 4666 \nL 3547 763 \nL 3547 4666 \nL 4159 4666 \nL 4159 0 \nL 3309 0 \nL 1241 3903 \nL 1241 0 \nL 628 0 \nL 628 4666 \nz\n\" transform=\"scale(0.015625)\"/>\n       <path id=\"DejaVuSans-3d\" d=\"M 678 2906 \nL 4684 2906 \nL 4684 2381 \nL 678 2381 \nL 678 2906 \nz\nM 678 1631 \nL 4684 1631 \nL 4684 1100 \nL 678 1100 \nL 678 1631 \nz\n\" transform=\"scale(0.015625)\"/>\n       <path id=\"DejaVuSans-28\" d=\"M 1984 4856 \nQ 1566 4138 1362 3434 \nQ 1159 2731 1159 2009 \nQ 1159 1288 1364 580 \nQ 1569 -128 1984 -844 \nL 1484 -844 \nQ 1016 -109 783 600 \nQ 550 1309 550 2009 \nQ 550 2706 781 3412 \nQ 1013 4119 1484 4856 \nL 1984 4856 \nz\n\" transform=\"scale(0.015625)\"/>\n       <path id=\"DejaVuSans-41\" d=\"M 2188 4044 \nL 1331 1722 \nL 3047 1722 \nL 2188 4044 \nz\nM 1831 4666 \nL 2547 4666 \nL 4325 0 \nL 3669 0 \nL 3244 1197 \nL 1141 1197 \nL 716 0 \nL 50 0 \nL 1831 4666 \nz\n\" transform=\"scale(0.015625)\"/>\n       <path id=\"DejaVuSans-55\" d=\"M 556 4666 \nL 1191 4666 \nL 1191 1831 \nQ 1191 1081 1462 751 \nQ 1734 422 2344 422 \nQ 2950 422 3222 751 \nQ 3494 1081 3494 1831 \nL 3494 4666 \nL 4128 4666 \nL 4128 1753 \nQ 4128 841 3676 375 \nQ 3225 -91 2344 -91 \nQ 1459 -91 1007 375 \nQ 556 841 556 1753 \nL 556 4666 \nz\n\" transform=\"scale(0.015625)\"/>\n       <path id=\"DejaVuSans-2e\" d=\"M 684 794 \nL 1344 794 \nL 1344 0 \nL 684 0 \nL 684 794 \nz\n\" transform=\"scale(0.015625)\"/>\n       <path id=\"DejaVuSans-38\" d=\"M 2034 2216 \nQ 1584 2216 1326 1975 \nQ 1069 1734 1069 1313 \nQ 1069 891 1326 650 \nQ 1584 409 2034 409 \nQ 2484 409 2743 651 \nQ 3003 894 3003 1313 \nQ 3003 1734 2745 1975 \nQ 2488 2216 2034 2216 \nz\nM 1403 2484 \nQ 997 2584 770 2862 \nQ 544 3141 544 3541 \nQ 544 4100 942 4425 \nQ 1341 4750 2034 4750 \nQ 2731 4750 3128 4425 \nQ 3525 4100 3525 3541 \nQ 3525 3141 3298 2862 \nQ 3072 2584 2669 2484 \nQ 3125 2378 3379 2068 \nQ 3634 1759 3634 1313 \nQ 3634 634 3220 271 \nQ 2806 -91 2034 -91 \nQ 1263 -91 848 271 \nQ 434 634 434 1313 \nQ 434 1759 690 2068 \nQ 947 2378 1403 2484 \nz\nM 1172 3481 \nQ 1172 3119 1398 2916 \nQ 1625 2713 2034 2713 \nQ 2441 2713 2670 2916 \nQ 2900 3119 2900 3481 \nQ 2900 3844 2670 4047 \nQ 2441 4250 2034 4250 \nQ 1625 4250 1398 4047 \nQ 1172 3844 1172 3481 \nz\n\" transform=\"scale(0.015625)\"/>\n       <path id=\"DejaVuSans-29\" d=\"M 513 4856 \nL 1013 4856 \nQ 1481 4119 1714 3412 \nQ 1947 2706 1947 2009 \nQ 1947 1309 1714 600 \nQ 1481 -109 1013 -844 \nL 513 -844 \nQ 928 -128 1133 580 \nQ 1338 1288 1338 2009 \nQ 1338 2731 1133 3434 \nQ 928 4138 513 4856 \nz\n\" transform=\"scale(0.015625)\"/>\n      </defs>\n      <use xlink:href=\"#DejaVuSans-53\"/>\n      <use xlink:href=\"#DejaVuSans-4e\" transform=\"translate(63.476562 0)\"/>\n      <use xlink:href=\"#DejaVuSans-52\" transform=\"translate(138.28125 0)\"/>\n      <use xlink:href=\"#DejaVuSans-3d\" transform=\"translate(207.763672 0)\"/>\n      <use xlink:href=\"#DejaVuSans-32\" transform=\"translate(291.552734 0)\"/>\n      <use xlink:href=\"#DejaVuSans-20\" transform=\"translate(355.175781 0)\"/>\n      <use xlink:href=\"#DejaVuSans-28\" transform=\"translate(386.962891 0)\"/>\n      <use xlink:href=\"#DejaVuSans-41\" transform=\"translate(425.976562 0)\"/>\n      <use xlink:href=\"#DejaVuSans-55\" transform=\"translate(494.384766 0)\"/>\n      <use xlink:href=\"#DejaVuSans-43\" transform=\"translate(567.578125 0)\"/>\n      <use xlink:href=\"#DejaVuSans-3d\" transform=\"translate(637.402344 0)\"/>\n      <use xlink:href=\"#DejaVuSans-30\" transform=\"translate(721.191406 0)\"/>\n      <use xlink:href=\"#DejaVuSans-2e\" transform=\"translate(784.814453 0)\"/>\n      <use xlink:href=\"#DejaVuSans-34\" transform=\"translate(816.601562 0)\"/>\n      <use xlink:href=\"#DejaVuSans-38\" transform=\"translate(880.224609 0)\"/>\n      <use xlink:href=\"#DejaVuSans-29\" transform=\"translate(943.847656 0)\"/>\n     </g>\n    </g>\n    <g id=\"line2d_80\">\n     <path d=\"M 60.378125 50.094688 \nL 70.378125 50.094688 \nL 80.378125 50.094688 \n\" style=\"fill: none; stroke: #00ffff; stroke-width: 1.5; stroke-linecap: square\"/>\n    </g>\n    <g id=\"text_15\">\n     <!-- SNR=4 (AUC=0.49) -->\n     <g transform=\"translate(88.378125 53.594688) scale(0.1 -0.1)\">\n      <defs>\n       <path id=\"DejaVuSans-39\" d=\"M 703 97 \nL 703 672 \nQ 941 559 1184 500 \nQ 1428 441 1663 441 \nQ 2288 441 2617 861 \nQ 2947 1281 2994 2138 \nQ 2813 1869 2534 1725 \nQ 2256 1581 1919 1581 \nQ 1219 1581 811 2004 \nQ 403 2428 403 3163 \nQ 403 3881 828 4315 \nQ 1253 4750 1959 4750 \nQ 2769 4750 3195 4129 \nQ 3622 3509 3622 2328 \nQ 3622 1225 3098 567 \nQ 2575 -91 1691 -91 \nQ 1453 -91 1209 -44 \nQ 966 3 703 97 \nz\nM 1959 2075 \nQ 2384 2075 2632 2365 \nQ 2881 2656 2881 3163 \nQ 2881 3666 2632 3958 \nQ 2384 4250 1959 4250 \nQ 1534 4250 1286 3958 \nQ 1038 3666 1038 3163 \nQ 1038 2656 1286 2365 \nQ 1534 2075 1959 2075 \nz\n\" transform=\"scale(0.015625)\"/>\n      </defs>\n      <use xlink:href=\"#DejaVuSans-53\"/>\n      <use xlink:href=\"#DejaVuSans-4e\" transform=\"translate(63.476562 0)\"/>\n      <use xlink:href=\"#DejaVuSans-52\" transform=\"translate(138.28125 0)\"/>\n      <use xlink:href=\"#DejaVuSans-3d\" transform=\"translate(207.763672 0)\"/>\n      <use xlink:href=\"#DejaVuSans-34\" transform=\"translate(291.552734 0)\"/>\n      <use xlink:href=\"#DejaVuSans-20\" transform=\"translate(355.175781 0)\"/>\n      <use xlink:href=\"#DejaVuSans-28\" transform=\"translate(386.962891 0)\"/>\n      <use xlink:href=\"#DejaVuSans-41\" transform=\"translate(425.976562 0)\"/>\n      <use xlink:href=\"#DejaVuSans-55\" transform=\"translate(494.384766 0)\"/>\n      <use xlink:href=\"#DejaVuSans-43\" transform=\"translate(567.578125 0)\"/>\n      <use xlink:href=\"#DejaVuSans-3d\" transform=\"translate(637.402344 0)\"/>\n      <use xlink:href=\"#DejaVuSans-30\" transform=\"translate(721.191406 0)\"/>\n      <use xlink:href=\"#DejaVuSans-2e\" transform=\"translate(784.814453 0)\"/>\n      <use xlink:href=\"#DejaVuSans-34\" transform=\"translate(816.601562 0)\"/>\n      <use xlink:href=\"#DejaVuSans-39\" transform=\"translate(880.224609 0)\"/>\n      <use xlink:href=\"#DejaVuSans-29\" transform=\"translate(943.847656 0)\"/>\n     </g>\n    </g>\n    <g id=\"line2d_81\">\n     <path d=\"M 60.378125 64.772812 \nL 70.378125 64.772812 \nL 80.378125 64.772812 \n\" style=\"fill: none; stroke: #ff8c00; stroke-width: 1.5; stroke-linecap: square\"/>\n    </g>\n    <g id=\"text_16\">\n     <!-- SNR=6 (AUC=0.49) -->\n     <g transform=\"translate(88.378125 68.272812) scale(0.1 -0.1)\">\n      <defs>\n       <path id=\"DejaVuSans-36\" d=\"M 2113 2584 \nQ 1688 2584 1439 2293 \nQ 1191 2003 1191 1497 \nQ 1191 994 1439 701 \nQ 1688 409 2113 409 \nQ 2538 409 2786 701 \nQ 3034 994 3034 1497 \nQ 3034 2003 2786 2293 \nQ 2538 2584 2113 2584 \nz\nM 3366 4563 \nL 3366 3988 \nQ 3128 4100 2886 4159 \nQ 2644 4219 2406 4219 \nQ 1781 4219 1451 3797 \nQ 1122 3375 1075 2522 \nQ 1259 2794 1537 2939 \nQ 1816 3084 2150 3084 \nQ 2853 3084 3261 2657 \nQ 3669 2231 3669 1497 \nQ 3669 778 3244 343 \nQ 2819 -91 2113 -91 \nQ 1303 -91 875 529 \nQ 447 1150 447 2328 \nQ 447 3434 972 4092 \nQ 1497 4750 2381 4750 \nQ 2619 4750 2861 4703 \nQ 3103 4656 3366 4563 \nz\n\" transform=\"scale(0.015625)\"/>\n      </defs>\n      <use xlink:href=\"#DejaVuSans-53\"/>\n      <use xlink:href=\"#DejaVuSans-4e\" transform=\"translate(63.476562 0)\"/>\n      <use xlink:href=\"#DejaVuSans-52\" transform=\"translate(138.28125 0)\"/>\n      <use xlink:href=\"#DejaVuSans-3d\" transform=\"translate(207.763672 0)\"/>\n      <use xlink:href=\"#DejaVuSans-36\" transform=\"translate(291.552734 0)\"/>\n      <use xlink:href=\"#DejaVuSans-20\" transform=\"translate(355.175781 0)\"/>\n      <use xlink:href=\"#DejaVuSans-28\" transform=\"translate(386.962891 0)\"/>\n      <use xlink:href=\"#DejaVuSans-41\" transform=\"translate(425.976562 0)\"/>\n      <use xlink:href=\"#DejaVuSans-55\" transform=\"translate(494.384766 0)\"/>\n      <use xlink:href=\"#DejaVuSans-43\" transform=\"translate(567.578125 0)\"/>\n      <use xlink:href=\"#DejaVuSans-3d\" transform=\"translate(637.402344 0)\"/>\n      <use xlink:href=\"#DejaVuSans-30\" transform=\"translate(721.191406 0)\"/>\n      <use xlink:href=\"#DejaVuSans-2e\" transform=\"translate(784.814453 0)\"/>\n      <use xlink:href=\"#DejaVuSans-34\" transform=\"translate(816.601562 0)\"/>\n      <use xlink:href=\"#DejaVuSans-39\" transform=\"translate(880.224609 0)\"/>\n      <use xlink:href=\"#DejaVuSans-29\" transform=\"translate(943.847656 0)\"/>\n     </g>\n    </g>\n    <g id=\"line2d_82\">\n     <path d=\"M 60.378125 79.450938 \nL 70.378125 79.450938 \nL 80.378125 79.450938 \n\" style=\"fill: none; stroke-dasharray: 5.55,2.4; stroke-dashoffset: 0; stroke: #000000; stroke-width: 1.5\"/>\n    </g>\n    <g id=\"text_17\">\n     <!-- Luck (AUC=0.50) -->\n     <g transform=\"translate(88.378125 82.950938) scale(0.1 -0.1)\">\n      <defs>\n       <path id=\"DejaVuSans-4c\" d=\"M 628 4666 \nL 1259 4666 \nL 1259 531 \nL 3531 531 \nL 3531 0 \nL 628 0 \nL 628 4666 \nz\n\" transform=\"scale(0.015625)\"/>\n       <path id=\"DejaVuSans-6b\" d=\"M 581 4863 \nL 1159 4863 \nL 1159 1991 \nL 2875 3500 \nL 3609 3500 \nL 1753 1863 \nL 3688 0 \nL 2938 0 \nL 1159 1709 \nL 1159 0 \nL 581 0 \nL 581 4863 \nz\n\" transform=\"scale(0.015625)\"/>\n       <path id=\"DejaVuSans-35\" d=\"M 691 4666 \nL 3169 4666 \nL 3169 4134 \nL 1269 4134 \nL 1269 2991 \nQ 1406 3038 1543 3061 \nQ 1681 3084 1819 3084 \nQ 2600 3084 3056 2656 \nQ 3513 2228 3513 1497 \nQ 3513 744 3044 326 \nQ 2575 -91 1722 -91 \nQ 1428 -91 1123 -41 \nQ 819 9 494 109 \nL 494 744 \nQ 775 591 1075 516 \nQ 1375 441 1709 441 \nQ 2250 441 2565 725 \nQ 2881 1009 2881 1497 \nQ 2881 1984 2565 2268 \nQ 2250 2553 1709 2553 \nQ 1456 2553 1204 2497 \nQ 953 2441 691 2322 \nL 691 4666 \nz\n\" transform=\"scale(0.015625)\"/>\n      </defs>\n      <use xlink:href=\"#DejaVuSans-4c\"/>\n      <use xlink:href=\"#DejaVuSans-75\" transform=\"translate(53.962891 0)\"/>\n      <use xlink:href=\"#DejaVuSans-63\" transform=\"translate(117.341797 0)\"/>\n      <use xlink:href=\"#DejaVuSans-6b\" transform=\"translate(172.322266 0)\"/>\n      <use xlink:href=\"#DejaVuSans-20\" transform=\"translate(230.232422 0)\"/>\n      <use xlink:href=\"#DejaVuSans-28\" transform=\"translate(262.019531 0)\"/>\n      <use xlink:href=\"#DejaVuSans-41\" transform=\"translate(301.033203 0)\"/>\n      <use xlink:href=\"#DejaVuSans-55\" transform=\"translate(369.441406 0)\"/>\n      <use xlink:href=\"#DejaVuSans-43\" transform=\"translate(442.634766 0)\"/>\n      <use xlink:href=\"#DejaVuSans-3d\" transform=\"translate(512.458984 0)\"/>\n      <use xlink:href=\"#DejaVuSans-30\" transform=\"translate(596.248047 0)\"/>\n      <use xlink:href=\"#DejaVuSans-2e\" transform=\"translate(659.871094 0)\"/>\n      <use xlink:href=\"#DejaVuSans-35\" transform=\"translate(691.658203 0)\"/>\n      <use xlink:href=\"#DejaVuSans-30\" transform=\"translate(755.28125 0)\"/>\n      <use xlink:href=\"#DejaVuSans-29\" transform=\"translate(818.904297 0)\"/>\n     </g>\n    </g>\n   </g>\n  </g>\n </g>\n <defs>\n  <clipPath id=\"p85bf8bbffa\">\n   <rect x=\"51.378125\" y=\"22.318125\" width=\"357.12\" height=\"266.112\"/>\n  </clipPath>\n </defs>\n</svg>\n"
          },
          "metadata": {}
        }
      ]
    },
    {
      "cell_type": "markdown",
      "source": [
        "# Submission"
      ],
      "metadata": {
        "id": "aSlB3sLlHiFG"
      }
    },
    {
      "cell_type": "code",
      "source": [
        "import lal\n",
        "import _pickle as pickle\n",
        "from tqdm import tqdm\n",
        "from main import *\n",
        "from utils import *\n",
        "\n",
        "def evaluate_submissoin_gpu(net, data_iter, device=None):\n",
        "    \"\"\"使用GPU计算模型在数据集上的预测结果\"\"\"\n",
        "    if isinstance(net, nn.Module):\n",
        "        net.eval()  # 设置为评估模式\n",
        "        if not device:\n",
        "            device = next(iter(net.parameters())).device  # 获取设备信息\n",
        "    softmax = nn.Softmax(dim=-1)  # 定义softmax函数，dim=-1表示在最后一个维度上进行softmax运算\n",
        "    y_hat_list = []  # 初始化预测结果列表\n",
        "    with torch.no_grad():  # 不进行梯度计算\n",
        "        for X in data_iter:  # 遍历数据集\n",
        "            X = X.to(device).to(torch.float)  # 将数据转移到设备上并转换为浮点型\n",
        "            y_hat = net(X)  # 使用模型进行预测\n",
        "            preds = softmax(y_hat).cpu().numpy()[:,1].tolist()  # 使用softmax函数处理预测结果，并转换为列表\n",
        "            y_hat_list.extend(preds)  # 将预测结果添加到预测结果列表\n",
        "    return y_hat_list"
      ],
      "metadata": {
        "execution": {
          "iopub.status.busy": "2023-12-29T09:58:37.236309Z",
          "iopub.execute_input": "2023-12-29T09:58:37.237182Z",
          "iopub.status.idle": "2023-12-29T09:58:37.246087Z",
          "shell.execute_reply.started": "2023-12-29T09:58:37.237133Z",
          "shell.execute_reply": "2023-12-29T09:58:37.244915Z"
        },
        "trusted": true,
        "id": "KjgLJ4EZHiFG"
      },
      "execution_count": 19,
      "outputs": []
    },
    {
      "cell_type": "code",
      "source": [
        "\n",
        "#test_dataset = np.load('/kaggle/input/2023-gwdata-bootcamp/test.npy')\n",
        "\n",
        "test_dataset = files.upload()\n",
        "#! become a dictionary instead of an array"
      ],
      "metadata": {
        "execution": {
          "iopub.status.busy": "2023-12-29T09:58:38.480719Z",
          "iopub.execute_input": "2023-12-29T09:58:38.481383Z",
          "iopub.status.idle": "2023-12-29T09:58:41.516979Z",
          "shell.execute_reply.started": "2023-12-29T09:58:38.481343Z",
          "shell.execute_reply": "2023-12-29T09:58:41.515995Z"
        },
        "trusted": true,
        "id": "V4NALEIgHiFG",
        "colab": {
          "base_uri": "https://localhost:8080/",
          "height": 73
        },
        "outputId": "30d097ce-16cf-4434-845c-8dc7616ee3d6"
      },
      "execution_count": 22,
      "outputs": [
        {
          "output_type": "display_data",
          "data": {
            "text/plain": [
              "<IPython.core.display.HTML object>"
            ],
            "text/html": [
              "\n",
              "     <input type=\"file\" id=\"files-363e8ef9-f4ac-425a-a06d-d4abd939f94a\" name=\"files[]\" multiple disabled\n",
              "        style=\"border:none\" />\n",
              "     <output id=\"result-363e8ef9-f4ac-425a-a06d-d4abd939f94a\">\n",
              "      Upload widget is only available when the cell has been executed in the\n",
              "      current browser session. Please rerun this cell to enable.\n",
              "      </output>\n",
              "      <script>// Copyright 2017 Google LLC\n",
              "//\n",
              "// Licensed under the Apache License, Version 2.0 (the \"License\");\n",
              "// you may not use this file except in compliance with the License.\n",
              "// You may obtain a copy of the License at\n",
              "//\n",
              "//      http://www.apache.org/licenses/LICENSE-2.0\n",
              "//\n",
              "// Unless required by applicable law or agreed to in writing, software\n",
              "// distributed under the License is distributed on an \"AS IS\" BASIS,\n",
              "// WITHOUT WARRANTIES OR CONDITIONS OF ANY KIND, either express or implied.\n",
              "// See the License for the specific language governing permissions and\n",
              "// limitations under the License.\n",
              "\n",
              "/**\n",
              " * @fileoverview Helpers for google.colab Python module.\n",
              " */\n",
              "(function(scope) {\n",
              "function span(text, styleAttributes = {}) {\n",
              "  const element = document.createElement('span');\n",
              "  element.textContent = text;\n",
              "  for (const key of Object.keys(styleAttributes)) {\n",
              "    element.style[key] = styleAttributes[key];\n",
              "  }\n",
              "  return element;\n",
              "}\n",
              "\n",
              "// Max number of bytes which will be uploaded at a time.\n",
              "const MAX_PAYLOAD_SIZE = 100 * 1024;\n",
              "\n",
              "function _uploadFiles(inputId, outputId) {\n",
              "  const steps = uploadFilesStep(inputId, outputId);\n",
              "  const outputElement = document.getElementById(outputId);\n",
              "  // Cache steps on the outputElement to make it available for the next call\n",
              "  // to uploadFilesContinue from Python.\n",
              "  outputElement.steps = steps;\n",
              "\n",
              "  return _uploadFilesContinue(outputId);\n",
              "}\n",
              "\n",
              "// This is roughly an async generator (not supported in the browser yet),\n",
              "// where there are multiple asynchronous steps and the Python side is going\n",
              "// to poll for completion of each step.\n",
              "// This uses a Promise to block the python side on completion of each step,\n",
              "// then passes the result of the previous step as the input to the next step.\n",
              "function _uploadFilesContinue(outputId) {\n",
              "  const outputElement = document.getElementById(outputId);\n",
              "  const steps = outputElement.steps;\n",
              "\n",
              "  const next = steps.next(outputElement.lastPromiseValue);\n",
              "  return Promise.resolve(next.value.promise).then((value) => {\n",
              "    // Cache the last promise value to make it available to the next\n",
              "    // step of the generator.\n",
              "    outputElement.lastPromiseValue = value;\n",
              "    return next.value.response;\n",
              "  });\n",
              "}\n",
              "\n",
              "/**\n",
              " * Generator function which is called between each async step of the upload\n",
              " * process.\n",
              " * @param {string} inputId Element ID of the input file picker element.\n",
              " * @param {string} outputId Element ID of the output display.\n",
              " * @return {!Iterable<!Object>} Iterable of next steps.\n",
              " */\n",
              "function* uploadFilesStep(inputId, outputId) {\n",
              "  const inputElement = document.getElementById(inputId);\n",
              "  inputElement.disabled = false;\n",
              "\n",
              "  const outputElement = document.getElementById(outputId);\n",
              "  outputElement.innerHTML = '';\n",
              "\n",
              "  const pickedPromise = new Promise((resolve) => {\n",
              "    inputElement.addEventListener('change', (e) => {\n",
              "      resolve(e.target.files);\n",
              "    });\n",
              "  });\n",
              "\n",
              "  const cancel = document.createElement('button');\n",
              "  inputElement.parentElement.appendChild(cancel);\n",
              "  cancel.textContent = 'Cancel upload';\n",
              "  const cancelPromise = new Promise((resolve) => {\n",
              "    cancel.onclick = () => {\n",
              "      resolve(null);\n",
              "    };\n",
              "  });\n",
              "\n",
              "  // Wait for the user to pick the files.\n",
              "  const files = yield {\n",
              "    promise: Promise.race([pickedPromise, cancelPromise]),\n",
              "    response: {\n",
              "      action: 'starting',\n",
              "    }\n",
              "  };\n",
              "\n",
              "  cancel.remove();\n",
              "\n",
              "  // Disable the input element since further picks are not allowed.\n",
              "  inputElement.disabled = true;\n",
              "\n",
              "  if (!files) {\n",
              "    return {\n",
              "      response: {\n",
              "        action: 'complete',\n",
              "      }\n",
              "    };\n",
              "  }\n",
              "\n",
              "  for (const file of files) {\n",
              "    const li = document.createElement('li');\n",
              "    li.append(span(file.name, {fontWeight: 'bold'}));\n",
              "    li.append(span(\n",
              "        `(${file.type || 'n/a'}) - ${file.size} bytes, ` +\n",
              "        `last modified: ${\n",
              "            file.lastModifiedDate ? file.lastModifiedDate.toLocaleDateString() :\n",
              "                                    'n/a'} - `));\n",
              "    const percent = span('0% done');\n",
              "    li.appendChild(percent);\n",
              "\n",
              "    outputElement.appendChild(li);\n",
              "\n",
              "    const fileDataPromise = new Promise((resolve) => {\n",
              "      const reader = new FileReader();\n",
              "      reader.onload = (e) => {\n",
              "        resolve(e.target.result);\n",
              "      };\n",
              "      reader.readAsArrayBuffer(file);\n",
              "    });\n",
              "    // Wait for the data to be ready.\n",
              "    let fileData = yield {\n",
              "      promise: fileDataPromise,\n",
              "      response: {\n",
              "        action: 'continue',\n",
              "      }\n",
              "    };\n",
              "\n",
              "    // Use a chunked sending to avoid message size limits. See b/62115660.\n",
              "    let position = 0;\n",
              "    do {\n",
              "      const length = Math.min(fileData.byteLength - position, MAX_PAYLOAD_SIZE);\n",
              "      const chunk = new Uint8Array(fileData, position, length);\n",
              "      position += length;\n",
              "\n",
              "      const base64 = btoa(String.fromCharCode.apply(null, chunk));\n",
              "      yield {\n",
              "        response: {\n",
              "          action: 'append',\n",
              "          file: file.name,\n",
              "          data: base64,\n",
              "        },\n",
              "      };\n",
              "\n",
              "      let percentDone = fileData.byteLength === 0 ?\n",
              "          100 :\n",
              "          Math.round((position / fileData.byteLength) * 100);\n",
              "      percent.textContent = `${percentDone}% done`;\n",
              "\n",
              "    } while (position < fileData.byteLength);\n",
              "  }\n",
              "\n",
              "  // All done.\n",
              "  yield {\n",
              "    response: {\n",
              "      action: 'complete',\n",
              "    }\n",
              "  };\n",
              "}\n",
              "\n",
              "scope.google = scope.google || {};\n",
              "scope.google.colab = scope.google.colab || {};\n",
              "scope.google.colab._files = {\n",
              "  _uploadFiles,\n",
              "  _uploadFilesContinue,\n",
              "};\n",
              "})(self);\n",
              "</script> "
            ]
          },
          "metadata": {}
        },
        {
          "output_type": "stream",
          "name": "stdout",
          "text": [
            "Saving test.npy to test.npy\n"
          ]
        }
      ]
    },
    {
      "cell_type": "code",
      "source": [
        "import numpy as np\n",
        "import io\n",
        "\n",
        "# 加载为 NumPy 数组\n",
        "file_name = next(iter(test_dataset.keys()))\n",
        "test_dataset1 = np.load(io.BytesIO(test_dataset[file_name]))\n",
        "\n",
        "# 验证加载成功\n",
        "print(f\"文件 '{file_name}' 已加载\")\n",
        "print(f\"类型: {type(test_dataset)}\")\n",
        "print(f\"形状: {test_dataset.shape if hasattr(test_dataset, 'shape') else '无形状信息'}\")"
      ],
      "metadata": {
        "colab": {
          "base_uri": "https://localhost:8080/"
        },
        "id": "5eegVyrlAMoX",
        "outputId": "4f9811b7-54a5-4688-f1d3-2c3bf6a8292b"
      },
      "execution_count": 37,
      "outputs": [
        {
          "output_type": "stream",
          "name": "stdout",
          "text": [
            "文件 'test.npy' 已加载\n",
            "类型: <class 'dict'>\n",
            "形状: 无形状信息\n"
          ]
        }
      ]
    },
    {
      "cell_type": "code",
      "source": [
        "data_loader = DataLoader(test_dataset1, batch_size=32, shuffle=False)"
      ],
      "metadata": {
        "execution": {
          "iopub.status.busy": "2023-12-29T09:58:43.509706Z",
          "iopub.execute_input": "2023-12-29T09:58:43.510459Z",
          "iopub.status.idle": "2023-12-29T09:58:43.515125Z",
          "shell.execute_reply.started": "2023-12-29T09:58:43.510423Z",
          "shell.execute_reply": "2023-12-29T09:58:43.514079Z"
        },
        "trusted": true,
        "id": "af5Q853cHiFG"
      },
      "execution_count": 38,
      "outputs": []
    },
    {
      "cell_type": "code",
      "source": [
        "# load model\n",
        "device = torch.device('cuda')\n",
        "\n",
        "# Where we output our model and loss history\n",
        "checkpoint_dir = './checkpoints_cnn/'\n",
        "\n",
        "# Creat model\n",
        "net, epoch, train_loss_history = load_model(checkpoint_dir)\n",
        "net.to(device);"
      ],
      "metadata": {
        "execution": {
          "iopub.status.busy": "2023-12-29T09:58:47.629161Z",
          "iopub.execute_input": "2023-12-29T09:58:47.629577Z",
          "iopub.status.idle": "2023-12-29T09:58:47.687819Z",
          "shell.execute_reply.started": "2023-12-29T09:58:47.629544Z",
          "shell.execute_reply": "2023-12-29T09:58:47.686946Z"
        },
        "trusted": true,
        "id": "p4q-z3YGHiFG",
        "colab": {
          "base_uri": "https://localhost:8080/"
        },
        "outputId": "65aa0976-c0e7-419a-d7e2-6b89c82a58ed"
      },
      "execution_count": 39,
      "outputs": [
        {
          "output_type": "stream",
          "name": "stdout",
          "text": [
            "Load network from checkpoints_cnn/model_e1.pt\n"
          ]
        },
        {
          "output_type": "stream",
          "name": "stderr",
          "text": [
            "/content/main.py:146: FutureWarning: You are using `torch.load` with `weights_only=False` (the current default value), which uses the default pickle module implicitly. It is possible to construct malicious pickle data which will execute arbitrary code during unpickling (See https://github.com/pytorch/pytorch/blob/main/SECURITY.md#untrusted-models for more details). In a future release, the default value for `weights_only` will be flipped to `True`. This limits the functions that could be executed during unpickling. Arbitrary objects will no longer be allowed to be loaded via this mode unless they are explicitly allowlisted by the user via `torch.serialization.add_safe_globals`. We recommend you start setting `weights_only=True` for any use case where you don't have full control of the loaded file. Please open an issue on GitHub for any issues related to this experimental feature.\n",
            "  checkpoint = torch.load(p / files[0])\n"
          ]
        }
      ]
    },
    {
      "cell_type": "code",
      "source": [
        "results = evaluate_submissoin_gpu(net, data_loader, device)\n",
        "len(results)"
      ],
      "metadata": {
        "execution": {
          "iopub.status.busy": "2023-12-29T09:58:48.859769Z",
          "iopub.execute_input": "2023-12-29T09:58:48.860611Z",
          "iopub.status.idle": "2023-12-29T09:58:49.235918Z",
          "shell.execute_reply.started": "2023-12-29T09:58:48.860572Z",
          "shell.execute_reply": "2023-12-29T09:58:49.234913Z"
        },
        "trusted": true,
        "id": "XP3ePlFoHiFG",
        "colab": {
          "base_uri": "https://localhost:8080/"
        },
        "outputId": "e43ff7e6-0948-4133-ddc1-61c314665bc5"
      },
      "execution_count": 40,
      "outputs": [
        {
          "output_type": "execute_result",
          "data": {
            "text/plain": [
              "1200"
            ]
          },
          "metadata": {},
          "execution_count": 40
        }
      ]
    },
    {
      "cell_type": "code",
      "source": [
        "# results"
      ],
      "metadata": {
        "execution": {
          "iopub.status.busy": "2023-12-29T09:58:50.767824Z",
          "iopub.execute_input": "2023-12-29T09:58:50.76825Z",
          "iopub.status.idle": "2023-12-29T09:58:50.77313Z",
          "shell.execute_reply.started": "2023-12-29T09:58:50.768215Z",
          "shell.execute_reply": "2023-12-29T09:58:50.771908Z"
        },
        "trusted": true,
        "id": "4Hrgr1UTHiFG"
      },
      "execution_count": 41,
      "outputs": []
    },
    {
      "cell_type": "code",
      "source": [
        "import pandas as pd\n",
        "pd.DataFrame({'id': range(len(results)),\n",
        "              'target': results}, index=None).to_csv('submission.csv', index=False)"
      ],
      "metadata": {
        "execution": {
          "iopub.status.busy": "2023-12-29T09:58:53.741348Z",
          "iopub.execute_input": "2023-12-29T09:58:53.741705Z",
          "iopub.status.idle": "2023-12-29T09:58:53.762369Z",
          "shell.execute_reply.started": "2023-12-29T09:58:53.741678Z",
          "shell.execute_reply": "2023-12-29T09:58:53.761387Z"
        },
        "trusted": true,
        "id": "9ua4COYHHiFH"
      },
      "execution_count": 42,
      "outputs": []
    }
  ]
}